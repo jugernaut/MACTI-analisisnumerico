{
 "cells": [
  {
   "cell_type": "markdown",
   "metadata": {
    "colab_type": "text",
    "id": "view-in-github"
   },
   "source": [
    "<a href=\"https://colab.research.google.com/github/jugernaut/MACTI-analisisnumerico/blob/desarrollo/01_AritmeticaPuntoFlotante/05_Redondeo/05_Redondeo.ipynb\" target=\"_parent\"><img src=\"https://colab.research.google.com/assets/colab-badge.svg\" alt=\"Open In Colab\"/></a>"
   ]
  },
  {
   "cell_type": "markdown",
   "metadata": {
    "id": "OLeg-JemS7z6"
   },
   "source": [
    "<font color=\"Teal\" face=\"Comic Sans MS,arial\">\n",
    "  <h1 align=\"center\"><i>Redondeo</i></h1>\n",
    "  </font>\n",
    "  <font color=\"Black\" face=\"Comic Sans MS,arial\">\n",
    "  <h5 align=\"center\"><i>Profesor: M. en C. Miguel Angel Pérez León.</i></h5>\n",
    "    <h5 align=\"center\"><i>Ayudante: Jesús Iván Coss Calderón.</i></h5>\n",
    "  <h5 align=\"center\"><i>Materia: Análisis Numérico.</i></h5>\n",
    "  </font>"
   ]
  },
  {
   "cell_type": "markdown",
   "metadata": {
    "colab_type": "toc",
    "id": "S9JMKmEvQjOP"
   },
   "source": [
    "<a name='Contenido'></a>\n",
    "##Contenido\n",
    "- [Objetivos Generales](#OG)\n",
    "- [Introducción](#introduccion)\n",
    "- [1. Truncamiento y Redondeo](#TyR)\n",
    "  - [1.1. Truncamiento](#truncamiento)\n",
    "    - [1.1.1. Ejemplo](#ej1)\n",
    "  - [1.2. Redondeo](#redondeo)\n",
    "    - [1.2.1. Ejemplo](#ej2)\n",
    "- [2. Errores](#errores)\n",
    "  - [2.1. Error Relativo](#erelativo)\n",
    "    - [2.1.1. Unidad de redondeo](#unidad)\n",
    "    - [2.1.2. Ejemplo](#ej3)\n",
    "  - [2.2. Error Absoluto](#eabsoluto)\n",
    "    - [2.2.1. Ejemplo](#ej4)\n",
    "- [3. Truncamiento v.s. Redondeo](#versus)\n",
    "  - [3.1. Truncamiento con p-cifras significativas base 2](#cifras)\n",
    "  - [3.2. Redondeo con p-cifras significativas base 2](#redondeocifras)\n",
    "  - [3.3. Truncamiento con p-cifras significativas base 10](#truncamientocifras)\n",
    "- [4. Resúmen](#resumen)\n",
    "- [5. Sección Especial](#seccionespecial)\n",
    "- [Referencias](#referencias)\n",
    "\n"
   ]
  },
  {
   "cell_type": "markdown",
   "metadata": {
    "id": "1gwwPImuLgci"
   },
   "source": [
    "<a name='OG'></a>\n",
    "##Objetivos Generales\n",
    "\n",
    "*   Reconocer los conceptos de truncamiento y redondeo, así como poder aplicar el concepto a valores reales en los sistemas de punto flotante.\n",
    "*   Valorar la importancia de los errores en los sistemas computacionales, así como su propia distinción entre los errores relativos y absolutos.\n",
    "*   Distinguir las cotas que existen en los procesos de redondeo y truncamiento.\n"
   ]
  },
  {
   "cell_type": "markdown",
   "metadata": {
    "id": "eu9DMUR_S7z8"
   },
   "source": [
    "<a name='introduccion'></a>\n",
    "## Introducción\n",
    "\n",
    "El hecho de que en una computadora sólo un subconjunto $\\mathcal{F}$ de los números reales es representable implica que, dado un número real $x$, éste debe ser aproximado por un número de punto flotante al que designaremos por $fl(x)$.\n"
   ]
  },
  {
   "cell_type": "markdown",
   "metadata": {
    "id": "_SwOG71LUeFs"
   },
   "source": [
    "<a name='TyR'></a>\n",
    "## Truncamiento y Redondeo\n",
    "\n",
    "La palabra del microprocesador es una cadena de bits finita de bits, eso implica que hay valores reales que no pueden ser representados de manera exacta en un sistema de punto flotante, es por eso que una técnica para intentar dar una representación de estos valores es mediante truncamiento o redondeo.\n",
    "\n",
    "El **truncamiento** consiste en \"cortar\" la cantidad de dígitos $d_i$ hasta $p$ donde $p$ es la precisión (cantidad de bits destinados a la mantisa) del sistema de punto flotante, es decir que **$fl(x)$ es el valor real $x$ truncado hasta el dígito $p$**.\n",
    "\n",
    "Por otro lado en el redondeo la manera usual de proceder consiste en considerar el redondeo al más próximo, esto es, **$fl(x)$ es el número de punto flotante más próximo a $x$**. Tal número de punto flotante resulta del redondeado a $p$ dígitos de la mantisa correspondiente a la representación de punto flotante normalizada (infinita) de $x$. \n",
    "\n",
    "En caso de \"empate\" se redondea al número de punto flotante con el bit menos significativo igual a cero. A este tipo de redondeo se le conoce como **redondeo al par más cercano**.\n",
    "\n",
    "Finalmente es importante notar que en un sistema de punto flotante en el cual se haga uso de alguna forma de redondeo o truncamiento, una misma expresión puede representar distintos valores.\n",
    "\n",
    "Por ejemplo en el sistema $\\mathcal{F}(2,3-1,2)$ estos son los valores para los cuales se tiene una representación en este sistema.\n",
    "\n",
    "<center>\n",
    "<img src=\"https://github.com/jugernaut/MACTI-analisisnumerico/blob/desarrollo/01_AritmeticaPuntoFlotante/05_Redondeo/utils/fig/redondeo1.png?raw=1\" width=\"700\">\n",
    "</center>\n",
    "\n",
    "En este ejemplo y en todos los sistemas de punto flotante, sin importar la precisión, son muy pocos los valores exactos que se pueden representar en comparación con la totalidad de los valores reales. Por lo tanto todas las expresiones que no tengan asociado un valor (considerando las limitantes del sistema) **serán mapeadas a algún valor representable** (considerando las caracteristicas del redondeo o truncamiento)."
   ]
  },
  {
   "cell_type": "markdown",
   "metadata": {
    "id": "u5iTwRebDiMN"
   },
   "source": [
    "<a name='truncamiento'></a>\n",
    "### Truncamiento\n",
    "\n",
    "Sea $x$ de la siguiente manera:\n",
    "\n",
    "$$x=(-1)^{s}0.d_{1}d_{2}...d_{p}d_{p+1}d_{p+2}...\\times\\beta^{e}$$\n",
    "\n",
    "La aproximación de $x$ mediante truncamiento es\n",
    "\n",
    "$$fl(x)=(-1)^{s}0.d_{1}d_{2}...d_{p}\\times\\beta^{e}$$"
   ]
  },
  {
   "cell_type": "markdown",
   "metadata": {
    "id": "p-5Su_FrD-Uc"
   },
   "source": [
    "<a name='ej1'></a>\n",
    "#### Ejemplo\n",
    "\n",
    "Sea $p=5$ (cinco cifras significativas) y\n",
    "\n",
    "$$x=-0.123456789 \\times 10^{2}$$\n",
    "\n",
    "entonces el valor aproximado de $x$ empleando truncamiento es\n",
    "\n",
    "$$fl(x)=-0.12345 \\times 10^{2} = -12.345 $$"
   ]
  },
  {
   "cell_type": "markdown",
   "metadata": {
    "id": "CjvQQZFWVncH"
   },
   "source": [
    "<a name='redondeo'></a>\n",
    "### Redondeo\n",
    "\n",
    "Sea $x$ de la siguiente manera:\n",
    "\n",
    "$$x=(-1)^{s}0.d_{1}d_{2}...d_{p}d_{p+1}d_{p+2}...\\times\\beta^{e}$$\n",
    "\n",
    "$fl(x)$ está dada por:\n",
    "\n",
    "$$fl(x)=(-1)^{s}0.d_{1}d_{2}...\\tilde{d_{p}}\\times\\beta^{e},\\,\\,\\,\\,\\,\\,\\,\\,\\tilde{d_{p}}=\\begin{cases}\n",
    "\\begin{array}{c}\n",
    "d_{p}\\,\\,\\,\\,si\\,d_{p+1}<\\beta/2\\\\\n",
    "d_{p}+1\\,\\,\\,\\,si\\,d_{p+1}\\geq\\beta/2\n",
    "\\end{array}\\end{cases}$$\n",
    "\n",
    "\n",
    "Esto aplica siempre y cuando $L\\leq e\\leq U$ y por otra parte es claro que $fl(x)=x$, si $x\\in\\mathcal{F}$."
   ]
  },
  {
   "cell_type": "markdown",
   "metadata": {
    "id": "7HgxI_RsgRQ8"
   },
   "source": [
    "<a name='ej2'></a>\n",
    "#### Ejemplo\n",
    "\n",
    "Sea $p=5$ (cinco cifras significativas) y\n",
    "\n",
    "$$x=-0.123456789 \\times 10^{2}$$\n",
    "\n",
    "dado que $d_{p+1}=6$ entonces por definición de redondeo $d_{5} = 5+1=6$, de tal manera que la aproximación de $x$ usando redondeo es\n",
    "\n",
    "$$fl(x)=-0.12346 \\times 10^{2} = -12.346 $$\n",
    "\n",
    "[Ir al índice](#Contenido)"
   ]
  },
  {
   "cell_type": "markdown",
   "metadata": {
    "id": "uqMDBObiS7z9"
   },
   "source": [
    "<a name='errores'></a>\n",
    "## Errores\n",
    "\n",
    "Para este momento es claro que los errores son un factor frecuente en todo cálculo realizado mediante un dispositivo de cómputo.\n",
    "\n",
    "Además consideremos que el error que resulta de aproximar un número real por su forma de punto flotante se denomina **error de redondeo**.\n",
    "\n",
    "Es por este motivo que es importante conocer las diferentes formas de medir la magnitud de un error.\n",
    "\n",
    "Sea $fl(x)$ el número de máquina generado en el sistema $\\mathcal F$ asociado al valor real $x$, tendremos 2 formas de evaluar la magnitud del error."
   ]
  },
  {
   "cell_type": "markdown",
   "metadata": {
    "id": "8FxJmPqAhoPc"
   },
   "source": [
    "<a name='erelativo'></a>\n",
    "### Error Relativo\n",
    "\n",
    "Esta forma de medir el error de un valor real con respeto de su aproximación considera la magnitud del valor real, y esta dada por la expresión.\n",
    "\n",
    "$$\\left|\\frac{x-fl(x)}{x}\\right|$$\n",
    "\n",
    "El error relativo pone en \"contexto\" la magnitud del error. Una forma de pensarlo es la siguiente, sopngamos que la cantidad de ciudadanos con obesidad en un país es de $2.35\\times10^{4}$ y en otro país es de $4.35\\times10^{6}$, podríamos pensar que el segundo país tiene un grave problema de obesidad dadas estas cifras, sin embargo si consideramos la extensión territorial de ambos paises o la densidad poblacional podríamos llegar a conclusiones muy diferentes. \n",
    "\n",
    "Una estimación de cuál podría llegar a ser la magnitud del error relativo en un sistema de punto flotante, esta dada por el siguiente resultado.\n"
   ]
  },
  {
   "cell_type": "markdown",
   "metadata": {
    "id": "F3K9stMLpCLh"
   },
   "source": [
    "<a name='unidad'></a>\n",
    "#### Unidad de redondeo\n",
    "\n",
    "Todo número real $x$ puede ser representado dentro del rango de los números de punto flotante considerando un error relativo que no excede la unidad de redondeo $u$:\n",
    "\n",
    "$$\\left|\\frac{x-fl(x)}{x}\\right|\\leq u\\equiv\\frac{1}{2}\\epsilon_{M}=\\frac{1}{2}\\beta^{1-p} \\tag1$$\n",
    "\n",
    "Este resultado es muy importante e ilustrativo ya que dados los elementos de un sistema $ \\mathcal F$, (1) establece una **cota para cualquier error relativo** que se de en este sistema **si se usa redondeo** como técnica para representar valores que no puedan ser representados de manera exacta y más aun esta cota está definida en términos del $\\epsilon_{M}$."
   ]
  },
  {
   "cell_type": "markdown",
   "metadata": {
    "id": "DWha4TjbKlK8"
   },
   "source": [
    "<a name='ej3'></a>\n",
    "#### Ejemplo\n",
    "\n",
    "Sea $fl(x)$ el número de máquina generado en el sistema $\\mathcal F$ asociado al valor real $x$, dado por los siguientes valores\n",
    "\n",
    "$$x = 0.15543452 \\times 10^{3}$$\n",
    "\n",
    "y\n",
    "\n",
    "$$fl(x) = 0.15543 \\times 10^{3}$$\n",
    "\n",
    "El error relativo asociado a $x$ y a su aproximación $fl(x)$, se calcúla de la siguiente manera.\n",
    "\n",
    "$$\\left|\\frac{x-fl(x)}{x}\\right| = \\left|\\frac{0.15543452 \\times 10^{3}-0.15543 \\times 10^{3}}{0.15543452}\\right| = \\left|\\frac{0.00000452\\times 10^{3}}{0.15543452}\\right| = \\left|\\frac{0.00452}{0.15543452}\\right|=0.002907977=0.2907977 \\times 10^{-2}$$"
   ]
  },
  {
   "cell_type": "markdown",
   "metadata": {
    "id": "xpxiBg-bhsJK"
   },
   "source": [
    "<a name='eabsoluto'></a>\n",
    "### Error Absoluto\n",
    "\n",
    "El error absoluto únicamente considera la magnitud de la diferencia entre $x$ y su aproximaicón $fl(x)$ es decir.\n",
    "\n",
    "$$\\left|x-fl(x)\\right|$$\n",
    "\n",
    "Como consecuencia de $(1)$ podemos afirmar que toda aproximación $fl(x)$ difiere de $x$ un cierto valor menor o igual que la unidad de redondeo. En otras palabras, existe un número real $\\delta$ que depende de $x$, tal que\n",
    "\n",
    "$$fl(x)=x(1+\\delta)\\quad siendo\\,\\left|\\delta\\right|\\leq u$$\n",
    "\n",
    "Por otra parte, debido a que los números de punto flotante no están igualmente espaciados, es necesario tratar de encontrar una cota para el error absoluto.\n",
    "\n",
    "El error absoluto está acotado por la siguiente expresión.\n",
    "\n",
    "$$\\left|x-fl(x)\\right|\\leq\\frac{1}{2}\\beta^{-p+e}\\tag{2}$$"
   ]
  },
  {
   "cell_type": "markdown",
   "metadata": {
    "id": "ecVjIHwJNy22"
   },
   "source": [
    "<a name='ej4'></a>\n",
    "#### Ejemplo\n",
    "\n",
    "Sea $x=0.43578534\\times10^{7}$ y $fl(x)=0.43578\\times10^{7}$ el error absoluto estaría dado por\n",
    "\n",
    "$$\\left|0.43578534\\times10^{7}-0.43578\\times10^{7}\\right|=\\left|0.00000534 \\times 10^{7}\\right| = 53.4$$\n",
    "\n",
    "Podríamos pensar que es un error de magnitud grande y que no es deseable, sin embargo veamos que sucede con respecto al error relativo.\n",
    "\n",
    "$$\\left|\\frac{x-fl(x)}{x}\\right|=\\left|\\frac{53.4}{0.43578534\\times10^{7}}\\right|=0.000012254=0.12254\\times10^{-4}$$\n",
    "\n",
    "Resulta que el error relativo es relativamente pequeño, y esto se debe a que estamos considerando la magnitud del valor real para poner en contexto la magnitud del error.\n",
    "\n",
    "[Ir al índice](#Contenido)"
   ]
  },
  {
   "cell_type": "markdown",
   "metadata": {
    "id": "YoqPIm5XS7z9"
   },
   "source": [
    "<a name='versus'></a>\n",
    "## Truncamiento v.s. Redondeo\n",
    "\n",
    "Dependiendo del tipo de redondeo o truncamiento que sea empleado en un sistema $\\mathcal F$ serán las cotas tanto del error relativo como del error absoluto.\n",
    "\n",
    "En esta sección veremos como es que esas cotas cambian en función de las caracteristicas del sistema y de las técnicas empleadas para aproximar valores que no tengan una representación exacta.\n"
   ]
  },
  {
   "cell_type": "markdown",
   "metadata": {
    "id": "xJH14rY3vGKT"
   },
   "source": [
    "<a name='cifras'></a>\n",
    "### Truncamiento con p-cifras significativas base 2\n",
    "\n",
    "Si se usan **p-cifras** significativas y **truncamiento** para la representación en número de máquina, veamos cuál es la cota del error relativo. Sea $x \\in \\mathbb{R}$ expresado en notación normalizada y en base $ \\beta = 2$.\n",
    "\n",
    "$$x=(0.d_{1}d_{2}...d_{p}d_{p+1}...)_{2}\\times2^{e}$$\n",
    "\n",
    "entonces:\n",
    "\n",
    "$$\\left|\\frac{x-fl(x)}{x}\\right|=\\left|\\frac{(0.d_{1}d_{2}...d_{p}d_{p+1}...)_{2}\\times2^{e}-(0.d_{1}d_{2}...d_{p})_{2}\\times2^{e}}{(0.d_{1}d_{2}...d_{p}d_{p+1}...)_{2}\\times2^{e}}\\right|\\\\=\\left|\\frac{(0.{\\overset{p-ceros}{\\overbrace{0.....0}}}d_{p+1}...)_{2}\\times2^{e}}{(0.d_{1}d_{2}...d_{p}d_{p+1}...)_{2}\\times2^{e}}\\right|\\\\=\\left|\\frac{(0.d_{p+1}d_{p+2}...)_{2}\\times2^{e-p}}{(0.d_{1}d_{2}...d_{p}d_{p+1}...)_{2}\\times2^{e}}\\right|=\\left|\\frac{(0.d_{p+1}d_{p+2}...)_{2}}{(0.d_{1}d_{2}...d_{p}d_{p+1}...)_{2}}\\right|\\times2^{-p}$$\n",
    "\n",
    "Forzosamente $d_{1}=1$ así que el valor mínimo del denominador es 0.1 y dado que la serie $\\frac{1}{2}+\\frac{1}{4}+...+\\frac{1}{2^{e}}=1$ cuando $e$ tiende a $\\infty$. Por lo tanto.\n",
    "\n",
    "$$\\left|\\frac{x-fl(x)}{x}\\right|\\leq\\frac{1}{(0.1)_{2}}\\times2^{-p}=\\frac{1}{2^{-1}}\\times2^{-p}=2\\times2^{-p}=2^{1-p}$$\n",
    "\n",
    "$$\\therefore\\left|\\frac{x-fl(x)}{x}\\right|\\leq2^{1-p}=\\epsilon_{M}$$"
   ]
  },
  {
   "cell_type": "markdown",
   "metadata": {
    "id": "ABcSptwp2UbK"
   },
   "source": [
    "<a name='redondeocifras'></a>\n",
    "### Redondeo con p-cifras significativas base 2\n",
    "\n",
    "De igual manera que sucedió con el truncamiento es importante medir que tan grande puede ser el error de redondeo. Así que considera el número real $x$.\n",
    "\n",
    "$$x=(0.d_{1}d_{2}...d_{p}d_{p+1}...)_{2}\\times2^{e}$$\n",
    "\n",
    "Y tratémos de encontrar una cota para el error relativo, una cota para.\n",
    "\n",
    "$$\\left|\\frac{x-fl(x)}{x}\\right|$$\n",
    "\n",
    "Como es frecuente, este número real $x$ puede no tener una representación exacta, así que hay que redondear al valor representable más cercano, es decir que dado que se emplea redondeo, $x$ puede ser asociado al valor anterior representable ó al siguiente, según la definición de redondeo, así que considera los siguientes valores.\n",
    "\n",
    "$$fl(x_{-})=(0.d_{1}d_{2}...d_{p})_{2}\\times2^{e} \\quad y \\quad fl(x_{+})=([(0.d_{1}d_{2}...d_{p})+2^{-p}])_{2}\\times2^{e}$$\n",
    "\n",
    "Graficamente esto es:\n",
    "\n",
    "\n",
    "<center>\n",
    "<img src=\"https://github.com/jugernaut/MACTI-analisisnumerico/blob/desarrollo/01_AritmeticaPuntoFlotante/05_Redondeo/utils/fig/redondeo2.png?raw=1\" width=\"700\">\n",
    "</center>\n",
    "\n",
    "Cualquiera de los 2 casos puede darse, sin perdida de generalidad, supongamos que $x$ se ubica más cerca de $x_{-}$ que de $x_{+}$, esto es:\n",
    "\n",
    "$$\\left|x-fl(x_{-})\\right|\\leq\\frac{1}{2}\\left|fl(x_{+})-fl(x_{-})\\right|$$\n",
    "\n",
    "\n",
    "$$\\frac{1}{2}\\left|fl(x_{+})-fl(x_{-})\\right|=2^{-1}\\left|[(0.d_{1}..d_{p})_{2}+2^{-p}]\\times2^{e}-(0.d_{1}..d_{p})_{2}\\times2^{e}\\right|\\\\ \n",
    "= 2^{-1}\\left|[(0.d_{1}..d_{p})_{2}-(0.d_{1}..d_{p})_{2}+2^{-p}]\\times2^{e}\\right|\\\\ \n",
    "= 2^{-1}\\left|2^{-p}\\times2^{e}\\right|\\\\ = 2^{e-p-1}$$\n",
    "\n",
    "$$\\therefore\\left|x-fl(x_{-})\\right|\\leq\\frac{1}{2} 2^{e-p}=2^{e-p-1} \\tag{2}$$\n",
    "\n",
    "Además de que (2) nos muestra el valor que acota al numerador, **tambíen da una cota para el error absoluto** si consideramos *redondeo o truncamiento con p-cifras significativas base 2*.\n",
    "\n",
    "Continuando con la búsqueda de la cota para el error relativo cuando se emplea redondeo a p-cifras significativas, podemos notar que el numerador está acotado por (2) y el denominador esta acotado por $0.1_{2}$ (revisa los resultados previos), por lo tanto:\n",
    "\n",
    "$$\\left|\\frac{x-fl(x_{-})}{x}\\right|\\leq\\frac{2^{e-p-1}}{(0.1)_{2}\\times2^{e}}=\\frac{2^{-p-1}}{2^{-1}}=2^{-p-1+1}=\\frac{1}{2}2^{1-p}=u=\\frac{1}{2}\\epsilon_{M}$$\n",
    "\n",
    "¿Recuerdas quien es $\\beta^{1-p}$?.\n",
    "\n",
    "$$\\therefore\\left|\\frac{x-fl(x)}{x}\\right|\\leq u=\\frac{1}{2}\\epsilon_{M}$$"
   ]
  },
  {
   "cell_type": "markdown",
   "metadata": {
    "id": "9D_duk0hu78j"
   },
   "source": [
    "<a name='truncamientocifras'></a>\n",
    "### Truncamiento con p-cifras significativas base 10\n",
    "\n",
    "Regresando a la representación de los números de máquina, vemos que $fl(x)$ como representación en punto flotante de $x$, tiene el error relativo\n",
    "\n",
    "$$\\left|\\frac{x-fl(x)}{x}\\right|$$\n",
    "\n",
    "Si se usan **p-cifras** significativas y **truncamiento** en la base $\\beta = 10$ para la representación en número de máquina de\n",
    "\n",
    "$$x=0.d_{1}d_{2}...d_{p}d_{p+1}...\\times10^{e}$$\n",
    "\n",
    "entonces\n",
    "\n",
    "$$\\left|\\frac{x-fl(x)}{x}\\right|=\\left|\\frac{0.d_{1}d_{2}...d_{p}d_{p+1}...\\times10^{e}-0.d_{1}d_{2}...d_{p}\\times10^{e}}{0.d_{1}d_{2}...d_{p}d_{p+1}\\times10^{e}}\\right|\\\\=\\left|\\frac{0.{\\overset{p-ceros}{\\overbrace{0.....0}}}d_{p+1}...\\times10^{e}}{0.d_{1}d_{2}...d_{p}d_{p+1}\\times10^{e}}\\right|\\\\=\\left|\\frac{0.d_{p+1}d_{p+2}...\\times10^{e-p}}{0.d_{1}d_{2}...\\times10^{e}}\\right|=\\left|\\frac{0.d_{p+1}d_{p+2}...}{0.d_{1}d_{2}...}\\right|\\times10^{-p}$$\n",
    "\n",
    "Pero como $d_{1}\\neq0$, entonces el valor mínimo del denominador es 0.1 y 1 es la cota superior del numerador, ya que $d_{p+1}=d_{p+2}=...=9$. Por lo tanto.\n",
    "\n",
    "$$\\left|\\frac{x-fl(x)}{x}\\right|\\leq\\left|\\frac{0.99...9}{0.10...0}\\right|\\times10^{-p} \\leq \\frac{1}{0.1}\\times10^{-p}=\\frac{1}{10^{-1}}\\times10^{-p}=10\\times10^{-p}=10^{1-p}$$\n",
    "\n",
    "¿Recuerdas quien es $\\beta^{1-p}$?.\n",
    "\n",
    "$$\\therefore\\left|\\frac{x-fl(x)}{x}\\right|\\leq10^{1-p}=\\epsilon_{M}$$\n",
    "\n",
    "[Ir al índice](#Contenido)"
   ]
  },
  {
   "cell_type": "markdown",
   "metadata": {
    "id": "oCSmrTqVv5YG"
   },
   "source": [
    "<a name='resumen'></a>\n",
    "## Resúmen\n",
    "\n",
    "* La precisión de los cálculos realizados en una computadora están relacionados con múltiples factores, tamaño de palabra, bits para la mantisa (precisión), cifras significativas.\n",
    "\n",
    "\n",
    "* Al tratar de representar valores reales en un sistema de punto flotante, tenemos 2 opciones:\n",
    "    * Truncamiento.\n",
    "    * Redondeo.\n",
    "    \n",
    "* Existen 2 formas de medir el error relacionado a un valor real $x$ y su aproximaxión $fl(x)$ en un sistema de punto flotante:\n",
    "    * Error absoluto $|x-fl(x)|$\n",
    "\n",
    "    * Error relativo $\\left|\\frac{x-fl(x)}{x}\\right|$\n",
    "\n",
    "* El épsilon de la máquina determina en gran medida que tan grande o pequeño sera el error al realizar un cálculo en un sistema de punto flotante.\n",
    "\n",
    "\n",
    "* Si se emplea truncamiento o redondeo el error absoluto asociado a un número esta acotado por (2), es decir:\n",
    "\n",
    "$$\\left|x-fl(x)\\right|\\leq\\frac{1}{2}\\beta^{-p+e}\\tag{2}$$\n",
    "\n",
    "\n",
    "* Si se emplea truncamiento el error relativo asociado a un número esta acotado por el épsilon de la maquina, es decir: \n",
    "\n",
    "$$\\left|\\frac{x-fl(x)}{x}\\right|\\leq\\epsilon_{M}$$\n",
    "\n",
    "*  Por otra parte si se emplea redondeo al más cercano, el error relativo asociado a la representación de un valor en un sistema de punto flotante, es la mitad de la cota del error relativo empleando truncamiento, es decir:\n",
    "\n",
    "$$\\left|\\frac{x-fl(x)}{x}\\right|\\leq\\frac{1}{2}\\epsilon_{M}=u \\tag{1}$$"
   ]
  },
  {
   "cell_type": "markdown",
   "metadata": {
    "id": "kDCixQUcvXdl"
   },
   "source": [
    "<a name='seccionespecial'></a>\n",
    "## Sección Especial\n",
    "\n",
    "\n",
    "* Intenta encontrar la cota del error relativo de un sistema en base 10 y que emplea redondeo con p-cifras significativas.\n",
    "\n",
    "\n",
    "* Identifica cual es la cota del error relativo para un sistema que este basado en precisión simple.\n",
    "\n",
    "<font color=\"red\" face=\"Comic Sans MS,arial\">\n",
    "  <h1 align=\"left\"><i>Te conviene averiguarlo antes del examen</i></h1>\n",
    "  </font>"
   ]
  },
  {
   "cell_type": "markdown",
   "metadata": {
    "id": "Ek-Qi5DTS7z-"
   },
   "source": [
    "<a name='referencias'></a>\n",
    "## Referencias\n",
    "\n",
    "1. Riswan Butt: Numerical Analysys Using Matlab, Jones and Bartlett.\n",
    "2. Ward Cheney, David Kincaid: Métodos Numéricos y Computación, Cenage Learning.\n",
    "3. Richard L. Burden, J. Douglas Faires: Análisis Numérico, Math Learning.\n",
    "4.   https://www.famaf.unc.edu.ar/~vmarconi/fiscomp/representacion-numeros.pdf\n",
    "5.   http://numerico.fcaglp.unlp.edu.ar/textos/tp1/numerico1-01b.pdf\n",
    "\n",
    "\n",
    "[Ir al índice](#Contenido)"
   ]
  }
 ],
 "metadata": {
  "colab": {
   "include_colab_link": true,
   "name": "05_Redondeo.ipynb",
   "provenance": [],
   "toc_visible": true
  },
  "kernelspec": {
   "display_name": "Python 3 (ipykernel)",
   "language": "python",
   "name": "python3"
  },
  "language_info": {
   "codemirror_mode": {
    "name": "ipython",
    "version": 3
   },
   "file_extension": ".py",
   "mimetype": "text/x-python",
   "name": "python",
   "nbconvert_exporter": "python",
   "pygments_lexer": "ipython3",
   "version": "3.9.7"
  }
 },
 "nbformat": 4,
 "nbformat_minor": 1
}

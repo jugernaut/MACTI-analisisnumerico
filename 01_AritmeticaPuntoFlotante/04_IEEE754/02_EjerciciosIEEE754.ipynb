{
 "cells": [
  {
   "cell_type": "markdown",
   "id": "309d0e4c",
   "metadata": {},
   "source": [
    "Before you turn this problem in, make sure everything runs as expected. First, **restart the kernel** (in the menubar, select Kernel$\\rightarrow$Restart) and then **run all cells** (in the menubar, select Cell$\\rightarrow$Run All).\n",
    "\n",
    "Make sure you fill in any place that says `YOUR CODE HERE` or \"YOUR ANSWER HERE\", as well as your name and collaborators below:"
   ]
  },
  {
   "cell_type": "code",
   "execution_count": null,
   "id": "4afed16f",
   "metadata": {},
   "outputs": [],
   "source": [
    "NAME = \"\"\n",
    "COLLABORATORS = \"\""
   ]
  },
  {
   "cell_type": "markdown",
   "id": "b95deb2c",
   "metadata": {},
   "source": [
    "---"
   ]
  },
  {
   "cell_type": "markdown",
   "id": "efa8578b",
   "metadata": {},
   "source": [
    "<font color=\"Teal\" face=\"Comic Sans MS,arial\">\n",
    "  <h1 align=\"center\"><i>Ejercicios IEEE754</i></h1>\n",
    "  </font>\n",
    "  <font color=\"Black\" face=\"Comic Sans MS,arial\">\n",
    "  <h5 align=\"center\"><i>Profesor: M.en.C. Miguel Angel Pérez León</i></h5>\n",
    "  <h5 align=\"center\"><i>Ayudante: Jesús Iván Coss Calderón</i></h5>\n",
    "  <h5 align=\"center\"><i>Materia: Análisis Numérico</i></h5>\n",
    "  </font>"
   ]
  },
  {
   "cell_type": "code",
   "execution_count": null,
   "id": "fc4835ad",
   "metadata": {
    "deletable": false,
    "editable": false,
    "nbgrader": {
     "cell_type": "code",
     "checksum": "e264ce56bd6f9deccbffdf0435b00310",
     "grade": true,
     "grade_id": "cell-4a5e47c0d3d75499",
     "locked": true,
     "points": 0,
     "schema_version": 3,
     "solution": false,
     "task": false
    }
   },
   "outputs": [],
   "source": [
    "# bibliotecas de evaluacion automatizada\n",
    "import numpy as np   \n",
    "from macti.evaluacion import Evalua\n",
    "evaluacion = Evalua('../../../MACTI-analisisnumerico/01_AritmeticaPuntoFlotante/04_IEEE754/util/data/ejercicio1/', local=True)"
   ]
  },
  {
   "cell_type": "markdown",
   "id": "2ad01570",
   "metadata": {
    "deletable": false,
    "editable": false,
    "nbgrader": {
     "cell_type": "markdown",
     "checksum": "23d13f08ac860fa75bd622dee1dc0552",
     "grade": false,
     "grade_id": "cell-c36c6c15ef76b4bc",
     "locked": true,
     "schema_version": 3,
     "solution": false,
     "task": false
    }
   },
   "source": [
    "Represente  el  número $-24,50$  utilizando  el  estándar  de  punto  flotante  de  simple  precisiónIEEE  754. \n",
    "Exprese dicha representación en hexadecimal."
   ]
  },
  {
   "cell_type": "code",
   "execution_count": null,
   "id": "2ba9d01b",
   "metadata": {
    "deletable": false,
    "nbgrader": {
     "cell_type": "code",
     "checksum": "6f24f1e3d4eb8ffbb077e2bbb49fbf14",
     "grade": true,
     "grade_id": "cell-8a07e509b6932ebd",
     "locked": false,
     "points": 0,
     "schema_version": 3,
     "solution": true,
     "task": false
    }
   },
   "outputs": [],
   "source": [
    "\"\"\"\n",
    "Evaluacion del inciso (1)\n",
    "\"\"\"\n",
    "resultado = None\n",
    "# YOUR CODE HERE\n",
    "raise NotImplementedError()\n",
    "evaluacion.verifica(np.array([resultado]), 1)"
   ]
  },
  {
   "cell_type": "markdown",
   "id": "2e767e7f",
   "metadata": {
    "deletable": false,
    "editable": false,
    "nbgrader": {
     "cell_type": "markdown",
     "checksum": "6b174389e145ef13cd1993c04442ad5a",
     "grade": false,
     "grade_id": "cell-281672529eb33cd7",
     "locked": true,
     "schema_version": 3,
     "solution": false,
     "task": false
    }
   },
   "source": [
    "Encuentra el valor de la siguiente expresión en representación presición simple $0X40D80000$"
   ]
  },
  {
   "cell_type": "code",
   "execution_count": null,
   "id": "06e75694",
   "metadata": {
    "deletable": false,
    "nbgrader": {
     "cell_type": "code",
     "checksum": "3bc6cc781a169dff17dfbd5f7629a061",
     "grade": true,
     "grade_id": "cell-b72520eb9dbc29fd",
     "locked": false,
     "points": 0,
     "schema_version": 3,
     "solution": true,
     "task": false
    }
   },
   "outputs": [],
   "source": [
    "\"\"\"\n",
    "Evaluacion del inciso (2)\n",
    "\"\"\"\n",
    "resultado = None\n",
    "# YOUR CODE HERE\n",
    "raise NotImplementedError()\n",
    "evaluacion.verifica(np.array([resultado]), 2)"
   ]
  }
 ],
 "metadata": {
  "kernelspec": {
   "display_name": "Python 3 (ipykernel)",
   "language": "python",
   "name": "python3"
  },
  "language_info": {
   "codemirror_mode": {
    "name": "ipython",
    "version": 3
   },
   "file_extension": ".py",
   "mimetype": "text/x-python",
   "name": "python",
   "nbconvert_exporter": "python",
   "pygments_lexer": "ipython3",
   "version": "3.9.7"
  }
 },
 "nbformat": 4,
 "nbformat_minor": 5
}

{
  "cells": [
    {
      "cell_type": "markdown",
      "metadata": {
        "id": "view-in-github",
        "colab_type": "text"
      },
      "source": [
        "<a href=\"https://colab.research.google.com/github/jugernaut/MACTI-analisisnumerico/blob/desarrollo/01_AritmeticaPuntoFlotante/06_Notacion_fl_x/06_Notacion_fl_x.ipynb\" target=\"_parent\"><img src=\"https://colab.research.google.com/assets/colab-badge.svg\" alt=\"Open In Colab\"/></a>"
      ]
    },
    {
      "cell_type": "markdown",
      "metadata": {
        "id": "zennniMXQrVJ"
      },
      "source": [
        "<font color=\"Teal\" face=\"Comic Sans MS,arial\">\n",
        "  <h1 align=\"center\"><i>Notación $fl(x)$ y análisis del Error hacia atrás</i></h1>\n",
        "  </font>\n",
        "  <font color=\"Black\" face=\"Comic Sans MS,arial\">\n",
        "  <h5 align=\"center\"><i>Profesor: M.en.C. Miguel Angel Pérez León.</i></h5>\n",
        "    <h5 align=\"center\"><i>Ayudante: Jesús Iván Coss Calderón.</i></h5>\n",
        "  <h5 align=\"center\"><i>Materia: Análisis Numérico.</i></h5>\n",
        "  </font>"
      ]
    },
    {
      "cell_type": "markdown",
      "metadata": {
        "colab_type": "toc",
        "id": "YsEVMYwmWms6"
      },
      "source": [
        "<a name='Contenido'></a>\n",
        "## Contenido\n",
        "\n",
        "- [Objetivo General](#OG)\n",
        "\n",
        "- [Introducción](#Introduccion)\n",
        "\n",
        "- [1. Notación $fl(x)$ y análisis de sus concecuencias](#Notacion)\n",
        "\n",
        "- [2. Arimética de punto flotante](#Aritmetica)\n",
        "\n",
        "  - [2.1. Operaciones aritméticas](#Operaciones)\n",
        "\n",
        "    - [2.1.1. Ejemplo](#Ej1)\n",
        "\n",
        "- [3. Cancelación numérica](#Cancelacion)\n",
        "\n",
        " - [Ejemplo](#Ej2)\n",
        "\n",
        "- [4. Nociones de estabilidad numérica](#Nociones)\n",
        "\n",
        "  - [4.1. Ejemplo](#Ej3)\n",
        "\n",
        "- [5. Algoritmo estable hacia atrás](#Algoritmo)\n",
        "\n",
        "  - [5.1. Ejemplo](#Ej4)\n",
        "\n",
        "- [6. Reducción de errores](#Reduccion)\n",
        "\n",
        "  - [6.1. Evaluación de polinomios](#Evaluacion)\n",
        "\n",
        "  - [6.2. Multiplicación Anidada](#Multiplicacion)\n",
        "\n",
        "- [7. Algoritmo de Horner](#Horner)\n",
        "\n",
        "  - [7.1. Como se hacia en Mesopotamia](#Mesopotamia)\n",
        "\n",
        "  - [7.2. Pseudocódigo](#Pseudocodigo)\n",
        "\n",
        "- [Referencias](#Referencias)\n",
        "\n"
      ]
    },
    {
      "cell_type": "markdown",
      "metadata": {
        "id": "0G7EAvWsdbsZ"
      },
      "source": [
        "<a name='OG'></a>\n",
        "## Objetivo General\n",
        "\n",
        "\n",
        "\n",
        "*   Realizar operaciones de aritmética computacional, así como reconocer la distinta notación que éstas conllevan.\n",
        "*   Reconocer distintos algoritmos para la realización de operaciones aritméticas.\n",
        "*  Que el alumno pueda realizar procesos para la reducción de errores, así como su implementación en algún lenguaje de programación.\n",
        "\n"
      ]
    },
    {
      "cell_type": "markdown",
      "metadata": {
        "id": "W0ukoTl9QrVM"
      },
      "source": [
        "<a name='Introduccion'></a>\n",
        "## Introducción\n",
        "\n",
        "Dado que gran parte de los errores al utilizar una computadora para realizar algún calculo se encuentran en las operaciones aritméticas empleadas en el mismo, pongamos especial atención en estas.\n",
        "\n",
        "Para ilustrar esto supongamos que trabajamos con una computadora que emplea $\\color{red}{5}$ $\\color{red}{cifras}$ $\\color{red}{ significativas}$ y deseamos sumar 2 números. Estos 2 números de máquina en notación de punto flotante normalizada serian:\n",
        "\n",
        "$$a=0.37218\\times10^{4} \\quad b=0.71422\\times10^{-1}$$\n",
        "\n",
        "Muchas computadoras realizan sus operaciones en un área del doble del tamaño, supongamos que se tiene un acumulador de tamaño 10, así que la suma se vería de la siguiente manera.\n",
        "\n",
        "$$\\frac{\\begin{array}{c}\n",
        "\\,\\,\\,\\,\\,\\,\\,\\,\\,\\,\\,a=0.3721800000\\times10^{4}\\\\\n",
        "\\,\\,\\,\\,\\,\\,\\,\\,\\,\\,\\,b=0.0000071422\\times10^{4}\n",
        "\\end{array}}{a+b=0.3721871422\\times10^{4}}$$\n",
        "\n",
        "El número de máquina más cercano es $fl(a+b)=0.37219\\times10^{4}$ (empleando redondeo al más cercano) y el error relativo involucrado en esta operación aritmética seria.\n",
        "\n",
        "$$(a+b)-fl(a+b)=0.3721871422\\times10^{4}-0.37219\\times10^{4}=0.0000028578\\times10^{4}$$\n",
        "\n",
        "$$\\left|\\frac{x-fl(x)}{x}\\right|=\\left|\\frac{a+b-fl(a+b)}{a+b}\\right|=\\frac{0.0000028578\\times10^{4}}{0.3721871422\\times10^{4}}=\\frac{0.0000028578}{0.3721871422}=0.000007678 \\thickapprox 0.77\\times10^{-5}$$\n",
        "\n",
        "Este error seria aceptable en una máquina de tan poca precisión, **pero no en para una computadora empleada para realizar cálculos que tengan que ver con ciencias exactas**.\n",
        "\n",
        "Para facilitar el análisis de tales errores es conveniente continuar utilizando $fl(x)$ para denotar el número de máquina de punto flotante correspondiente al numero $x$.\n",
        "\n",
        "Por supuesto que la función $fl$ depende completamente de la computadora implicada.\n",
        "\n",
        "De acuerdo al redondeo el resultado de esta operación aritmética seria.\n",
        "\n",
        "$$fl(a+b)=fl(0.3721871422\\times10^{4})=0.37219\\times10^{4}$$\n",
        "\n",
        "Es decir que para el ejemplo mostrado, el error relativo cumple con que $0.77\\times10^{-5} \\leq u$\n",
        "\n",
        "Para una computadora de longitud de palabra de 32 bits (precisión simple) que emplea redondeo, previamente se mostró que si $x\\in\\mathbb{R},\\,x\\neq0$ y $x$ se encuentra en el rango de números de máquina entonces.\n",
        "\n",
        "$$\\left|\\frac{x-fl(x)}{x}\\right|\\leq u \\quad (u=2^{-24}) \\tag{1}$$\n",
        "\n",
        "En pocas palabras este resultado establece que el valor real $x$ y su representación $fl(x)$ en número de máquina difieren a lo más en $u$ unidad de redondeo, si es que se emplea redondeo al más cercano.\n",
        "\n",
        "[Ir al índice](#Contenido)\n"
      ]
    },
    {
      "cell_type": "markdown",
      "metadata": {
        "id": "DPXjclYmQrVN"
      },
      "source": [
        "<a name='Notacion'></a>\n",
        "##  Notación $fl(x)$ y análisis de sus concecuencias\n",
        "\n",
        "De aquí en adelante asumimos que se emplea redondeo al más cercano y por lo tanto la desigualdad anterior (1) se puede expresar en forma más útil.\n",
        "\n",
        "$$fl(x)=x(1+\\delta) \\quad (\\left|\\delta\\right|\\leq2^{-24}) \\tag{2}$$\n",
        "\n",
        "Para ver que estas dos expresiones matemáticas $(1)$ y $(2)$ son equivalentes, basta con tomar $\\delta=\\frac{x-fl(x)}{x}$ en (1), es decir.\n",
        "\n",
        "$$\\delta=\\frac{x-fl(x)}{x} \\Longrightarrow \\left|\\frac{x-fl(x)}{x}\\right|\\leq 2^{-24} \\quad $$\n",
        "\n",
        "Entonces por la desigualdad (1), se tiene que $\\left|\\delta\\right|\\leq2^{-24}$ y despejando $fl(x)$ se obtiene (2).\n",
        "\n",
        "$$\\left|\\frac{x-fl(x)}{x}\\right|\\leq 2^{-24}\\Longrightarrow \\frac{fl(x)-x}{x} \\leq 2^{-24} \\Longrightarrow fl(x)-x=\\delta x\\Longrightarrow fl(x)=x+\\delta x\\Longrightarrow fl\\left(x\\right)=x\\left(1+\\delta\\right)$$\n",
        "\n",
        "Sin embargo por (2), $\\delta$ está acotada por la unidad de redondeo, así que lo que establecen (1) y en consecuencia (2) es que el error asociado a la aproximación de un valor real $x$ no puede exceder la unidad de redondeo $u$ ya que si lo excede, en particular podría tomar el valor del $\\epsilon_m$ lo que significa que la aproximación **$fl(x)$ en realidad sería el siguiente valor** representable en este sistema."
      ]
    },
    {
      "cell_type": "markdown",
      "metadata": {
        "id": "DRJmfWbjIMol"
      },
      "source": [
        "<a name='Aritmetica'></a>\n",
        "## Arimética de punto flotante\n",
        "\n",
        "Ya que se tiene una idea clara de cómo funcionan los sistemas de punto flotante y el redondeo, es buena idea destinar un poco de tiempo para analizar que sucede con las operaciones aritméticas, dentro de un sistema de punto flotante."
      ]
    },
    {
      "cell_type": "markdown",
      "metadata": {
        "id": "6INZglumJAFG"
      },
      "source": [
        "<a name='Operaciones'></a>\n",
        "### Operaciones aritméticas\n",
        "\n",
        "Se empleara el símbolo $\\odot$ para denotar cualquiera de las operaciones de la aritméticas tradicionales $(+,-,\\times,\\div)$.\n",
        "\n",
        "Supongamos una computadora de longitud de palabra de 32 bits que se ha diseñado para que siempre que 2 números de máquina $x$ y $y$ se combinen aritméticamente produzcan $fl(x\\odot y)$ en lugar de $x\\odot y$.\n",
        "\n",
        "\n",
        "Podemos imaginar que $x \\odot y$ se forma primero correctamente, después se normaliza y por último se redondea para convertirse en un número de máquina. Bajo esta suposición, el error relativo no excede $2^{-24}$, es decir. \n",
        "\n",
        "$$fl(x\\odot y)=(x\\odot y)(1+\\delta) \\quad \\left|\\delta\\right|\\leq2^{-24}$$"
      ]
    },
    {
      "cell_type": "markdown",
      "metadata": {
        "id": "PLMUw0otNbiD"
      },
      "source": [
        "<a name='Ej1'></a>\n",
        "#### Ejemplo\n",
        "\n",
        "Empleando aritmética de 7 cifras significativas y redondeo en base 10, realice los siguientes cálculos. \n",
        "\n",
        "*   Sean $a= 1234.567, b= 45.67844, c = 0.0004$\n",
        "\n",
        "> $$(a + b) + c=(1234.567+45.67844)+0.0004=1280.245+0.0004=1280.245$$\n",
        "\n",
        "> $$a + (b + c)=1234.567+(45.67844+0.0004)=1234.567+45.67884=1280.246$$\n",
        "\n",
        "*   Sean $a= 1234.567, b= 1.234567, c = 3.333333$\n",
        "\n",
        "> $$(a + b) * c=(1234.567+1.234567)+3.333333=1235.801*3.333333=4119.336$$\n",
        "\n",
        "> $$(a * c)+(b * c)=(1234.567*3.333333)+(1.234567*3.333333)=4115.223+4.115223=4119.338$$\n",
        "\n",
        "De estos ejemplos podemos concluir que algúnos de **los axiómas elementales (en este caso asocitividad y distributividad) de las matemáticas no siempre se cúmplen** en un sistema de punto flotante.\n",
        "\n"
      ]
    },
    {
      "cell_type": "markdown",
      "metadata": {
        "id": "ETxXB2vhQrVP"
      },
      "source": [
        "<a name='Cancelacion'></a>\n",
        "## Cancelación numérica\n",
        "\n",
        "El termino de cancelación numérica se refiere a que sucede cuando 2 cifras muy similares se restan, en ese caso la mayoria de las cifras significativas se cancelan (en otras palabras se vuelven cero) y dadas las limitaciones del sistema, los valores resultantes son cero.\n"
      ]
    },
    {
      "cell_type": "markdown",
      "metadata": {
        "id": "EzbktzGFwC5b"
      },
      "source": [
        "<a name='Ej2'></a>\n",
        "### Ejemplo\n",
        "\n",
        "Uno de los cálculos más comunes que producen errores tiene que ver con la cancelación de cifras significativas, debido a la resta de números casi iguales.\n",
        "\n",
        "Supongamos que tenemos 2 números de máquina casi iguales $x,\\,\\,y$ con $x>y$, y con una representación de *p-cifras* significativas. Es decir.\n",
        "\n",
        "\n",
        "$$fl(x)=0.d_{1}d_{2}...d_{k}a_{k+1}a_{k+2}...a_{p}\\times10^{n}\\\\\n",
        "fl(y)=0.d_{1}d_{2}...d_{k}b_{k+1}b_{k+2}...b_{p}\\times10^{n}$$ \n",
        "\n",
        "\n",
        "Al realizar la resta de $x-y$ se tienen a lo mas $p-k$ cifras significativas, sin embargo el resultado debe mostrarse con p-cifras, así que las ultimas k-cifras o se cancelan o serán asignadas al azar.\n",
        "\n",
        "\n",
        "En todos los cálculos posteriores que involucren a $x-y$, se arrastrará un error debido a la cancelación de cifras.\n",
        "\n",
        "$\\color{green}{Ejemplo.}$\n",
        "\n",
        "Sean $x=0.54617\\times10^{0}$ y $y=0.54601\\times10^{0}$ números reales, el valor exacto de la resta es \n",
        "\n",
        "\n",
        "$$r=x-y={\\color{red}{0.00016}}$$\n",
        "\n",
        "* Ahora, supongamos que la resta se realiza con una aritmética de 4-cifras, al redondear $x,\\,\\,y$ a 4-cifras se tiene.\n",
        "\n",
        "$$x=0.5462 \\quad y=0.5460\\\\x-y={\\color{red}{0.0002}} $$\n",
        "\n",
        "Dado que el resultado también debe estar normalizado entonces $fl(x-y)=0.2\\overset{{\\color{red}{c.can}}}{\\overbrace{000}}\\times10^{-3} $\n",
        "\n",
        "* ¿Que sucede con el error relativo?.\n",
        "\n",
        "* ¿Que sucede con el error relativo sin en lugar de redondear, se empleara truncamiento?.\n",
        "\n",
        "[Ir al índice](#Contenido)"
      ]
    },
    {
      "cell_type": "markdown",
      "metadata": {
        "id": "ITAJTexEJIFM"
      },
      "source": [
        "<a name='Nociones'></a>\n",
        "## Nociones de estabilidad numérica\n",
        "\n",
        "Para el caso particular de la suma de 2 números reales $x,\\,\\,y$ tendríamos que.\n",
        "\n",
        "$$fl(x+y)=(x+y)(1+\\delta)=x(1+\\delta)+y(1+\\delta)$$\n",
        "\n",
        "Esta expresión nos dice que el resultado de sumar 2 números reales $x,\\,\\,y$, no es en general $x+y$ si no la suma verdadera de $x(1+\\delta)$ con $y(1+\\delta)$.\n",
        "\n",
        "Así, la versión de máquina de $x+y$, que es $fl(x+y)$, es la suma exacta de una $x,\\,\\,y$ ligeramente perturbadas.\n",
        "\n",
        "Esta interpretación es un ejemplo del **análisis de error hacia atrás**. Este trata de determinar que perturbación de los datos originales causaría que los resultados de la computadora fueran los resultados exactos de un problema dado.\n",
        "\n",
        "Dado que ya conocemos la importancia de los errores en el análisis de algoritmos, a partir de este punto se introducen 2 formas para analizar el error en un algoritmo:\n",
        "\n",
        "Sea $ \\hat{f}\\left(x\\right)$ el valor aproximado calculado de $f\\left(x\\right)$ con un dato de\n",
        "entrada $x$. Entonces tenemos lo siguiente:\n",
        "\n",
        "*   **Error hacı́a adelante** $= |f (x) − \\hat{f}(x)|$.\n",
        "Los errores atrasados relacionan los errores a los datos del\n",
        "problema en lugar de a la solución del problema.\n",
        "*   **Error hacı́a atrás** $= |y − x|$. Aquı́ nos preguntamos con qué valor de los\n",
        "datos de entrada y hace que $f(y) = \\hat{f}(x)$.\n",
        "\n"
      ]
    },
    {
      "cell_type": "markdown",
      "metadata": {
        "id": "RJzAgSN2ggRI"
      },
      "source": [
        "<a name='Ej3'></a>\n",
        "#### Ejemplo\n",
        "\n",
        "Supongamos que queremos estimar $f(x)=e^x$ en $x=1$. Utilizando la serie de Taylor como algoritmo de aproximaxición se tiene.\n",
        "\n",
        "$$\\hat{f}\\left(x\\right)=1+x+\\frac{x^{2}}{2}+\\frac{x^{3}}{3!}$$\n",
        "\n",
        "Entonces tenemos que $f(1)=2.718$ y $\\hat{f}(1)=2.666$, así que.\n",
        "\n",
        "*   **Error hacia adelante**: $|2.718 − 2.666| = 0.052$.\n",
        "*   Para encontrar el error hacia atrás tenemos que encontrar una $y$ tal que $f(y)=\\hat{f}(1)$. Para $e^x$, se tiene que $y=ln(\\hat{f}(x))$. Evaluando en $x=1$ tenemos que $y=ln(\\hat{f}(1))=0.9808$. De tal manera que el **error hacia atrás** es $|y-x|=|0.9808-1|=0.0192$. Y al verificar se tiene que $e^y = e^{0.9808}=2.666=\\hat{f}(1)=2.666$\n"
      ]
    },
    {
      "cell_type": "markdown",
      "metadata": {
        "id": "5mCjMPSrIhEw"
      },
      "source": [
        "<a name='Algoritmo'></a>\n",
        "## Algoritmo estable hacia atrás\n",
        "\n",
        "Definición: Sea $ \\hat{f}\\left(x\\right)$ el valor aproximado calculado de $f\\left(x\\right)$ con un dato de\n",
        "entrada $x$, un algoritmo es llamado estable hacia atrás si para alguna $x$ se produce un valor $\\hat{f}(x)$ con un pequeño error hacı́a atrás. Esto es, un algoritmo es estable hacia atrás si $\\hat{f}(x)=f(y)$, para alguna $y$ cerca a $x$."
      ]
    },
    {
      "cell_type": "markdown",
      "metadata": {
        "id": "vjCfSbsRJLTf"
      },
      "source": [
        "<a name='Ej4'></a>\n",
        "#### Ejemplo\n",
        "\n",
        "Si $x,\\,y,\\,z$ son números de máquina en una computadora de longitud de palabra de 32 bits. ¿Que cota superior tendrá el error de redondear $z(x+y)$?\n",
        "\n",
        "* Primero se evalúa $fl(x+y)=(x+y)(1+\\delta_{1})\\quad(\\left|\\delta_{1}\\right|\\leq2^{-24})$.\n",
        "\n",
        "\n",
        "* Ahora tenemos que multiplicar $z$ por el número de máquina $fl(x+y)$, es decir.\n",
        "\n",
        "$$fl[zfl(x+y)]=zfl(x+y)(1+\\delta_{2})\\quad(\\left|\\delta_{2}\\right|\\leq2^{-24})$$\n",
        "\n",
        "* En este cálculo, $\\left|\\delta_{1}\\delta_{2}\\right|\\leq2^{-48}$, por lo que lo ignoramos (ya que es un valor mucho muy pequeño). También hacemos \n",
        "\n",
        "$$\\delta=\\delta_{1}+\\delta_{2}$$\n",
        "\n",
        "* Juntando ambas ecuaciones se tiene\n",
        "\n",
        "$$fl[zfl(x+y)]\t=\tz(x+y)(1+\\delta_{1})(1+\\delta_{2})\n",
        "\t=\tz(x+y)(1+\\delta_{1}+\\delta_{2}+\\delta_{1}\\delta_{2})\n",
        "\t\\thickapprox z(x+y)(1+\\delta_{1}+\\delta_{2})\n",
        "\t=\tz(x+y)(1+\\delta) \\quad (\\left|\\delta\\right|\\leq2^{-23})$$\n",
        "    \n",
        "y entonces se puede concluir que \n",
        "\n",
        "$$\\left|\\delta\\right|=\\left|\\delta_{1}+\\delta_{2}\\right|\\leq\\left|\\delta_{1}\\right|+\\left|\\delta_{2}\\right|\\leq2^{-24}+2^{-24}=2^{-23} $$\n",
        "\n",
        "Ası́, que el cálculo de la multiplicación de $z$ por la suma de dos números de punto flotante $x, y$\n",
        "es la multiplicación exacta de $z'$ por la suma exacta de otros dos números de punto flotante $x'$ e $y'$.\n",
        "Como $|\\delta|\\leq \\epsilon_m$, por lo tanto $x'$, $y'$ y $z'$ son cercanos a $x$, $y$ y $z$ respectivamente. Ası́ concluimos que la operación de multiplicación de un número de punto flotante por la adición de dos números de punto flotante es estable hacı́a atrás."
      ]
    },
    {
      "cell_type": "markdown",
      "metadata": {
        "id": "1fT2EgD_QrVR"
      },
      "source": [
        "<a name='Reduccion'></a>\n",
        "## Reducción de errores\n",
        "\n",
        "Para concluir este tema podemos decir que el objetivo general del curso será reducir los errores que se den en los cálculos, ya sea debido a las limitantes del sistema de punto flotante o a las caracteristicas de las técnicas empleadas para aproximar los valores reales.\n",
        "\n",
        "Así que ya podemos ver de manera más clara el por que el algoritmo de Horner es un ejemplo excelente para mostrar tales fines."
      ]
    },
    {
      "cell_type": "markdown",
      "metadata": {
        "id": "-FuFEfZGS4Rc"
      },
      "source": [
        "<a name='Evaluacion'></a>\n",
        "### Evaluación de polinomios\n",
        "\n",
        "Hasta este momento debe ser claro que una forma para reducir los errores es minimizar la cantidad de operaciones necesarias para realizar algún cálculo.\n",
        "\n",
        "* Evalúa el siguiente polinomio en 4.71.\n",
        "\n",
        "$$f(x)=1.5+3.2x-6.1x^{2}+x^{3}$$\n",
        "\n",
        "\n",
        "* Considera una aritmética de 3 cifras significativas y responde:\n",
        "\n",
        "    * ¿Cuál es el valor exacto?.\n",
        "\n",
        "    * Emplea truncamiento.\n",
        "\n",
        "    * Emplea redondeo.\n",
        "\n",
        "    * ¿Qué sucede con el error relativo en ambos casos?.\n",
        "\n",
        "    * Ahora reescribe el mismo polinomio pero en la forma \n",
        "$$f(x)=1.5+x(3.2+x(-6.1+x))$$\n",
        "\n",
        "    * Responde las mismas preguntas.\n",
        " \n",
        "$\\color{green}{Ejercicio}$\n",
        "\n",
        "<center>\n",
        "<img src=\"https://github.com/jugernaut/MACTI-analisisnumerico/blob/main/01_AritmeticaPuntoFlotante/06_Notacion_fl_x/Imagenes/IMAGEN1_LECCION6.png?raw=1\" width=\"700\">\n",
        "</center>\n",
        "    \n",
        "Ahora reescribimos $f (x)$ en forma de multiplicaciones anidadas y volvemos a evaluar\n",
        "\n",
        "\n",
        "<center>\n",
        "<img src=\"https://github.com/jugernaut/MACTI-analisisnumerico/blob/main/01_AritmeticaPuntoFlotante/06_Notacion_fl_x/Imagenes/IMAGEN2_LECCION6.png?raw=1\" width=\"700\">\n",
        "</center>\n",
        "\n",
        "\n",
        "\n",
        "El **anidamiento** redujo el error relativo por truncamiento a menos de 10% del original. Para la aproximación por redondeo la mejora fue más drástica, el error se redujo en un 95%."
      ]
    },
    {
      "cell_type": "markdown",
      "metadata": {
        "id": "Vzn07zycS8I7"
      },
      "source": [
        "<a name='Multiplicacion'></a>\n",
        "### Multiplicación Anidada\n",
        "\n",
        "Como podrás notar por el ejemplo anterior al escribir el polinomio en forma de multiplicación anidada, se redujo el error debido a la reducción de operaciones, que paso de ser 5 multiplicaciones y 3 sumas a 2 multiplicaciones y 3 sumas.\n",
        "\n",
        "Ahora, veamos algunas observaciones relevantes sobre la evaluación de polinomios eficientemente, así como del redondeo y truncamiento de números reales, para evaluar el polinomio\n",
        "\n",
        "$$p(x)=a_{0}+a_{1}x+a_{2}x+\\cdots+a_{n-1}x^{n-1}+a_{n}x^{n}$$\n",
        "\n",
        "Agrupemos los termino en una multiplicaciones anidadas de la siguiente forma\n",
        "\n",
        "$$p(x)=a_{0}+x(a_{1}+x(a_{2}+\\cdots+x(a_{n-1}+xa_{n}))\\cdots))$$\n",
        "\n",
        "A este procedimiento se le conoce con el nombre de algoritmo de Horner o división sintética.\n",
        "\n",
        "[Ir al índice](#Contenido)"
      ]
    },
    {
      "cell_type": "markdown",
      "metadata": {
        "id": "M1wLKazdQrVS"
      },
      "source": [
        "<a name='Horner'></a>\n",
        "## Algoritmo de Horner\n",
        "\n",
        "### FLOP's\n",
        "\n",
        "De acuerdo a la sección pasada y al algoritmo de Horner, el polinomio $p(x)$ se puede reescribir de varias formas, con la finalidad de realizar menos operaciones, cuando estas operaciones se realizan en una computadora, se le conocen como **operaciones de punto flotante o FLOP's**, por sus siglas en inglés. Estas pueden ser **operaciones aritméticas**, de asignación o incluso sentencias tipo if else.\n",
        " \n",
        "De manera mas clara, el algoritmo de Horner dice que la evaluación de $p(x)$ es mas eficiente si se realiza de la siguiente manera. \n",
        "\n",
        "$$p(x)=a_{0}+a_{1}x+\\cdots+a_{n}x^{n}=\\sum_{i=0}^{n}a_{i}x^{i}=\\sum_{i=0}^{n}(a_{i}\\prod_{j=1}^{i}x)$$\n",
        "\n",
        "Y recordemos que si $n\\leq m$, entonces.\n",
        "\n",
        "$$\\sum_{k=n}^{m}x_{k}=x_{n}+x_{n+1}+\\cdots+x_{m}\\quad y \\quad \\prod_{k=n}^{m}x_{k}=x_{n}x_{n+1}\\cdots x_{m}$$\n",
        "\n",
        "Por otro lado, si $m<n$, se define\n",
        "\n",
        "$$\\sum_{k=n}^{m}x_{k}=0\\,\\,\\,y\\,\\,\\,\\prod_{k=n}^{m}x_{k}=1$$\n",
        "\n",
        "Ahora seria interesante responder un par de preguntas:\n",
        "\n",
        "¿De que depende el número de FLOP's al evaluar un polinomio?.\n",
        "\n",
        "Si se evalúa el polinomio $p(x)$ de manera tradicional, ¿cuántas FLOP's se tienen que realizar?.\n",
        "\n",
        "Al emplear el algoritmo de Horner, ¿cuántas FLOP's se realizan?."
      ]
    },
    {
      "cell_type": "markdown",
      "metadata": {
        "id": "WszEoDsjdbb3"
      },
      "source": [
        "<a name='Mesopotamia'></a>\n",
        "### Como se hacia en Mesopotamia\n",
        "\n",
        "$\\color{green}{Ejemplo.}$\n",
        "\n",
        "Use el algoritmo de Horner para evaluar $p(3)$\n",
        "\n",
        "$$p(x)=x^{4}-4x^{3}+7x^{2}-5x-2$$\n",
        "\n",
        "Acomodemos los coeficientes de $p(x)$ y el valor de x en la siguiente tabla\n",
        "\n",
        "<center>\n",
        "<img src=\"https://github.com/jugernaut/MACTI-analisisnumerico/blob/main/01_AritmeticaPuntoFlotante/06_Notacion_fl_x/Imagenes/IMAGEN3_LECCION6.png?raw=1\" width=\"500\">\n",
        "</center>\n",
        "\n",
        "Por lo que obtenemos que $p(3)=19$ y se puede reescribir el polinomio así\n",
        "\n",
        "$$p(x)=(x-3)(x^{3}-x^{2}+4x+7)+19$$\n",
        "\n",
        "Si el numero evaluado resulta ser raíz entonces $(x-r)$ es un factor de p.\n",
        "\n",
        "$\\color{green}{Ejemplo.}$\n",
        "\n",
        "Use el algoritmo de Horner para evaluar $p(2)$\n",
        "\n",
        "$$p(x)=x^{4}-4x^{3}+7x^{2}-5x-2$$\n",
        "\n",
        "Acomodemos los coeficientes de $p(x)$ y el valor de x en la siguiente tabla\n",
        "\n",
        "<center>\n",
        "<img src=\"https://github.com/jugernaut/MACTI-analisisnumerico/blob/main/01_AritmeticaPuntoFlotante/06_Notacion_fl_x/Imagenes/IMAGEN4_LECCION6.png?raw=1\" width=\"500\">\n",
        "</center>\n",
        "\n",
        "Dado que la evaluación da como resultado 0, entonces 2 es raíz de $p$ y \n",
        "\n",
        "$$p(x)=(x-2)(x^{3}-2x^{2}+3x+1)$$\n",
        "\n",
        "<font color=\"blue\" face=\"Comic Sans MS,arial\">\n",
        "  <h1 align=\"center\"><i>Ahora veamos como lo haría un alumno de la Facultad de Ciencias, en el año 2023</i></h1>\n",
        "  </font>"
      ]
    },
    {
      "cell_type": "markdown",
      "metadata": {
        "id": "hQhdQ45sQrVT"
      },
      "source": [
        "<a name='Pseudocodigo'></a>\n",
        "### Pseudocódigo\n",
        "\n",
        "A continuación, se muestra el pseudocódigo para poder realizar la evaluación del polinomio $p(x)$.\n",
        "\n",
        "<center>\n",
        "<img src=\"https://github.com/jugernaut/MACTI-analisisnumerico/blob/main/01_AritmeticaPuntoFlotante/06_Notacion_fl_x/Imagenes/IMAGEN5_LECCION6.png?raw=1\" width=\"700\">\n",
        "</center>\n",
        "\n",
        "\n",
        "Para este algoritmo, suponemos que se los valores de los coeficientes $a_{n}a_{n-1}\\ldots a_{0}$ han sido almacenados en un arreglo lineal (lista) y por lo tanto es fácil acceder a cada uno de ellos para realizar las evaluaciones.\n",
        "\n",
        "En forma de pseudocódigo resulta mas sencillo saber cuantas FLOP's se realizaron.\n",
        "\n",
        "Programalo en $\\color{green}{Python!}$"
      ]
    },
    {
      "cell_type": "code",
      "execution_count": null,
      "metadata": {
        "colab": {
          "base_uri": "https://localhost:8080/",
          "height": 34
        },
        "id": "iYZvhjIjQrVV",
        "outputId": "19644f6c-e4d9-48f8-86f2-2851ec7b4999"
      },
      "outputs": [
        {
          "name": "stdout",
          "output_type": "stream",
          "text": [
            "0\n"
          ]
        }
      ],
      "source": [
        "'''Algoritmo de Horner para evaluar polinomios\n",
        "coef: lista de coeficientes comenzando de izquierda\n",
        "a derecha por el de mayor grado\n",
        "x: valor en el cual se quiere evaluar el polinomio\n",
        "'''\n",
        "def horner(coef, x):\n",
        "    # el primer valor es igual al coeficiente mas grande\n",
        "    p = coef[0]\n",
        "    # comenzamos en 1 ya que el primer coeficiente se asigna antes\n",
        "    # de ingresar al ciclo for\n",
        "    for i in range(1,len(coef)):\n",
        "        # se calcula el resto de los valores como se describe en\n",
        "        # en algoritmo\n",
        "        p = coef[i]+x*p\n",
        "    print(p)\n",
        "\n",
        "#se evalua el polinio (en forma de lista de coeficientes) en x=2\n",
        "horner([1,-4,7,-5,-2], 2)"
      ]
    },
    {
      "cell_type": "markdown",
      "metadata": {
        "id": "5xUL3NGaQrVa"
      },
      "source": [
        "<a name='Referencias'></a>\n",
        "## Referencias\n",
        "\n",
        "1. Riswan Butt: Numerical Analysys Using Matlab, Jones and Bartlett.\n",
        "2. Ward Cheney, David Kincaid: Métodos Numéricos y Computación, Cenage Learning.\n",
        "3. Richard L. Burden, J. Douglas Faires: Análisis Numérico, Math Learning.\n",
        "\n",
        "[Ir al índice](#Contenido)"
      ]
    }
  ],
  "metadata": {
    "colab": {
      "provenance": [],
      "toc_visible": true,
      "include_colab_link": true
    },
    "kernelspec": {
      "display_name": "Python 3 (ipykernel)",
      "language": "python",
      "name": "python3"
    },
    "language_info": {
      "codemirror_mode": {
        "name": "ipython",
        "version": 3
      },
      "file_extension": ".py",
      "mimetype": "text/x-python",
      "name": "python",
      "nbconvert_exporter": "python",
      "pygments_lexer": "ipython3",
      "version": "3.9.12"
    }
  },
  "nbformat": 4,
  "nbformat_minor": 0
}
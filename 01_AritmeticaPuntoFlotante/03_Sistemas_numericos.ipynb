{
 "cells": [
  {
   "cell_type": "markdown",
   "metadata": {
    "colab_type": "text",
    "id": "view-in-github"
   },
   "source": [
    "<a href=\"https://colab.research.google.com/github/jugernautMACTI-analisisnumerico/blob/Erick/01_AritmeticaPuntoFlotante/03_Sistemas_numericos.ipynb\" target=\"_parent\"><img src=\"https://colab.research.google.com/assets/colab-badge.svg\" alt=\"Open In Colab\"/></a>"
   ]
  },
  {
   "cell_type": "markdown",
   "metadata": {
    "id": "XVVzCRDIvLYe"
   },
   "source": [
    "<font color=\"Teal\" face=\"Comic Sans MS,arial\">\n",
    "  <h1 align=\"center\"><i>Sistemas Numéricos.</i></h1>\n",
    "  </font>\n",
    "  <font color=\"Black\" face=\"Comic Sans MS,arial\">\n",
    "  <h5 align=\"center\"><i>Profesor: M.en.C. Miguel Angel Pérez León.</i></h5>\n",
    "    <h5 align=\"center\"><i>Ayudante: Diana Laura Rojas Cristino.</i></h5>\n",
    "  <h5 align=\"center\"><i>Materia: Análisis Numérico.</i></h5>\n",
    "  </font>"
   ]
  },
  {
   "cell_type": "markdown",
   "metadata": {
    "id": "RERcH32hEL_D"
   },
   "source": [
    "<a name='Contenido'></a>\n",
    "## Contenido\n",
    "\n",
    "\n",
    "\n"
   ]
  },
  {
   "cell_type": "markdown",
   "metadata": {
    "colab_type": "toc",
    "id": "oeQKrDJJFb3f"
   },
   "source": [
    "- [Objetivos Generales](#OG)\n",
    "- [1. Sistemas Numéricos](#1)\n",
    "  - [1.1 ¿Que es un sistema numérico?](#1.1)\n",
    "    - [Ejemplo](#Ejemplo1)\n",
    "- [2. Sistema Binario (bin)](#2)\n",
    "  - [2.1 Estructura de un byte](#2.1)\n",
    "    - [Ejemplo:](#Ejemplo2)\n",
    "- [3. Sistema Octal (oct)](#3)\n",
    "  - [Ejemplo](#Ejemplo3)\n",
    "- [4. Sistema Hexadecimal (hex)](#4)\n",
    "  - [Ejemplo:](#Ejemplo4)\n",
    "- [5. Cambio de base (potencias de 2)](#5)\n",
    "  - [5.1. Tabla de equivalencias](#5.1)\n",
    "    - [Ejemplos](#Ejemplo5)\n",
    "- [6. Cambio de base $\\beta$ a base 10](#6)\n",
    "  - [Ejemplo](#Ejemplo6)\n",
    "- [7. Cambio de base 10 a base $\\beta$](#7)\n",
    "  - [Ejemplo](#Ejemplo7)\n",
    "- [8. Referencias](#8)\n",
    "\n"
   ]
  },
  {
   "cell_type": "markdown",
   "metadata": {
    "id": "yBgEEB94BFj4"
   },
   "source": [
    "<a name='OG'></a>\n",
    "## Objetivos Generales\n",
    "\n",
    "* Comprender qué es un sistema numérico y cómo se compone.\n",
    "* Reconocer los principales sistemas numéricos: Binario, Octal, Hexadecimal.\n",
    "* Poder realizar cambios de base entre los distintos sistemas numéricos, así como lograr traducir estos algoritmos a un lenguaje de programación como *Python*."
   ]
  },
  {
   "cell_type": "markdown",
   "metadata": {
    "id": "dfsQxeWKvLYg"
   },
   "source": [
    "<a name='1'></a>\n",
    "## Sistemas Numéricos\n",
    "\n",
    "Ya hemos mencionado previamente que los lenguajes de programación (incluso el lenguaje matemático) se sustentan en al menos un sistema numérico es por eso que dar una definición formal y analizar su funcionamiento es de importancia para el análisis numérico.\n"
   ]
  },
  {
   "cell_type": "markdown",
   "metadata": {
    "id": "1B5IIdULP-j_"
   },
   "source": [
    "<a name='1.1'></a>\n",
    "### ¿Qué es un sistema numérico?\n",
    "\n",
    "Un sistema numérico es un conjunto de símbolos (normalmente dígitos) y reglas que se emplean para representar datos **numéricos**.\n",
    "\n",
    "Se caracterizan por la **base**, que indica el numero de posibles símbolos diferentes dentro del sistema que además es el coeficiente que determina cuál es el valor de cada símbolo dependiendo de su posición.\n"
   ]
  },
  {
   "cell_type": "markdown",
   "metadata": {
    "id": "6uAelfb4Uj_2"
   },
   "source": [
    "<a name='Ejemplo1'></a>\n",
    "### Ejemplo\n",
    "\n",
    "Podemos tomar como ejemplo el sistema decimal y analizar la cifra $10.05$. Como sabemos que es el sistema decimal por lo tanto la base ($\\beta$) sera 10.\n",
    "\n",
    "Por otra parte tenemos 1 decena, 0 unidades, 0 décimas y 5 centésimas. O lo que es lo mismo.\n",
    "\n",
    " $$1\\times10^{1}+0\\times10^{0}+0\\times10^{-1}+5\\times10^{-2}=10+0+0.0+0.05=10.05$$"
   ]
  },
  {
   "cell_type": "markdown",
   "metadata": {
    "id": "rnc7UmZuQNzC"
   },
   "source": [
    "<a name='2'></a>\n",
    "## Sistema Binario (bin)\n",
    "\n",
    "Es el sistema básico, ya que como lo indica su nombre únicamente se tienen 2 posibles valores para cada bit (0 ó 1).\n",
    "\n",
    "La importancia de este sistema numérico radica en que el *hardware* de una computadora funciona mediante corriente eléctrica, lo que se mapea de inmediato a los valores de este sistema: 0 (sin corriente), 1 (con corriente).\n",
    "\n",
    "Todo valor numérico generado por cualquier computadora actual tiene su base en este sistema y después de algunos cambios de base es traducido al sistema necesario."
   ]
  },
  {
   "cell_type": "markdown",
   "metadata": {
    "id": "Xb5gBWZbQc-v"
   },
   "source": [
    "<a name='2.1'></a>\n",
    "### Estructura de un *byte*\n",
    "\n",
    "Son **8 bits juntos**, el *bit* más a la izquierda se conoce como el **bit más significativo** y el más a la derecha como el **bit menos significativo**.\n",
    "\n",
    "$$\\overset{Byte}{\\overbrace{\\begin{array}{cccccccc}\n",
    "\\underset{Bit+}{\\underbrace{1}} & 0 & 1 & 1 & 0 & 0 & 1 & \\underset{Bit-}{\\underbrace{1}}\\end{array}}}$$\n",
    "\n",
    "<a name='Ejemplo2'></a>\n",
    "## Ejemplo:\n",
    "\n",
    "$$10110101_2$$"
   ]
  },
  {
   "cell_type": "markdown",
   "metadata": {
    "id": "gDDJ7DZAQtxw"
   },
   "source": [
    "<a name='3'></a>\n",
    "## Sistema Octal (oct)\n",
    "\n",
    "La base de este sistema es el número 8, por lo que los dígitos que componen este sistema son: $0, 1,..., 7$.\n",
    "\n",
    "Este es un sistema intermedio entre el sistema binario y el sistema hexadecimal.\n",
    "\n",
    "<font color=\"Teal\" face=\"Comic Sans MS,arial\">\n",
    "  <h5 align=\"Left\"><i>Números octales con 2 bits.</i></h5>\n",
    "  </font>\n",
    "  \n",
    "| Decimal | Octal |\n",
    "| :-:  | :-: |\n",
    "| 0  | 0 0 |\n",
    "| 1  | 0 1 |\n",
    "| 2  | 0 2 |\n",
    "| ... | ... |\n",
    "| 7  | 0 7 |\n",
    "| 8  | 1 0 |\n",
    "| ?  | 2 0 |\n",
    "\n",
    "<a name='Ejemplo3'></a>\n",
    "## Ejemplo\n",
    "\n",
    "$$45346_8$$"
   ]
  },
  {
   "cell_type": "markdown",
   "metadata": {
    "id": "xyNQTTGtQ5c4"
   },
   "source": [
    "<a name='4'></a>\n",
    "## Sistema Hexadecimal (hex)\n",
    "\n",
    "Como su nombre lo indica, este sistema tiene como base el número 16, ya que el sistema decimal unicamente tiene 10 dígitos, se emplean letras para poder representar los símbolos restantes de este sistema.\n",
    "\n",
    "Dada una cantidad fija de *bits*, este es el sistema que tiene una mayor capacidad para almacenar valores numéricos.\n",
    "\n",
    "Es por eso que todo valor numérico dentro de una computadora se representa inicialmente como un valor hexadecimal y finalmente se traduce a un valor binario.\n",
    "\n",
    "<font color=\"Teal\" face=\"Comic Sans MS,arial\">\n",
    "  <h5 align=\"Left\"><i>Elementos del sistema hexadecimal.</i></h5>\n",
    "  </font>\n",
    "  \n",
    "| Decimal | 0 |1 |2|3|...|9|10|11|12|13|14|15|\n",
    "| :-:  | :-: |:-: |:-: |:-: |:-: |:-: |:-: |:-: |:-: |:-: |:-: |:-: |\n",
    "| Hexadesimal  | 0 |1 |2|3|..|9|A|B|C|D|E|F|\n",
    "\n",
    "<a name='Ejemplo4'></a>\n",
    "## Ejemplo:\n",
    "\n",
    "$$0\\times34ADF45$$\n",
    "\n",
    "[Ir a Índice](#Contenido)"
   ]
  },
  {
   "cell_type": "markdown",
   "metadata": {
    "id": "JD8DTx_2vLYh"
   },
   "source": [
    "<a name='5'></a>\n",
    "## Cambio de base (potencias de 2)\n",
    "\n",
    "Los cambios de base, de sistemas basados en potencias de 2 son muy sencillos; solo hay que seguir estos pasos.\n",
    "\n",
    "* Identificar la base del número que queremos convertir.\n",
    "* Una vez identificada la base tenemos 6 posibles tipos de cambio:\n",
    "    * Oct a Bin (y viceversa): por cada dígito en oct, necesitaremos 3 bits en binario.\n",
    "    * Hex a Bin (y viceversa): por cada dígito en hex, necesitaremos 4 bits en binario.\n",
    "    * Hex a Oct (y viceversa): primero pasar a binario y después a octal.\n",
    "* Si hacen falta dígitos a la parte entera del numero a convertir se llenan con ceros.\n",
    "* Si hacen falta dígitos a la parte fraccionaria del número a convertir se llenan con ceros.\n",
    "* Finalmente, substituir cada dígito del valor a convertir, por su equivalente en la nueva base.\n",
    "\n",
    "<a name='5.1'></a>\n",
    "## Tabla de equivalencias\n",
    "\n",
    "| Decimal | Binario | Octal | Hexadecimal |\n",
    "| :-:  | :-: |:-: | :-: |\n",
    "| 00  | 0000 |00 |0 |\n",
    "| 01  | 0001 |01 |1 |\n",
    "| 02  | 0010 |02 |2 |\n",
    "| 03  | 0011 |03 |3 |\n",
    "| 04  | 0100 |04 |4 |\n",
    "| 05  | 0101 |05 |5 |\n",
    "| 06  | 0110 |06 |6 |\n",
    "| 07  | 0111 | 07 |7 |\n",
    "| 08  | 1000 | 10 |8 |\n",
    "| 09  | 1001 | 11 |9 |\n",
    "| 10  | 1010 | 12 |A |\n",
    "| 11  | 1011 | 13 |B |\n",
    "| 12  | 1100 | 14 |C |\n",
    "| 13  | 1101 | 15 |D |\n",
    "| 14  | 1110 | 16 |E |\n",
    "| 15  | 1111 | 17 |F |"
   ]
  },
  {
   "cell_type": "markdown",
   "metadata": {
    "id": "TxtdcDUfRLRr"
   },
   "source": [
    "<a name='Ejemplo5'></a>\n",
    "### Ejemplos\n",
    "\n",
    "Hex a Bin\n",
    "\n",
    "$$1A.5B_{16}=0001,1010.0101,1011_{2}=11010.01011011_{2}$$\n",
    "\n",
    "Oct a Bin\n",
    "\n",
    "$$32.266_{8}=011,010.010,110,110_{2}=11010.01011011_{2}$$\n",
    "\n",
    "Hex a Oct\n",
    "\n",
    "$$1A.5B_{16}=32.266_{8}$$\n"
   ]
  },
  {
   "cell_type": "markdown",
   "metadata": {
    "id": "Z8cRzm_2vLYi"
   },
   "source": [
    "<a name='6'></a>\n",
    "## Cambio de base $\\beta$ a base 10\n",
    "\n",
    "Para realizar este cambio se emplea el principio del valor relativo y que cada elemento representa una potencia de la base.\n",
    "\n",
    "Es decir dada la base $\\beta$ y el número $d_{n},.......,d_{0}.d_{-1},.......,d_{-m}$ en la misma base, el valor de este número en base 10 se puede calcular mediante la fórmula\n",
    "\n",
    "$$num_{10}=d_{n},d_{n-1},...,d_{0}.d_{-1},d_{-2},...,d_{-m}=d_{n}\\times\\beta^{n}+...+d_{0}\\times\\beta^{0}+d_{-1}\\times\\beta^{-1}+...+d_{-m}\\times\\beta^{-m}$$\n",
    "\n",
    "O en forma de suma\n",
    "\n",
    "$$num_{10}=\\sum_{i=0}^{n+m}d_{n-i}\\times\\beta^{n-i}$$"
   ]
  },
  {
   "cell_type": "markdown",
   "metadata": {
    "id": "n3jHyJ7_R9Wh"
   },
   "source": [
    "<a name='Ejemplo6'></a>\n",
    "### Ejemplo\n",
    "\n",
    "Convertir $1010.011_{2}$ a base 10\n",
    "\n",
    "$$1\\times2^{3}+0\\times2^{2}+1\\times2^{1}+0\\times2^{0}+0\\times2^{-1}+1\\times2^{-2}+1\\times2^{-3}=8+0+2+0+0+\\frac{1}{2^{2}}+\\frac{1}{2^{3}}=10+0.25+0.125=10.375_{10}$$"
   ]
  },
  {
   "cell_type": "code",
   "execution_count": 1,
   "metadata": {
    "colab": {
     "base_uri": "https://localhost:8080/"
    },
    "id": "GUzuKDMNTQO_",
    "outputId": "98d18f0c-012d-4d6d-ae1f-2d1f19fae695"
   },
   "outputs": [
    {
     "name": "stdout",
     "output_type": "stream",
     "text": [
      "26.35546875\n",
      "10.375\n"
     ]
    }
   ],
   "source": [
    "'''funcion que comvierte una cadena de simbolos\n",
    "numericos en sistema binario u octal y devuelve\n",
    "su equivalente en base 10\n",
    "cadena: cadena de simbolos\n",
    "base: base de la cadena\n",
    "'''\n",
    "def cambioBase(cadena, base):\n",
    "  # la cadena se convierte en lista para manejarla\n",
    "  lista = list(str(cadena))\n",
    "  # se necesita conocer la posicion del punto en la cadena\n",
    "  n = lista.index('.')-1\n",
    "  # se elimina el punto de la cadena\n",
    "  lista.remove('.')\n",
    "  suma = 0.0\n",
    "  #recorremos cada elemento de la cadena\n",
    "  for i in range(len(lista)):\n",
    "    # se aplica el algoritmo descrito en la parte superior\n",
    "    exp=n-i\n",
    "    suma += int(lista[i])*base**(exp)\n",
    "  return suma\n",
    "\n",
    "cadenaoctal = 32.266\n",
    "print(cambioBase(cadenaoctal, 8))\n",
    "\n",
    "cadenabinaria = 1010.011\n",
    "print(cambioBase(cadenabinaria, 2))"
   ]
  },
  {
   "cell_type": "markdown",
   "metadata": {
    "id": "Aguh9Pt4Rhjf"
   },
   "source": [
    "<a name='7'></a>\n",
    "## Cambio de base 10 a base $\\beta$\n",
    "\n",
    "La forma en la que se realiza este cambio de base, se muestra en forma de algoritmo mediante pseudocódigo:\n",
    "* Paso 1: Una vez dado el número decimal y la base a la que se quiere convertir ($\\beta$).\n",
    "* Paso 2: Se divide el número decimal entre la base $\\beta$.\n",
    "* Paso 3: Mientras el cociente sea diferente de cero, se vuelve a dividir el cociente anterior entre la base.\n",
    "* Paso 4: Agrupa los residuos de todas las divisiones realizadas en el paso 3.\n",
    "* Paso 5: Escribir los residuos en orden inverso de cómo se obtuvieron.\n",
    "* Fin del algoritmo."
   ]
  },
  {
   "cell_type": "markdown",
   "metadata": {
    "id": "ooTDCQieRoFB"
   },
   "source": [
    "<a name='Ejemplo7'></a>\n",
    "### Ejemplo\n",
    "\n",
    "$$\\begin{array}{ccccc}\n",
    "10 & 2\\\\\n",
    "{\\color{blue}0} & 5 & 2\\\\\n",
    " & {\\color{blue}1} & 2 & 2\\\\\n",
    " &  & {\\color{blue}0} & 1 & 2\\\\\n",
    " &  &  & {\\color{blue}1} & {0}\n",
    "\\end{array}$$\n",
    "\n",
    "**Resultado**\n",
    "$$10_{10}=\\color{blue}{1010}_{2}$$\n",
    "\n",
    "[Ir a Índice](#Contenido)"
   ]
  },
  {
   "cell_type": "code",
   "execution_count": 2,
   "metadata": {
    "colab": {
     "base_uri": "https://localhost:8080/"
    },
    "id": "csrbZljAuOsl",
    "outputId": "efb2c21e-9647-45c3-e1ff-3eb8076e807c"
   },
   "outputs": [
    {
     "name": "stdout",
     "output_type": "stream",
     "text": [
      "0b1010\n",
      "0o12\n",
      "0xa\n"
     ]
    }
   ],
   "source": [
    "# valor en decimal\n",
    "val = 10\n",
    "\n",
    "# equivalente en binario\n",
    "print(bin(val))\n",
    "\n",
    "# equivalente en octal\n",
    "print(oct(val))\n",
    "\n",
    "# equivalente en hexadecimal\n",
    "print(hex(val))"
   ]
  },
  {
   "cell_type": "markdown",
   "metadata": {
    "id": "dcrjC80HvLYi"
   },
   "source": [
    "<a name='8'></a>\n",
    "## Referencias\n",
    "\n",
    "1. Eliza Viso Gurovich, Canek Pelaez V.:Introducción a las ciencias de la computación, Facultad de Ciencias.\n",
    "\n",
    "2. Ward Cheney, David Kincaid: Métodos Numéricos y Computación, Cenage Learning"
   ]
  }
 ],
 "metadata": {
  "colab": {
   "include_colab_link": true,
   "name": "Sistemas_numericos.ipynb",
   "provenance": [],
   "toc_visible": true
  },
  "kernelspec": {
   "display_name": "Python 3 (ipykernel)",
   "language": "python",
   "name": "python3"
  },
  "language_info": {
   "codemirror_mode": {
    "name": "ipython",
    "version": 3
   },
   "file_extension": ".py",
   "mimetype": "text/x-python",
   "name": "python",
   "nbconvert_exporter": "python",
   "pygments_lexer": "ipython3",
   "version": "3.11.6"
  }
 },
 "nbformat": 4,
 "nbformat_minor": 4
}

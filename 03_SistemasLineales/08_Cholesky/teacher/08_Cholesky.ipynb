{
 "cells": [
  {
   "cell_type": "markdown",
   "metadata": {},
   "source": [
    "<font color=\"Teal\" face=\"Comic Sans MS,arial\">\n",
    "  <h1 align=\"center\"><i>Factorización Cholesky</i></h1>\n",
    "  </font>\n",
    "  <font color=\"Black\" face=\"Comic Sans MS,arial\">\n",
    "  <h5 align=\"center\"><i>Profesor: M.en.C. Miguel Angel Pérez León</i></h5>\n",
    "    <h5 align=\"center\"><i>Ayudante: Jesús Iván Coss Calderón</i></h5>\n",
    "    <h5 align=\"center\"><i>Materia: Análisis numérico</i></h5>\n",
    "  </font>"
   ]
  },
  {
   "cell_type": "markdown",
   "metadata": {},
   "source": [
    "**Objetivo general**\n",
    "\n",
    "* Aprender los fundamentos del algoritmo de factorización Cholesky.\n",
    "\n",
    "**Objetivos particulares**\n",
    "\n",
    "* Conocer el algoritmo Cholesky.\n",
    "* Realizar un ejemplo de factorización Cholesky."
   ]
  },
  {
   "cell_type": "markdown",
   "metadata": {},
   "source": [
    "<a name='c1'></a>\n",
    "\n",
    "## Contenido\n",
    "\n",
    "- [Introducción](#1)\n",
    "- [Teorema](#2)\n",
    "    - [Método de Cholesky](#2-1)\n",
    "    - [Ejemplo](#2-2)\n",
    "    - [Sistema $A\\vec{x}=LL^{T}\\vec{x}=\\vec{b}$](#2-3)\n",
    "    - [Aplicación](#2-4)\n",
    "- [Referencias](#3)"
   ]
  },
  {
   "cell_type": "markdown",
   "metadata": {},
   "source": [
    "<a name='1'></a>\n",
    "\n",
    "# Introducción\n",
    "\n",
    "[regresar al contenido](#c1) \n",
    "\n",
    "Así como se puede realizar la factorización de una matriz mediante $LU$ o $QR$, otra forma de factorizar una matriz $A\\in M_{n\\times n}$ sobre $\\mathbb{R}$ es mediante la factorización de Cholesky.\n",
    "\n",
    "Igual que en el caso de la factorización $QR$, un prerrequisito para poder emplear el método de Cholesky es que la matriz $A$ sea **simétrica y positiva definida**. Existen diferentes definiciones para que una matriz cumpla con ser positiva definida (todas ellas equivalentes).\n",
    "\n",
    "Una matriz $A\\in M_{n\\times n}$ sobre $\\mathbb{R}$\n",
    "1.   Es simétrica si: $A=A^{T}$\n",
    "2.   Es positiva definida si todos sus determinantes superiores izquierdos de $i\\times i\\quad i=1,\\ldots,n$ son positivos."
   ]
  },
  {
   "cell_type": "markdown",
   "metadata": {},
   "source": [
    "<a name='2'></a>\n",
    "\n",
    "# Teorema\n",
    "\n",
    "[regresar al contenido](#c1) \n",
    "\n",
    "El matemático **André-Louis Cholesky**, planteó el siguiente teorema:\n",
    "\n",
    "Sea $A\\in M_{n\\times n}$ sobre $\\mathbb{R}$ una matriz simétrica definida positiva puede ser descompuesta como el producto de una matriz triangular inferior $L$ y la traspuesta de la matriz triangular $L^{T}$ inferior, es decir.\n",
    "\n",
    "$$A=LL^{T}$$"
   ]
  },
  {
   "cell_type": "markdown",
   "metadata": {},
   "source": [
    "<a name='2-1'></a>\n",
    "\n",
    "## Método de Cholesky\n",
    "\n",
    "[regresar al contenido](#c1) \n",
    "\n",
    "El método de Cholesky para matrices $A\\in M_{n\\times n}$ sobre $\\mathbb{R}$ que cumplan con los requisitos, se puede reducir a 3 sencillos pasos:\n",
    "\n",
    "\n",
    "1.   A patir de la matriz $A$ calcular la matríz $L$.\n",
    "2.   Transponer la matríz $L$.\n",
    "3.   Comprobar que $LL^{T}=A$.\n",
    "\n",
    "Para calcular la matríz $L$ empleamos las siguientes fórmulas:\n",
    "\n",
    "La primer fórmula es empleada para calcular las entradas de $L$ debajo de la diagonal.\n",
    "\n",
    "$$l_{ki}=\\frac{a_{ki}-\\displaystyle\\sum_{j=0}^{i-1}l_{ij}l_{kj}}{l_{ii}}\\quad i<k\\quad i=0,\\ldots,n-1$$\n",
    "\n",
    "Y la segunda fórmula es empleada para calcular las entradas en la diagonal de $L$\n",
    "\n",
    "$$l_{kk}=\\sqrt{a_{kk}-\\displaystyle\\sum_{j=0}^{k-1}l_{kj}^{2}}\\quad j<k\\quad k=0,\\ldots,n-1$$\n",
    "\n",
    "Dado que $L$ por definición es una matríz triangular inferior, vale la pena recalcar que no es necesario calcular los elementos de $L$ que se encuentren por arriba de la diagonal, ya que todos estos elementos son **iguales a cero**."
   ]
  },
  {
   "cell_type": "markdown",
   "metadata": {},
   "source": [
    "<a name='2-2'></a>\n",
    "\n",
    "## Ejemplo\n",
    "\n",
    "[regresar al contenido](#c1) \n",
    "\n",
    "Sea $A=\\left(\\begin{array}{ccc}\n",
    "6 & 15 & 55\\\\\n",
    "15 & 55 & 225\\\\\n",
    "55 & 225 & 979\n",
    "\\end{array}\\right)$ encuentre su factorización $A=LL^{T}$\n",
    "\n",
    "$$l_{00}=\\sqrt{a_{00}}=\\sqrt{6}=2.4495$$\n",
    "\n",
    "$$l_{10}=\\frac{a_{10}}{l_{00}}=\\frac{15}{2.4495}=6.1237$$\n",
    "\n",
    "$$l_{20}=\\frac{a_{20}}{l_{00}}=\\frac{55}{2.4495}=22.454$$\n",
    "\n",
    "Ya tenemos la primer columna de $L$, para calcular la segunda columna volvemos a aplicar las igualdades anteriores.\n",
    "\n",
    "$$l_{11}=\\sqrt{a_{11}-l_{10}^{2}}=\\sqrt{55-6.1237^{2}}=4.1833$$\n",
    "\n",
    "$$l_{21}=\\frac{a_{21}-l_{10}l_{20}}{l_{11}}=\\frac{55-(6.1237)(22.454)}{4.1833}=20.916$$\n",
    "\n",
    "Finalmente, dado que $A\\in M_{3\\times 3}$, unicamente resta calcular la entrada $l_{22}$\n",
    "\n",
    "$$l_{22}=\\sqrt{a_{22}-(l_{20}^{2}+l_{21}^{2})}=\\sqrt{979-(22.454^{2}+20.916^{2})}=6.1106$$\n",
    "\n",
    "Por lo tanto.\n",
    "\n",
    "$$L=\\left(\\begin{array}{ccc}\n",
    "2.4495 & 0 & 0\\\\\n",
    "6.1237 & 4.1833 & 0\\\\\n",
    "22.454 & 20.916 & 6.1106\n",
    "\\end{array}\\right)\\quad y\\quad L^{T}=\\left(\\begin{array}{ccc}\n",
    "2.4495 & 6.1237 & 22.454\\\\\n",
    "0 & 4.1833 & 20.916\\\\\n",
    "0 & 0 & 6.1106\n",
    "\\end{array}\\right)$$\n",
    "\n",
    "Y dado el teorema anterior, podemos asegurar que.\n",
    "\n",
    "$$LL^{T}=A$$"
   ]
  },
  {
   "cell_type": "code",
   "execution_count": 2,
   "metadata": {},
   "outputs": [
    {
     "name": "stdout",
     "output_type": "stream",
     "text": [
      "[[ 2.44948974  0.          0.        ]\n",
      " [ 6.12372436  4.18330013  0.        ]\n",
      " [22.45365598 20.91650066  6.11010093]]\n",
      "[[ 2.44948974  6.12372436 22.45365598]\n",
      " [ 0.          4.18330013 20.91650066]\n",
      " [ 0.          0.          6.11010093]]\n",
      "[[  6.  15.  55.]\n",
      " [ 15.  55. 225.]\n",
      " [ 55. 225. 979.]]\n"
     ]
    }
   ],
   "source": [
    "import numpy as np\n",
    "\n",
    "# Se define la matriz A\n",
    "A = np.array([[6,15,55],[15,55,225],[55,225,979]])\n",
    "\n",
    "# Obtenemos la factorizacion de Cholesky\n",
    "L = np.linalg.cholesky(A)\n",
    "# Dado que se usara Lt varias veces, es mejor guardarla en memoria\n",
    "Lt = L.T\n",
    "\n",
    "# Se imprimen ambas matrices\n",
    "print(L)\n",
    "print(Lt)\n",
    "\n",
    "# Comprobacion\n",
    "print(np.matmul(L,Lt))"
   ]
  },
  {
   "cell_type": "markdown",
   "metadata": {},
   "source": [
    "<a name='2-3'></a>\n",
    "\n",
    "## Sistema $A\\vec{x}=LL^{T}\\vec{x}=\\vec{b}$\n",
    "\n",
    "[regresar al contenido](#c1) \n",
    "\n",
    "Ya que se tienen ambas matrices $\\left(LL^{T}\\right)$ podemos substituirlas en el sistema original, de tal manera que ahora el sistema luce así.\n",
    "\n",
    "$$A\\vec{x}=LL^{T}\\vec{x}=\\vec{b}$$\n",
    "\n",
    "Posteriormente podemos replantear la solución del sistema de la siguiente forma.\n",
    "\n",
    "$$LL^{T}\\vec{x}=\\vec{b}\\Longrightarrow L^{-1}LL^{T}\\vec{x}=L^{-1}\\vec{b}\\Longrightarrow L^{T}\\vec{x}=L^{-1}\\vec{b}\\tag{1}$$\n",
    "\n",
    "De manera tal que ahora nos interesa primero encontrar una solución al sistema $L^{-1}\\vec{b}=\\vec{y}$, mismo que podemos reescribir así.\n",
    "\n",
    "$$L^{-1}\\vec{b}=\\vec{y}\\Longrightarrow LL^{-1}\\vec{b}=L\\vec{y}\\Longrightarrow\\vec{b}=L\\vec{y}\\Longrightarrow L\\vec{y}=\\vec{b}\\tag{2}$$\n",
    "\n",
    "La ecuación (2) tiene la ventaja de ser un sistema triangular inferior, es por eso que la solución $\\vec{y}$ puede ser calculada fácilmente empleando **substitución hacia adelante**. Y una vez calculada, podemos proceder a resolver el segundo sistema empleando **substitución hacia atras**.\n",
    "\n",
    "$$L^{T}\\vec{x}=\\vec{y}\\tag{3}$$"
   ]
  },
  {
   "cell_type": "code",
   "execution_count": 3,
   "metadata": {},
   "outputs": [
    {
     "name": "stdout",
     "output_type": "stream",
     "text": [
      "Cloning into 'Numerico2021'...\n",
      "remote: Enumerating objects: 3621, done.\u001b[K\n",
      "remote: Counting objects: 100% (144/144), done.\u001b[K\n",
      "remote: Compressing objects: 100% (93/93), done.\u001b[K\n",
      "remote: Total 3621 (delta 67), reused 112 (delta 48), pack-reused 3477\u001b[K\n",
      "Receiving objects: 100% (3621/3621), 44.84 MiB | 3.30 MiB/s, done.\n",
      "Resolving deltas: 100% (2207/2207), done.\n",
      "[[ 2.44948974  0.          0.        ]\n",
      " [ 6.12372436  4.18330013  0.        ]\n",
      " [22.45365598 20.91650066  6.11010093]]\n",
      "[[ 2.44948974  6.12372436 22.45365598]\n",
      " [ 0.          4.18330013 20.91650066]\n",
      " [ 0.          0.          6.11010093]]\n",
      "[[  6.  15.  55.]\n",
      " [ 15.  55. 225.]\n",
      " [ 55. 225. 979.]]\n",
      "[31.02687008 25.0998008   6.11010093]\n",
      "[1. 1. 1.]\n",
      "[1. 1. 1.]\n"
     ]
    }
   ],
   "source": [
    "# se clona el proyecto y se agrega a la sesion\n",
    "!git clone https://github.com/jugernaut/Numerico2021.git\n",
    "# importamos la biblioteca correspondiente gutils\n",
    "import Numerico2021.Utils.gutils as vis\n",
    "\n",
    "# se define la matriz A\n",
    "A = np.array([[6.0,15.0,55.0],[15.0,55.0,225.0],[55.0,225.0,979.0]])\n",
    "\n",
    "# se define la matriz A\n",
    "b = np.array([76.0, 295.0, 1259.0])\n",
    "\n",
    "# funcion de numpy encargada de la factorizacion QR\n",
    "L = np.linalg.cholesky(A)\n",
    "\n",
    "# Dado que se usara Lt varias veces, es mejor guardarla en memoria\n",
    "Lt = L.T\n",
    "\n",
    "# mostrar ambas matrices\n",
    "print(L)\n",
    "print(Lt)\n",
    "\n",
    "# se comprueba el resultado\n",
    "print(np.matmul(L,Lt))\n",
    "\n",
    "# nuevo vector b'\n",
    "y = vis.sustDelante(L,b)\n",
    "\n",
    "print(y)\n",
    "\n",
    "# usando sustitucion hacia atras\n",
    "x = vis.sustAtras(Lt,y)\n",
    "\n",
    "# mostrar solucion usando sustAtras\n",
    "print(x)\n",
    "\n",
    "# comprobacion con numpy\n",
    "x = np.linalg.solve(A,b)\n",
    "print(x)"
   ]
  },
  {
   "cell_type": "markdown",
   "metadata": {},
   "source": [
    "<a name='2-4'></a>\n",
    "\n",
    "## Aplicación\n",
    "\n",
    "[regresar al contenido](#c1) \n",
    "\n",
    "El tipo de matrices candidatas para la factorización de Cholesky $LL^{T}$ o incluso factorización $QR$ (método de Gram-Schmidt) se dan al momento de encontrar las **ecuaciones normales dentro del problema de minimos cuadrados**.\n",
    "\n",
    "Ya que se entendido el por que es útil entender el proceso de mínimos cuadrados y como es que las factorizaciones ayudan a resolverlo, ahora lo que resta es automatizar todo el proceso que lleva a resolver el problema general, es decir.\n",
    "\n",
    "• Se tiene una lista de puntos de la forma $\\left(x,y\\right)$, donde cada punto representa datos reales de algún fenómeno (estadística, genética, geofísica, física biomédica, etc).\n",
    "\n",
    "• A continuación se encuentran las **ecuaciones normales del sistema** empleando la igualdad $A^{T}A\\vec{x}=A^{T}\\vec{b}=b'$.\n",
    "\n",
    "• Aplicamos alguna factorización, por ejemplo Cholesky ó empleando el proceso de Gram-Schmidt para encontrar una base ortonormal para el subespacio generado por los vectores columna de $A'$, es decir, $A^{T}A=A\\text{'}=L^{T}L$ ó $A\\text{'}=QR$.\n",
    "\n",
    "• Aplicando las propiedades de $L^{T}\\;y\\;L$ ó $Q\\:y\\:R$ se resuelve el nuevo sistema (mediante substitución hacia adelante o hacia atrás), $QR\\vec{x}=b'\\Longrightarrow R\\vec{x}=Q^{T}b'$ ó se aplica el procedimiento mostrado en (1), (2) y (3).\n",
    "\n",
    "• Una vez encontrados los coeficientes $\\alpha\\;y\\;\\beta$ de la recta que minimizan los errores cuadráticos, ahora es posible graficar dicha recta e incluso interpolar."
   ]
  },
  {
   "cell_type": "markdown",
   "metadata": {},
   "source": [
    "<a name='3'></a>\n",
    "\n",
    "# Referencias\n",
    "\n",
    "[regresar al contenido](#c1) \n",
    "\n",
    "*   Riswan Butt, Numerical Analysys Using Matlab, Jones and Bartlett.\n",
    "*   Ward Cheney, David Kincaid, Métodos Numéricos y Computación, Cenage Learning.\n",
    "*   Justin Solomon, Numerical Algorithms.\n",
    "*   Jaan Kiusalaas, Numerical Methods in Engineering with Python.\n",
    "*   Richard L. Burden, J. Douglas Faires, Análisis Numérico, Math Learning.\n",
    "*   Yuri N. Skiba: Introducción a los Métodos Numéricos. "
   ]
  }
 ],
 "metadata": {
  "kernelspec": {
   "display_name": "Python 3 (ipykernel)",
   "language": "python",
   "name": "python3"
  },
  "language_info": {
   "codemirror_mode": {
    "name": "ipython",
    "version": 3
   },
   "file_extension": ".py",
   "mimetype": "text/x-python",
   "name": "python",
   "nbconvert_exporter": "python",
   "pygments_lexer": "ipython3",
   "version": "3.8.10"
  }
 },
 "nbformat": 4,
 "nbformat_minor": 4
}

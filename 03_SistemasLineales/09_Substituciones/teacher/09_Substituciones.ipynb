{
 "cells": [
  {
   "cell_type": "markdown",
   "metadata": {},
   "source": [
    "<font color=\"Teal\" face=\"Comic Sans MS,arial\">\n",
    "  <h1 align=\"center\"><i>Substituciones</i></h1>\n",
    "  </font>\n",
    "  <font color=\"Black\" face=\"Comic Sans MS,arial\">\n",
    "  <h5 align=\"center\"><i>Profesor: M.en.C. Miguel Angel Pérez León</i></h5>\n",
    "    <h5 align=\"center\"><i>Ayudante: Jesús Iván Coss Calderón</i></h5>\n",
    "    <h5 align=\"center\"><i>Materia: Análisis numérico</i></h5>\n",
    "  </font>"
   ]
  },
  {
   "cell_type": "markdown",
   "metadata": {},
   "source": [
    "**Objetivo general**\n",
    "\n",
    "* Aprender los fundamentos de los algoritmos de sustitución.\n",
    "\n",
    "**Objetivos particulares**\n",
    "\n",
    "* Conocer el algoritmo de sustitución hacia delante.\n",
    "* Conocer el algoritmo de sustitución hacia atrás."
   ]
  },
  {
   "cell_type": "markdown",
   "metadata": {},
   "source": [
    "<a name='c1'></a>\n",
    "\n",
    "## Contenido\n",
    "\n",
    "- [Introducción](#1)\n",
    "- [Substituciones (hacia adelante, hacia atrás)](#2)\n",
    "    - [Substitución hacia adelante](#2-1)\n",
    "    - [Ejemplo](#2-2)\n",
    "    - [Substitución hacia atrás](#2-3)\n",
    "    - [Ejemplo](#2-4)\n",
    "    - [Ejemplo con un sistema de ecuaciones](#2-5)\n",
    "- [Resumen](#3)\n",
    "- [Referencias](#4)"
   ]
  },
  {
   "cell_type": "markdown",
   "metadata": {},
   "source": [
    "<a name='1'></a>\n",
    "\n",
    "# Introducción\n",
    "\n",
    "[regresar al contenido](#c1) \n",
    "\n",
    "Gran parte de las factorizaciones empleadas para evitar el cálculo de la matriz inversa (si no es que todas) hacen uso de la substitución hacia adelante y substitución hacia atrás.\n",
    "\n",
    "Es por eso que realizar un análisis detallado del mismo es muy buena idea, antes de continuar."
   ]
  },
  {
   "cell_type": "markdown",
   "metadata": {},
   "source": [
    "<a name='2'></a>\n",
    "\n",
    "# Substituciones (hacia adelante, hacia atrás)\n",
    "\n",
    "[regresar al contenido](#c1) \n",
    "\n",
    "\n",
    "Una vez que ya se tiene una matriz triangular (superior o inferior) es muy sencillo resolver un sistema de ecuaciones empleando alguna de estas substituciones.\n",
    "\n",
    "La idea general es que dado un sistema del tipo $A\\vec{x}=\\vec{b}$, la matriz $A\\in M_{n\\times n}$ puede ser factorizada empleando alguno de los métodos previamente mencionados *(LU, QR, Cholesky)* y una vez que se tenga alguna de estas factorizaciones es posible emplear algun tipo de subtitución para resolver el sistema original."
   ]
  },
  {
   "cell_type": "markdown",
   "metadata": {},
   "source": [
    "<a name='2-1'></a>\n",
    "\n",
    "# Substitución hacia adelante\n",
    "\n",
    "[regresar al contenido](#c1) \n",
    "\n",
    "Supongamos que se tiene una matríz triangular inferior $L\\in M_{n\\times n}$ sobre $\\mathbb{R}$ y los correspondientes vectores, $\\vec{y},\\vec{b}\\in\\mathbb{R}^{n}$ podemos pensar en resolver el sistema:\n",
    "\n",
    "$$L\\vec{y}=\\vec{b}$$\n",
    "\n",
    "Para resolver dicho sistema empleamos el siguiente algoritmo de substitución:\n",
    "\n",
    "$$y_{i}=\\frac{b_{i}-\\displaystyle\\sum_{j=0}^{i-1}l_{ij}y_{j}}{l_{ii}}\\quad i=0,\\ldots,(n-1)$$"
   ]
  },
  {
   "cell_type": "markdown",
   "metadata": {},
   "source": [
    "<a name='2-2'></a>\n",
    "\n",
    "# Ejemplo\n",
    "\n",
    "[regresar al contenido](#c1) \n",
    "\n",
    "$$\\left(\\begin{array}{ccc}\n",
    "1 & 0 & 0\\\\\n",
    "-2 & 1 & 0\\\\\n",
    "-1 & 3 & 1\n",
    "\\end{array}\\right)\\left(\\begin{array}{c}\n",
    "y_{0}\\\\\n",
    "y_{1}\\\\\n",
    "y_{2}\n",
    "\\end{array}\\right)=\\left(\\begin{array}{c}\n",
    "5\\\\\n",
    "6\\\\\n",
    "1\n",
    "\\end{array}\\right)$$\n",
    "\n",
    "Encontrar la primera entada del vector $\\vec{y}$ es trivial\n",
    "\n",
    "$$y_{0}=5$$\n",
    "\n",
    "La siguiente entrada involucra a $y_{0}$, es decir:\n",
    "\n",
    "$$y_{1}=\\frac{6-\\left(\\left(-2\\right)\\left(y_{0}\\right)\\right)}{l_{11}}=\\frac{6-\\left(\\left(-2\\right)\\left(5\\right)\\right)}{1}=16$$\n",
    "\n",
    "Finalmente, la última entrada de $\\vec{y}$ se calcula empleando $y_{1}$ y $y_{0}$:\n",
    "\n",
    "$$y_{2}=\\frac{1-\\left(\\left(-1\\right)\\left(y_{0}\\right)+\\left(3\\right)\\left(y_{1}\\right)\\right)}{l_{22}}=\\frac{1-\\left(\\left(-1\\right)\\left(5\\right)+\\left(3\\right)\\left(16\\right)\\right)}{1}=-42$$\n",
    "\n",
    "Empleando **substitución hacia adelante** se tiene que:\n",
    "\n",
    "$$\\vec{y}=\\left(\\begin{array}{c}\n",
    "5\\\\\n",
    "16\\\\\n",
    "-42\n",
    "\\end{array}\\right)$$"
   ]
  },
  {
   "cell_type": "markdown",
   "metadata": {},
   "source": [
    "<a name='2-3'></a>\n",
    "\n",
    "# Substitución hacia atrás \n",
    "\n",
    "[regresar al contenido](#c1) \n",
    "\n",
    "Supongamos que se tiene una matríz triangular superior $U \\in M_{n\\times n}$ sobre $\\mathbb{R}$ y los correspondientes vectores, $\\vec{x},\\vec{y}\\in\\mathbb{R}^{n}$ podemos pensar en resolver el sistema. \n",
    "\n",
    "$$U\\vec{x}=\\vec{y}$$\n",
    "\n",
    "Para resolver dicho sistema empleamos el siguiente algoritmo de substitución.\n",
    "\n",
    "$$x_{i}=\\frac{y_{i}-\\displaystyle\\sum_{j=i+1}^{n-1}u_{ij}x_{j}}{u_{ii}}\\quad i=(n-1),\\ldots,0$$"
   ]
  },
  {
   "cell_type": "markdown",
   "metadata": {},
   "source": [
    "<a name='2-4'></a>\n",
    "\n",
    "# Ejemplo\n",
    "\n",
    "[regresar al contenido](#c1) \n",
    "\n",
    "$$\n",
    "\\left(\\begin{array}{ccc}\n",
    "-4 & -3 & 1\\\\\n",
    "0 & 5 & 1\\\\\n",
    "0 & 0 & 3\n",
    "\\end{array}\\right)\\left(\\begin{array}{c}\n",
    "x_{0}\\\\\n",
    "x_{1}\\\\\n",
    "x_{2}\n",
    "\\end{array}\\right)=\\left(\\begin{array}{c}\n",
    "5\\\\\n",
    "16\\\\\n",
    "-42\n",
    "\\end{array}\\right)\n",
    "$$\n",
    "\n",
    "Encontrar la última entada del vector $\\vec{x}$ es trivial\n",
    "\n",
    "$$x_{2}=\\frac{-42}{u_{22}}=\\frac{-42}{3}=-14$$\n",
    "\n",
    "La siguiente entrada involucra a $x_{2}$, es decir:\n",
    "\n",
    "$$x_{1}=\\frac{16-\\left(\\left(1\\right)\\left(x_{2}\\right)\\right)}{u_{11}}=\\frac{16-\\left(\\left(1\\right)\\left(-14\\right)\\right)}{5}=6$$\n",
    "\n",
    "Finalmente la primer entrada de $x$ se calcula empleando $x_{2}$ y $x_{1}$:\n",
    "\n",
    "$$x_{0}=\\frac{5-\\left(\\left(1\\right)\\left(x_{2}\\right)+\\left(-3\\right)\\left(x_{1}\\right)\\right)}{u_{00}}=\\frac{5-\\left(\\left(1\\right)\\left(-14\\right)+\\left(-3\\right)\\left(6\\right)\\right)}{-4}=-9.25$$\n",
    "\n",
    "Por último, mediante **substitución hacia atras** se tiene que:\n",
    "\n",
    "$$\\vec{x}=\\left(\\begin{array}{c}\n",
    "-9.25\\\\\n",
    "6\\\\\n",
    "-14\n",
    "\\end{array}\\right)$$\n",
    "\n",
    "En python ambos algoritmos lucen así:"
   ]
  },
  {
   "cell_type": "code",
   "execution_count": 4,
   "metadata": {},
   "outputs": [],
   "source": [
    "import numpy as np\n",
    "\n",
    "# algoritmo para sustitucion hacia delante\n",
    "# n es el tamano de la dimension del problema\n",
    "# matriz L, vector b ya estan dados como parametros\n",
    "# guardar los resultados en el vector y\n",
    "# Ly=b\n",
    "def sustDelante(L, b):\n",
    "    n=len(L)\n",
    "    y=np.empty_like(b)\n",
    "    y[0] = b[0]\n",
    "    for i in range(1,n):\n",
    "        y[i] = b[i]\n",
    "        for j in range(0,i):\n",
    "            y[i] -= L[i][j]*y[j]\n",
    "    return y\n",
    "\n",
    "# algoritmo para sustitucion hacia atras\n",
    "# n es el tamano de la dimension del problema\n",
    "# matriz U, vector y ya estan dados como parametros\n",
    "# guardar los resultados en el vector x\n",
    "# Ux=y\n",
    "def sustAtras(U, y):\n",
    "    n=len(U)\n",
    "    x=np.empty_like(y)\n",
    "    x[n-1] = y[n-1]/U[n-1][n-1]\n",
    "    for i in range(n-2,-1,-1):\n",
    "        x[i] = y[i]\n",
    "        for j in range(i+1,n):\n",
    "            x[i] -= U[i][j]*x[j]\n",
    "        x[i] /= U[i][i]\n",
    "    return x\n"
   ]
  },
  {
   "cell_type": "markdown",
   "metadata": {},
   "source": [
    "<a name='2-5'></a>\n",
    "\n",
    "# Ejemplo con un sistema de ecuaciones\n",
    "\n",
    "Supongamos que tenemos el sistema $A\\vec{x}=\\vec{b}$.\n",
    "\n",
    "[regresar al contenido](#c1) \n",
    "\n",
    "\n",
    "$$\\left(\\begin{array}{ccc}\n",
    "-4 & -3 & 1\\\\\n",
    "8 & 11 & -1\\\\\n",
    "4 & 18 & 5\n",
    "\\end{array}\\right)\\left(\\begin{array}{c}\n",
    "x_{0}\\\\\n",
    "x_{1}\\\\\n",
    "x_{2}\n",
    "\\end{array}\\right)=\\left(\\begin{array}{c}\n",
    "5\\\\\n",
    "6\\\\\n",
    "1\n",
    "\\end{array}\\right)$$\n",
    "\n",
    "Y su respectiva factorización $A=LU$.\n",
    "\n",
    "$$U=\\left(\\begin{array}{ccc}\n",
    "-4 & -3 & 1\\\\\n",
    "0 & 5 & 1\\\\\n",
    "0 & 0 & 3\n",
    "\\end{array}\\right)\\quad L=\\left(\\begin{array}{ccc}\n",
    "1 & 0 & 0\\\\\n",
    "-2 & 1 & 0\\\\\n",
    "-1 &{3} & 1\n",
    "\\end{array}\\right)$$"
   ]
  },
  {
   "cell_type": "code",
   "execution_count": 5,
   "metadata": {},
   "outputs": [
    {
     "name": "stdout",
     "output_type": "stream",
     "text": [
      "[[-4 -3  1]\n",
      " [ 8 11 -1]\n",
      " [ 4 18  5]]\n"
     ]
    }
   ],
   "source": [
    "U = np.array([[-4,-3,1],[0,5,1],[0,0,3]])\n",
    "L = np.array([[1,0,0],[-2,1,0],[-1,3,1]])\n",
    "\n",
    "# Comprobamos que la factorizacion es correcta\n",
    "print(np.matmul(L,U))"
   ]
  },
  {
   "cell_type": "markdown",
   "metadata": {},
   "source": [
    "Primero encontramos la solución del sistema $L\\vec{y}=\\vec{b}$ empleando sistitución hacia adelante."
   ]
  },
  {
   "cell_type": "code",
   "execution_count": 6,
   "metadata": {},
   "outputs": [
    {
     "name": "stdout",
     "output_type": "stream",
     "text": [
      "[  5.  16. -42.]\n"
     ]
    }
   ],
   "source": [
    "# Se definene los vectores\n",
    "b = np.array([5.0,6.0,1.0])\n",
    "# Usamos el algoritmo para encontrar la solucion\n",
    "y = sustDelante(L, b)\n",
    "\n",
    "# Se imprime el resultado\n",
    "print(y)"
   ]
  },
  {
   "cell_type": "markdown",
   "metadata": {},
   "source": [
    "Ya que se conoce el valor del vector $\\vec{y}$ ahora podemos resolver el sistema $U\\vec{x}=\\vec{y}$"
   ]
  },
  {
   "cell_type": "code",
   "execution_count": 7,
   "metadata": {},
   "outputs": [
    {
     "name": "stdout",
     "output_type": "stream",
     "text": [
      "[ -9.25   6.   -14.  ]\n"
     ]
    }
   ],
   "source": [
    "# Usamos el algoritmo para encontrar la solucion\n",
    "x = sustAtras(U, y)\n",
    "\n",
    "# Se imprime el resultado\n",
    "print(x)"
   ]
  },
  {
   "cell_type": "markdown",
   "metadata": {},
   "source": [
    "Por lo tanto la solución al sistema original $A\\vec{x}=\\vec{b}$, es.\n",
    "\n",
    "$$\\vec{x}=\\left(\\begin{array}{c}\n",
    "-9.25\\\\\n",
    "6\\\\\n",
    "-14\n",
    "\\end{array}\\right)$$"
   ]
  },
  {
   "cell_type": "markdown",
   "metadata": {},
   "source": [
    "<a name='3'></a>\n",
    "\n",
    "# Resumen\n",
    "\n",
    "[regresar al contenido](#c1) \n",
    "\n",
    "\n",
    "\n",
    "Ya que se tienen una factorización, digamos $\\left(LU\\right)$ ambas matrices  podemos substituirlas en el sistema original, de tal manera que ahora el sistema luce así.\n",
    "\n",
    "$$A\\vec{x}=LU\\vec{x}=\\vec{b}$$\n",
    "\n",
    "Posteriormente podemos replantear la solución del sistema de la siguiente forma.\n",
    "\n",
    "$$LU\\vec{x}=\\vec{b}\\Longrightarrow L^{-1}LU\\vec{x}=L^{-1}\\vec{b}\\Longrightarrow U\\vec{x}=L^{-1}\\vec{b}\\tag{1}$$\n",
    "\n",
    "De manera tal, que ahora nos interesa primero encontrar una solución al sistema $L^{-1}\\vec{b}=\\vec{y}$, mismo que podemos reescribir.\n",
    "\n",
    "$$L^{-1}\\vec{b}=\\vec{y}\\Longrightarrow LL^{-1}\\vec{b}=L\\vec{y}\\Longrightarrow\\vec{b}=L\\vec{y}\\Longrightarrow L\\vec{y}=\\vec{b}\\tag{2}$$\n",
    "\n",
    "La ecuación (2) tiene la ventaja de ser un sistema triangular inferior, es por eso que la solución $\\vec{y}$ puede ser calculada fácilmente empleando **substitución hacia adelante**. Y una vez calculada, podemos proceder a resolver el segundo sistema empleando **substitución hacia atrás**.\n",
    "\n",
    "$$U\\vec{x}=\\vec{y}\\tag{3}$$\n",
    "\n",
    "Los algoritmos de substitución hacia atrás y hacia adelante son de los algoritmos más elementales para resolver un sistema de ecuaciones, sin embargo vale la pena notar algunas cosas.\n",
    "\n",
    "*   ¿Por que es buena idea emplear estos algoritmos en lugar de buscar la inversa de la matriz $A$?.\n",
    "*   En términos de elementales (+, -, *, /), ¿cuántas operaciones se realizan al emplear el algoritmo de sustitución hacia adelante?.\n",
    "*   En términos de operaciones (+, -, *, /), ¿cuántas operaciones se realizan al emplear el algoritmo de sustitución hacia atras?.\n",
    "*   En total, ¿cuántas operaciones se realizan cuando se resuelve un sistema $LU\\vec{x}=\\vec{b}$ empleando sustitución hacia adelante y despues hacia atrás?.\n"
   ]
  },
  {
   "cell_type": "markdown",
   "metadata": {},
   "source": [
    "<a name='4'></a>\n",
    "\n",
    "# Referencias\n",
    "\n",
    "[regresar al contenido](#c1) \n",
    "\n",
    "* Justin Solomon: Numerical Algorithms.\n",
    "\n",
    "* Jaan Kiusalaas: Numerical Methods in Engineering with Python.\n",
    "\n",
    "* Richard L. Burden, J. Douglas Faires: Análisis Numérico, Math Learning.\n",
    "\n",
    "* Riswan Butt: Numerical Analysys Using Matlab, Jones and Bartlett.\n",
    "\n",
    "* Ward Cheney, David Kincaid: Métodos Numéricos y Computación, Cenage Learning."
   ]
  }
 ],
 "metadata": {
  "kernelspec": {
   "display_name": "Python 3 (ipykernel)",
   "language": "python",
   "name": "python3"
  },
  "language_info": {
   "codemirror_mode": {
    "name": "ipython",
    "version": 3
   },
   "file_extension": ".py",
   "mimetype": "text/x-python",
   "name": "python",
   "nbconvert_exporter": "python",
   "pygments_lexer": "ipython3",
   "version": "3.8.10"
  }
 },
 "nbformat": 4,
 "nbformat_minor": 4
}

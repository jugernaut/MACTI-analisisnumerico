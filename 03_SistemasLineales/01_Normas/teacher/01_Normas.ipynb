{
  "cells": [
    {
      "cell_type": "markdown",
      "metadata": {
        "id": "view-in-github",
        "colab_type": "text"
      },
      "source": [
        "<a href=\"https://colab.research.google.com/github/jugernaut/MACTI-analisisnumerico/blob/josue/03_SistemasLineales/01_Normas/teacher/01_Normas.ipynb\" target=\"_parent\"><img src=\"https://colab.research.google.com/assets/colab-badge.svg\" alt=\"Open In Colab\"/></a>"
      ]
    },
    {
      "cell_type": "markdown",
      "metadata": {
        "id": "dkUEmDsbc5kL"
      },
      "source": [
        "<font color=\"Teal\" face=\"Comic Sans MS,arial\">\n",
        "  <h1 align=\"center\"><i>Normas</i></h1>\n",
        "  </font>\n",
        "  <font color=\"Black\" face=\"Comic Sans MS,arial\">\n",
        "  <h5 align=\"center\"><i>Profesor: M.en.C. Miguel Angel Pérez León.</i></h5>\n",
        "    <h5 align=\"center\"><i>Ayudante: Diana Laura Rojas Cristino</i></h5>\n",
        "  <h5 align=\"center\"><i>Materia: Análisis Numérico.</i></h5>\n",
        "  </font>"
      ]
    },
    {
      "cell_type": "markdown",
      "metadata": {
        "id": "x1nscQGtc5kV"
      },
      "source": [
        "**Objetivo general**\n",
        "\n",
        "* Aprender los fundamentos matemáticos de las normas.\n",
        "\n",
        "**Objetivos particulares**\n",
        "\n",
        "* Conocer propiedades de las normas.\n",
        "* Conocer algunas desigualdades importantes."
      ]
    },
    {
      "cell_type": "markdown",
      "metadata": {
        "id": "xZZsUzqQc5kW"
      },
      "source": [
        "<a name='c1'></a>\n",
        "\n",
        "## Contenido\n",
        "\n",
        "- [Introducción](#1)\n",
        "- [Norma Vectorial](#2)\n",
        "    - [Normas de Hölder](#2-1)\n",
        "    - [La 1-norma es norma vectorial](#2-2)\n",
        "- [Ejemplo](#3)\n",
        "- [Definición de Distancia](#4)\n",
        "    - [Bola (Esfera) Unitaria](#4-1)\n",
        "    - [Propiedades de las normas](#4-2)\n",
        "    - [Desigualdad de Cauchy-Schwarz](#4-3)\n",
        "    - [Desigualdad de Hölder](#4-4)\n",
        "    - [Desigualdad del triángulo (versión norma)](#4-5)\n",
        "    - [Corolario](#4-6)\n",
        "    - [Equivalencia entre normas](#4-7)\n",
        "    - [Lema 1)](#4-8)\n",
        "    - [La $\\left\\Vert \\vec{x}\\right\\Vert _{1}$ y $\\left\\Vert \\vec{x}\\right\\Vert _{2}$ son equivalentes ](#4-9)\n",
        "- [Referencias](#5)"
      ]
    },
    {
      "cell_type": "markdown",
      "metadata": {
        "id": "E9e9GGCcc5kY"
      },
      "source": [
        "<a name='1'></a>\n",
        "\n",
        "# Introducción\n",
        "\n",
        "[regresar al contenido](#c1)\n",
        "\n",
        "En todo espacio vectorial es de suma importancia definir una metrica, es decir, una forma de conocer la distancia entre los diferentes elementos dentro de este espacio vectorial o la distancia de cada uno de estos al origen.\n",
        "\n",
        "El concepto de distancia es de gran importancia para el estudio de los espacios vectoriales, tales como el espacio de los vectores o las matrices.\n",
        "\n",
        "Por ejemplo, la distancia entre un vector $\\vec{x}$ y un vector $\\vec{y}$ puede ser de gran importancia, ya que estos vectores pueden representar la solución para un determinado problema. O la distancia entre la matriz $A$ y la matriz $B$ tambien puede ser de gran importancia ya que esa distancia nos puede ayudar a determinar cual de esas dos matrices es una mejor solución para algún algoritmo.\n",
        "\n",
        "Es por este motivo que definir una forma de poder medir estas distancias en cualquier espacio vectorial es de suma importancia. A este concepto se le conoce como **norma**."
      ]
    },
    {
      "cell_type": "markdown",
      "metadata": {
        "id": "lSkTcwb2c5kZ"
      },
      "source": [
        "<a name='2'></a>\n",
        "\n",
        "# Norma Vectorial\n",
        "\n",
        "[regresar al contenido](#c1)\n",
        "\n",
        "Muy a menudo se necesita la magnitud de un vector o matriz, para poder cuantificar los errores en algún algoritmo, o simplemente para establecer una distancia (métrica).\n",
        "\n",
        "\n",
        "**Norma**: Sea $V$ un espacio vectorial sobre $k$. Una función $\\left\\Vert \\cdot\\right\\Vert $\n",
        "de vectores, se denomina norma vectorial a $\\left\\Vert \\cdot\\right\\Vert $\n",
        "si, para cualquier vector  $\\vec{x},\\vec{y},$ se satisfacen las\n",
        "siguientes propiedades.\\\n",
        "1.- $\\left\\Vert \\vec{x}\\right\\Vert \\geq0$\\\n",
        "2.- $\\left\\Vert \\vec{x}\\right\\Vert =0\\,\\Longleftrightarrow\\vec{x}=\\vec{0}$\\\n",
        "3.- $\\left\\Vert \\alpha\\vec{x}\\right\\Vert =\\left|\\alpha\\right|\\left\\Vert \\vec{x}\\right\\Vert$\\\n",
        "4.- $\\left\\Vert \\vec{x}+\\vec{y}\\right\\Vert \\leq\\left\\Vert \\vec{x}\\right\\Vert +\\left\\Vert \\vec{y}\\right\\Vert$\n",
        "\n",
        "¿Conoces alguna función $\\left\\Vert \\cdot\\right\\Vert$ que cumpla con las propiedades anteriores?."
      ]
    },
    {
      "cell_type": "markdown",
      "metadata": {
        "id": "EaiM4MYAc5ka"
      },
      "source": [
        "<a name='2-1'></a>\n",
        "\n",
        "## Normas de Hölder\n",
        "\n",
        "[regresar al contenido](#c1)\n",
        "\n",
        "Sea $p\\geq1.$ Las normas de *Hölder*, o *p-normas* están definidas por\n",
        "\n",
        "$$\\left\\Vert \\vec{x}\\right\\Vert _{p}:=\\left[\\sum_{i=1}^{n}\\left|x_{i}\\right|^{p}\\right]^{1/p}\\quad para\\,1\\leq p<\\infty$$\n",
        "\n",
        "De ellas, las mas importantes son:\n",
        "\n",
        "La $1-norma$\n",
        "\n",
        "$$\\left\\Vert \\vec{x}\\right\\Vert _{1}:=\\sum_{i=1}^{n}\\left|x_{i}\\right|$$\n",
        "\n",
        "La $2-norma$ (norma euclidiana)\n",
        "\n",
        "$$\\left\\Vert \\vec{x}\\right\\Vert _{2}:=\\left[\\sum_{i=1}^{n}\\left|x_{i}\\right|^{2}\\right]^{1/2}$$\n",
        "\n",
        "y la $\\infty-norma$ (norma del supremo)\n",
        "\n",
        "$$\\left\\Vert \\vec{x}\\right\\Vert _{\\infty}:= max_{1\\leq i\\leq n}\\left|x_{i}\\right|$$"
      ]
    },
    {
      "cell_type": "markdown",
      "metadata": {
        "id": "0-kFezSQc5kc"
      },
      "source": [
        "<a name='2-2'></a>\n",
        "\n",
        "## La 1-norma es norma vectorial\n",
        "\n",
        "[regresar al contenido](#c1)\n",
        "\n",
        "Para poder afirmar que una función sobre un espacio vectorial es norma, es necesario probar que cumple con la definición.\n",
        "\n",
        "*P.D. 1-norma, es norma vectorial.*\n",
        "\n",
        "*1.-*$$\\left\\Vert \\vec{x}\\right\\Vert _{1}=\\left|x_{1}\\right|+\\left|x_{2}\\right|+\\cdots+\\left|x_{n}\\right|\\overset{\\underbrace{prop.\\,val.\\,abs.}}{\\geq}0$$\n",
        "\n",
        "*2.-*$$\\left\\Vert \\vec{x}\\right\\Vert _{1}=0\\Longleftrightarrow \\sum_{i=1}^{n}\\left|x_{i}\\right|=0\\Longleftrightarrow x_{1}=x_{2}=\\cdots=x_{n}=0\\Longleftrightarrow\\vec{x}=\\vec{0}$$\n",
        "\n",
        "*3.-*$$\\begin{eqnarray*}\n",
        "\\left\\Vert \\alpha\\vec{x}\\right\\Vert _{1} & \\overset{\\underbrace{def.}}{=} & \\left|\\alpha x_{1}\\right|+\\left|\\alpha x_{2}\\right|+\\cdots+\\left|\\alpha x_{n}\\right|\\\\\n",
        " & \\overset{\\underbrace{v.a.}}{=} & \\left|\\alpha\\right|\\left(\\left|x_{1}\\right|+\\left|x_{2}\\right|+\\cdots+\\left|x_{n}\\right|\\right)\\\\\n",
        " & = & \\left|\\alpha\\right|\\left\\Vert \\vec{x}\\right\\Vert _{1}\n",
        "\\end{eqnarray*}$$\n",
        "\n",
        "*4.-*$$\\begin{eqnarray*}\n",
        "\\left\\Vert \\vec{x}+\\vec{y}\\right\\Vert _{1} & \\overset{\\underbrace{def.}}{=} & \\sum_{i=1}^{n}\\left|x_{i}+y_{i}\\right|\\overset{\\underbrace{des.triang.}}{\\leq}\\sum_{i=1}^{n}\\left|x_{i}\\right|+\\sum_{i=1}^{n}\\left|y_{i}\\right|\\\\\n",
        " & = & \\left\\Vert \\vec{x}\\right\\Vert _{1}+\\left\\Vert \\vec{y}\\right\\Vert _{1}\n",
        "\\end{eqnarray*}$$\n",
        "\n",
        "Queda como ejercicio al lector demostrar que la $2-norma$ y la $\\infty-norma$ son normas vectoriales."
      ]
    },
    {
      "cell_type": "markdown",
      "metadata": {
        "id": "ZmU9nTG3c5kd"
      },
      "source": [
        "<a name='3'></a>\n",
        "\n",
        "# Ejemplo\n",
        "\n",
        "[regresar al contenido](#c1)\n",
        "\n",
        "Sea $\\vec{x} \\in\\mathbb{R}^{2}$, $\\vec{x}=(2,5)$, calcúle las normas de Hölder.\n",
        "\n",
        "*1-norma*\n",
        "\n",
        "$$\\left\\Vert \\vec{x}\\right\\Vert _{1}=\\sum_{i=1}^{2}\\left|x_{i}\\right|=\\left|x_{1}\\right|+\\left|x_{2}\\right|=2+5=7$$\n",
        "\n",
        "*2-norma (norma euclidiana)*\n",
        "\n",
        "$$\\left\\Vert \\vec{x}\\right\\Vert _{2}=\\left[\\sum_{i=1}^{2}\\left|x_{i}\\right|^{2}\\right]^{1/2}=\\sqrt{\\left|x_{1}\\right|^{2}+\\left|x_{2}\\right|^{2}}=\\sqrt{\\left|2\\right|^{2}+\\left|5\\right|^{2}}=\\sqrt{4+25}=\\sqrt{29}$$\n",
        "\n",
        "y la $\\infty-norma$ (norma del supremo)\n",
        "\n",
        "$$\\left\\Vert \\vec{x}\\right\\Vert _{\\infty}= max_{1\\leq i\\leq 2}\\left|x_{i}\\right|=max\\{|2|,|5|\\}=max\\{2,5\\}=5$$\n",
        "\n",
        "Con *numpy* podemos comprobar los resultados"
      ]
    },
    {
      "cell_type": "code",
      "execution_count": 2,
      "metadata": {
        "id": "d0BCN73Lc5kf",
        "outputId": "bc517029-762d-4137-bd20-68417cc7aaa1",
        "colab": {
          "base_uri": "https://localhost:8080/"
        }
      },
      "outputs": [
        {
          "output_type": "stream",
          "name": "stdout",
          "text": [
            "Vector x: [2 5]\n",
            "Norma 1 del vector x: 7.0\n",
            "Norma 2 del vector x: 5.385164807134504\n",
            "Norma del supremo del vector x: 5.0\n",
            "Vector y: [1 2 3 4]\n",
            "Norma 1 del vector y: 10.0\n",
            "Norma 2 del vector y: 5.477225575051661\n",
            "Norma 1 del supremo del vector y: 4.0\n"
          ]
        }
      ],
      "source": [
        "import numpy as np\n",
        "# se define un vector x\n",
        "x = np.array([2, 5])\n",
        "\n",
        "# se muestra el vector x\n",
        "print(\"Vector x:\", x)\n",
        "\n",
        "# calculamos la norma 1\n",
        "print(\"Norma 1 del vector x:\",np.linalg.norm(x, 1))\n",
        "\n",
        "# calculamos la norma 2\n",
        "print(\"Norma 2 del vector x:\",np.linalg.norm(x, 2))\n",
        "\n",
        "# calculamos la norma del supremo\n",
        "print(\"Norma del supremo del vector x:\",np.linalg.norm(x, np.inf))\n",
        "\n",
        "# se define un vector x\n",
        "y = np.array([1, 2, 3, 4])\n",
        "\n",
        "# se muestra el vector x\n",
        "print(\"Vector y:\",y)\n",
        "\n",
        "# calculamos la norma 1\n",
        "print(\"Norma 1 del vector y:\",np.linalg.norm(y, 1))\n",
        "\n",
        "# calculamos la norma 2\n",
        "print(\"Norma 2 del vector y:\",np.linalg.norm(y, 2))\n",
        "\n",
        "# calculamos la norma del supremo\n",
        "print(\"Norma 1 del supremo del vector y:\",np.linalg.norm(y, np.inf))"
      ]
    },
    {
      "cell_type": "markdown",
      "metadata": {
        "id": "g93ae5KUc5ki"
      },
      "source": [
        "Existemas mas normas que pueden calcularse mediante el modulo de álgebra lineal de numpy. La documentación de dicho módulo se puede encontrar en [numpy.linalg.norm](https://numpy.org/doc/stable/reference/generated/numpy.linalg.norm.html)."
      ]
    },
    {
      "cell_type": "markdown",
      "metadata": {
        "id": "WblxeiuPc5kj"
      },
      "source": [
        "<a name='4'></a>\n",
        "\n",
        "# Definición de Distancia\n",
        "\n",
        "[regresar al contenido](#c1)\n",
        "\n",
        "Sean $\\vec{x}$, $\\vec{y}$ $\\in \\mathbb{R}^{n}$ la distancia entre $\\vec{x}$, $\\vec{y}$ se define de la siguiente manera.\n",
        "\n",
        "$$d\\left(\\vec{x},\\vec{y}\\right):=\\left\\Vert \\vec{x}-\\vec{y}\\right\\Vert$$\n",
        "\n",
        "La importancia de una norma es que una vez definida la norma\n",
        "en $\\mathbb{R}^{n}$ es sencillo establecer una métrica    (distancia entre vectores).\n",
        "\n",
        "Si consideramos, un espacio bidimensional y la 1-norma tenemos que.\n",
        "\n",
        "$$d_{1}\\left(\\vec{x},\\vec{y}\\right)=\\left\\Vert \\vec{x}-\\vec{y}\\right\\Vert _{1}=\\sum_{i=1}^{2}\\left|x_{i}-y_{i}\\right|$$\n",
        "\n",
        "Si además se considera el producto punto, nótese que.\n",
        "\n",
        "$$d(\\vec{x},\\vec{0})=\\left\\Vert \\vec{x}-\\vec{0} \\right\\Vert=\\left\\Vert \\vec{x} \\right\\Vert=\\sqrt{(\\vec{x}\\cdot\\vec{x})}$$"
      ]
    },
    {
      "cell_type": "markdown",
      "metadata": {
        "id": "ELWMad85c5kj"
      },
      "source": [
        "<a name='4-1'></a>\n",
        "\n",
        "## Bola (Esfera) Unitaria\n",
        "\n",
        "[regresar al contenido](#c1)\n",
        "\n",
        "Es importante notar, cómo es que la elección de la norma, modifica la forma en la que se percibe el espacio (o subespacio) vectorial en cuestión.\n",
        "\n",
        "Para cada norma, se dibuja a manera de ilustrar la bola de unidad definida como.\n",
        "\n",
        "$$\\bar{B}\\left(0,1\\right):=\\left\\{ \\vec{x}\\in\\mathbb{R}^{2}\\mid\\left\\Vert \\vec{x}\\right\\Vert _{p}\\leq1\\right\\}$$\n",
        "\n",
        "<img src=\"https://github.com/jugernaut/Numerico2021/blob/desarrollo/Figuras/Normas/p1.png?raw=1\" width=\"150\">\n",
        "\n",
        "<img src=\"https://github.com/jugernaut/Numerico2021/blob/desarrollo/Figuras/Normas/p2.png?raw=1\" width=\"150\">  \n",
        "\n",
        "<img src=\"https://github.com/jugernaut/Numerico2021/blob/desarrollo/Figuras/Normas/pinf.png?raw=1\" width=\"150\">\n",
        "\n",
        "<img src=\"https://github.com/jugernaut/Numerico2021/blob/desarrollo/Figuras/Normas/pmedios.png?raw=1\" width=\"150\">\n",
        "\n",
        "Lo que muestra la bola unitaria en realidad son todos los $\\vec{x}\\in R^{2}$\n",
        "cuya distancia al origen es menor o igual que 1, es decir que podemos\n",
        "pensar en la bola unitaria de la siguiente manera.\n",
        "$$\\bar{B}\\left(0,1\\right)=\\left\\{ \\vec{x}\\in\\mathbb{R}^{2}\\mid d_{p}\\left(\\vec{x}-\\vec{0}\\right)\\leq1\\right\\} $$"
      ]
    },
    {
      "cell_type": "markdown",
      "metadata": {
        "id": "FMMgeeHxc5kk"
      },
      "source": [
        "<a name='4-2'></a>\n",
        "\n",
        "## Propiedades de las normas\n",
        "\n",
        "[regresar al contenido](#c1)\n",
        "\n",
        "Existe una gran cantidad de propiedades sobre las normas vectoriales.\n",
        "\n",
        "Debido a los alcances del curso, no es posible demostrar todas las\n",
        "propiedades de las normas."
      ]
    },
    {
      "cell_type": "markdown",
      "metadata": {
        "id": "e-On20xYc5kk"
      },
      "source": [
        "<a name='4-3'></a>\n",
        "\n",
        "## Desigualdad de Cauchy-Schwarz\n",
        "\n",
        "[regresar al contenido](#c1)\n",
        "\n",
        "Sean $\\vec{x},\\vec{y}\\in\\mathbb{R}^{n}$ y $\\cdot$ el producto punto de vectores, entonces.\n",
        "\n",
        "$$\\vec{x} \\cdot \\vec{y} \\leq \\Vert\\vec{x}\\Vert\\Vert\\vec{y}\\Vert$$\n",
        "\n",
        "Donde $\\Vert\\vec{x}\\Vert:=\\sqrt{(\\vec{x}\\cdot\\vec{x})}$ es la longitud del $\\vec{x}$.\n",
        "\n",
        "\n",
        "La desigualdad de Cauchy-Schwarz es útil para demostrar propiedades de las normas."
      ]
    },
    {
      "cell_type": "markdown",
      "metadata": {
        "id": "D2owwrXAc5kk"
      },
      "source": [
        "<a name='4-4'></a>\n",
        "\n",
        "## Desigualdad de Hölder\n",
        "\n",
        "[regresar al contenido](#c1)\n",
        "\n",
        "Sean $p,q\\in(1,\\infty]$ tales que\n",
        "$\\frac{1}{p}+\\frac{1}{q}=1.$ Entonces para cualquier vector\n",
        "$\\vec{x},\\vec{y}\\in\\mathbb{R}^{n}$ se cumple que\n",
        "$$\\begin{eqnarray*}\n",
        "\\left\\Vert \\vec{x}\\vec{y}\\right\\Vert _{1} & \\leq & \\left\\Vert \\vec{x}\\right\\Vert _{p}\\left\\Vert \\vec{y}\\right\\Vert _{q}\n",
        "\\end{eqnarray*}$$\n",
        "\n",
        "La desigualdad de Hölder es una de las propiedades que cumplen las normas y ayuda a establecer relaciones entre las mismas."
      ]
    },
    {
      "cell_type": "markdown",
      "metadata": {
        "id": "11nO54AXc5kl"
      },
      "source": [
        "<a name='4-5'></a>\n",
        "\n",
        "## Desigualdad del triángulo (versión norma)\n",
        "\n",
        "[regresar al contenido](#c1)\n",
        "\n",
        "Sean $\\vec{x},\\vec{y}\\in\\mathbb{R}^{n}$\n",
        "\n",
        "$$\\begin{eqnarray*}\n",
        "\\left\\Vert \\vec{x}+\\vec{y}\\right\\Vert ^{2} & \\overset{\\underbrace{distancia}}{=} & \\left(\\sqrt{\\left(\\vec{x}+\\vec{y}\\right)\\cdot\\left(\\vec{x}+\\vec{y}\\right)}\\right)^{2}\\\\\n",
        " & = & \\left(\\vec{x}+\\vec{y}\\right)\\cdot\\left(\\vec{x}+\\vec{y}\\right)\\\\\n",
        " & \\overset{\\underbrace{def.prod.punto}}{=} & \\sum_{i=1}^{n}\\left(x_{i}+y_{i}\\right)\\left(x_{i}+y_{i}\\right)\\\\\n",
        " & \\overset{\\underbrace{prod.notables}}{=} & \\sum_{i=1}^{n}\\left(x_{i}^{2}+2x_{i}y_{i}+y_{i}^{2}\\right)\\\\\n",
        " & \\overset{\\underbrace{axioma}}{=} & \\sum_{i=1}^{n}x_{i}^{2}+\\sum_{i=1}^{n}2x_{i}y_{i}+\\sum_{i=1}^{n}y_{i}^{2}\\\\\n",
        " & \\overset{\\underbrace{def.potencia}}{=} & \\sum_{i=1}^{n}\\left(x_{i}x_{i}\\right)+2\\sum_{i=1}^{n}x_{i}y_{i}+\\sum_{i=1}^{n}\\left(y_{i}y_{i}\\right)\\\\\n",
        " & \\overset{\\underbrace{def.prod.punto}}{=} & \\vec{x}\\cdot\\vec{x}+2\\left(\\vec{x}\\cdot\\vec{y}\\right)+\\vec{y}\\cdot\\vec{y}\\\\\n",
        " & \\overset{\\underbrace{distancia}}{=} & \\left\\Vert \\vec{x}\\right\\Vert^{2} +2\\left(\\vec{x}\\cdot\\vec{y}\\right)+\\left\\Vert \\vec{y}\\right\\Vert^{2} \\\\\n",
        " & \\overset{\\underbrace{Cauchy}}{\\leq} & \\left\\Vert \\vec{x}\\right\\Vert^{2} +2\\left\\Vert \\vec{x}\\right\\Vert \\left\\Vert \\vec{y}\\right\\Vert +\\left\\Vert \\vec{y}\\right\\Vert^{2} \\\\\n",
        " & \\overset{\\underbrace{prod.notables}}{=} & \\left(\\left\\Vert \\vec{x}\\right\\Vert +\\left\\Vert \\vec{y}\\right\\Vert \\right)^{2}\n",
        "\\end{eqnarray*}$$\n",
        "\n",
        "Por lo tanto.\n",
        "\n",
        "$$\\left\\Vert \\vec{x}+\\vec{y}\\right\\Vert ^{2}\\leq \\left(\\left\\Vert \\vec{x}\\right\\Vert +\\left\\Vert \\vec{y}\\right\\Vert \\right)^{2}$$\n",
        "\n",
        "Finalmente.\n",
        "\n",
        "$$\\left\\Vert \\vec{x}+\\vec{y}\\right\\Vert ^{2}\\leq\\left(\\left\\Vert \\vec{x}\\right\\Vert +\\left\\Vert \\vec{y}\\right\\Vert \\right)^{2}\\Longrightarrow\\left\\Vert \\vec{x}+\\vec{y}\\right\\Vert \\leq\\left\\Vert \\vec{x}\\right\\Vert +\\left\\Vert \\vec{y}\\right\\Vert$$\n",
        "\n",
        "Así que.\n",
        "\n",
        "$$\\left\\Vert \\vec{x}+\\vec{y}\\right\\Vert \\leq\\left\\Vert \\vec{x}\\right\\Vert +\\left\\Vert \\vec{y}\\right\\Vert \\ldots\\blacksquare$$"
      ]
    },
    {
      "cell_type": "code",
      "execution_count": 4,
      "metadata": {
        "id": "DIQzYD0Uc5kl",
        "outputId": "7b4ae40e-b091-455e-93ba-bd042e016922",
        "colab": {
          "base_uri": "https://localhost:8080/",
          "height": 430
        }
      },
      "outputs": [
        {
          "output_type": "display_data",
          "data": {
            "text/plain": [
              "<Figure size 640x480 with 1 Axes>"
            ],
            "image/png": "[encoded data removed]"
          },
          "metadata": {}
        }
      ],
      "source": [
        "# biblioteca para graficar\n",
        "import matplotlib.pyplot as plt\n",
        "\n",
        "# vectores x y y a graficar\n",
        "x = [0,0,1,6]\n",
        "y = [0,0,4,2]\n",
        "y_bis = [1,6,y[2],y[3]]\n",
        "# x+y\n",
        "w = [0,0,5,8]\n",
        "\n",
        "# se grafica cada una de las componentes de los vectores\n",
        "plt.quiver([x[0], y_bis[0], w[0]],\n",
        "           [x[1], y_bis[1], w[1]],\n",
        "           [x[2], y_bis[2], w[2]],\n",
        "           [x[3], y_bis[3], w[3]],\n",
        "           angles='xy', scale_units='xy', scale=1, color='y')\n",
        "\n",
        "# limites de la grafica\n",
        "plt.xlim(-2, 6)\n",
        "plt.ylim(-2, 9)\n",
        "# ejes cartesianos\n",
        "plt.axvline(x=0, color='grey')\n",
        "plt.axhline(y=0, color='grey')\n",
        "# etiquetas en la grafica\n",
        "plt.text(-1, 3.5, r'$||\\vec{x}||$', size=20, color='r')\n",
        "plt.text(2.5, 7.5, r'$||\\vec{y}||$', size=20, color='b')\n",
        "plt.text(2, 2, r'$||\\vec{x}+\\vec{y}||$', size=20, color='g')\n",
        "# se muestra la grafica\n",
        "plt.show()"
      ]
    },
    {
      "cell_type": "markdown",
      "metadata": {
        "id": "U62f1JkMc5km"
      },
      "source": [
        "<a name='4-6'></a>\n",
        "\n",
        "## Corolario\n",
        "\n",
        "[regresar al contenido](#c1)\n",
        "\n",
        "Sean $\\vec{x},\\vec{y},\\vec{z}\\in\\mathbb{R}^{n}$\n",
        "$$\\begin{eqnarray*}\n",
        "\\left\\Vert \\vec{z}-\\vec{x}\\right\\Vert  & \\leq & \\left\\Vert \\vec{z}-\\vec{y}\\right\\Vert +\\left\\Vert \\vec{y}-\\vec{x}\\right\\Vert\n",
        "\\end{eqnarray*}$$\n",
        "\n",
        "*P.D.* $\\left\\Vert \\vec{z}-\\vec{x}\\right\\Vert \\leq\\left\\Vert \\vec{z}-\\vec{y}\\right\\Vert +\\left\\Vert \\vec{y}-\\vec{x}\\right\\Vert $\n",
        "$$\\begin{eqnarray*}\n",
        "\\left\\Vert \\vec{z}-\\vec{x}\\right\\Vert  & = & \\left\\Vert \\vec{z}+\\vec{0}-\\vec{x}\\right\\Vert =\\left\\Vert \\vec{z}-\\vec{y}+\\vec{y}-\\vec{x}\\right\\Vert \\\\\n",
        " & = & \\left\\Vert \\left(\\vec{z}-\\vec{y}\\right)+\\left(\\vec{y}-\\vec{x}\\right)\\right\\Vert \\\\\n",
        " & \\overset{\\underbrace{prop.norma}}{\\leq} & \\left\\Vert \\vec{z}-\\vec{y}\\right\\Vert +\\left\\Vert \\vec{y}-\\vec{x}\\right\\Vert \\\\\n",
        "\\therefore \\left\\Vert \\vec{z}-\\vec{x}\\right\\Vert  & \\leq & \\left\\Vert \\vec{z}-\\vec{y}\\right\\Vert +\\left\\Vert \\vec{y}-\\vec{x}\\right\\Vert\n",
        "\\end{eqnarray*}$$"
      ]
    },
    {
      "cell_type": "markdown",
      "metadata": {
        "id": "UBesJLdUc5ks"
      },
      "source": [
        "<a name='4-7'></a>\n",
        "\n",
        "## Equivalencia entre normas\n",
        "\n",
        "[regresar al contenido](#c1)\n",
        "\n",
        "*Definición:* Dos normas $\\left\\Vert \\cdot\\right\\Vert _{p}$ y $\\left\\Vert \\cdot\\right\\Vert _{q}$\n",
        "son equivalentes en $\\mathbb{R}^{n}$ si existen 2 constantes universales\n",
        "positivas $\\alpha,\\beta$ tales que\n",
        "\n",
        "$$\\forall\\vec{x}\\in\\mathbb{R}^{n}\\qquad\\alpha\\left\\Vert \\vec{x}\\right\\Vert _{p}\\leq\\left\\Vert \\vec{x}\\right\\Vert _{q}\\leq\\beta\\left\\Vert \\vec{x}\\right\\Vert _{p}$$\n",
        "\n",
        "$$\\begin{eqnarray*}\n",
        "1)\\left\\Vert \\vec{x}\\right\\Vert _{2}\\; & \\leq & \\left\\Vert \\vec{x}\\right\\Vert _{1}\\leq\\sqrt{n}\\left\\Vert \\vec{x}\\right\\Vert _{2}\\\\\n",
        "2)\\left\\Vert \\vec{x}\\right\\Vert _{\\infty} & \\leq & \\left\\Vert \\vec{x}\\right\\Vert _{2}\\leq\\sqrt{n}\\left\\Vert \\vec{x}\\right\\Vert _{\\infty}\\\\\n",
        "3)\\left\\Vert \\vec{x}\\right\\Vert _{\\infty} & \\leq & \\left\\Vert \\vec{x}\\right\\Vert _{1}\\leq n\\left\\Vert \\vec{x}\\right\\Vert _{\\infty}\n",
        "\\end{eqnarray*}$$"
      ]
    },
    {
      "cell_type": "markdown",
      "metadata": {
        "id": "h4VasjUzc5kt"
      },
      "source": [
        "<a name='4-8'></a>\n",
        "\n",
        "## Lema 1)\n",
        "\n",
        "[regresar al contenido](#c1)\n",
        "\n",
        "*Sean* $a,b\\geq0$ p.d. $\\sqrt{a+b}\\leq\\sqrt{a}+\\sqrt{b}$\n",
        "\n",
        "p.d. $\\sqrt{a+b}\\leq\\sqrt{a}+\\sqrt{b}$\n",
        "\n",
        "$$\\sqrt{a+b}\\leq\\sqrt{a+2\\sqrt{ab}+b}=\\sqrt{\\left(\\sqrt{a}+\\sqrt{b}\\right)^{2}}=\\left|\\sqrt{a}+\\sqrt{b}\\right|=\\sqrt{a}+\\sqrt{b}$$"
      ]
    },
    {
      "cell_type": "markdown",
      "metadata": {
        "id": "rGeDglsAc5kt"
      },
      "source": [
        "<a name='4-9'></a>\n",
        "\n",
        "## La $\\left\\Vert \\vec{x}\\right\\Vert _{1}$ y $\\left\\Vert \\vec{x}\\right\\Vert _{2}$ son equivalentes\n",
        "\n",
        "[regresar al contenido](#c1)\n",
        "\n",
        "Veamos que relación de equivalencia guardan la norma eculidiana y la 1-norma.\n",
        "\n",
        "Sea $\\vec{x}\\in\\mathbb{R}^{n}$ P.D.\n",
        "$$\\left\\Vert \\vec{x}\\right\\Vert _{2}\\leq\\left\\Vert \\vec{x}\\right\\Vert _{1}$$\n",
        "\n",
        "Haremos uso del *lema 1)* para realizar esta demostración.\n",
        "$$\\begin{eqnarray*}\n",
        "\\left\\Vert \\vec{x}\\right\\Vert _{2} & = & \\sqrt{\\sum_{i=1}^{n}\\left|x_{i}\\right|^{2}}\\\\\n",
        " & \\overset{\\underbrace{val.abs}}{=} & \\sqrt{\\sum_{i=1}^{n}\\left(x_{i}\\right)^{2}}\\\\\n",
        " & \\overset{\\underbrace{lema\\,1)}}{\\leq} & \\sum_{i=1}^{n}\\sqrt{\\left(x_{i}\\right)^{2}}\\\\\n",
        " & = & \\sum_{i=1}^{n}\\left|x_{i}\\right|\\\\\n",
        " & = & \\left\\Vert x\\right\\Vert _{1}\\\\\n",
        "\\therefore\\left\\Vert \\vec{x}\\right\\Vert _{2} & \\leq & \\left\\Vert \\vec{x}\\right\\Vert _{1} \\tag{1}\n",
        "\\end{eqnarray*}$$\n",
        "\n",
        "Ahora, p.d. $\\left\\Vert \\vec{x}\\right\\Vert_{1}   \\leq  \\sqrt{n}\\left\\Vert \\vec{x}\\right\\Vert _{2}$\n",
        "\n",
        "$$\\begin{eqnarray*}\n",
        "\\left\\Vert \\vec{x}\\right\\Vert _{1} & \\overset{\\underbrace{def}}{=} & \\sum_{i=1}^{n}\\left|x_{i}\\right|\\\\\n",
        " & \\overset{\\underbrace{val.abs.}}{=} & \\left|\\sum_{i=1}^{n}\\left|x_{i}\\right|\\right|\\\\\n",
        " & \\overset{\\underbrace{val.abs.}}{=} & \\sqrt{\\left(\\sum_{i=1}^{n}\\left|x_{i}\\right|\\right)^{2}}\\\\\n",
        " & \\overset{\\underbrace{1\\leq n}}{\\leq} & \\sqrt{n\\left(\\sum_{i=1}^{n}\\left|x_{i}\\right|\\right)^{2}}\\\\\n",
        " & \\overset{\\underbrace{porp.exp.}}{=} & \\sqrt{n}\\sqrt{\\left(\\sum_{i=1}^{n}\\left|x_{i}\\right|\\right)^{2}}\\\\\n",
        " & \\overset{\\underbrace{notacion}}{=} & \\sqrt{n}\\left[\\left(\\sum_{i=1}^{n}\\left|x_{i}\\right|\\right)^{2}\\right]^{\\frac{1}{2}}\\\\\n",
        " & \\overset{\\underbrace{porp.val.abs.}}{=} & \\sqrt{n}\\left[\\sum_{i=1}^{n}\\left|x_{i}\\right|^{2}\\right]^{\\frac{1}{2}}\\\\\n",
        " & \\overset{\\underbrace{def.norma}}{=} & \\sqrt{n}\\left\\Vert \\vec{x}\\right\\Vert _{2}\\\\\n",
        "\\therefore\\left\\Vert \\vec{x}\\right\\Vert_{1}  & \\leq & \\sqrt{n}\\left\\Vert \\vec{x}\\right\\Vert _{2} \\tag{2}\n",
        "\\end{eqnarray*}$$\n",
        "\n",
        "Así que dado (1) y (2) podemos concluir que ambas normas son equivalentes, es decir.\n",
        "\n",
        "$$\\left\\Vert \\vec{x}\\right\\Vert _{2}\\ \\leq  \\left\\Vert \\vec{x}\\right\\Vert _{1}\\leq\\sqrt{n}\\left\\Vert \\vec{x}\\right\\Vert _{2}$$\n",
        "\n",
        "\n",
        "**Se recomienda enfáticamente realizar las demostraciones faltantes de las equivalencias de normas vectoriales**.\n",
        "\n",
        "Existemas mas normas que pueden calcularse mediante el modulo de álgebra lineal de numpy. La documentación de dicho módulo se puede encontrar en [numpy.linalg.norm](https://numpy.org/doc/stable/reference/generated/numpy.linalg.norm.html)."
      ]
    },
    {
      "cell_type": "markdown",
      "metadata": {
        "id": "1NHDekgGc5ku"
      },
      "source": [
        "<a name='5'></a>\n",
        "\n",
        "##  Referencias\n",
        "\n",
        "[regresar al contenido](#c1)\n",
        "\n",
        "*   Riswan Butt, Numerical Analysys Using Matlab, Jones and Bartlett.\n",
        "*   Ward Cheney, David Kincaid, Métodos Numéricos y Computación, Cenage Learning.\n",
        "*   Richard L. Burden, J. Douglas Faires, Análisis Numérico, Math Learning.\n",
        "*   Yuri N. Skiba, Introducción a los Métodos Numéricos.\n",
        "*   http://www.ehu.eus/izaballa/Ana_Matr/Apuntes/lec2.pdf"
      ]
    }
  ],
  "metadata": {
    "kernelspec": {
      "display_name": "Python 3 (ipykernel)",
      "language": "python",
      "name": "python3"
    },
    "language_info": {
      "codemirror_mode": {
        "name": "ipython",
        "version": 3
      },
      "file_extension": ".py",
      "mimetype": "text/x-python",
      "name": "python",
      "nbconvert_exporter": "python",
      "pygments_lexer": "ipython3",
      "version": "3.8.10"
    },
    "colab": {
      "provenance": [],
      "include_colab_link": true
    }
  },
  "nbformat": 4,
  "nbformat_minor": 0
}
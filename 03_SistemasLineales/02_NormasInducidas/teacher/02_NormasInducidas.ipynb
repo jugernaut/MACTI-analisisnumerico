{
 "cells": [
  {
   "cell_type": "markdown",
   "metadata": {},
   "source": [
    "<font color=\"Teal\" face=\"Comic Sans MS,arial\">\n",
    "  <h1 align=\"center\"><i>Normas inducidas</i></h1>\n",
    "  </font>\n",
    "  <font color=\"Black\" face=\"Comic Sans MS,arial\">\n",
    "  <h5 align=\"center\"><i>Profesor: M.en.C. Miguel Angel Pérez León.</i></h5>\n",
    "    <h5 align=\"center\"><i>Ayudante: Jesús Iván Coss Calderón.</i></h5>\n",
    "  <h5 align=\"center\"><i>Materia: Análisis Numérico.</i></h5>\n",
    "  </font>"
   ]
  },
  {
   "cell_type": "markdown",
   "metadata": {},
   "source": [
    "**Objetivo general**\n",
    "\n",
    "* Aprender los fundamentos matemáticos de las normas inducidas.\n",
    "\n",
    "**Objetivos particulares**\n",
    "\n",
    "* Conocer propiedades de las normas.\n",
    "* Conocer algunas desigualdades importantes."
   ]
  },
  {
   "cell_type": "markdown",
   "metadata": {},
   "source": [
    "<a name='c1'></a>\n",
    "\n",
    "## Contenido\n",
    "\n",
    "- [Introducción](#1)\n",
    "- [Normas Matricial inducida (subordinada)](#2)\n",
    "    - [1-Norma Matricial](#2-1)\n",
    "    - [Ejemplo](#2-2)\n",
    "    - [La 2-norma o norma espectral](#2-3)\n",
    "    - [Ejemplo](#2-4)\n",
    "    - [Norma de Frobenius](#2-5)\n",
    "    - [Propiedades importantes](#2-6)\n",
    "    - [Ejemplo](#2-7)\n",
    "- [Repaso normas Vectorial y Matricial](#3)\n",
    "    - [Demostración de 1](#3-1)\n",
    "    - [Demostración de 2](#3-2)\n",
    "    - [Demostración de 3](#3-3)\n",
    "    - [Demostración de 4](#3-4)\n",
    "- [Referencias](#4)"
   ]
  },
  {
   "cell_type": "markdown",
   "metadata": {},
   "source": [
    "<a name='1'></a>\n",
    "\n",
    "# Introducción\n",
    "\n",
    "[regresar al contenido](#c1) \n",
    "\n",
    "El concepto de norma, no se aplica únicamente para vectores, en cualquier espacio vectorial o subespacio es muy útil definir el concepto de norma para poder establecer una forma de medir distancias.\n",
    "\n",
    "A continuación veremos cómo se define el concepto de norma para el subespacio de las matrices cuadradas.\n",
    "\n",
    "De igual manera como se definió la norma en el espacio vectorial $\\mathbb{R}^{n}$, en esta sección se procede a definir la norma para el subespacio de las matrices $A\\in M_{n\\times n}$ sobre $\\mathbb{R}$.\n",
    "\n",
    "**Una función** $\\left\\Vert \\cdot\\right\\Vert$ de matrices, se denomina norma matricial $\\left\\Vert \\cdot\\right\\Vert$  si para cualesquiera matrices $A, B \\in M_{n\\times n}$ sobre $\\mathbb{R}$ se satisfacen las siguientes propiedades.\n",
    "\n",
    "1.- $\\left\\Vert A\\right\\Vert \\geq0$.\\\n",
    "2.- $\\left\\Vert A\\right\\Vert =0\\,\\Longleftrightarrow A=0$.\\\n",
    "3.- $\\left\\Vert \\alpha A\\right\\Vert =\\left|\\alpha\\right|\\left\\Vert A\\right\\Vert$.\\\n",
    "4.- $\\left\\Vert A+B\\right\\Vert \\leq\\left\\Vert A\\right\\Vert +\\left\\Vert B\\right\\Vert$ (desigualdad triangular).\\\n",
    "5.- $\\left\\Vert AB\\right\\Vert \\leq\\left\\Vert A\\right\\Vert \\left\\Vert B\\right\\Vert$ (compatibilidad o consistencia).\n",
    "\n",
    "¿Conoces alguna función $\\left(\\left\\Vert \\cdot\\right\\Vert \\right)$ que cumpla con las propiedades anteriores para el subespacio de las matrices de $n\\times n$?. "
   ]
  },
  {
   "cell_type": "markdown",
   "metadata": {},
   "source": [
    "<a name='2'></a>\n",
    "\n",
    "# Normas Matricial inducida (subordinada)\n",
    "\n",
    "[regresar al contenido](#c1) \n",
    "\n",
    "**Definición** Sea $p\\geq1,\\:\\vec{x}\\in\\mathbb{R}^{n}$, la p-norma de una matriz $A\\in M_{n\\times n}$ esta definida por.\n",
    "\n",
    "$$\\left\\Vert A\\right\\Vert _{p}:=\\underset{\\vec{x}\\neq\\vec{0}}{sup}\\frac{\\left\\Vert A\\vec{x}\\right\\Vert _{p}}{\\left\\Vert \\vec{x}\\right\\Vert _{p}}$$\n",
    "\n",
    "Norma matricial inducida por la 1-norma vectorial. \n",
    "\n",
    "$$\\left\\Vert A\\right\\Vert _{1}\\:=\\underset{\\vec{x}\\neq\\vec{0}}{sup}\\frac{\\left\\Vert A\\vec{x}\\right\\Vert _{1}}{\\left\\Vert \\vec{x}\\right\\Vert _{1}}\\overset{\\underbrace{*Teo\\,1.}}{=}\\underset{1\\leq j\\leq n}{max}\\sum_{i=1}^{n}\\left|a_{ij}\\right|=\\underset{1\\leq j\\leq n}{max}\\left\\Vert \\vec{a}_{j}\\right\\Vert _{1}\\:(suma\\,columnas)$$\n",
    "\n",
    "Norma matricial inducida por la norma del supremo.\n",
    "\n",
    "$$\\left\\Vert A\\right\\Vert _{\\infty}:=\\underset{\\vec{x}\\neq\\vec{0}}{sup}\\frac{\\left\\Vert A\\vec{x}\\right\\Vert _{\\infty}}{\\left\\Vert \\vec{x}\\right\\Vert _{\\infty}}\\overset{\\underbrace{*Teo\\,2.}}{=}\\underset{1\\leq i\\leq n}{max}\\sum_{j=1}^{n}\\left|a_{ij}\\right|=\\underset{1\\leq i\\leq n}{max}\\left\\Vert \\vec{a}_{i}\\right\\Vert _{1}\\:(suma\\,renglones)$$"
   ]
  },
  {
   "cell_type": "markdown",
   "metadata": {},
   "source": [
    "<a name='2-1'></a>\n",
    "\n",
    "## 1-Norma Matricial\n",
    "\n",
    "[regresar al contenido](#c1)\n",
    "\n",
    "\n",
    "Recordatorio de álgebra lineal\n",
    "\n",
    "Sea $A=\\left(\\begin{array}{cc}\n",
    "a_{11} & a_{12}\\\\\n",
    "a_{21} & a_{22}\n",
    "\\end{array}\\right)$ y $\\vec{x}=\\left(\\begin{array}{c}\n",
    "x_{1}\\\\\n",
    "x_{2}\n",
    "\\end{array}\\right)$ la operación $A\\vec{x}$ esta definida como$$A\\vec{x}=\\left(\\begin{array}{c}\n",
    "a_{11}x_{1}+a_{12}x_{2}\\\\\n",
    "a_{21}x_{1}+a_{22}x_{2}\n",
    "\\end{array}\\right)=\\left(\\begin{array}{c}\n",
    "a_{11}\\\\\n",
    "a_{21}\n",
    "\\end{array}\\right)x_{1}+\n",
    "\\left(\\begin{array}{c}\n",
    "a_{12}\\\\\n",
    "a_{22}\n",
    "\\end{array}\\right)x_{2}\n",
    "=\\left(\\begin{array}{c}\n",
    "c_{1}\\\\\n",
    "c_{2}\n",
    "\\end{array}\\right) \\tag{1}\n",
    "$$\n",
    "\n",
    "De tal manera que si pensamos en la matriz $A$ como una lista de vectores columna el resultado de la operación $A\\vec{x}$ es la suma de cada uno de los vectores columna, multiplicados por la correspondiente componente de $\\vec{x}$.\n",
    "\n",
    "Para poder demostrar que la 1-norma matricial de $A\\in M_{n\\times n}$ sobre $\\mathbb{R}$ es el máximo de las normas de los vectores columnas es decir, $$\\left\\Vert A\\right\\Vert _{1}=\\underset{1\\leq j\\leq n}{max}\\left\\Vert \\vec{a}_{j}\\right\\Vert _{1}\\tag{2}$$\n",
    "\n",
    "Se necesita considerar lo mostrado en (1) y pensar en la matriz $A$ como una lista de columnas.\n",
    "\n",
    "Prueba de (2)\n",
    "\n",
    "Sea $\\vec{x}\\in\\mathbb{R}^{n}$ y $A\\in M_{n\\times n}$ sobre $\\mathbb{R}$ con $A=\\left[\\vec{a}_{1}|\\vec{a}_{2}\\text{|}\\cdots\\text{|}\\vec{a}_{n}\\right]$, donde $\\vec{a}_{j}$ es un vector columna en $\\mathbb{R}^{n}$. Consideremos la bola unitaria en la 1-norma $:=\\left\\{ \\vec{x}\\in\\mathbb{R}^{n}\\mid\\left\\Vert \\vec{x}\\right\\Vert _{1}=\\sum_{j=1}^{n}\\left|x_{j}\\right|\\leq1\\right\\}$ . Cualquier vector $A\\vec{x}$ satisface:\n",
    "\n",
    "$$\\left\\Vert A\\vec{x}\\right\\Vert _{1}\t\\overset{\\underbrace{(1)}}{=}\t\\left\\Vert \\sum_{j=1}^{n}\\vec{a}_{j}x_{j}\\right\\Vert _{1}\\overset{\\underbrace{prop\\,4\\,nor}}{\\leq}\\sum_{j=1}^{n}\\left\\Vert \\vec{a}_{j}x_{j}\\right\\Vert _{1}\\overset{\\underbrace{prop\\,3\\,nor.}}{=}\\sum_{j=1}^{n}\\left\\Vert \\vec{a}_{j}\\right\\Vert _{1}\\left|x_{j}\\right|\n",
    "\t\\overset{\\underbrace{def.max.}}{\\leq}\t\\underset{1\\leq j\\leq n}{max}\\left\\Vert \\vec{a}_{j}\\right\\Vert _{1}\\sum_{j=1}^{n}\\left|x_{j}\\right|\\overset{\\underbrace{bola\\,unit.}}{\\leq}\\underset{1\\leq j\\leq n}{max}\\left\\Vert \\vec{a}_{j}\\right\\Vert _{1}\n",
    "$$\n",
    "\n",
    "$$\\therefore\t\\left\\Vert A\\vec{x}\\right\\Vert _{1}\t\\leq\\underset{1\\leq j\\leq n}{max}\\left\\Vert \\vec{a}_{j}\\right\\Vert _{1}$$\n",
    "\n",
    "Si elegimos $\\vec{x}=\\vec{e}_{j}$ (es decir el vector canónico, ademas $\\left\\Vert \\vec{e}_{j}\\right\\Vert _{1}=1)$ con un 1 en la entrada $j$. Donde $j$ maximiza, $\\left\\Vert \\vec{a}_{j}\\right\\Vert _{1}$, obtenemos la minima cota superior (en otras palabras el $sup$) y por lo tanto la igualdad.\n",
    "\n",
    "$$\\therefore\\left\\Vert A\\right\\Vert _{1}=\\underset{\\vec{x}\\neq\\vec{0}}{sup}\\frac{\\left\\Vert A\\vec{x}\\right\\Vert _{1}}{\\left\\Vert \\vec{x}\\right\\Vert _{1}}=\\underset{1\\leq j\\leq n}{max}\\left\\Vert \\vec{a}_{j}\\right\\Vert _{1}$$"
   ]
  },
  {
   "cell_type": "markdown",
   "metadata": {},
   "source": [
    "<a name='2-2'></a>\n",
    "\n",
    "## Ejemplo\n",
    "\n",
    "[regresar al contenido](#c1)\n",
    "\n",
    "\n",
    "Sea $$A=\\left(\\begin{array}{ccc}\n",
    "3 & -1 & 4\\\\\n",
    "-5 & 0 & 2\\\\\n",
    "1 & -2 & 6\n",
    "\\end{array}\\right)$$\n",
    "\n",
    "Calcular $\\left\\Vert A\\right\\Vert _{1}$ y $\\left\\Vert A\\right\\Vert _{\\infty}$\n",
    "\n",
    "$\\left\\Vert A\\right\\Vert _{1}=\\underset{1\\leq j\\leq n}{max}\\left\\Vert \\vec{a}_{j}\\right\\Vert _{1}=\\underset{1\\leq j\\leq 3}{max}\\left\\Vert \\vec{a}_{j}\\right\\Vert _{1}=max\\{(3+5+1=9),(1+0+2=3),(4+2+6=12)\\}=12$\n",
    "\n",
    "$\\left\\Vert A\\right\\Vert _{\\infty}=\\underset{1\\leq i\\leq n}{max}\\left\\Vert \\vec{a}_{i}\\right\\Vert _{1}=\\underset{1\\leq i\\leq 3}{max}\\left\\Vert \\vec{a}_{i}\\right\\Vert _{1}=max\\{(3+1+4=8),(5+0+2=7),(1+2+6=9)\\}=9$\n",
    "\n",
    "El resultado se pueden comprobar usando el módulo *linalg* de *numpy*."
   ]
  },
  {
   "cell_type": "code",
   "execution_count": 1,
   "metadata": {},
   "outputs": [
    {
     "name": "stdout",
     "output_type": "stream",
     "text": [
      "[[ 3 -1  4]\n",
      " [-5  0  2]\n",
      " [ 1 -2  6]]\n",
      "12.0\n",
      "9.0\n"
     ]
    }
   ],
   "source": [
    "import numpy as np\n",
    "\n",
    "# Se define la matriz A\n",
    "A = np.array([[3, -1, 4],[-5, 0, 2],[1, -2, 6]])\n",
    "print (A)\n",
    "\n",
    "# Calculamos la 1-norma de A\n",
    "print (np.linalg.norm(A, 1))\n",
    "\n",
    "# Calculamos la norma del supremo de A\n",
    "print (np.linalg.norm(A, np.inf))"
   ]
  },
  {
   "cell_type": "markdown",
   "metadata": {},
   "source": [
    "<a name='2-3'></a>\n",
    "\n",
    "## La 2-norma o norma espectral\n",
    "\n",
    "[regresar al contenido](#c1)\n",
    "\n",
    "\n",
    "**Definición.** La norma espectral se define de la siguiente manera, sea $A\\in M_{n\\times n}$ sobre $\\mathbb{R}^{n}$ y $\\vec{x}\\in\\mathbb{R}^{n}$.\n",
    "\n",
    "$$\\left\\Vert A\\right\\Vert _{2}=\\underset{\\vec{x}\\neq\\vec{0}}{sup}\\frac{\\left\\Vert A\\vec{x}\\right\\Vert _{2}}{\\left\\Vert \\vec{x}\\right\\Vert _{2}}$$\n",
    "\n",
    "Aunque también se puede mostrar que.\n",
    "\n",
    "$$\\left\\Vert A\\right\\Vert _{2}=\\sqrt{max\\,eigenvalor\\,A^{T}A}$$"
   ]
  },
  {
   "cell_type": "markdown",
   "metadata": {},
   "source": [
    "<a name='2-4'></a>\n",
    "\n",
    "## Ejemplo\n",
    "\n",
    "[regresar al contenido](#c1)\n",
    "\n",
    "Sea $$A=\\left(\\begin{array}{cc}\n",
    "2 & 5\\\\\n",
    "1 & 3\n",
    "\\end{array}\\right)$$ Calcular $\\left\\Vert A\\right\\Vert _{2}$\n",
    "\n",
    "• Para encontrar los eigenvalores de A necesitamos calcular $det\\left(\\left(A^{T}A\\right)-\\lambda I\\right)$.\n",
    "\n",
    "• Lo primero es calcular la matriz transpuesta de $A$, es decir $$A^{T}=\\left(\\begin{array}{cc}\n",
    "2 & 1\\\\\n",
    "5 & 3\n",
    "\\end{array}\\right)$$\n",
    "\n",
    "• Ahora es necesario encontrar el producto de $A$ transpuesta por $A$.$$A^{T}A=\\left(\\begin{array}{cc}\n",
    "2 & 1\\\\\n",
    "5 & 3\n",
    "\\end{array}\\right)\\left(\\begin{array}{cc}\n",
    "2 & 5\\\\\n",
    "1 & 3\n",
    "\\end{array}\\right)=\\left(\\begin{array}{cc}\n",
    "5 & 13\\\\\n",
    "13 & 34\n",
    "\\end{array}\\right)$$\n",
    "\n",
    "• Lo siguiente es calcular el producto anterior menos $lambda-veces$ la identidad.$$A^{T}A-\\lambda I=\\left(\\begin{array}{cc}\n",
    "5 & 13\\\\\n",
    "13 & 34\n",
    "\\end{array}\\right)-\\left(\\begin{array}{cc}\n",
    "\\lambda & 0\\\\\n",
    "0 & \\lambda\n",
    "\\end{array}\\right)=\\left(\\begin{array}{cc}\n",
    "5-\\lambda & 13\\\\\n",
    "13 & 34-\\lambda\n",
    "\\end{array}\\right)$$\n",
    "\n",
    "• Finalmente se calcula el determinante de la matriz anterior \n",
    "$$\\begin{eqnarray*}det\\left(\\left(A^{T}A\\right)-\\lambda I\\right) =\t\\left(5-\\lambda\\right)\\left(34-\\lambda\\right)-\\left(13\\times13\\right) \\\\\n",
    "=\t170-5\\lambda-34\\lambda+\\lambda^{2}-169 \\\\\n",
    "=\t\\lambda^{2}-39\\lambda+1 \\end{eqnarray*}$$\n",
    "\n",
    "• Por lo que al encontrar las raíces de esta ecuación cuadrática, se tiene que$$\\begin{cases}\n",
    "\\lambda_{1}=\\frac{39+\\sqrt{1517}}{2} & =38.97434\\\\\n",
    "\\lambda_{2}=\\frac{39-\\sqrt{1517}}{2} & =0.02566\n",
    "\\end{cases}$$\n",
    "\n",
    "$$\\therefore\\left\\Vert A\\right\\Vert _{2}=\\sqrt{38.97434}=6.24294338$$"
   ]
  },
  {
   "cell_type": "code",
   "execution_count": 2,
   "metadata": {},
   "outputs": [
    {
     "name": "stdout",
     "output_type": "stream",
     "text": [
      "[[2 5]\n",
      " [1 3]]\n",
      "6.2429433838655335\n"
     ]
    }
   ],
   "source": [
    "# Definimos la matriz A\n",
    "A = np.array([[2, 5],[1, 3]])\n",
    "print (A)\n",
    "\n",
    "# Calculamos la 2-norma de A\n",
    "print (np.linalg.norm(A, 2))"
   ]
  },
  {
   "cell_type": "markdown",
   "metadata": {},
   "source": [
    "<a name='2-5'></a>\n",
    "\n",
    "## Norma de Frobenius\n",
    "\n",
    "[regresar al contenido](#c1)\n",
    "\n",
    "\n",
    "**Definición:** Sea $A\\in M_{n\\times n}$ sobre $\\mathbb{R}^{n}$ y $\\vec{x}\\in\\mathbb{R}^{n}$, la norma de Frobenius se define de la siguiente forma.\n",
    "\n",
    "$$\\left\\Vert A\\right\\Vert _{F}=\\left(\\sum_{i=1}^{n}\\sum_{j=1}^{n}\\left|a_{ij}\\right|^{2}\\right)^{1/2}$$\n",
    "\n",
    "Definición. Es una de las normas matriciales que más se emplea y ademas es compatible con la norma vectorial $\\left\\Vert \\vec{x}\\right\\Vert _{2}$."
   ]
  },
  {
   "cell_type": "markdown",
   "metadata": {},
   "source": [
    "<a name='2-6'></a>\n",
    "\n",
    "## Propiedades importantes\n",
    "\n",
    "[regresar al contenido](#c1)\n",
    "\n",
    "\n",
    "1.   Para la matriz $I$, $\\left\\Vert I\\right\\Vert _{F}=\\sqrt{n}$, mientras que $\\left\\Vert I\\right\\Vert _{1}=\\left\\Vert I\\right\\Vert _{2}=\\left\\Vert I\\right\\Vert _{\\infty}=1$.\n",
    "2.   $\\left\\Vert A\\right\\Vert _{F}^{2}=traza\\left(A^{T}A\\right)$"
   ]
  },
  {
   "cell_type": "markdown",
   "metadata": {},
   "source": [
    "<a name='2-7'></a>\n",
    "\n",
    "## Ejemplo\n",
    "\n",
    "[regresar al contenido](#c1)\n",
    "\n",
    "Sea $A=\\left(\\begin{array}{cc}\n",
    "1 & 2\\\\\n",
    "3 & 4\n",
    "\\end{array}\\right)$ calcular $\\left\\Vert A\\right\\Vert _{F}$\n",
    "\n",
    "De acuerdo con la definición, se tiene que calcular.\n",
    "\n",
    "| con $i=1$   | con $i=2$    | \n",
    "| :    -    :      | :       -        :          |\n",
    "| $$j=1\\,\\Rightarrow\\left|a_{11}\\right|^{2}=\\left|1\\right|^{2}=1$$  |$$j=1\\,\\Rightarrow\\left|a_{21}\\right|^{2}=\\left|3\\right|^{2}=9$$ |\n",
    "| $$j=2\\,\\Rightarrow\\left|a_{12}\\right|^{2}=\\left|2\\right|^{2}=4$$          | $$j=2\\,\\Rightarrow\\left|a_{22}\\right|^{2}=\\left|4\\right|^{2}=16$$    |\n",
    "\n",
    "$$\\therefore\\left\\Vert A\\right\\Vert _{F}=\\sqrt{\\left(1+4\\right)+\\left(9+16\\right)}=\\sqrt{30}=5.477225575$$\n",
    "\n",
    "¿Existe otra forma de calcular la norma de Frobenius?.\n",
    "\n",
    "¿Que puedes decir respecto a $\\sqrt{traza\\left(A^{T}A\\right)}$?."
   ]
  },
  {
   "cell_type": "code",
   "execution_count": 3,
   "metadata": {},
   "outputs": [
    {
     "name": "stdout",
     "output_type": "stream",
     "text": [
      "[[1 2]\n",
      " [3 4]]\n",
      "5.477225575051661\n"
     ]
    }
   ],
   "source": [
    "# Definimos la matriz A\n",
    "A = np.array([[1, 2],[3, 4]])\n",
    "print (A)\n",
    "\n",
    "# Calculamos la 2-norma de A\n",
    "print (np.linalg.norm(A, \"fro\"))"
   ]
  },
  {
   "cell_type": "markdown",
   "metadata": {},
   "source": [
    "<a name='3'></a>\n",
    "\n",
    "# Repaso normas Vectorial y Matricial\n",
    "\n",
    "[regresar al contenido](#c1)\n",
    "\n",
    "\n",
    "Por simplicidad las normas matriciales y sus propiedades mostradas en esta presentación fueron definidas para el subespacio de las matrices $A\\in M_{n\\times n}$ sobre $\\mathbb{R}^{n}$, sin embargo las mismas definiciones y propiedades se pueden extender al subespacio de las matrices $A\\in M_{m\\times n}$ sobre $\\mathbb{R}^{n}$ o incluso sobre $\\mathbb{C}^{n}$.\n",
    "\n",
    "Trata de realizar las siguientes demostraciones.\n",
    "\n",
    "**Norma Vectorial**\n",
    "\n",
    "1. $\\left\\Vert \\vec{x}\\right\\Vert _{\\infty}\\leq\\left\\Vert \\vec{x}\\right\\Vert _{2}$\n",
    "\n",
    "2. $\\left\\Vert \\vec{x}\\right\\Vert _{2}\\leq\\sqrt{n}\\left\\Vert \\vec{x}\\right\\Vert _{\\infty}$\n",
    "\n",
    "**Norma Matricial**\n",
    "\n",
    "3. $\\left\\Vert A\\right\\Vert _{\\infty}\\leq\\sqrt{n}\\left\\Vert A\\right\\Vert _{2}$\n",
    "\n",
    "4. $\\left\\Vert A\\right\\Vert _{2}\\leq\\sqrt{n}\\left\\Vert A\\right\\Vert _{\\infty}$"
   ]
  },
  {
   "cell_type": "markdown",
   "metadata": {},
   "source": [
    "<a name='3-1'></a>\n",
    "\n",
    "## Demostración de 1\n",
    "\n",
    "[regresar al contenido](#c1)\n",
    "\n",
    "P.D. $\\left\\Vert \\vec{x}\\right\\Vert _{\\infty}\\leq\\left\\Vert \\vec{x}\\right\\Vert_{2}$\n",
    "\n",
    "Sea $x\\in\\mathbb{R}^{n}$, por definición.\n",
    "\n",
    "$$\\left\\Vert \\vec{x}\\right\\Vert _{\\infty}\t=\t\\underset{1\\leq i\\leq n}{max}\\left|x_{i}\\right|\n",
    "\t=\t\\underset{1\\leq i\\leq n}{max}\\left(\\left|x_{i}\\right|^{2}\\right)^{1/2}\n",
    "\t\\leq\t\\left(\\sum_{i=1}^{n}\\left|x_{i}\\right|^{2}\\right)^{1/2}=\\left\\Vert \\vec{x}\\right\\Vert _{2}$$\n",
    "\n",
    "$$\\therefore\t\\left\\Vert \\vec{x}\\right\\Vert _{\\infty}\\leq\\left\\Vert \\vec{x}\\right\\Vert _{2}\t$$"
   ]
  },
  {
   "cell_type": "markdown",
   "metadata": {},
   "source": [
    "<a name='3-2'></a>\n",
    "\n",
    "## Demostración de 2\n",
    "\n",
    "[regresar al contenido](#c1)\n",
    "\n",
    "P.D. $\\left\\Vert \\vec{x}\\right\\Vert _{2}\\leq\\sqrt{n}\\left\\Vert \\vec{x}\\right\\Vert _{\\infty}$ o $\\left(1/\\sqrt{n}\\right)\\left\\Vert \\vec{x}\\right\\Vert _{2}\\leq\\left\\Vert \\vec{x}\\right\\Vert _{\\infty})$\n",
    "\n",
    "Sea $x\\in\\mathbb{R}^{n}$, por definición.\n",
    "\n",
    "$$\\left\\Vert \\vec{x}\\right\\Vert _{2}\t=\t\\left(\\sum_{i=1}^{n}\\left|x_{i}\\right|^{2}\\right)^{1/2}\n",
    "\t\\leq\t\\left(\\sum_{i=1}^{n}\\underset{1\\leq i\\leq n}{max}\\left|x_{i}\\right|^{2}\\right)^{1/2}\n",
    "\t=\t\\left(n\\left\\Vert \\vec{x}\\right\\Vert _{\\infty}^{2}\\right)^{1/2}=\\sqrt{n}\\left\\Vert \\vec{x}\\right\\Vert _{\\infty}\n",
    "$$\n",
    "\n",
    "$$\\therefore\t\\left\\Vert \\vec{x}\\right\\Vert _{2}\\leq\t\\sqrt{n}\\left\\Vert \\vec{x}\\right\\Vert _{\\infty}$$"
   ]
  },
  {
   "cell_type": "markdown",
   "metadata": {},
   "source": [
    "<a name='3-3'></a>\n",
    "\n",
    "## Demostración de 3\n",
    "\n",
    "[regresar al contenido](#c1)\n",
    "\n",
    "P.D. $\\left\\Vert A\\right\\Vert _{\\infty}\\leq\\sqrt{n}\\left\\Vert A\\right\\Vert _{2}$\n",
    "\n",
    "Sea $A\\in M_{n\\times n}$ sobre $\\mathbb{R}^{n}$ y $x\\in\\mathbb{R}^{n}$, por definición.\n",
    "\n",
    "$$\\begin{eqnarray*}\n",
    "\\left\\Vert A\\right\\Vert _{\\infty}&=&\\underset{\\vec{x}\\neq\\vec{0}}{sup}\\frac{\\left\\Vert A\\vec{x}\\right\\Vert _{\\infty}}{\\left\\Vert \\vec{x}\\right\\Vert _{\\infty}} \\\\\n",
    "& \\leq&\\underset{\\vec{x}\\neq\\vec{0}}{sup}\\frac{\\left\\Vert A\\vec{x}\\right\\Vert _{2}}{\\left\\Vert \\vec{x}\\right\\Vert _{\\infty}}\\,\\,\\,\\,\\,\\,(usando\\,1\\,en\\,el\\,numerador) \\\\\n",
    "&\\leq&\\underset{\\vec{x}\\neq\\vec{0}}{sup}\\frac{\\left\\Vert A\\vec{x}\\right\\Vert _{2}}{\\left\\Vert \\vec{x}\\right\\Vert _{2}/\\sqrt{n}}\\,\\,\\,(usando\\,2\\,en\\,el\\,denominador) \\\\\n",
    "&=&\\sqrt{n}\\left\\Vert A\\right\\Vert _{2} \\\\\n",
    "\\therefore\\left\\Vert A\\right\\Vert _{\\infty}&\\leq&\\sqrt{n}\\left\\Vert A\\right\\Vert _{2}\n",
    "\\end{eqnarray*}$$"
   ]
  },
  {
   "cell_type": "markdown",
   "metadata": {},
   "source": [
    "<a name='3-4'></a>\n",
    "\n",
    "## Demostración de 4\n",
    "\n",
    "[regresar al contenido](#c1)\n",
    "\n",
    "P.D. $\\left\\Vert A\\right\\Vert _{2}\\leq\\sqrt{n}\\left\\Vert A\\right\\Vert_{\\infty}$\n",
    "\n",
    "Sea $A\\in M_{n\\times n}$ sobre $\\mathbb{R}^{n}$ y $x\\in\\mathbb{R}^{n}$, por definición...???."
   ]
  },
  {
   "cell_type": "markdown",
   "metadata": {},
   "source": [
    "<a name='4'></a>\n",
    "\n",
    "# Referencias\n",
    "\n",
    "[regresar al contenido](#c1)\n",
    "\n",
    "\n",
    "*   Riswan Butt, Numerical Analysys Using Matlab, Jones and Bartlett.\n",
    "*   Ward Cheney, David Kincaid, Métodos Numéricos y Computación, Cenage Learning.\n",
    "*   Richard L. Burden, J. Douglas Faires, Análisis Numérico, Math Learning.\n",
    "*   Yuri N. Skiba, Introducción a los Métodos Numéricos.\n",
    "*   http://www.ehu.eus/izaballa/Ana_Matr/Apuntes/lec2.pdf"
   ]
  }
 ],
 "metadata": {
  "kernelspec": {
   "display_name": "Python 3 (ipykernel)",
   "language": "python",
   "name": "python3"
  },
  "language_info": {
   "codemirror_mode": {
    "name": "ipython",
    "version": 3
   },
   "file_extension": ".py",
   "mimetype": "text/x-python",
   "name": "python",
   "nbconvert_exporter": "python",
   "pygments_lexer": "ipython3",
   "version": "3.8.10"
  }
 },
 "nbformat": 4,
 "nbformat_minor": 4
}

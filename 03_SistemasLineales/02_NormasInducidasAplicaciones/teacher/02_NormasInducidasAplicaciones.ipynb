{
  "cells": [
    {
      "cell_type": "markdown",
      "metadata": {
        "id": "view-in-github",
        "colab_type": "text"
      },
      "source": [
        "<a href=\"https://colab.research.google.com/github/jugernaut/MACTI-analisisnumerico/blob/josue/03_SistemasLineales/02_NormasInducidasAplicaciones/teacher/02_NormasInducidasAplicaciones.ipynb\" target=\"_parent\"><img src=\"https://colab.research.google.com/assets/colab-badge.svg\" alt=\"Open In Colab\"/></a>"
      ]
    },
    {
      "cell_type": "markdown",
      "metadata": {
        "id": "tmzhmJuOeENM"
      },
      "source": [
        "<font color=\"Teal\" face=\"Comic Sans MS,arial\">\n",
        "  <h1 align=\"center\"><i>Normas inducidas aplicación</i></h1>\n",
        "  </font>\n",
        "  <font color=\"Black\" face=\"Comic Sans MS,arial\">\n",
        "  <h5 align=\"center\"><i>Profesor: M.en.C. Miguel Angel Pérez León.</i></h5>\n",
        "    <h5 align=\"center\"><i>Ayudante: Diana Laura Rojas Cristino</i></h5>\n",
        "  <h5 align=\"center\"><i>Materia: Análisis Numérico.</i></h5>\n",
        "  </font>"
      ]
    },
    {
      "cell_type": "markdown",
      "metadata": {
        "id": "myOPTYtEeENV"
      },
      "source": [
        "**Objetivo general**\n",
        "\n",
        "* Aprender los fundamentos matemáticos de las normas inducidas.\n",
        "\n",
        "**Objetivos particulares**\n",
        "\n",
        "* Conocer aplicaciones de las normas inducidas."
      ]
    },
    {
      "cell_type": "markdown",
      "metadata": {
        "id": "kZJBXFrDeENX"
      },
      "source": [
        "<a name='c1'></a>\n",
        "\n",
        "## Contenido\n",
        "\n",
        "- [Introducción](#1)\n",
        "- [Mapa auto organizado (SOM)](#2)\n",
        "    - [Formalización del algoritmo](#2-1)\n",
        "    - [Variables](#2-2)\n",
        "    - [Algoritmo](#2-3)\n",
        "    - [Tensor Flow](#2-4)\n",
        "    - [Implementación](#2-5)\n",
        "    - [Métodos relevantes](#2-6)\n",
        "    - [Método *train*](#2-7)\n",
        "    - [Método *map_vect*](#2-8)\n",
        "- [Ejecución](#3)\n",
        "- [Mostrando mas colores](#4)\n",
        "- [Extendiendo este modelo](#5)\n",
        "    - [Clasificación de Documentos o Imágenes](#5-1)\n",
        "- [Referencias](#6)"
      ]
    },
    {
      "cell_type": "markdown",
      "metadata": {
        "id": "7aOrrdMOeENX"
      },
      "source": [
        "<a name='1'></a>\n",
        "\n",
        "# Introducción\n",
        "\n",
        "[regresar al contenido](#c1)\n",
        "\n",
        "El concepto de norma es de gran importancia en el contexto de los espacios vectoriales, tiene múltiples aplicaciones y una de ellas es para definir metricas en dichos espacios para poder medir distancias entre los elementos que pertenecen a estos espacios vectoriales.\n",
        "\n",
        "La distancia entre un vector y el origen o entre una matriz y otra puede tener múltiples interpretaciones, en este documento veremos como el concepto de norma se aplica al campo de la inteligencia artificial y en particular en las redes neuronales.\n",
        "\n",
        "Las redes neuronales y el aprendizaje de máquina es de las áreas de las ciencias que han tenido más desarrollo en las últimas épocas.\n",
        "\n",
        "Y una de las áreas en las que mayor aplicación han tenido estas disciplinas es en la **clasificicación automatizada**.\n",
        "\n",
        "Supongamos que nos interesa clasificar colores y dado que los colores se pueden ver como vectores con 3 componentes entonces podemos establecer distancias entre estos vectores para determinar que tan \"similares\" o \"distintos\" son unos de otros.\n",
        "\n",
        "A partir de este concepto de \"distancia\" (norma en un espacio vectorial) podemos comenzar a clasificar cualquier cosa que pueda ser caracterizada por un vector."
      ]
    },
    {
      "cell_type": "markdown",
      "metadata": {
        "id": "HSkmS9NAeENY"
      },
      "source": [
        "<a name='2'></a>\n",
        "\n",
        "# Mapa auto organizado (SOM)\n",
        "\n",
        "[regresar al contenido](#c1)\n",
        "\n",
        "Un mapa auto organizado o SOM por sus siglas en inglés (self-organized map) es una de las redes neuronales más sencilla y fáciles de implementar pero no por eso es un algoritmo que no tenga aplicación actualmente.\n",
        "\n",
        "Este tipo de red neuronal fue creado en la década de los 80's por el finlandés Teuvo Kohonen y se basa en modelos matemáticos de Alan Turing.\n",
        "\n",
        "La idea detrás de este algoritmo es muy sencilla y se describe de manera breve a continuación:\n",
        "\n",
        "*   Comenzamos con una red o mapa (matriz) de vectores o incluso de matrices en la cual todas las neuronas o entradas del mapa contienen valores aleatorios.\n",
        "*   Por cada elemento en la lista de entrenamiento, se evalua la norma (distancia) de este elemento contra cada neurona en la red.\n",
        "*   Tomamos aquella neurona cuya norma haya sido la menor y modificamos los valores de las neuronas vecinas para que se parezcan un poco al vector evaluado en esa iteración.\n",
        "*   Se repite este proceso hasta terminar las iteraciones o si la norma de la red actual y la red anterior no difiere mucho.\n"
      ]
    },
    {
      "cell_type": "markdown",
      "metadata": {
        "id": "fXB_2yBUeENZ"
      },
      "source": [
        "<a name='2-1'></a>\n",
        "\n",
        "## Formalización del algoritmo\n",
        "\n",
        "[regresar al contenido](#c1)\n",
        "\n",
        "\n",
        "Para dar un formalización de este algoritmo es necesario definir un conjunto de variables que son usadas durante el proceso de entrenamiento y clasificación de la red neuronal."
      ]
    },
    {
      "cell_type": "markdown",
      "metadata": {
        "id": "E9Vwj188eENa"
      },
      "source": [
        "<a name='2-2'></a>\n",
        "\n",
        "## Variables\n",
        "\n",
        "[regresar al contenido](#c1)\n",
        "\n",
        "\n",
        "*   $s$ es la iteración actual.\n",
        "*   $\\lambda$ cantidad de ciclos de entrenamiento o épocas.\n",
        "*   $t$ es el índice del vector de entrada en el conjunto de datos de entrada $D$.\n",
        "*   $D(t)$ es un vector de entrada de índice $t$ del conjunto de datos de entrada $D$.\n",
        "*   $v$ es el índice de una neurona en el mapa.\n",
        "*   $W_v$ es el vector de pesos de la neurona v.\n",
        "*   $u$ es el índice de la neurona cuya norma es la menor con respecto de $W_v$\n",
        "*   $\\Theta (u,v,s)$ es la función de vecindad que determina cuáles neuronas serán modificadas.\n",
        "*   $\\alpha (s)$ es una función que restringe el aprendizaje conforme avanzan las iteraciones."
      ]
    },
    {
      "cell_type": "markdown",
      "metadata": {
        "id": "XFtHyA_2eENb"
      },
      "source": [
        "<a name='2-3'></a>\n",
        "\n",
        "## Algoritmo\n",
        "\n",
        "[regresar al contenido](#c1)\n",
        "\n",
        "\n",
        "1.   Hacer un mapa (red) de neuronas con vectores de pesos aleatorios.\n",
        "2.   Tomar un vector de entrada $D(t)$.\n",
        "\n",
        ">1.   Iterar por cada neurona del mapa.\n",
        "\n",
        ">>1.   Calcular la distancia entre el vector de entrada y los vectores de pesos de las neuronas del mapa.\n",
        "2.   Mantener la neurona que ha tenido la menor distancia (norma), esta neurona será el best matching unit (BMU).\n",
        "\n",
        ">2.   Actualizar las neuronas en la vecindad del BMU.\n",
        "\n",
        ">> 1.   $W_{v}\\left(s+1\\right)=W_{v}\\left(s\\right)+\\Theta\\left(u,v,s\\right)\\alpha\\left(s\\right)\\left(D\\left(t\\right)-W_{v}\\left(s\\right)\\right)$\n",
        "\n",
        "3.   Incrementar $s$ y volver al paso 2, mientras $s<\\lambda$."
      ]
    },
    {
      "cell_type": "markdown",
      "metadata": {
        "id": "3nH1iHXCeENb"
      },
      "source": [
        "<a name='2-4'></a>\n",
        "\n",
        "## Tensor Flow\n",
        "\n",
        "[regresar al contenido](#c1)\n",
        "\n",
        "Tensor Flow es un API desarrollado por Google que tiene la finalidad de facilitar la implementación de redes neuronales.\n",
        "\n",
        "Se usa en múltiples aplicaciones de Google como su **reconocimiento automatizado de imagenes** en el buscador o en el **reconocimiento de patrones de voz** para su asistente virtual.\n",
        "\n",
        "Existen versiones de Tensor Flow optimizadas para hacer uso de GPU's (unidades de procesamiento grafico) o incluso de TPU's (unidades de procesamiento tensorial).\n",
        "\n",
        "Actualmente se encuentra en su versión 2.3 sin embargo para el ejemplo que veremos haremos uso de la versión 1.1.\n",
        "\n",
        "Su funcionamiento es muy intuitivo y se recomienda revisar su [documentación](https://www.tensorflow.org/api_docs) para una mayor comprensión del código mostrado a continuación"
      ]
    },
    {
      "cell_type": "markdown",
      "metadata": {
        "id": "M9a6TshheENc"
      },
      "source": [
        "<a name='2-5'></a>\n",
        "\n",
        "## Implementación\n",
        "\n",
        "[regresar al contenido](#c1)\n",
        "\n",
        "\n",
        "Para tener una mejor organización del algoritmo y mediante el paradigma orientado a objetos, se crea la **clase SOM** que encapsula las acciones que podemos llevar a cabo con un SOM.\n",
        "\n",
        "El código ha sido comentado para su mejor comprensión pero de manera general implementa el algoritmo descrito previamente."
      ]
    },
    {
      "cell_type": "code",
      "execution_count": null,
      "metadata": {
        "id": "rQ9w14nMeENd",
        "cellView": "form"
      },
      "outputs": [],
      "source": [
        "#@title\n",
        "#!pip install tensorflow==2.7.0.\n",
        "#import tensorflow as tf\n",
        "#import numpy as np\n",
        "#from matplotlib import pyplot as plt\n",
        "#%tensorflow_version 2.5.0\n",
        "\n",
        "class SOM(object):\n",
        "    \"\"\"\n",
        "    Clase que representa una red neuronal tipo SOM.\n",
        "    \"\"\"\n",
        "\n",
        "class SOM:\n",
        "    def __init__(self, m, n, dim, n_iterations=100, alpha=None, sigma=None):\n",
        "        self._m = m\n",
        "        self._n = n\n",
        "        self._neuronas = self._inicializar_neuronas()\n",
        "        self._pesos = tf.Variable(tf.random.normal([m*n, dim]))\n",
        "        self._n_iterations = n_iterations\n",
        "        self._alpha = alpha\n",
        "        self._sigma = sigma\n",
        "\n",
        "\n",
        "\n",
        "\n",
        "    #Para revisar si la red ya ha sido entrenada\n",
        "    _trained = False\n",
        "\n",
        "    def __init__(self, m, n, dim, n_iterations=100, alpha=None, sigma=None):\n",
        "        \"\"\"\n",
        "        Constructor que toma como parametros los valores descritos en el\n",
        "        algoritmo SOM. Genera un mapa de m renglones por n columnas y se entrenara\n",
        "        con n_iterations\n",
        "        \"\"\"\n",
        "\n",
        "        #Se inicializan variables que seran usadas a lo largo del coidgo\n",
        "        self._m = m\n",
        "        self._n = n\n",
        "        if alpha is None:\n",
        "            alpha = 0.3\n",
        "        else:\n",
        "            alpha = float(alpha)\n",
        "        if sigma is None:\n",
        "            sigma = max(m, n) / 2.0\n",
        "        else:\n",
        "            sigma = float(sigma)\n",
        "        self._n_iterations = abs(int(n_iterations))\n",
        "\n",
        "        '''SE NECESITA UNA GRAFICA (PLANO), hay una grafica\n",
        "        por default pero la guardamos en _graph'''\n",
        "        self._graph = tf.Graph()\n",
        "\n",
        "        '''SE CREAN LOS ELEMENTOS NECESARIOS EN LA GRAFICA'''\n",
        "        with self._graph.as_default():\n",
        "            '''SE CREAN TODAS LAS NEURONAS CON tf.Variable, son m*n\n",
        "            neuronas con dim pesos, que seran comparados con los pesos\n",
        "            de la entrada y la que tenga la menor distancia sera la\n",
        "            neurona ganadora. Antes de iniciar el entrenamiento, hay\n",
        "            hay que inicializar TODAS las variables'''\n",
        "\n",
        "            '''Lista de pesos de los vectores de la red neuronal'''\n",
        "         #   self._weightage_vects = tf.Variable(tf.random_normal(\n",
        "               # [m*n, dim]))\n",
        "            self._weightage_vects = tf.Variable(tf.random.normal([m*n, dim]))\n",
        "\n",
        "\n",
        "            '''Lista de 600 entradas, y cada entrada representa una\n",
        "            coordenada en la cual se encuentra cada neurona'''\n",
        "            self._location_vects = tf.constant(np.array(\n",
        "                list(self._neuron_locations(m, n))))\n",
        "\n",
        "            '''self._vect_input es un placeholder de tamano dim, ya que\n",
        "            es el objeto que sera alimentado con el vector de entrada y\n",
        "            a su vez este sera comparado con los pesos de cada neurona.\n",
        "            Esto es asi por el framework que da tensorflow'''\n",
        "            self._vect_input = tf.compat.v1.placeholder(\"float\", [dim])\n",
        "\n",
        "            '''Lo mismo sucede con esta variable, la diferencia es que en\n",
        "            este punto aun no se sabe cuantas iteraciones (epocas) seran\n",
        "            necesarias, asi que se deja en cero.'''\n",
        "            self._iter_input = tf.compat.v1.placeholder(\"float\")\n",
        "\n",
        "            '''Devuelve el indice con el menor valor, es decir la neurona mas cercana.'''\n",
        "            bmu_index = tf.argmin(tf.sqrt(tf.reduce_sum(\n",
        "                tf.pow(tf.subtract(self._weightage_vects, tf.stack(\n",
        "                    [self._vect_input for i in range(m*n)])), 2), 1)),\n",
        "                                  0)\n",
        "\n",
        "            '''Variable que guarda el indice y un espacio para el sus\n",
        "            coordenada'''\n",
        "            slice_input = tf.pad(tf.reshape(bmu_index, [1]),\n",
        "                                 np.array([[0, 1]]))\n",
        "            bmu_loc = tf.reshape(tf.slice(self._location_vects, slice_input,\n",
        "                                          tf.constant(np.array([1, 2]))),\n",
        "                                 [2])\n",
        "\n",
        "            '''Valores necesario para actualizar los pesos de las neuronas\n",
        "            de acuerdo a la iteracion (epoca)'''\n",
        "            learning_rate_op = tf.subtract(1.0, self._iter_input / self._n_iterations)\n",
        "\n",
        "            _alpha_op = tf.multiply(alpha, learning_rate_op)\n",
        "            _sigma_op = tf.multiply(sigma, learning_rate_op)\n",
        "\n",
        "            '''Calcula las distancias al cuadrado por cada neurona con respecto\n",
        "            a la neurona GANADORA (BMU). De tal manera que estos valores\n",
        "            puedan ser empleados para actualizar los pesos de los vecinos'''\n",
        "            bmu_distance_squares = tf.reduce_sum(tf.pow(tf.subtract(\n",
        "                self._location_vects, tf.stack(\n",
        "                    [bmu_loc for i in range(m*n)])), 2), 1)\n",
        "            neighbourhood_func = tf.exp(tf.negative(tf.divide(tf.cast(\n",
        "                bmu_distance_squares, \"float32\"), tf.pow(_sigma_op, 2))))\n",
        "            learning_rate_op = tf.multiply(_alpha_op, neighbourhood_func)\n",
        "\n",
        "            '''Tasa de aprendizaje para actualizar los pesos de las neuronas'''\n",
        "            learning_rate_multiplier = tf.stack([tf.tile(tf.slice(\n",
        "                learning_rate_op, np.array([i]), np.array([1])), [dim])\n",
        "                                               for i in range(m*n)])\n",
        "            weightage_delta = tf.multiply(\n",
        "                learning_rate_multiplier,\n",
        "                tf.subtract(tf.stack([self._vect_input for i in range(m*n)]),\n",
        "                       self._weightage_vects))\n",
        "\n",
        "            '''Actualiza todos los pesos de las neuronas de acuerdo a los\n",
        "            parametros calculados previamente'''\n",
        "            new_weightages_op = tf.add(self._weightage_vects,\n",
        "                                       weightage_delta)\n",
        "\n",
        "            '''Se guarda la ultima operacion realizada en la SOM, ya que\n",
        "            esta operacion sera la que se ejecute y a su vez ejecuta todas\n",
        "            las operaciones previar al llamar a sess.run()'''\n",
        "            self._training_op = tf.compat.v1.assign(self._weightage_vects, new_weightages_op)\n",
        "\n",
        "\n",
        "            '''En tensorflow todo debe ocurrir dentro de una sesion, es por\n",
        "            este motivo que se guarda la sesion'''\n",
        "            self._sess = tf.compat.v1.Session()\n",
        "\n",
        "            '''Forma en la tensorflow inicializa sus variables antes de ser\n",
        "            utilizadas'''\n",
        "            init_op = tf.compat.v1.global_variables_initializer()\n",
        "            self._sess.run(init_op)\n",
        "\n",
        "            '''centroid_grid es un mapa de bits en el cual se guardan los\n",
        "            valores de las neuronas. Es de tamano m, por que para cada renglon\n",
        "            se tienen n neuronas y sus respectivos valores. '''\n",
        "            centroid_grid = [[] for i in range(self._m)]\n",
        "            self._weightages = list(self._sess.run(self._weightage_vects))\n",
        "            self._locations = list(self._sess.run(self._location_vects))\n",
        "\n",
        "            '''Con este for, se accede a cada neurona por posicion y se guarda\n",
        "            en centroid_grid sus pesos. El resultado es un mapa de bits que puede\n",
        "            ser facilmente graficado por matplotlib. Es el mapa incial (SIN ENTRENAR)'''\n",
        "            for i, loc in enumerate(self._locations):\n",
        "                centroid_grid[loc[0]].append(self._weightages[i])\n",
        "            self._mapa_inicial = centroid_grid\n",
        "\n",
        "    def _neuron_locations(self, m, n):\n",
        "        '''Yield regresa un generador flojo, y hasta que es necesario\n",
        "        se evalua. Esto se hace para que no haya informacion no necesaria\n",
        "        en memoria. En el constructor el resultado de esta funcion se\n",
        "        mete en una lista para que sea accesible de inmediato'''\n",
        "        for i in range(m):\n",
        "            for j in range(n):\n",
        "                yield np.array([i, j])\n",
        "\n",
        "    def train(self, input_vects):\n",
        "        '''Para cada iteracion (epoca) se realiza el entrenamiento'''\n",
        "        for iter_no in range(self._n_iterations):\n",
        "            actual = self._sess.run(tf.norm(self._weightage_vects))\n",
        "            #Se entrena con cada vector uno por uno\n",
        "            for input_vect in input_vects:\n",
        "                self._sess.run(self._training_op,\n",
        "                               feed_dict={self._vect_input: input_vect,\n",
        "                                          self._iter_input: iter_no})\n",
        "            siguiente = self._sess.run(tf.norm(self._weightage_vects))\n",
        "            '''Si la norma del mapa actual no varia mucho con respecto\n",
        "            al siguiente, se rompe el ciclo de las epocas'''\n",
        "            if abs(siguiente - actual) <= 0.000001:\n",
        "                break\n",
        "\n",
        "        '''centroid_grid es un mapa de bits en el cual se guardan los\n",
        "            valores de las neuronas. Es de tamano m, por que para cada renglon\n",
        "            se tienen n neuronas y sus respectivos valores. '''\n",
        "        centroid_grid = [[] for i in range(self._m)]\n",
        "        self._weightages = list(self._sess.run(self._weightage_vects))\n",
        "        self._locations = list(self._sess.run(self._location_vects))\n",
        "\n",
        "        '''Con este for, se accede a cada neurona por posicion y se guarda\n",
        "            en centroid_grid sus pesos. El resultado es un mapa de bits que puede\n",
        "            ser facilmente graficado por matplotlib. En este punto la red ya esta entrenada.'''\n",
        "        for i, loc in enumerate(self._locations):\n",
        "            centroid_grid[loc[0]].append(self._weightages[i])\n",
        "        self._centroid_grid = centroid_grid\n",
        "\n",
        "        '''En este punto la red ya esta entrenada.'''\n",
        "        self._trained = True\n",
        "\n",
        "    def get_centroids(self):\n",
        "        # Solo devuelve los centroides para que puendan ser graficados\n",
        "        if not self._trained:\n",
        "            raise ValueError(\"La red aun no ha sido entrenada\")\n",
        "        return self._centroid_grid\n",
        "\n",
        "    def map_vects(self, input_vects):\n",
        "        '''to_return es la lista que contiene las coordenadas (x,y) de la\n",
        "        neurona que mas se parece a cada una de las entradas de input_vects\n",
        "        en el mismo orden'''\n",
        "\n",
        "        if not self._trained:\n",
        "            raise ValueError(\"SOM not trained yet\")\n",
        "\n",
        "        to_return = []\n",
        "        for vect in input_vects:\n",
        "            min_index = min([i for i in range(len(self._weightages))],\n",
        "                            key=lambda x: np.linalg.norm(vect-\n",
        "                                                         self._weightages[x]))\n",
        "            to_return.append(self._locations[min_index])\n",
        "\n",
        "        return to_return\n",
        "\n",
        "    def map_vect(self, vect):\n",
        "        '''\n",
        "        Mapea un solo vector y devuelve la clasificacion vista como\n",
        "        un indice relacionado a la coordenada (x,y) de la neurona\n",
        "        '''\n",
        "\n",
        "        min_index = min([i for i in range(len(self._weightages))],\n",
        "                        key=lambda x: np.linalg.norm(\n",
        "                            vect - self._weightages[x]))\n",
        "        pos2D = self._locations[min_index]\n",
        "        # polinomio de direccionamiento de la neurona\n",
        "        #return pos2D[0]*self._m + pos2D[1], pos2D\n",
        "        return (pos2D[1], pos2D[0])"
      ]
    },
    {
      "cell_type": "markdown",
      "metadata": {
        "id": "SxxT-7YFeENh"
      },
      "source": [
        "<a name='2-6'></a>\n",
        "\n",
        "## Métodos relevantes\n",
        "\n",
        "[regresar al contenido](#c1)\n",
        "\n",
        "Todo el código escrito para la clase SOM tiene un objetivo en específico sin embargo para fines prácticos nos enfocaremos en un par de métodos que tienen relación directa con el concepto de norma."
      ]
    },
    {
      "cell_type": "markdown",
      "metadata": {
        "id": "HZhncSQGeENi"
      },
      "source": [
        "<a name='2-7'></a>\n",
        "\n",
        "## Método *train*\n",
        "\n",
        "[regresar al contenido](#c1)\n",
        "\n",
        "Este método se encarga de realizar el ciclo de entrenamiento de la red neuronal, en este método se compara cada uno de los vectores de entrada contra todas las neuronas de la red.\n",
        "\n",
        "Una vez que se localiza la BMU se actualizan los pesos de las neuronas vecinas empleando la funcion de vecindad y la funcion de aprendizaje.\n",
        "\n",
        "El entrenamiento concluye una vez que han terminado las iteraciones o epocas, aunque también se concluye el entrenamiento si las redes en la iteración actual y en la siguiente no difieren demasiado y eso lo sabemos **calculando la norma a ambas redes**."
      ]
    },
    {
      "cell_type": "markdown",
      "metadata": {
        "id": "J_p5CvH8eENj"
      },
      "source": [
        "<a name='2-8'></a>\n",
        "\n",
        "## Método *map_vect*\n",
        "\n",
        "[regresar al contenido](#c1)\n",
        "\n",
        "Este método es el encargado de recibir un vector y devolvernos la neurona (en forma de coordenada dentro del mapa) cuya distancia (empleando la norma) sea la menor, eso significa que esa neurona es la más parecida al vector de entrada, en otras palabras obtenemos la clasificación del vector que le mostramos a la red.\n",
        "\n",
        "Si conocemos el nombre o identificador de la neurona que se parece al vector de entrada podemos asignarle esa clasificación al vector de entrada.\n",
        "\n",
        "En esta implementación se usan colores, de manera que al mostrar un color en forma de vector (R, G, B) esta red nos indica a que color se parece mas un vector."
      ]
    },
    {
      "cell_type": "markdown",
      "metadata": {
        "id": "uv04d3BCeENj"
      },
      "source": [
        "<a name='3'></a>\n",
        "\n",
        "# Ejecución\n",
        "\n",
        "[regresar al contenido](#c1)\n",
        "\n",
        "\n",
        "Se define una lista de colores en formato RGB (red blue green) para entrenar a la red neuronal. De igual manera se crea una lista con los nombres de los colores en la lista de colores.\n",
        "\n",
        "Se genera un objeto de tipo SOM con sus respectivos parametros.\n",
        "\n",
        "Mostramos la red inicial con colores aleatorios.\n",
        "\n",
        "Se entrena la red de acuerdo a la descripción del algoritmo y a las restricciones del mismo.\n",
        "\n",
        "Posteriormente se muestra la red entrenada.\n",
        "\n",
        "Finalmente se le muestra un color en forma de vector a la red neuronal ya entrenada y esta devuelve un par de coordenadas, lo que en otras palabras significa que nos vevuelve las coordenadas de la neurona que se parece más al color mostrado. Es decir, nos devuelve una clasificación del color mostrado."
      ]
    },
    {
      "cell_type": "code",
      "execution_count": null,
      "metadata": {
        "id": "N-SrTQ16eENk",
        "cellView": "form"
      },
      "outputs": [],
      "source": [
        "#@title\n",
        "from matplotlib import pyplot as plt\n",
        "\n",
        "# Vectores de entrenamiento RGBcolors\n",
        "colores = np.array(\n",
        "     [[0., 0., 0.],\n",
        "      [0., 0., 1.],\n",
        "      [0., 0., 0.5],\n",
        "      [0.125, 0.529, 1.0],\n",
        "      [0.33, 0.4, 0.67],\n",
        "      [0.6, 0.5, 1.0],\n",
        "      [0., 1., 0.],\n",
        "      [1., 0., 0.],\n",
        "      [0., 1., 1.],\n",
        "      [1., 0., 1.],\n",
        "      [1., 1., 0.],\n",
        "      [1., 1., 1.],\n",
        "      [.33, .33, .33],\n",
        "      [.5, .5, .5],\n",
        "      [.66, .66, .66]])\n",
        "nombres_colores = \\\n",
        "    ['negro', 'azul', 'azul marino', 'azul cielo',\n",
        "     'gris azulado', 'lila', 'verde', 'rojo',\n",
        "     'cyan', 'violeta', 'amarillo', 'blanco',\n",
        "     'gris obscuro', 'gris medio', 'gris claro']\n",
        "\n",
        "# Creamos un SOM de 20x30, cada entrada de la red\n",
        "# es un vector de tamano 3 (R,G,B) y se entrena 400 veces\n",
        "som = SOM(20, 30, 3, 400)\n",
        "\n",
        "# Se muestra el mapa inicial\n",
        "mapa_inicial = som._mapa_inicial\n",
        "plt.imshow(mapa_inicial)\n",
        "plt.title('Red Neuronal Inicial')\n",
        "plt.show()\n",
        "\n",
        "# Se entrena la red con un conjunto de colores\n",
        "som.train(colores)\n",
        "\n",
        "# Obtenemos el SOM ya entrenado\n",
        "red_entrenada = som.get_centroids()\n",
        "\n",
        "# Contiene la lista de coordenadas de los correspondientes colores\n",
        "mapped = som.map_vects(colores)\n",
        "\n",
        "# Grafica\n",
        "plt.imshow(red_entrenada)\n",
        "plt.title('Red Neuronal Entrenada')\n",
        "for i, m in enumerate(mapped):\n",
        "    plt.text(m[1], m[0], nombres_colores[i], ha='center', va='center',\n",
        "             bbox=dict(facecolor='white', alpha=0.5, lw=0))\n",
        "plt.show()\n",
        "\n",
        "# Se le muestra un color en forma de vector, en este caso azul cielo\n",
        "# para que indique a que neurona se parece mas\n",
        "print(\"El color azul cielo se encuentra en la neurona \"+str(som.map_vect([0.125, 0.529, 1.0])))\n",
        "\n"
      ]
    },
    {
      "cell_type": "markdown",
      "metadata": {
        "id": "Wb-bnkbleENk"
      },
      "source": [
        "<a name='4'></a>\n",
        "\n",
        "# Mostrando mas colores\n",
        "\n",
        "[regresar al contenido](#c1)\n",
        "\n",
        "Una vez que la red (mapa) ya fue entrenada, es posible mostrarle cualquier color en forma de vector (R,G,B) y la red nos mostrará que clasificación le corresponde, por ejemplo."
      ]
    },
    {
      "cell_type": "code",
      "execution_count": null,
      "metadata": {
        "id": "b1NgrhoUeENl",
        "outputId": "3c3bc5a0-934b-4724-e3e7-c1e847d0662f",
        "colab": {
          "base_uri": "https://localhost:8080/"
        },
        "cellView": "form"
      },
      "outputs": [
        {
          "output_type": "stream",
          "name": "stdout",
          "text": [
            "El color amarillo se encuentra en la neurona (29, 8)\n"
          ]
        }
      ],
      "source": [
        "#@title\n",
        "print(\"El color amarillo se encuentra en la neurona \"+str(som.map_vect([1., 1., 0.])))\n"
      ]
    },
    {
      "cell_type": "markdown",
      "metadata": {
        "id": "f1YkxVpfeENl"
      },
      "source": [
        "<a name='5'></a>\n",
        "\n",
        "# Extendiendo este modelo\n",
        "\n",
        "[regresar al contenido](#c1)\n",
        "\n",
        "La implementación en este documento se realizo con colores, ya que facilitan la comprensión del funcionamiento del algoritmo en general.\n",
        "\n",
        "Sin ambargo esta red neuronal puede ser aplicada a cualquier espacio vectorial, en otras palabras, este algoritmo puede ser aplicado a cualquier objeto que podamos representar en forma de vector o matriz."
      ]
    },
    {
      "cell_type": "markdown",
      "metadata": {
        "id": "2heRTzn_eENm"
      },
      "source": [
        "<a name='5-1'></a>\n",
        "\n",
        "# Clasificación de Documentos o Imágenes\n",
        "\n",
        "[regresar al contenido](#c1)\n",
        "\n",
        "Para clasificar documentos el algoritmo es exactamente el mismo, lo único que cambia es que tenemos que obtener un **vector caracteristico** para los documentos que nos interes clasificar. Este vector caracteristico se puede obtener de formas muy variadas y una de ellas es **contando la frecuencia de las plabras** que aparecen en dicho documento.\n",
        "\n",
        "Respecto a la clasificación de imágenes, una imagen finalmente es un **mapa de pixeles**, mismo que puede ser representado por un vector de vectores, es decir un **vector de colores**, lo que en si ya un vector caracteristico de dicha imágen.\n",
        "\n",
        "Una ejemplo de lo antes descrito lo puedes encontrar en el siguiente link [LearningFlow](https://prezi.com/view/FuZdM2ABkVyCHfUj2JBx/)."
      ]
    },
    {
      "cell_type": "markdown",
      "source": [
        "## El código mostrado previamente fue desarrollado con tensorflow y desafortunadamente ha quedado obsoleto, pero estamos en proceso de actualización."
      ],
      "metadata": {
        "id": "qssa956h_aI2"
      }
    },
    {
      "cell_type": "code",
      "source": [
        "import numpy as np\n",
        "import matplotlib.pyplot as plt\n",
        "\n",
        "# Return the (g,h) index of the BMU in the grid\n",
        "def find_BMU(SOM,x):\n",
        "    distSq = (np.square(SOM - x)).sum(axis=2)\n",
        "    return np.unravel_index(np.argmin(distSq, axis=None), distSq.shape)\n",
        "\n",
        "# Update the weights of the SOM cells when given a single training example\n",
        "# and the model parameters along with BMU coordinates as a tuple\n",
        "def update_weights(SOM, train_ex, learn_rate, radius_sq,\n",
        "                   BMU_coord, step=3):\n",
        "    g, h = BMU_coord\n",
        "    #if radius is close to zero then only BMU is changed\n",
        "    if radius_sq < 1e-3:\n",
        "        SOM[g,h,:] += learn_rate * (train_ex - SOM[g,h,:])\n",
        "        return SOM\n",
        "    # Change all cells in a small neighborhood of BMU\n",
        "    for i in range(max(0, g-step), min(SOM.shape[0], g+step)):\n",
        "        for j in range(max(0, h-step), min(SOM.shape[1], h+step)):\n",
        "            dist_sq = np.square(i - g) + np.square(j - h)\n",
        "            dist_func = np.exp(-dist_sq / 2 / radius_sq)\n",
        "            SOM[i,j,:] += learn_rate * dist_func * (train_ex - SOM[i,j,:])\n",
        "    return SOM\n",
        "\n",
        "# Main routine for training an SOM. It requires an initialized SOM grid\n",
        "# or a partially trained grid as parameter\n",
        "def train_SOM(SOM, train_data, learn_rate = .1, radius_sq = 1,\n",
        "             lr_decay = .1, radius_decay = .1, epochs = 10):\n",
        "    learn_rate_0 = learn_rate\n",
        "    radius_0 = radius_sq\n",
        "    for epoch in np.arange(0, epochs):\n",
        "        rand.shuffle(train_data)\n",
        "        for train_ex in train_data:\n",
        "            g, h = find_BMU(SOM, train_ex)\n",
        "            SOM = update_weights(SOM, train_ex,\n",
        "                                 learn_rate, radius_sq, (g,h))\n",
        "        # Update learning rate and radius\n",
        "        learn_rate = learn_rate_0 * np.exp(-epoch * lr_decay)\n",
        "        radius_sq = radius_0 * np.exp(-epoch * radius_decay)\n",
        "    return SOM"
      ],
      "metadata": {
        "id": "t8My9uDc_nho"
      },
      "execution_count": 6,
      "outputs": []
    },
    {
      "cell_type": "code",
      "source": [
        "# Dimensions of the SOM grid\n",
        "m = 10\n",
        "n = 10\n",
        "# Number of training examples\n",
        "n_x = 3000\n",
        "rand = np.random.RandomState(0)\n",
        "# Initialize the training data\n",
        "train_data = rand.randint(0, 255, (n_x, 3))\n",
        "# Initialize the SOM randomly\n",
        "SOM = rand.randint(0, 255, (m, n, 3)).astype(float)\n",
        "# Display both the training matrix and the SOM grid\n",
        "fig, ax = plt.subplots(\n",
        "    nrows=1, ncols=2, figsize=(12, 3.5),\n",
        "    subplot_kw=dict(xticks=[], yticks=[]))\n",
        "ax[0].imshow(train_data.reshape(50, 60, 3))\n",
        "ax[0].title.set_text('Training Data')\n",
        "ax[1].imshow(SOM.astype(int))\n",
        "ax[1].title.set_text('Randomly Initialized SOM Grid')"
      ],
      "metadata": {
        "id": "pkcY12gJ_tyR",
        "outputId": "1a98262b-c559-47d4-a715-7ad684adab48",
        "colab": {
          "base_uri": "https://localhost:8080/",
          "height": 328
        }
      },
      "execution_count": 7,
      "outputs": [
        {
          "output_type": "display_data",
          "data": {
            "text/plain": [
              "<Figure size 1200x350 with 2 Axes>"
            ],
            "image/png": "[encoded data removed]"
          },
          "metadata": {}
        }
      ]
    },
    {
      "cell_type": "code",
      "source": [
        "fig, ax = plt.subplots(\n",
        "    nrows=1, ncols=4, figsize=(15, 3.5),\n",
        "    subplot_kw=dict(xticks=[], yticks=[]))\n",
        "total_epochs = 0\n",
        "for epochs, i in zip([1, 4, 5, 10], range(0,4)):\n",
        "    total_epochs += epochs\n",
        "    SOM = train_SOM(SOM, train_data, epochs=epochs)\n",
        "    ax[i].imshow(SOM.astype(int))\n",
        "    ax[i].title.set_text('Epochs = ' + str(total_epochs))"
      ],
      "metadata": {
        "id": "5dVmoGAY_x9j",
        "outputId": "e9998c5e-9faa-45e9-864f-7d0ea4d4c036",
        "colab": {
          "base_uri": "https://localhost:8080/",
          "height": 312
        }
      },
      "execution_count": 3,
      "outputs": [
        {
          "output_type": "display_data",
          "data": {
            "text/plain": [
              "<Figure size 1500x350 with 4 Axes>"
            ],
            "image/png": "[encoded data removed]"
          },
          "metadata": {}
        }
      ]
    },
    {
      "cell_type": "code",
      "source": [
        "fig, ax = plt.subplots(\n",
        "    nrows=3, ncols=3, figsize=(15, 15),\n",
        "    subplot_kw=dict(xticks=[], yticks=[]))\n",
        "\n",
        "# Initialize the SOM randomly to the same state\n",
        "\n",
        "for learn_rate, i in zip([0.001, 0.5, 0.99], [0, 1, 2]):\n",
        "    for radius_sq, j in zip([0.01, 1, 10], [0, 1, 2]):\n",
        "        rand = np.random.RandomState(0)\n",
        "        SOM = rand.randint(0, 255, (m, n, 3)).astype(float)\n",
        "        SOM = train_SOM(SOM, train_data, epochs = 5,\n",
        "                        learn_rate = learn_rate,\n",
        "                        radius_sq = radius_sq)\n",
        "        ax[i][j].imshow(SOM.astype(int))\n",
        "        ax[i][j].title.set_text('$\\eta$ = ' + str(learn_rate) +\n",
        "                                ', $\\sigma^2$ = ' + str(radius_sq))"
      ],
      "metadata": {
        "id": "rMPhrG90_3xj",
        "outputId": "1806a8e4-ceee-407e-85ac-7d88722191df",
        "colab": {
          "base_uri": "https://localhost:8080/",
          "height": 1000
        }
      },
      "execution_count": 4,
      "outputs": [
        {
          "output_type": "display_data",
          "data": {
            "text/plain": [
              "<Figure size 1500x1500 with 9 Axes>"
            ],
            "image/png": "[encoded data removed]"
          },
          "metadata": {}
        }
      ]
    },
    {
      "cell_type": "code",
      "source": [
        "#turquesa\n",
        "print(find_BMU(SOM,(64,224,208)))\n",
        "\n",
        "#rojo\n",
        "print(find_BMU(SOM,(255,0,0)))"
      ],
      "metadata": {
        "id": "eIPA6Z7PAD0p",
        "outputId": "f5b53aad-062f-4e12-e72d-c1d0a03d60e3",
        "colab": {
          "base_uri": "https://localhost:8080/"
        }
      },
      "execution_count": 5,
      "outputs": [
        {
          "output_type": "stream",
          "name": "stdout",
          "text": [
            "(8, 9)\n",
            "(0, 1)\n"
          ]
        }
      ]
    },
    {
      "cell_type": "markdown",
      "metadata": {
        "id": "pdtYmJzBeENq"
      },
      "source": [
        "<a name='6'></a>\n",
        "\n",
        "# Referencias\n",
        "\n",
        "[regresar al contenido](#c1)\n",
        "\n",
        "\n",
        "*   https://codesachin.wordpress.com/2015/11/28/self-organizing-maps-with-googles-tensorflow/\n",
        "*   http://www.saedsayad.com/clustering_som.htm\n",
        "*   https://www.tensorflow.org/install\n",
        "*   https://relopezbriega.github.io/blog/2016/06/05/tensorflow-y-redes-neuronales/"
      ]
    }
  ],
  "metadata": {
    "kernelspec": {
      "display_name": "Python 3 (ipykernel)",
      "language": "python",
      "name": "python3"
    },
    "language_info": {
      "codemirror_mode": {
        "name": "ipython",
        "version": 3
      },
      "file_extension": ".py",
      "mimetype": "text/x-python",
      "name": "python",
      "nbconvert_exporter": "python",
      "pygments_lexer": "ipython3",
      "version": "3.8.10"
    },
    "colab": {
      "provenance": [],
      "toc_visible": true,
      "include_colab_link": true
    }
  },
  "nbformat": 4,
  "nbformat_minor": 0
}
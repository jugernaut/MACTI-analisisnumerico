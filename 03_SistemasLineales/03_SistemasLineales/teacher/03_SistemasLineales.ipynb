{
  "cells": [
    {
      "cell_type": "markdown",
      "metadata": {
        "id": "view-in-github",
        "colab_type": "text"
      },
      "source": [
        "<a href=\"https://colab.research.google.com/github/jugernaut/MACTI-analisisnumerico/blob/main/03_SistemasLineales/03_SistemasLineales/teacher/03_SistemasLineales.ipynb\" target=\"_parent\"><img src=\"https://colab.research.google.com/assets/colab-badge.svg\" alt=\"Open In Colab\"/></a>"
      ]
    },
    {
      "cell_type": "markdown",
      "metadata": {
        "id": "mdEtYlhXs93-"
      },
      "source": [
        "<font color=\"Teal\" face=\"Comic Sans MS,arial\">\n",
        "  <h1 align=\"center\"><i>Sistemas lineales</i></h1>\n",
        "  </font>\n",
        "  <font color=\"Black\" face=\"Comic Sans MS,arial\">\n",
        "  <h5 align=\"center\"><i>Profesor: M. en C. Miguel Angel Pérez León.</i></h5>\n",
        "    <h5 align=\"center\"><i>Ayudante: Diana Laura Rojas Cristino</i></h5>\n",
        "  <h5 align=\"center\"><i>Materia: Análisis Numérico.</i></h5>\n",
        "  </font>"
      ]
    },
    {
      "cell_type": "markdown",
      "metadata": {
        "id": "dyPHDTeBs94E"
      },
      "source": [
        "**Objetivo general**\n",
        "\n",
        "* Aprender los fundamentos matemáticos de los sistemas lineales.\n",
        "\n",
        "**Objetivos particulares**\n",
        "\n",
        "* Conocer las ventajas de calcular la matriz inversa."
      ]
    },
    {
      "cell_type": "markdown",
      "metadata": {
        "id": "f7Shf1Wls94G"
      },
      "source": [
        "<a name='c1'></a>\n",
        "\n",
        "## Contenido\n",
        "\n",
        "- [Introducción](#1)\n",
        "- [Representación Matricial](#2)\n",
        "- [Interpretación](#3)\n",
        "    - [Ejemplo](#3-1)\n",
        "- [ Interpretación general](#4)\n",
        "    - [Inversa de la matriz A](#4-1)\n",
        "    - [Inconveniente del cálculo de la inversa de una matriz](#4-2)\n",
        "- [Referencias](#5)"
      ]
    },
    {
      "cell_type": "markdown",
      "metadata": {
        "id": "NHNXzsK-s94H"
      },
      "source": [
        "<a name='1'></a>\n",
        "\n",
        "# Introducción\n",
        "\n",
        "[regresar al contenido](#c1)\n",
        "\n",
        "Múltiples problemas de las ciencias exactas implican la resolución de sistemas de $N$ ecuaciones lineales con $N$ incógnitas.\n",
        "\n",
        "Estos sistemas tienen un sin fin de aplicaciones, desde aplicaciones económicas como aplicaciones en medicina o incluso en inteligencia artificial.\n",
        "\n",
        "En el caso general, un sistema de $N$ ecuaciones lineales con $N$ incógnitas $x_{i}$ se puede presentar en la forma.\n",
        "\n",
        "$$Sistema = \\begin{cases}\n",
        "f_{1}(x_{1},x_{2},\\ldots,x_{n}) & =0\\\\\n",
        "f_{2}(x_{1},x_{2},\\ldots,x_{n}) & =0 \\\\\n",
        "\\vdots \\\\\n",
        "f_{n}(x_{1},x_{2},\\ldots,x_{n}) & =0\n",
        "\\end{cases}$$\n",
        "\n",
        "Usando notación vectorial, podemos reescribir el sistema en una forma más elegante:\n",
        "\n",
        "$$ F(\\vec{X})=\\vec{0}$$\n",
        "\n",
        "Definiendo vectores columna como\n",
        "\n",
        "$$F\t=\t\\left[f_{1},f_{2},\\ldots,f_{N}\\right]^{T}$$\n",
        "\n",
        "$$ \\vec{X}\t=\t\\left[x_{1,}x_{2},\\ldots,x_{N}\\right]$$\n",
        "\n",
        "$$ \\vec{0}\t=\t\\left[0_{1},0_{2},\\ldots,0_{N}\\right]^{T}$$\n",
        "\n",
        "Y considerando que cada una de las $f_{i}$ son ecuaciones lineales."
      ]
    },
    {
      "cell_type": "markdown",
      "metadata": {
        "id": "2tOTlfdEs94J"
      },
      "source": [
        "<a name='2'></a>\n",
        "\n",
        "# Representación Matricial\n",
        "\n",
        "[regresar al contenido](#c1)\n",
        "\n",
        "Otra forma en la cual podemos representar este sistema de $N$ ecuaciones con $N$ incógnitas es mediante la representación matricial.\n",
        "\n",
        "$$A\\vec{x}=\\vec{b}$$\n",
        "\n",
        "Con $A\\in M_{n\\times n}$ y $\\vec{x}, \\vec{b} \\in \\mathbb{R}^{n}$, es decir.\n",
        "\n",
        "$$\\left(\\begin{array}{ccccccc}\n",
        "a_{11} & a_{12} & \\cdots & \\cdots & \\cdots & \\cdots & a_{1n}\\\\\n",
        "a_{21} & a_{22} & \\cdots & \\cdots & \\cdots & \\cdots & a_{2n}\\\\\n",
        "\\vdots & \\ddots & \\ddots & \\ddots & \\ddots & \\ddots & \\vdots\\\\\n",
        "\\vdots & \\ddots & \\ddots & \\ddots & \\ddots & \\ddots & \\vdots\\\\\n",
        "\\vdots & \\ddots & \\ddots & \\ddots & \\ddots & \\ddots & \\vdots\\\\\n",
        "a_{n1} & \\cdots & \\cdots & \\cdots & \\cdots & \\cdots & a_{nn}\n",
        "\\end{array}\\right)\\left(\\begin{array}{c}\n",
        "x_{1}\\\\\n",
        "x_{2}\\\\\n",
        "\\vdots\\\\\n",
        "\\vdots\\\\\n",
        "\\vdots\\\\\n",
        "x_{n}\n",
        "\\end{array}\\right)=\\left(\\begin{array}{c}\n",
        "0\\\\\n",
        "0\\\\\n",
        "\\vdots\\\\\n",
        "\\vdots\\\\\n",
        "\\vdots\\\\\n",
        "0\n",
        "\\end{array}\\right)$$\n",
        "\n",
        "Recordando un poco temas de álgebra lineal podemos concluir que este sistema tendrá solución única, siempre y cuando el determinante de la matriz $A$, sea diferente de cero, ya que en otro caso el sistema $A\\vec{x}=\\vec{b}$ no tiene solución ó tiene infinidad de soluciones. El hecho de que el determinante de una matriz sea diferente de cero está directamente relacionado con la dimensión del espacio generado por los vectores columna de la matriz $A$ y también con respecto a las combinaciones lineales que estos generan, por lo que se recomienda enfáticamente revisar las referencias a estos temas para una mejor comprensión del tema o también ver esta [serie de videos](https://www.youtube.com/watch?v=fNk_zzaMoSs).\n",
        "\n",
        "\n",
        "Por otro lado también se recomienda revisar el siguiente [material de apoyo](https://github.com/jugernaut/Prometeo/tree/master/02_AlgebraLineal)."
      ]
    },
    {
      "cell_type": "markdown",
      "metadata": {
        "id": "nBhvoPZQs94K"
      },
      "source": [
        "<a name='3'></a>\n",
        "\n",
        "# Interpretación\n",
        "\n",
        "[regresar al contenido](#c1)\n",
        "\n",
        "\n",
        "Al intentar resolver un sistema lineal de ecuaciones, nos podemos topar con las siguientes opciones:\n",
        "\n",
        "*   Sistema incompatible (carece de solución).\n",
        "*   Sistema compatible y determinado (solución única).\n",
        "*   Sistema compatible e indeterminado (infinitas soluciones).\n",
        "\n",
        "Supongamos que tenemos un sistema lineal de 2 ecuaciones con 2 incógnitas, es decir que tenemos las ecuaciones de dos rectas:\n",
        "\n",
        "\n",
        "$$\n",
        "\\begin{matrix}\n",
        "a_{00} x_0 + a_{01} x_1 = b_0 \\\\\n",
        "a_{10} x_0 + a_{11} x_1 = b_1\n",
        "\\end{matrix}\n",
        "$$\n",
        "\n",
        "que en forma matricial se escriben como: $A\\vec{x}=\\vec{b}$\n",
        "\n",
        "$$\\left(\\begin{array}{cc}\n",
        "a_{00} & a_{01}\\\\\n",
        "a_{10} & a_{11}\n",
        "\\end{array}\\right)\\left(\\begin{array}{c}\n",
        "x_{0}\\\\\n",
        "x_{1}\n",
        "\\end{array}\\right)=\\left(\\begin{array}{c}\n",
        "b_{0}\\\\\n",
        "b_{1}\n",
        "\\end{array}\\right)$$\n",
        "\n",
        "La solución (en caso de existir) representa el **punto en el cual estas dos rectas se intersectan**. Por el contrario, en caso de que no exista solución eso significa que **ambas rectas son paralelas**, por lo que no existe intersección. Finalmente en caso de que ambas rectas no sean linealmente independientes, podemos decir que **existe una infinidad de soluciones** al sistema."
      ]
    },
    {
      "cell_type": "markdown",
      "metadata": {
        "id": "kIuyGbLns94M"
      },
      "source": [
        "<a name='3-1'></a>\n",
        "\n",
        "# Ejemplo\n",
        "\n",
        "[regresar al contenido](#c1)\n",
        "\n",
        "Sea el sistema lineal\n",
        "\n",
        "$$\n",
        "\\begin{matrix}\n",
        "-1 x_0 + 3 x_1 = 3 \\\\\n",
        "1 x_0 + 4 x_1 = 8\n",
        "\\end{matrix}\n",
        "$$\n",
        "\n",
        "O en su representación matricial $A\\vec{x}=\\vec{b}$\n",
        "\n",
        "$$\\left(\\begin{array}{cc}\n",
        "-1 & 3\\\\\n",
        "1 & 4\n",
        "\\end{array}\\right)\\left(\\begin{array}{c}\n",
        "x_{0}\\\\\n",
        "x_{1}\n",
        "\\end{array}\\right)=\\left(\\begin{array}{c}\n",
        "3\\\\\n",
        "8\n",
        "\\end{array}\\right)$$\n",
        "\n",
        "Las ecuaciones de las rectas se pueden escribir como:\n",
        "\n",
        "$$\n",
        "\\begin{array}{ccc}\n",
        "-\\dfrac{1}{3}x_0 + x_1 = \\dfrac{3}{3} \\\\\n",
        "\\quad\\dfrac{1}{4}x_0 + x_1 = \\dfrac{8}{4}\n",
        "\\end{array} \\Longrightarrow\n",
        "\\begin{array}{ccc}\n",
        "y_0 = m_0 x + b_0 \\\\\n",
        "y_1 = m_1 x + b_1\n",
        "\\end{array} \\text{ donde }\n",
        "\\begin{array}{ccc}\n",
        "m_0 = \\dfrac{1}{3}, b_0 = 1 \\\\\n",
        "m_1 = -\\dfrac{1}{4}, b_1 = \\dfrac{8}{4}\n",
        "\\end{array}\n",
        "$$"
      ]
    },
    {
      "cell_type": "code",
      "execution_count": null,
      "metadata": {
        "id": "on9dMgb6s94O",
        "outputId": "bb07f960-dee6-486a-93fc-e8a2fac786cf",
        "colab": {
          "base_uri": "https://localhost:8080/",
          "height": 489
        }
      },
      "outputs": [
        {
          "output_type": "execute_result",
          "data": {
            "text/plain": [
              "<matplotlib.legend.Legend at 0x7a5d14303700>"
            ]
          },
          "metadata": {},
          "execution_count": 1
        },
        {
          "output_type": "display_data",
          "data": {
            "text/plain": [
              "<Figure size 640x480 with 1 Axes>"
            ],
            "image/png": "[encoded data removed]"
          },
          "metadata": {}
        }
      ],
      "source": [
        "import numpy as np\n",
        "import matplotlib.pyplot as plt\n",
        "%matplotlib inline\n",
        "# definicion de las pendientes y ordenada al origen\n",
        "m0 = 1/3\n",
        "b0 = 1\n",
        "m1 = -1/4\n",
        "b1 = 2\n",
        "# dominio en el cual se genera la grafica\n",
        "x = np.linspace(0,3,10)\n",
        "# definicion de las rectas\n",
        "y0 = m0 * x + b0\n",
        "y1 = m1 * x + b1\n",
        "# se grafican ambas rectas\n",
        "plt.plot(x,y0,label = '$-1x_0+3x_1=3$', color='crimson')\n",
        "plt.plot(x,y1,label = '$1x_0+4x_1=8$', color='b' )\n",
        "plt.xlabel('$x$')\n",
        "plt.ylabel('$y$')\n",
        "plt.title('Cruce de rectas')\n",
        "plt.grid()\n",
        "plt.legend()"
      ]
    },
    {
      "cell_type": "markdown",
      "metadata": {
        "id": "CbMHcLZys94R"
      },
      "source": [
        "Al resolver el sistema de ecuaciones obtenemos el punto en cual ambas rectas se intersectan"
      ]
    },
    {
      "cell_type": "code",
      "execution_count": null,
      "metadata": {
        "id": "Ap8P09dVs94S",
        "outputId": "84baa672-d37f-454d-88e0-89fc37a11b64",
        "colab": {
          "base_uri": "https://localhost:8080/",
          "height": 593
        }
      },
      "outputs": [
        {
          "output_type": "stream",
          "name": "stdout",
          "text": [
            "Matriz A : \n",
            " [[-1  3]\n",
            " [ 1  4]]\n",
            "Vector b : \n",
            " [3 8]\n",
            "solución del sistema:  [1.71428571 1.57142857]\n"
          ]
        },
        {
          "output_type": "execute_result",
          "data": {
            "text/plain": [
              "<matplotlib.legend.Legend at 0x7a5d1429fee0>"
            ]
          },
          "metadata": {},
          "execution_count": 2
        },
        {
          "output_type": "display_data",
          "data": {
            "text/plain": [
              "<Figure size 640x480 with 1 Axes>"
            ],
            "image/png": "[encoded data removed]"
          },
          "metadata": {}
        }
      ],
      "source": [
        "# definicion del sistema de ecuaciones\n",
        "A = np.matrix([[-1, 3],[1,4]] )\n",
        "b = np.array([3,8])\n",
        "print(\"Matriz A : \\n\",A)\n",
        "print(\"Vector b : \\n\", b)\n",
        "# solución del sistema empleando numpy\n",
        "sol = np.linalg.solve(A,b)\n",
        "print(\"solución del sistema: \", sol)\n",
        "# se grafican ambas rectas\n",
        "plt.plot(x,y0,label = 'Netflix', color='crimson')\n",
        "plt.plot(x,y1,label = 'BlockBuster', color='b' )\n",
        "plt.plot(sol[0],sol[1],'ro')\n",
        "plt.xlabel('$x$')\n",
        "plt.ylabel('$y$')\n",
        "plt.title('Cruce de rectas')\n",
        "plt.grid()\n",
        "plt.legend()"
      ]
    },
    {
      "cell_type": "markdown",
      "metadata": {
        "id": "TNHbebvQs94T"
      },
      "source": [
        "En este [video](https://www.youtube.com/watch?v=MisZYKmoKYU) se muestra una de las muchas aplicaciones e interpretaciones que se le pueda dar al concepto de solución de sistemas de ecuaciones lineales."
      ]
    },
    {
      "cell_type": "markdown",
      "metadata": {
        "id": "Xd1rv4mDs94U"
      },
      "source": [
        "<a name='4'></a>\n",
        "\n",
        "#  Interpretación general\n",
        "\n",
        "[regresar al contenido](#c1)\n",
        "\n",
        "Ya se vio que la solución de un sistema de 2 ecuaciones lineales con 2 incógnitas representa **el punto en $\\mathbb{R}^{2}$ donde ambas rectas se intersectan**, por otro lado, la solución de unsistema de 3 ecuaciones lineales con 3 incógnitas representa **el punto en $\\mathbb{R}^{3}$** donde se genera de la intersección de los 3 planos. De manera general podemos decir que la solución de un sistema de n-ecuaciones lineales con n-incógnitas representa el vector $\\vec{x} \\in \\mathbb{R}^{n}$ donde se da la intersección de los subespacios generados por los vectores columna de la matriz $A\\in M_{n\\times n}$."
      ]
    },
    {
      "cell_type": "markdown",
      "metadata": {
        "id": "Ii8D3hOLs94V"
      },
      "source": [
        "<a name='4-1'></a>\n",
        "\n",
        "# Inversa de la matriz A\n",
        "\n",
        "[regresar al contenido](#c1)\n",
        "\n",
        "En caso de que el sistema $A\\vec{x}=\\vec{b}$ tenga solución es decir que el determinante de la matriz $A$ sea diferente de cero, un camino para resolver este sistema es mediante la inversa de $A$, es decir.\n",
        "\n",
        "$$A\\vec{x}=\\vec{b} \\Longrightarrow (A^{-1}A)\\vec{x}=(A^{-1}\\vec{b}) \\Longrightarrow \\vec{x}=A^{-1}\\vec{b}$$\n",
        "\n",
        "Por lo tanto veamos esto con un ejemplo sencillo, supongamos que tenemos el sistema de ecuaciones lineales\n",
        "\n",
        "$$\\begin{array}{*}\n",
        "3w+9y-10z & = & 24 \\\\\n",
        "w-y+4z & = & -4 \\\\\n",
        "10w-2y+8z & = & 20\n",
        "\\end{array}$$\n",
        "\n",
        "Este sistema se puede resolver de muchas forma, sin embargo vamos a usar $A^{-1}$ y python para mostrar el resultado."
      ]
    },
    {
      "cell_type": "code",
      "execution_count": null,
      "metadata": {
        "id": "X3HNrj4is94W",
        "outputId": "46903a99-678b-4eac-9eae-c587cfdc3187",
        "colab": {
          "base_uri": "https://localhost:8080/"
        }
      },
      "outputs": [
        {
          "output_type": "stream",
          "name": "stdout",
          "text": [
            "[[  3   9 -10]\n",
            " [  1  -6   4]\n",
            " [ 10  -2   8]]\n",
            "[[24]\n",
            " [-4]\n",
            " [20]]\n",
            "[[ 0.09708738  0.12621359  0.05825243]\n",
            " [-0.0776699  -0.30097087  0.05339806]\n",
            " [-0.1407767  -0.23300971  0.06553398]]\n",
            "[[ 2.99029126]\n",
            " [ 0.40776699]\n",
            " [-1.13592233]]\n",
            "[[24.]\n",
            " [-4.]\n",
            " [20.]]\n",
            "[[ 2.99029126]\n",
            " [ 0.40776699]\n",
            " [-1.13592233]]\n"
          ]
        }
      ],
      "source": [
        "import numpy as np\n",
        "\n",
        "#Se define los valores de la matriz A\n",
        "A = np.matrix([[3,9,-10],[1,-6,4],[10,-2,8]])\n",
        "print(A)\n",
        "\n",
        "#Se definen los valores del vector b\n",
        "b = np.matrix([[24],[-4],[20]])\n",
        "print(b)\n",
        "\n",
        "#Calculemos la invers de la matriz A\n",
        "inversa = np.linalg.inv(A)\n",
        "print(inversa)\n",
        "\n",
        "#Se resuelve el sistema mediante la inversa\n",
        "x = np.matmul(inversa, b)\n",
        "print(x)\n",
        "\n",
        "#Comprobamos el resultado\n",
        "print(np.dot(A, x))\n",
        "\n",
        "#También podemos usar el solver de numpy\n",
        "x = np.linalg.solve(A, b)\n",
        "print(x)"
      ]
    },
    {
      "cell_type": "markdown",
      "metadata": {
        "id": "pF6xtsGHs94W"
      },
      "source": [
        "<a name='4-2'></a>\n",
        "\n",
        "# Inconveniente del cálculo de la inversa de una matriz\n",
        "\n",
        "[regresar al contenido](#c1)\n",
        "\n",
        "Generalmente el cálculo de la inversa de una matriz involucra el cálculo del determinante de la misma, lo cual en terminos computacionales (y en cálculos en general) resulta muy costoso, de hecho se puede mostrar que el costo del cálculo de la inversa de una matriz es de orden exponencial, lo que significa que es demasiado costoso realizar este cálculo.\n",
        "\n",
        "Es por este motvio que existen alternativas al cálculo de la matriz inversa, para resolver un sistema lineal de ecuaciones del tipo $A\\vec{x}=\\vec{b}$ tales como:\n",
        "\n",
        "*   Factorización LU.\n",
        "*   Factorización QR.\n",
        "*   Cholesky."
      ]
    },
    {
      "cell_type": "markdown",
      "metadata": {
        "id": "uZjO_hEas94X"
      },
      "source": [
        "<a name='5'></a>\n",
        "\n",
        "# Referencias\n",
        "\n",
        "[regresar al contenido](#c1)\n",
        "\n",
        "\n",
        "*   Riswan Butt, Numerical Analysys Using Matlab, Jones and Bartlett.\n",
        "*   Ward Cheney, David Kincaid, Métodos Numéricos y Computación, Cenage Learning.\n",
        "*   Richard L. Burden, J. Douglas Faires, Análisis Numérico, Math Learning.\n",
        "*   Yuri N. Skiba, Introducción a los Métodos Numéricos."
      ]
    }
  ],
  "metadata": {
    "kernelspec": {
      "display_name": "Python 3 (ipykernel)",
      "language": "python",
      "name": "python3"
    },
    "language_info": {
      "codemirror_mode": {
        "name": "ipython",
        "version": 3
      },
      "file_extension": ".py",
      "mimetype": "text/x-python",
      "name": "python",
      "nbconvert_exporter": "python",
      "pygments_lexer": "ipython3",
      "version": "3.8.10"
    },
    "colab": {
      "provenance": [],
      "toc_visible": true,
      "include_colab_link": true
    }
  },
  "nbformat": 4,
  "nbformat_minor": 0
}
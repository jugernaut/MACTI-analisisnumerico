{
  "nbformat": 4,
  "nbformat_minor": 0,
  "metadata": {
    "kernelspec": {
      "display_name": "Python 3.7 (tensorflow)",
      "language": "python",
      "name": "tensorflow"
    },
    "language_info": {
      "codemirror_mode": {
        "name": "ipython",
        "version": 3
      },
      "file_extension": ".py",
      "mimetype": "text/x-python",
      "name": "python",
      "nbconvert_exporter": "python",
      "pygments_lexer": "ipython3",
      "version": "3.7.7"
    },
    "colab": {
      "name": "Complejidad_y_Convergencia.ipynb",
      "provenance": [],
      "toc_visible": true,
      "include_colab_link": true
    },
    "widgets": {
      "application/vnd.jupyter.widget-state+json": {
        "2527fafdf48f4d81942e46eee608b1c9": {
          "model_module": "@jupyter-widgets/controls",
          "model_name": "VBoxModel",
          "model_module_version": "1.5.0",
          "state": {
            "_dom_classes": [
              "widget-interact"
            ],
            "_model_module": "@jupyter-widgets/controls",
            "_model_module_version": "1.5.0",
            "_model_name": "VBoxModel",
            "_view_count": null,
            "_view_module": "@jupyter-widgets/controls",
            "_view_module_version": "1.5.0",
            "_view_name": "VBoxView",
            "box_style": "",
            "children": [
              "IPY_MODEL_f58cdb026e974566b6e67af921796844",
              "IPY_MODEL_047219738d6b406b93a9462c0c98827a"
            ],
            "layout": "IPY_MODEL_3337e741405f48e29b7d89b0bcdb7a4a"
          }
        },
        "f58cdb026e974566b6e67af921796844": {
          "model_module": "@jupyter-widgets/controls",
          "model_name": "IntSliderModel",
          "model_module_version": "1.5.0",
          "state": {
            "_dom_classes": [],
            "_model_module": "@jupyter-widgets/controls",
            "_model_module_version": "1.5.0",
            "_model_name": "IntSliderModel",
            "_view_count": null,
            "_view_module": "@jupyter-widgets/controls",
            "_view_module_version": "1.5.0",
            "_view_name": "IntSliderView",
            "continuous_update": true,
            "description": "grado",
            "description_tooltip": null,
            "disabled": false,
            "layout": "IPY_MODEL_462938eea54049799482a5595e7d82e3",
            "max": 10,
            "min": 0,
            "orientation": "horizontal",
            "readout": true,
            "readout_format": "d",
            "step": 1,
            "style": "IPY_MODEL_2ff257659da1476f88cac021b6717fcd",
            "value": 0
          }
        },
        "047219738d6b406b93a9462c0c98827a": {
          "model_module": "@jupyter-widgets/output",
          "model_name": "OutputModel",
          "model_module_version": "1.0.0",
          "state": {
            "_dom_classes": [],
            "_model_module": "@jupyter-widgets/output",
            "_model_module_version": "1.0.0",
            "_model_name": "OutputModel",
            "_view_count": null,
            "_view_module": "@jupyter-widgets/output",
            "_view_module_version": "1.0.0",
            "_view_name": "OutputView",
            "layout": "IPY_MODEL_34b30ffcda0b48a99675c5a055c4d1dc",
            "msg_id": "",
            "outputs": []
          }
        },
        "3337e741405f48e29b7d89b0bcdb7a4a": {
          "model_module": "@jupyter-widgets/base",
          "model_name": "LayoutModel",
          "model_module_version": "1.2.0",
          "state": {
            "_model_module": "@jupyter-widgets/base",
            "_model_module_version": "1.2.0",
            "_model_name": "LayoutModel",
            "_view_count": null,
            "_view_module": "@jupyter-widgets/base",
            "_view_module_version": "1.2.0",
            "_view_name": "LayoutView",
            "align_content": null,
            "align_items": null,
            "align_self": null,
            "border": null,
            "bottom": null,
            "display": null,
            "flex": null,
            "flex_flow": null,
            "grid_area": null,
            "grid_auto_columns": null,
            "grid_auto_flow": null,
            "grid_auto_rows": null,
            "grid_column": null,
            "grid_gap": null,
            "grid_row": null,
            "grid_template_areas": null,
            "grid_template_columns": null,
            "grid_template_rows": null,
            "height": null,
            "justify_content": null,
            "justify_items": null,
            "left": null,
            "margin": null,
            "max_height": null,
            "max_width": null,
            "min_height": null,
            "min_width": null,
            "object_fit": null,
            "object_position": null,
            "order": null,
            "overflow": null,
            "overflow_x": null,
            "overflow_y": null,
            "padding": null,
            "right": null,
            "top": null,
            "visibility": null,
            "width": null
          }
        },
        "462938eea54049799482a5595e7d82e3": {
          "model_module": "@jupyter-widgets/base",
          "model_name": "LayoutModel",
          "model_module_version": "1.2.0",
          "state": {
            "_model_module": "@jupyter-widgets/base",
            "_model_module_version": "1.2.0",
            "_model_name": "LayoutModel",
            "_view_count": null,
            "_view_module": "@jupyter-widgets/base",
            "_view_module_version": "1.2.0",
            "_view_name": "LayoutView",
            "align_content": null,
            "align_items": null,
            "align_self": null,
            "border": null,
            "bottom": null,
            "display": null,
            "flex": null,
            "flex_flow": null,
            "grid_area": null,
            "grid_auto_columns": null,
            "grid_auto_flow": null,
            "grid_auto_rows": null,
            "grid_column": null,
            "grid_gap": null,
            "grid_row": null,
            "grid_template_areas": null,
            "grid_template_columns": null,
            "grid_template_rows": null,
            "height": null,
            "justify_content": null,
            "justify_items": null,
            "left": null,
            "margin": null,
            "max_height": null,
            "max_width": null,
            "min_height": null,
            "min_width": null,
            "object_fit": null,
            "object_position": null,
            "order": null,
            "overflow": null,
            "overflow_x": null,
            "overflow_y": null,
            "padding": null,
            "right": null,
            "top": null,
            "visibility": null,
            "width": null
          }
        },
        "2ff257659da1476f88cac021b6717fcd": {
          "model_module": "@jupyter-widgets/controls",
          "model_name": "SliderStyleModel",
          "model_module_version": "1.5.0",
          "state": {
            "_model_module": "@jupyter-widgets/controls",
            "_model_module_version": "1.5.0",
            "_model_name": "SliderStyleModel",
            "_view_count": null,
            "_view_module": "@jupyter-widgets/base",
            "_view_module_version": "1.2.0",
            "_view_name": "StyleView",
            "description_width": "",
            "handle_color": null
          }
        },
        "34b30ffcda0b48a99675c5a055c4d1dc": {
          "model_module": "@jupyter-widgets/base",
          "model_name": "LayoutModel",
          "model_module_version": "1.2.0",
          "state": {
            "_model_module": "@jupyter-widgets/base",
            "_model_module_version": "1.2.0",
            "_model_name": "LayoutModel",
            "_view_count": null,
            "_view_module": "@jupyter-widgets/base",
            "_view_module_version": "1.2.0",
            "_view_name": "LayoutView",
            "align_content": null,
            "align_items": null,
            "align_self": null,
            "border": null,
            "bottom": null,
            "display": null,
            "flex": null,
            "flex_flow": null,
            "grid_area": null,
            "grid_auto_columns": null,
            "grid_auto_flow": null,
            "grid_auto_rows": null,
            "grid_column": null,
            "grid_gap": null,
            "grid_row": null,
            "grid_template_areas": null,
            "grid_template_columns": null,
            "grid_template_rows": null,
            "height": null,
            "justify_content": null,
            "justify_items": null,
            "left": null,
            "margin": null,
            "max_height": null,
            "max_width": null,
            "min_height": null,
            "min_width": null,
            "object_fit": null,
            "object_position": null,
            "order": null,
            "overflow": null,
            "overflow_x": null,
            "overflow_y": null,
            "padding": null,
            "right": null,
            "top": null,
            "visibility": null,
            "width": null
          }
        }
      }
    }
  },
  "cells": [
    {
      "cell_type": "markdown",
      "metadata": {
        "id": "view-in-github",
        "colab_type": "text"
      },
      "source": [
        "<a href=\"https://colab.research.google.com/github/jugernaut/MACTI-analisisnumerico/blob/main/00_Introduccion/04_ComplejidadConvergencia/04_ComplejidadConvergencia.ipynb\" target=\"_parent\"><img src=\"https://colab.research.google.com/assets/colab-badge.svg\" alt=\"Open In Colab\"/></a>"
      ]
    },
    {
      "cell_type": "markdown",
      "metadata": {
        "id": "ao1k_j_2sMY0"
      },
      "source": [
        "# Complejidad y Convergencia\n",
        "Profesor: M.en.C. Miguel Angel Pérez León.\n",
        "\n",
        "Ayudante: Jesús Iván Coss Calderón.\n",
        "\n",
        "Materia: Análisis Numérico."
      ]
    },
    {
      "cell_type": "markdown",
      "metadata": {
        "id": "gJ73MmHesMY1"
      },
      "source": [
        "##  Introducción\n",
        "\n",
        "Un **algoritmo** es un procedimiento que describe, sin ambiguedad, una serie finita de pasos a realizar en un orden especifico.\n",
        "\n",
        "La finalidad de un algoritmmo es poner en prática algún procedimiento para resolver un problema o **aproximarse a una solución** del problema.\n",
        "\n",
        "**Pseudocódigo** es la forma de representar un algoritmo, sin tener que emplear algún lenguaje de programación en especifico, pero lo suficientemente cercano a este, para que pueda escribirse en un lenguaje de programación con un par de cambios (como el pseudocódigo del algoritmo de Horner).\n",
        "\n",
        "Este pseudocódigo especifica la forma de la entrada por proporcionar y la forma de salida deseada."
      ]
    },
    {
      "cell_type": "markdown",
      "metadata": {
        "id": "qujunr8cVaUB"
      },
      "source": [
        "### Suma de los N primeros naturales\n",
        "\n",
        "No todos los algoritmos numéricos devuelven un resultado\n",
        "satisfactorio, para una entrada elegida.\n",
        "\n",
        "Como consecuencia, en cada algoritmo se incorpora alguna técnica\n",
        "(condición) para saber cuando es que debe detenerse,\n",
        "independientemente del método numérico empleado, esto con la\n",
        "finalidad de **evitar ciclos infinitos**."
      ]
    },
    {
      "cell_type": "markdown",
      "metadata": {
        "id": "16trTQb0sauO"
      },
      "source": [
        "#### Ejemplo\n",
        "\n",
        "Escriba el algoritmo para sumar los primeros n numeros naturales.\n",
        "\n",
        "$$\\sum_{i=1}^{n}i$$"
      ]
    },
    {
      "cell_type": "code",
      "metadata": {
        "id": "so4XKXmSsMY5",
        "outputId": "f86be84d-1b30-40f0-9372-5d675ca08625",
        "colab": {
          "base_uri": "https://localhost:8080/",
          "height": 67
        }
      },
      "source": [
        "n=int(input(\"Ingrese el numero hasta el cual se quiere sumar\\n\"))\n",
        "suma=0\n",
        "# la funcion range toma hasta un numero antes de n\n",
        "for i in range(n+1):\n",
        "    suma+=i\n",
        "\n",
        "print(\"La suma es: {}\".format(suma))"
      ],
      "execution_count": null,
      "outputs": [
        {
          "output_type": "stream",
          "text": [
            "Ingrese el numero hasta el cual se quiere sumar\n",
            "5\n",
            "La suma es: 15\n"
          ],
          "name": "stdout"
        }
      ]
    },
    {
      "cell_type": "markdown",
      "metadata": {
        "id": "DBRphS9qsMY9"
      },
      "source": [
        "Otro tipo de algoritmos son los que describen un procedimiento en\n",
        "términos matemáticos más complejos, como lo son las **series de Taylor**.\n",
        "\n",
        "### Serie de Taylor\n",
        "\n",
        "Es una serie finita de potencias que representa de manera exacta una función $f (x)$ al rededor de un punto $x = c$, siempre y cuando $n$ sea suficientemente \"grande\".\n",
        "\n",
        "$$ f(x) = f(c) + f^{'}(c)(x-c) + \\frac{f^{''}(c)(x-c)^{2}}{2!} + \\dots + \\frac{f^{n}(c)(x-c)^{n}}{n!} $$\n",
        "\n",
        "Si $c = 0$ se trata de la serie de Maclurin.\n",
        "\n",
        "Esta aproximación de $f (x)$ se conoce como la aproximación de $f (x)$\n",
        "en series de Taylor y dependiendo la derivada será el grado del\n",
        "polinomio de Taylor. Cabe recalcar, que a mayor grado del polinomio\n",
        "de Taylor será mayor la exactitud de la aproximación."
      ]
    },
    {
      "cell_type": "markdown",
      "metadata": {
        "id": "Uj3y7lBesmMR"
      },
      "source": [
        "#### Ejemplo\n",
        "\n",
        "Obtenga los seis primeros términos de la serie de Taylor para $f(x)= e^{x}$ alrededor del cero.\n",
        "\n",
        "**Solución**:\n",
        "    \n",
        "Al obtener las primeras 5 derivadas de la función se tiene\n",
        "\n",
        "$$f(x)= f^{1}(x)=f^{2}(x)=f^{3}(x)=f^{4}(x)=f^{5}(x)= e^{x}$$\n",
        "\n",
        "Posteriormente se evalua en el punto cero ($x=c=0$ )\n",
        "\n",
        "$$f(0)= f^{1}(0)=f^{2}(0)=f^{3}(0)=f^{4}(0)=f^{5}(0)= e^{0}=1$$\n",
        "\n",
        "Lo que da como resultado la siguiente expresión, que representa el\n",
        "polinomio de Taylor de $e^{x}$ al rededor del punto 0.\n",
        "\n",
        "$$ f(x) \\approx 1 + x + \\frac{x^{2}}{2!}+ \\frac{x^{3}}{3!}+ \\frac{x^{4}}{4!}+ \\frac{x^{5}}{5!} + \\dots  $$\n",
        "\n",
        "**Solución en python**:"
      ]
    },
    {
      "cell_type": "code",
      "metadata": {
        "id": "eKtMrvK5sMZH",
        "outputId": "b9eb2f37-6990-428e-a2b6-94cb78d0146d",
        "colab": {
          "base_uri": "https://localhost:8080/",
          "height": 541,
          "referenced_widgets": [
            "2527fafdf48f4d81942e46eee608b1c9",
            "f58cdb026e974566b6e67af921796844",
            "047219738d6b406b93a9462c0c98827a",
            "3337e741405f48e29b7d89b0bcdb7a4a",
            "462938eea54049799482a5595e7d82e3",
            "2ff257659da1476f88cac021b6717fcd",
            "34b30ffcda0b48a99675c5a055c4d1dc"
          ]
        }
      },
      "source": [
        "from scipy.interpolate import approximate_taylor_polynomial\n",
        "import numpy as np\n",
        "import matplotlib.pyplot as plt\n",
        "from ipywidgets import interact\n",
        "import ipywidgets as widgets\n",
        "\n",
        "#@interact(grado=(0,10))\n",
        "def Taylor(grado):\n",
        "    x = np.linspace(-10.0, 10.0, num=100)\n",
        "    plt.plot(x, np.exp(x), label=\"función exponencial\",color='blue')\n",
        "    aprox_taylor = approximate_taylor_polynomial(np.exp, 0, grado, 1\\\n",
        "                                               ,order=grado+2)\n",
        "    plt.plot(x, aprox_taylor(x), label=\"Aproximación de Taylor de grado \" +str(grado),color='black')\n",
        "    plt.axis([-10, 10, -10, 10])\n",
        "    plt.legend()\n",
        "    plt.xlabel(r\"$x$\")\n",
        "    plt.ylabel(r\"$f(x)$\")\n",
        "    plt.title(\"Aproximación de Taylor \")\n",
        "    plt.grid()\n",
        "\n",
        "interact(Taylor,grado=widgets.IntSlider(min=0,max=10,step=1,value=0))"
      ],
      "execution_count": 2,
      "outputs": [
        {
          "output_type": "display_data",
          "data": {
            "text/plain": [
              "interactive(children=(IntSlider(value=0, description='grado', max=10), Output()), _dom_classes=('widget-intera…"
            ],
            "application/vnd.jupyter.widget-view+json": {
              "version_major": 2,
              "version_minor": 0,
              "model_id": "2527fafdf48f4d81942e46eee608b1c9"
            }
          },
          "metadata": {}
        },
        {
          "output_type": "execute_result",
          "data": {
            "text/plain": [
              "<function __main__.Taylor(grado)>"
            ]
          },
          "metadata": {},
          "execution_count": 2
        },
        {
          "output_type": "display_data",
          "data": {
            "text/plain": [
              "<Figure size 640x480 with 1 Axes>"
            ],
            "image/png": "[encoded data removed]"
          },
          "metadata": {}
        }
      ]
    },
    {
      "cell_type": "markdown",
      "metadata": {
        "id": "auIipbwcsMZK"
      },
      "source": [
        "De tal manera que la siguiente expresión, se aproxima con 6\n",
        "terminos a $e^{x}$ al rededor del punto 0.\n",
        "\n",
        "$$ f(x) \\approx 1 + x + \\frac{x^{2}}{2!}+ \\frac{x^{3}}{3!}+ \\frac{x^{4}}{4!}+ \\frac{x^{5}}{5!} + \\dots  $$\n",
        "\n",
        "**Ejercicio**:\n",
        "\n",
        "Si se sabe que el valor exacto de $e^{0.5} = 1.6487212707$. Calcula\n",
        "el error relativo porcentual que se comete si se trunca la serie en\n",
        "seis términos. Emplea 6 decimales.\n",
        "\n",
        "**Solución en python**:"
      ]
    },
    {
      "cell_type": "code",
      "metadata": {
        "id": "m24HWhvpsMZM",
        "outputId": "93415cef-d4fb-4b6e-e51b-e937007012a1",
        "colab": {
          "base_uri": "https://localhost:8080/",
          "height": 228
        }
      },
      "source": [
        "import pandas as pd\n",
        "\n",
        "def ErrorTaylor(x):\n",
        "    ordenes=np.arange(6)\n",
        "    aprox_taylor=np.array([0.0]*6)\n",
        "    func_eval=np.zeros(6)\n",
        "    error=np.zeros_like(aprox_taylor)\n",
        "    for degree in ordenes:\n",
        "        PolTaylor = approximate_taylor_polynomial(np.exp, 0, degree, 1,order=degree+2)\n",
        "        aprox_taylor[degree]=PolTaylor(x)\n",
        "        func_eval[degree]=np.exp(x)\n",
        "        error[degree]=np.abs((aprox_taylor[degree]-func_eval[degree])/func_eval[degree])\n",
        "\n",
        "    data={\"Termino\":[1,2,3,4,5,6],\"aproximacion\":aprox_taylor,\n",
        "          \"valor real\":func_eval,\"error\":error\n",
        "    }\n",
        "    tabla=pd.DataFrame(data)\n",
        "    return tabla\n",
        "\n",
        "ErrorTaylor(0.5)"
      ],
      "execution_count": null,
      "outputs": [
        {
          "output_type": "execute_result",
          "data": {
            "text/plain": [
              "   Termino  aproximacion  valor real     error\n",
              "0        1      0.944804    1.648721  0.426947\n",
              "1        2      1.486893    1.648721  0.098154\n",
              "2        3      1.623448    1.648721  0.015329\n",
              "3        4      1.645711    1.648721  0.001826\n",
              "4        5      1.648429    1.648721  0.000177\n",
              "5        6      1.648697    1.648721  0.000015"
            ],
            "text/html": [
              "\n",
              "  <div id=\"df-cbfb0422-bac9-4104-9c3b-42fe8bf7a8f9\">\n",
              "    <div class=\"colab-df-container\">\n",
              "      <div>\n",
              "<style scoped>\n",
              "    .dataframe tbody tr th:only-of-type {\n",
              "        vertical-align: middle;\n",
              "    }\n",
              "\n",
              "    .dataframe tbody tr th {\n",
              "        vertical-align: top;\n",
              "    }\n",
              "\n",
              "    .dataframe thead th {\n",
              "        text-align: right;\n",
              "    }\n",
              "</style>\n",
              "<table border=\"1\" class=\"dataframe\">\n",
              "  <thead>\n",
              "    <tr style=\"text-align: right;\">\n",
              "      <th></th>\n",
              "      <th>Termino</th>\n",
              "      <th>aproximacion</th>\n",
              "      <th>valor real</th>\n",
              "      <th>error</th>\n",
              "    </tr>\n",
              "  </thead>\n",
              "  <tbody>\n",
              "    <tr>\n",
              "      <th>0</th>\n",
              "      <td>1</td>\n",
              "      <td>0.944804</td>\n",
              "      <td>1.648721</td>\n",
              "      <td>0.426947</td>\n",
              "    </tr>\n",
              "    <tr>\n",
              "      <th>1</th>\n",
              "      <td>2</td>\n",
              "      <td>1.486893</td>\n",
              "      <td>1.648721</td>\n",
              "      <td>0.098154</td>\n",
              "    </tr>\n",
              "    <tr>\n",
              "      <th>2</th>\n",
              "      <td>3</td>\n",
              "      <td>1.623448</td>\n",
              "      <td>1.648721</td>\n",
              "      <td>0.015329</td>\n",
              "    </tr>\n",
              "    <tr>\n",
              "      <th>3</th>\n",
              "      <td>4</td>\n",
              "      <td>1.645711</td>\n",
              "      <td>1.648721</td>\n",
              "      <td>0.001826</td>\n",
              "    </tr>\n",
              "    <tr>\n",
              "      <th>4</th>\n",
              "      <td>5</td>\n",
              "      <td>1.648429</td>\n",
              "      <td>1.648721</td>\n",
              "      <td>0.000177</td>\n",
              "    </tr>\n",
              "    <tr>\n",
              "      <th>5</th>\n",
              "      <td>6</td>\n",
              "      <td>1.648697</td>\n",
              "      <td>1.648721</td>\n",
              "      <td>0.000015</td>\n",
              "    </tr>\n",
              "  </tbody>\n",
              "</table>\n",
              "</div>\n",
              "      <button class=\"colab-df-convert\" onclick=\"convertToInteractive('df-cbfb0422-bac9-4104-9c3b-42fe8bf7a8f9')\"\n",
              "              title=\"Convert this dataframe to an interactive table.\"\n",
              "              style=\"display:none;\">\n",
              "        \n",
              "  <svg xmlns=\"http://www.w3.org/2000/svg\" height=\"24px\"viewBox=\"0 0 24 24\"\n",
              "       width=\"24px\">\n",
              "    <path d=\"M0 0h24v24H0V0z\" fill=\"none\"/>\n",
              "    <path d=\"M18.56 5.44l.94 2.06.94-2.06 2.06-.94-2.06-.94-.94-2.06-.94 2.06-2.06.94zm-11 1L8.5 8.5l.94-2.06 2.06-.94-2.06-.94L8.5 2.5l-.94 2.06-2.06.94zm10 10l.94 2.06.94-2.06 2.06-.94-2.06-.94-.94-2.06-.94 2.06-2.06.94z\"/><path d=\"M17.41 7.96l-1.37-1.37c-.4-.4-.92-.59-1.43-.59-.52 0-1.04.2-1.43.59L10.3 9.45l-7.72 7.72c-.78.78-.78 2.05 0 2.83L4 21.41c.39.39.9.59 1.41.59.51 0 1.02-.2 1.41-.59l7.78-7.78 2.81-2.81c.8-.78.8-2.07 0-2.86zM5.41 20L4 18.59l7.72-7.72 1.47 1.35L5.41 20z\"/>\n",
              "  </svg>\n",
              "      </button>\n",
              "      \n",
              "  <style>\n",
              "    .colab-df-container {\n",
              "      display:flex;\n",
              "      flex-wrap:wrap;\n",
              "      gap: 12px;\n",
              "    }\n",
              "\n",
              "    .colab-df-convert {\n",
              "      background-color: #E8F0FE;\n",
              "      border: none;\n",
              "      border-radius: 50%;\n",
              "      cursor: pointer;\n",
              "      display: none;\n",
              "      fill: #1967D2;\n",
              "      height: 32px;\n",
              "      padding: 0 0 0 0;\n",
              "      width: 32px;\n",
              "    }\n",
              "\n",
              "    .colab-df-convert:hover {\n",
              "      background-color: #E2EBFA;\n",
              "      box-shadow: 0px 1px 2px rgba(60, 64, 67, 0.3), 0px 1px 3px 1px rgba(60, 64, 67, 0.15);\n",
              "      fill: #174EA6;\n",
              "    }\n",
              "\n",
              "    [theme=dark] .colab-df-convert {\n",
              "      background-color: #3B4455;\n",
              "      fill: #D2E3FC;\n",
              "    }\n",
              "\n",
              "    [theme=dark] .colab-df-convert:hover {\n",
              "      background-color: #434B5C;\n",
              "      box-shadow: 0px 1px 3px 1px rgba(0, 0, 0, 0.15);\n",
              "      filter: drop-shadow(0px 1px 2px rgba(0, 0, 0, 0.3));\n",
              "      fill: #FFFFFF;\n",
              "    }\n",
              "  </style>\n",
              "\n",
              "      <script>\n",
              "        const buttonEl =\n",
              "          document.querySelector('#df-cbfb0422-bac9-4104-9c3b-42fe8bf7a8f9 button.colab-df-convert');\n",
              "        buttonEl.style.display =\n",
              "          google.colab.kernel.accessAllowed ? 'block' : 'none';\n",
              "\n",
              "        async function convertToInteractive(key) {\n",
              "          const element = document.querySelector('#df-cbfb0422-bac9-4104-9c3b-42fe8bf7a8f9');\n",
              "          const dataTable =\n",
              "            await google.colab.kernel.invokeFunction('convertToInteractive',\n",
              "                                                     [key], {});\n",
              "          if (!dataTable) return;\n",
              "\n",
              "          const docLinkHtml = 'Like what you see? Visit the ' +\n",
              "            '<a target=\"_blank\" href=https://colab.research.google.com/notebooks/data_table.ipynb>data table notebook</a>'\n",
              "            + ' to learn more about interactive tables.';\n",
              "          element.innerHTML = '';\n",
              "          dataTable['output_type'] = 'display_data';\n",
              "          await google.colab.output.renderOutput(dataTable, element);\n",
              "          const docLink = document.createElement('div');\n",
              "          docLink.innerHTML = docLinkHtml;\n",
              "          element.appendChild(docLink);\n",
              "        }\n",
              "      </script>\n",
              "    </div>\n",
              "  </div>\n",
              "  "
            ]
          },
          "metadata": {},
          "execution_count": 2
        }
      ]
    },
    {
      "cell_type": "markdown",
      "metadata": {
        "id": "M4GnymVqsMZV"
      },
      "source": [
        "## Complejidad Computacional\n",
        "\n",
        "Para poder desarrollar algoritmos eficientes y que den resultados\n",
        "útiles es necesario emplear algunas herramientas para su análisis."
      ]
    },
    {
      "cell_type": "markdown",
      "metadata": {
        "id": "ZJXvacXRLXWf"
      },
      "source": [
        "### Definición\n",
        "\n",
        "Complejidad Computacional: Es la rama de las ciencias de la computación que estudia de manera teórica, la optimización de los recursos requeridos durante la ejecución de un algoritmo.\n",
        "\n",
        "El análisis se basa en 2 aspectos: el tiempo y el espacio.\n",
        "\n",
        "El tiempo es el periodo transcurrido entre el inicio y la\n",
        "finalización del algoritmo.\n",
        "\n",
        "El espacio es la cantidad de memoria (la medida varia según la\n",
        "máquina) que necesita el algoritmo para su ejecución.\n",
        "\n",
        "**Complejidad Computacional $T(n)$**\n",
        "\n",
        "Es el número de operaciones elementales (*en el caso de análisis\n",
        "numérico las FLOP’s*) en función de la medida $n$ (tamaño de los\n",
        "datos).\n",
        "\n",
        "¿Cómo se mide?. Una vez que se tiene el algoritmo en forma de\n",
        "pseudocódigo, se puede dar una estimación de cuantas operaciones\n",
        "elementales se realizan en función de la entrada $n$.\n",
        "\n",
        "Sea cual sea el algoritmo, para llevar a cabo el análisis de la\n",
        "complejidad de dicho algoritmo, normalmente se toma en cuenta dos\n",
        "posibles casos: el peor caso y el caso promedio.\n",
        "\n",
        "**Peor Caso**: se calcula $T(n)$ asumiendo que $n$ es la ”peor” de todas o\n",
        "que de los posibles casos al ejecutar el algoritmo, se cae en el peor de\n",
        "ellos.\n",
        "\n",
        "**Caso Promedio**: se calcula promediando el tiempo (o espacio)\n",
        "empleado para cada una de las entradas posibles."
      ]
    },
    {
      "cell_type": "markdown",
      "metadata": {
        "id": "7utRUnLCWv1Y"
      },
      "source": [
        "## Cota Superior Asintótica\n",
        "\n",
        "Cota superior asintótica: En el análisis de algoritmos una cota superior asintótica es una\n",
        "función que sirve de cota superior de otra función cuando el\n",
        "argumento tiende a infinito.\n",
        "\n",
        "Usualmente se utiliza la notación Landau $O(g(x))$, orden de\n",
        "$g(x)$, o coloquialmente se llama ”Notación O Grande”, para\n",
        "referirse a las funciones acotadas superiormente por la función\n",
        "$g(x)$"
      ]
    },
    {
      "cell_type": "markdown",
      "metadata": {
        "id": "YdEJnOfAXewC"
      },
      "source": [
        "### Definición\n",
        "Cota superior asintótica: sea $g\\left(x\\right)$ una función continua y $f\\left(x\\right)$ la función que describe el comportamiento de nuestro algoritmo, diremos que $f$ pertenece al orden $g$ si.\n",
        "\n",
        "$$O\\left(g\\left(x\\right)\\right)=\\left\\{ f\\left(x\\right)\\colon\\exists\\,x_{0},c>0\\mid\\forall x\\geq x_{0}>0\\colon0\\leq\\left|f\\left(x\\right)\\right|\\leq c\\left|g\\left(x\\right)\\right|\\right\\} $$\n",
        "\n",
        "En el análisis de algoritmos una cota superior asintótica es una función que sirve de cota superior de otra función cuando el argumento tiende a infinito.\n",
        "\n",
        "Normalmente se utiliza la notación Landau $O(g(x))$, orden de $g(x)$, o coloquialmente se llama ”Notación O Grande”, para referirse a las funciones acotadas superiormente por la función $g(x)$\n",
        "\n",
        "<center>\n",
        "<img src=\"https://github.com/jugernaut/MACTI-analisisnumerico/blob/desarrollo/00_Introduccion/04_ComplejidadConvergencia/utils/figs/cotaSup.png?raw=1\" width=\"700\">\n",
        "</center>"
      ]
    },
    {
      "cell_type": "markdown",
      "metadata": {
        "id": "PBW8PVyGsMZW"
      },
      "source": [
        "Como te podrás dar cuenta, la cota superior asintótica nos sirve\n",
        "para definir categorías (orden de complejidad) dentro del\n",
        "desempeño de los mucho algoritmos existentes. Y esto sirve\n",
        "para poder identificar cuales algoritmos son mas eficientes que\n",
        "otros.\n",
        "\n",
        "\n",
        "\n",
        "\n",
        "| orden de Complejidad        | Nombre            |\n",
        "| :-:           |    :-:        |\n",
        "| $O(1) $       | Orden constante |\n",
        "| $O(log n) $   | Orden logarítmico     |\n",
        "| $O(n) $       | Orden lineal      |\n",
        "| $O(n log n) $ | Orden n log n      |\n",
        "| $O( n^{2}) $  | Orden cuadrático      |\n",
        "| $O( n^{a}) $  | Orden polinomial ($a>2$)     |\n",
        "| $O( a^{n}) $  | Orden exponencial ($a>2$)     |\n",
        "| $O( n!)    $  | Orden factorial      |\n",
        "\n",
        "A continuación se muestra las cotas (categorias) mas comúnes.\n",
        "<center>\n",
        "<img src=\"https://github.com/jugernaut/MACTI-analisisnumerico/blob/desarrollo/00_Introduccion/04_ComplejidadConvergencia/utils/figs/ordenes.png?raw=1\" width=\"700\">\n",
        "</center>"
      ]
    },
    {
      "cell_type": "markdown",
      "metadata": {
        "id": "DFbSSCXnsMZZ"
      },
      "source": [
        "##  Estabilidad de algoritmos\n",
        "\n",
        "Los algoritmos de interés para el análisis numérico, son aquellos\n",
        "que produzcan resultados precisos.\n",
        "\n",
        "Uno de los criterios que siempre se trata de imponer sobre un\n",
        "algoritmo, es que los cambios pequeños en los datos iniciales,\n",
        "produzcan otros correspondientes en los resultados finales. Un\n",
        "algoritmo que satisfaga esta propiedad es **estable**, en caso\n",
        "contrario es **inestable**.\n",
        "\n",
        "Algunos algoritmos solo son estables para ciertas elecciones de\n",
        "datos iniciales; a estos se les llama **condicionalmente estables**.\n",
        "\n",
        "A lo largo del curso analizaremos algoritmos tanto estables,\n",
        "como inestables y condicionalmente estables."
      ]
    },
    {
      "cell_type": "markdown",
      "metadata": {
        "id": "BrFHF9yVsMZa"
      },
      "source": [
        "##  Crecimiento del error\n",
        "\n",
        "Supongamos que al momento de ejecutar un algoritmo se genera un error inicial $E_{0} > 0$ en cierta\n",
        "etapa de los cálculos y $E_{n}$ repesenta la magnitud del error\n",
        "después de $n$ operaciones sucesivas. Los 2 casos que surgen con más\n",
        "frecuencia en la práctica se definen como sigue:"
      ]
    },
    {
      "cell_type": "markdown",
      "metadata": {
        "id": "ZHss2SiysMZb"
      },
      "source": [
        "\n",
        "### Definición\n",
        "\n",
        "Crecimiento del error: Si $E_{n} \\approx C_{n} E_{0} $ donde $C$ es una constante independiente de $n$, entonces se dice que el crecimiento del error es lineal. Si $E_{n} \\approx C^{n} E_{0} $ para alguna $C>1$, entonces el crecimiento del error se denomina exponencial.\n",
        "\n",
        "Normalmente el crecimiento lineal es inevitable y, cuando $C$ y $E_{0}$ son pequeños, por lo general los resultados son aceptables. Por otro lado hay que evitar el crecimiento exponencial del error, ya que el termino $C^{n}$ crece incluso para valores de n relativamente pequeños.\n",
        "\n",
        "En consecuencia un algoritmo con un crecimiento lineal del error es **estable**, pero no un algoritmo con crecimiento exponencial del error ya que se considera **inestable**.\n",
        "\n",
        "<center>\n",
        "<img src=\"https://github.com/jugernaut/MACTI-analisisnumerico/blob/desarrollo/00_Introduccion/04_ComplejidadConvergencia/utils/figs/crecimiento.png?raw=1\" width=\"700\">\n",
        "</center>\n"
      ]
    },
    {
      "cell_type": "markdown",
      "metadata": {
        "id": "tIRgcBRfsMZc"
      },
      "source": [
        "## Convergencia\n",
        "\n",
        "Muchos de los algoritmos que veremos en el curso, se pueden ver en forma de sucesiones y de estas sucesiones las que nos interesan son aquellas que cumplan con la definición de convergencia. Para mayor claridad con las definiciones de [series](https://colab.research.google.com/github/jugernaut/Prometeo/blob/master/01_Calculo/06_Series/01_Series.ipynb) revisar este jupyter y para [sucesiones](https://colab.research.google.com/github/jugernaut/Prometeo/blob/desarrollo/01_Calculo/05_Sucesiones/01_Sucesiones.ipynb)."
      ]
    },
    {
      "cell_type": "markdown",
      "metadata": {
        "id": "nq5xXHl9sMZd"
      },
      "source": [
        "### Definición\n",
        "\n",
        "Convergencia de suceciones: decimos que la sucesión $\\{a_n\\}$ converge a número real $a$ si y sólo si para toda $ \\epsilon > 0$ existe un número natural $N$ tal que si $n > N$ entonces $|a_n - a| < \\epsilon$. Si la sucesión $\\{a_n\\}$ converge a $a$, decimos que el límite de la sucesión $\\{a_n\\}$ es $a$ y escribimos $\\underset{n\\rightarrow\\infty}{lim}a_{n}=a$. De\n",
        "otro modo, la sucesión se denomina divergente."
      ]
    },
    {
      "cell_type": "markdown",
      "metadata": {
        "id": "OGnc4hTvmu1k"
      },
      "source": [
        "### Ejemplo\n",
        "La sucesión $\\frac{1}{n}$ converge a cero, esto es, $\\underset{n\\rightarrow\\infty}{lim} \\frac{1}{n} = 0$\n",
        "\n",
        "En la siguiente gráfica podemos observar que efectivamente ocurre esto:"
      ]
    },
    {
      "cell_type": "code",
      "metadata": {
        "id": "I_nBE9SCoMbb",
        "outputId": "8018d032-79d7-49d7-e467-1aa00c020ac3",
        "colab": {
          "base_uri": "https://localhost:8080/",
          "height": 458
        }
      },
      "source": [
        "# importamos bibliotecas necesarias para graficar\n",
        "!git clone https://github.com/joiortega1/Prueba_lectura.git\n",
        "import os\n",
        "os.listdir('Prueba_lectura')\n",
        "import Prueba_lectura.gutils\n",
        "import Prueba_lectura.gutils as vis\n",
        "\n",
        "# se genera la sucesion de valores\n",
        "num_suc = np.arange(1,100)\n",
        "sucesion2 = [1/i for i in num_suc]\n",
        "\n",
        "# parametros para graficar\n",
        "par = [{'xlabel':'$n$',\n",
        "        'ylabel':'$a_n$',\n",
        "       'xlim':(0.5,99.5)},\n",
        "       ]\n",
        "# se genera la grafica\n",
        "graf = vis.planoCartesiano(par=par)\n",
        "graf.scatter(x = num_suc, y = sucesion2,\n",
        "             par={'s':20,'color':'blue', 'label':r'Sucesión $a_n=\\frac{1}{n}$'})\n",
        "graf.plot(x=[0,100],y=[0,0], par={'c':'green','linestyle':'--', 'lw':2,'label':'Función constante 0'})\n",
        "graf.legend()\n",
        "graf.show()"
      ],
      "execution_count": null,
      "outputs": [
        {
          "output_type": "stream",
          "name": "stdout",
          "text": [
            "Cloning into 'Prueba_lectura'...\n",
            "remote: Enumerating objects: 21, done.\u001b[K\n",
            "remote: Counting objects: 100% (21/21), done.\u001b[K\n",
            "remote: Compressing objects: 100% (17/17), done.\u001b[K\n",
            "remote: Total 21 (delta 1), reused 0 (delta 0), pack-reused 0\u001b[K\n",
            "Unpacking objects: 100% (21/21), 11.52 KiB | 2.30 MiB/s, done.\n"
          ]
        },
        {
          "output_type": "display_data",
          "data": {
            "text/plain": [
              "<Figure size 720x360 with 1 Axes>"
            ],
            "image/png": "[encoded data removed]"
          },
          "metadata": {}
        }
      ]
    },
    {
      "cell_type": "markdown",
      "metadata": {
        "id": "pasgyAewcL-J"
      },
      "source": [
        "## Rapidez de convergencia\n",
        "\n",
        "Otra de las medidas importantes en el análisis de algoritmos y en el análisis numérico es la rapidez de convergencia. Esta métrica nos da un parámetro para determinar que tan rápido es un algortimo comparado con otro."
      ]
    },
    {
      "cell_type": "markdown",
      "metadata": {
        "id": "KP3suZUXcQrA"
      },
      "source": [
        "### Definición\n",
        "\n",
        "Rapidez de Convergencia: Supongamos que $\\{ \\beta_{n} \\}_{n=1}^{\\infty}$ es una sucesión cuyo valor de convergencia es cero y que $\\{ \\alpha_{n} \\}_{n=1}^{\\infty}$ converge a un número $\\alpha$. Si existe una constante positiva K tal que\n",
        "\n",
        "$$ | \\alpha_{n} -\\alpha | \\leq K | \\beta_{n}  |$$\n",
        "\n",
        "para n suficientemente grande, entonces decimos que $\\{ \\alpha_{n} \\}_{n=1}^{\\infty}$ converge a $\\alpha$ con rapidez de convergencia $ O(\\beta_{n})$.\n",
        "\n",
        "Esta expresión se lee ”O mayúscula de $\\beta_{n}$”. Se indica escribiendo $ \\alpha_{n} = \\alpha + O(\\beta_{n})$.\n",
        "\n",
        "Aunque esta definición permite comparar $\\{ \\alpha_{n} \\}_{n=1}^{\\infty}$ con cualquier sucesión en casi todas las situaciones emplearemos\n",
        "\n",
        "$$\\beta_{n} = \\frac{1}{n^{p}} $$\n",
        "\n",
        "para algún $p > 0$. Por lo general, buscaremos el mayor valor de $p$ tal que $ \\alpha_{n} = \\alpha + O( 1/n^{p})$."
      ]
    },
    {
      "cell_type": "markdown",
      "metadata": {
        "id": "Pd4u-M6UsMZd"
      },
      "source": [
        "### Ejemplo\n",
        "\n",
        "Suponga que para $n \\geq 1$,\n",
        "\n",
        "$$ \\alpha_{n} = \\frac{n+1}{n^{2}} \\hspace{1.5mm}\\text{y} \\hspace{2mm}\\tilde{\\alpha_{n}}=\\frac{n+3}{n^{3}}$$\n",
        "\n",
        "Encontrar cual de las dos sucesiones converge más rápido a cero.\n",
        "\n",
        "**Solución**.\n",
        "\n",
        "Aunque $\\underset{n\\rightarrow\\infty}{lim}\\alpha_{n}=0$   , la sucesión $\\{\\tilde{\\alpha_{n}}\\}_{n=1}^{\\infty}$ converge en este límite mucho más rápido que la suceción  $\\{ \\alpha_{n} \\}_{n=1}^{\\infty}$, usando aritmética de redondeo a cinco cifras, se puede apreciar en la siguiente tabla este comportamiento. Intenta generar esta tabla empleando **python**.\n",
        "\n",
        "| n        | 1            |  2 | 3|4 |5 |6 |7 |\n",
        "| :-:  | :-: | :-: |  :-: | :-:  |   :-: |   :-: |  :-: |\n",
        "| $\\alpha_{n} $  | 2.00000 |0.75000 |0.44444 |0.31250 |0.24000 |0.19444 |0.16237|\n",
        "| $\\tilde{\\alpha_{n}} $ | 4.00000 |0.65500    |0.22222 | 0.10938|0.64000 |0.04166 |0.0915|\n",
        "\n",
        "\n",
        "Si $\\{ \\beta_{n} \\}_{n=1}^{\\infty}=1/n \\quad$    y     $\\quad\\{\\tilde{\\beta_{n}}\\}_{n=1}^{\\infty}=1/n^{2}$ , vemos que\n",
        "\n",
        "$$ | \\alpha_{n} -0 |= \\frac{n+1}{n^{2}} \\leq \\frac{n+n}{n^{2}}= 2 \\frac{1}{n} = 2 \\beta_{n}$$\n",
        "\n",
        "y\n",
        "\n",
        "$$ | \\tilde{\\alpha_{n}} -0 |= \\frac{n+3}{n^{3}} \\leq \\frac{n+3n}{n^{3}}= 4 \\frac{1}{n^{2}} = 4 \\tilde{\\beta_{n}}\\$$\n",
        "\n",
        "de modo que\n",
        "\n",
        "$$ \\alpha_{n} = 0+ O( \\frac{1}{n} ) \\hspace{1.5mm}\\text{y} \\hspace{2mm} \\tilde{\\alpha_{n}}= 0+ O( \\frac{1}{n^{2}} ) $$\n",
        "\n",
        "La rapidez de convergencia de $\\{ \\alpha_{n} \\}_{n=1}^{\\infty}$ a cero es similar a la convergencia de $\\{ 1/n \\}$ a cero, mientras que la rapidez de convergencia de $\\{\\tilde{\\alpha_{n}}\\}_{n=1}^{\\infty}$ a cero es similar a la convergencia de $\\{ 1/n^{2} \\}$, la cual converge más rápido.\n",
        "\n",
        "También se emplea la notación ”O mayúscula” para describir la\n",
        "rapidez de convergencia de funciones.\n"
      ]
    },
    {
      "cell_type": "markdown",
      "metadata": {
        "id": "c3jjc6bvsMZe"
      },
      "source": [
        "## Referencias\n",
        "1. Richard L. Burden, J, Douglas Faires: Análisis Numérico, Math Learning.\n",
        "2. Ward Cheney, David Kincaid: Métodos Numéricos y Computación, Cenage Learning.\n",
        "3. Riswan Butt: Numerical Analysis Using Matlab, Jones and Barlett.\n",
        "4. Proyecto PAPIME PE101019: notebook Sucesiones\n",
        "\n",
        "\n"
      ]
    }
  ]
}
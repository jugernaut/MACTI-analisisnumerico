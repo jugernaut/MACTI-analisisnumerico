{
 "cells": [
  {
   "cell_type": "markdown",
   "metadata": {
    "colab_type": "text",
    "id": "view-in-github"
   },
   "source": [
    "<a href=\"https://colab.research.google.com/github/jugernaut/MACTI-analisisnumerico/blob/Erick/02_EcuacionesNoLineales/01_SolucionEcuacionesNoLineales/01_SolucionEcuacionesNoLineales.ipynb\" target=\"_parent\"><img src=\"https://colab.research.google.com/assets/colab-badge.svg\" alt=\"Open In Colab\"/></a>"
   ]
  },
  {
   "cell_type": "markdown",
   "metadata": {
    "id": "mUjCEqICmjLt"
   },
   "source": [
    "<font color=\"Teal\" face=\"Comic Sans MS,arial\">\n",
    "  <h1 align=\"center\"><i>Ecuaciones no lineales</i></h1>\n",
    "  </font>\n",
    "  <font color=\"Black\" face=\"Comic Sans MS,arial\">\n",
    "  <h5 align=\"center\"><i>Profesor: M. en C. Miguel Angel Pérez León.</i></h5>\n",
    "    <h5 align=\"center\"><i>Diana Laura Rojas Cristino.</i></h5>\n",
    "  <h5 align=\"center\"><i>Materia: Análisis Numérico.</i></h5>\n",
    "  </font>"
   ]
  },
  {
   "cell_type": "markdown",
   "metadata": {
    "id": "G_USq1PJmjLu"
   },
   "source": [
    "## Introducción\n",
    "\n",
    "Las ecuaciones no lineales se presentan en muchos fenómenos de la ciencia y la sociedad, como lo son:\n",
    "\n",
    "* Economía.\n",
    "* Demografía.\n",
    "* Clima.\n",
    "* Biología, entre otros.\n",
    "\n",
    "Una ecuación no lineal es toda aquella en la que cualquiera de las variables que forman parte de la ecuación no son de primer grado. Por tanto en este tipo de ecuaciones nos podemos encontrar polinomios de segundo grado, raíces, logaritmos, exponenciales, funciones trigonométricas, etc.\n",
    "\n",
    "Los métodos numéricos que se tratan en esta sección sirven para generar aproximaciones a las soluciones de este tipo de ecuaciones (no lineales), cuando no es posible obtener soluciones exactas o que es muy complicado encontrarlas con métodos algebraicos.\n",
    "\n",
    "El objetivo principal de este tema será aplicar algunos métodos numéricos para hallar raíces reales de ecuaciones no lineales de una variable, que satisfacen a una ecuación del tipo: $f(x)=0$\n",
    "\n",
    "• Los valores que hacen que una función $f(x)=0$ , se conocen con el nombre de raíces o ceros de $f$.\n",
    "\n",
    "• Se analizarán los siguientes métodos, por medio de los cuales se obtendrá un valor $x_{n}$ tal que:\n",
    "\n",
    "$$ x_{n} \\approx x \\hspace{2mm}\\left( x_{n} \\hspace{1mm} \\text{es la aproximación en la iteración n} \\right) $$\n",
    "\n",
    "$$ f(x_{n}) \\approx 0 \\hspace{2mm} \\left( f(x_{n}) \\hspace{1mm} \\text{es el valor de $f$ evaluado en} \\hspace{1mm} x_{n} \\right)$$"
   ]
  },
  {
   "cell_type": "markdown",
   "metadata": {
    "id": "tp69gyUWm7eU"
   },
   "source": [
    "## Categorías de métodos\n",
    "\n",
    "Los métodos para encontrar solución a ecuaciones no lineales los podemos clasificar en 2 categorías.\n",
    "\n",
    "\n",
    "*   **Métodos cerrados**: requieren dos valores iniciales $x_{0}$ y $x_{1}$, que deben encerrar a la raíz.\n",
    "\n",
    "    *   Método de la bisección.\n",
    "\n",
    "    *  Método de la falsa posición.\n",
    "\n",
    "\n",
    "* **Métodos abiertos**: requieren un sólo valor de inicio $x_{0}$ o dos de ellos $x_{0}$ y $x_{1}$ , pero que no necesariamente deben encerrar a la raíz.\n",
    "\n",
    "    * Método de la secante.\n",
    "\n",
    "    * Método de Newton.\n",
    "    \n",
    "    \n",
    "Los métodos numéricos se basan en **iteraciones que generan sucesiones**, lo que significa que dada una aproximación inicial $x_{0}$ se emplea esta para encontrar el siguiente valor de $x_{1}$ de tal manera que para encontrar el valor de la solución final $x_{n}$ es necesario emplear $x_{n-1}$ para calcular dicho valor.\n",
    "\n",
    "Cabe mencionar que no existe un método universal para encontrar solución a ecuaciones no lineales. Algunos de ellos funcionarán sobre ciertos critérios y no servirán para resolver todo tipo de ecuación. Los métodos que presenten un buen comportamiento sobre alguna ecuación pueden no ser los mejores para resolver otro tipo de ecuaciones.\n",
    "\n",
    "De cada uno de los métodos vistos en esta sección (y de todos los métodos numéricos en general), es importante conocer sus ventajas y desventajas, así como su **complejidad computacional, crecimiento del error y rapidez de convergencia**.\n",
    "\n",
    "Ya se que se tenga una idea de las cualidades específicas de cada método, es más sencillo determinar cual de ellos aplicar y bajo que circunstancias."
   ]
  },
  {
   "cell_type": "markdown",
   "metadata": {
    "id": "FfQIZfj1mjLv"
   },
   "source": [
    "## Método de la bisección\n",
    "\n",
    "El problema de encontrar una aproximación a la raíz de una ecuación data del año 1700 a.c. Una tabla cuneiforme encontrada en Babilonia muestra el número sexagesimal (base 60) equivalente a 1.414222 como aproximación de $\\sqrt{2}$, resultado con una precisión de $10^{-5}$. Esta aproximación se puede encontrar empleando el algoritmo visto al inicio del curso.\n",
    "\n",
    "El primer método numérico que analizaremos y que se basa en el teorema del valor medio, se conoce como el método de la bisección o búsqueda binaria."
   ]
  },
  {
   "cell_type": "markdown",
   "metadata": {
    "id": "pSF5TTj5oslA"
   },
   "source": [
    "### Teorema del valor Intermedio\n",
    "\n",
    "Sea $f$ una función continua en un intervalo $[a,b]$. Entonces para cada $u$ tal que $f(a) < u < f(b) $ , existe al menos un $c \\in ( a, b) $ tal que $f(c)=u$.\n",
    "\n",
    "El teorea de valor intermdio, origina un resultado que nos ayudará a entender el método de la bisección, el resultado es el siguiente."
   ]
  },
  {
   "cell_type": "markdown",
   "metadata": {
    "id": "AhmbKxf-o4Uo"
   },
   "source": [
    "### Teorema de Bolzano\n",
    "\n",
    "Sea $f$ una función continua en un intervalo $[a,b]$ con $f(a)$ y $ f(b) $  de signos contrarios, es decir, $f(a)*f(b)<0 $ . Entonces existe al menos un $c \\in ( a, b) $ tal que $f(c)=0$."
   ]
  },
  {
   "cell_type": "markdown",
   "metadata": {
    "id": "_bNiTtmDpBlK"
   },
   "source": [
    "### Descripción del método\n",
    "\n",
    "* Para simplificar, asumimos que $[a,b]$ contiene exactamente una raíz $x$, (aunque el método también se puede aplicar cuando hay mas de una raíz en $[a,b]$; pero cuando esto sucede no se garantiza que el método sea convergente a la solución buscada.\n",
    "\n",
    "* El método consiste en dividir sucesivamente el intervalo $[a,b]$ por la mitad y evaluar ese punto para saber si se tiene una raíz o en su defecto hasta que la longitud del intervalo tienda a cero.\n",
    "\n",
    "* Un prerequisito para garantizar la convergencia de este método es garantizar que $f$ es continua en $[a,b]$ y que en este intervalo se encuentra exactamente una raíz; si se cumplen ambos se garantiza convergencia, pero no significa que si uno de ellos no se cumple, el método sea divergente.\n"
   ]
  },
  {
   "cell_type": "markdown",
   "metadata": {
    "id": "dNcGXm5UojTZ"
   },
   "source": [
    "### Algoritmo\n",
    "\n",
    "1. Se calcula la primera iteración $(n=1)$ el punto medio del intervalo, que será la primera aproximación de la raíz, este valor esta dado por:\n",
    "\n",
    "$$x_{1}=a+\\frac{b-a}{2}=\\frac{2a+b-a}{2}=\\frac{a+b}{2}$$\n",
    "\n",
    "* Para obtener el n-esimo punto medio, la ecuación sería:\n",
    "\n",
    "$$x_{n}=\\frac{a_{n-1}+b_{n-1}}{2} \\tag{1}$$\n",
    "\n",
    "A la ecuación (1) se le denomina método iterativo del punto medio, actualizando iterativamente los valores de $a$ y $b$.\n",
    "\n",
    "2. Se verifican los signos de $f(a)*f(x_{n})$ y $f(x_{n})*f(b)$, para saber en que subintervalo se encuentra la raíz:\n",
    "\n",
    "    *  Si $f(a)*f(x_{n})<0$, entonces en el subintervalo $[a,x_{n}]$ se encuentra la raíz, renombrando $a=a$ y $b=x_{n}$.\n",
    "\n",
    "    * Si $f(a)*f(x_{n})>0$, entonces en el subintervalo $[x_{n},b]$ se encuentra la raíz, renombrando $a=x_{n}$ y $b=b$.\n",
    "    * Si $f(a)*f(x_{n})=0$, entonces $x_{n}$ es la raíz. Debido a los errores de redondeo, es poco probable que $f(x_{n})=0$ , por lo que se deben de utilizar otros criterios para saber cuando detener el algoritmo.\n",
    "    \n",
    "**Tolerancia**\n",
    "\n",
    "Si ocurre alguno de los dos primeros casos $(f(a)*f(x_{n})<0$,$ \\hspace{1mm} f(a)*f(x_{n})>0 )$ se calcula para la segunda iteración el punto medio del nuevo intervalo mediante la ecuación (1), siendo esta la aproximación mas actualizada de la raíz.\n",
    "\n",
    "Se repite el proceso hasta que se cumplan los siguientes criterios de convergencia.\n",
    "\n",
    "$$ \\left|x_{n}-x_{n-1}\\right|\\leq Tol \\tag{2} $$\n",
    "\n",
    "$$ \\left|f(x_{n})\\right|\\leq Tol \\tag{3} $$\n",
    "\n",
    "$$ N<n \\tag{4} $$\n",
    "\n",
    "Donde $Tol$ es alguna tolerancia definida $>0$ y $N$ es un número máximo de iteraciones.\n",
    "\n",
    "Se deben cumplir simultáneamente los criterios (2) y (3) para asegurar que se ha encontrado una aproximación de la raíz. En su defecto se debe cumplir el criterio (4) el cual indica que no se ha logrado la convergencia.\n",
    "\n",
    "**Pseudocódigo**"
   ]
  },
  {
   "cell_type": "markdown",
   "metadata": {
    "id": "L1OQNQObmjLw"
   },
   "source": [
    "<img src=\"https://github.com/jugernaut/Numerico2021/blob/master/Figuras/raicesNumericas/algbic.PNG?raw=1\" width=\"700\">"
   ]
  },
  {
   "cell_type": "markdown",
   "metadata": {
    "id": "FlJk5wW_mjLx"
   },
   "source": [
    "<img src=\"https://github.com/jugernaut/Numerico2021/blob/master/Figuras/raicesNumericas/esqbis.PNG?raw=1\" width=\"700\">"
   ]
  },
  {
   "cell_type": "code",
   "execution_count": 1,
   "metadata": {
    "colab": {
     "base_uri": "https://localhost:8080/"
    },
    "id": "8zuMKOkGmjLy",
    "outputId": "3894610a-45d0-45c2-c253-f2e141167e8d"
   },
   "outputs": [
    {
     "name": "stdout",
     "output_type": "stream",
     "text": [
      "La raíz con el método de la bisección es: 0.9996337890625\n"
     ]
    }
   ],
   "source": [
    "'''Esta funcion implementa el metodo de la biseccion\n",
    "para encontrar la raiz de una funcion.\n",
    "f:   funcion de la cual se busca la raiz\n",
    "Tol: tolerancia del error numerico\n",
    "N:   numero maximo de iteraciones\n",
    "a:   limite inferior del rango inicial\n",
    "b:   limite superior del rango inicial\n",
    "'''\n",
    "def biseccion(f,Tol,N,a,b):\n",
    "    sucesion=[]\n",
    "    fa, fb = f(a), f(b)\n",
    "    #no hay un cambio de signo (teorema del valor medio)\n",
    "    #no existe raiz en el intervalo [a,b]\n",
    "    if fa*fb>0:\n",
    "        print (\"no hay raiz en [a,b]\")\n",
    "        return\n",
    "    #contador de iteraciones\n",
    "    n=1\n",
    "    x0=0.0\n",
    "    #mientras no se exceda el numero de iteraciones\n",
    "    while n<=N:\n",
    "        #se busca la raiz en el punto medio\n",
    "        x1=(a+b)/2.0\n",
    "        fx=f(x1)\n",
    "        sucesion.append(x1)\n",
    "        #en caso de que la iteracion siguiente y la diferencia\n",
    "        #entre la iteracion anterior no excedan Tol, entonces\n",
    "        #la iteracion actual se aproxima a la solucion buscada\n",
    "        if abs(f(x1)) <= Tol and abs(x1-x0) <= Tol:\n",
    "            return x1, sucesion\n",
    "        #en caso de no cumplir el criterio de tolerancia\n",
    "        #se actualiza el rango de busqueda\n",
    "        if (fa*fx <0.0):\n",
    "            b=x1\n",
    "        if (fx*fa >0.0):\n",
    "            a=x1\n",
    "        x0=x1\n",
    "        #se incrementa el contador de iteraciones\n",
    "        n=n+1\n",
    "\n",
    "def f(x):\n",
    "  return (x**2)-1\n",
    "\n",
    "raiz, sus = biseccion(f,0.001,1000,-0.5,2)\n",
    "print(\"La raíz con el método de la bisección es:\", raiz)"
   ]
  },
  {
   "cell_type": "markdown",
   "metadata": {
    "id": "wj9BDjNR6ZU4"
   },
   "source": [
    "En el siguiente interactivo se muestra la gráfica correspondiente a $f(x)$, si quieres ver el codigo de esta gráfica da click [aquí](https://colab.research.google.com/github/jugernaut/Numerico2021/blob/master/02_EcuacionesNoLineales/Biseccion_interactive.ipynb)."
   ]
  },
  {
   "cell_type": "code",
   "execution_count": 2,
   "metadata": {
    "colab": {
     "base_uri": "https://localhost:8080/",
     "height": 466
    },
    "id": "_9zuO4nJ81YA",
    "outputId": "a4c0d5c6-089e-46f6-b4e7-bb41eceb0f23"
   },
   "outputs": [
    {
     "data": {
      "image/png": "[encoded data removed]",
      "text/plain": [
       "<Figure size 640x480 with 1 Axes>"
      ]
     },
     "metadata": {},
     "output_type": "display_data"
    }
   ],
   "source": [
    "import numpy as np\n",
    "import matplotlib.pyplot as plt\n",
    "\n",
    "# funcion a graficar y de la cual se busca la raiz\n",
    "def f(x):\n",
    "  return (x**2)-1\n",
    "\n",
    "x = np.arange(-0.25, 2, 0.1)\n",
    "fx = [f(i) for i in x]\n",
    "raiz,sucesion = biseccion(f,0.001,1000,-0.5,2)\n",
    "\n",
    "fig, graf = plt.subplots()\n",
    "#funcion a grficar\n",
    "graf.plot(x,fx)\n",
    "#ejes\n",
    "graf.plot([-0.25, 2], [0, 0])\n",
    "graf.plot([0, 0], [-1, 2.5])\n",
    "\n",
    "# iteracion 1\n",
    "graf.annotate('$x_1$ = '+str(sucesion[0]), xy=(sucesion[0], 0), xytext=(0.5,-0.5),\n",
    "              arrowprops=dict(facecolor='black', shrink=0.05))\n",
    "\n",
    "# iteracion 2\n",
    "graf.annotate('$x_2$ = '+str(sucesion[1]), xy=(sucesion[1], 0), xytext=(1.5,-0.5),\n",
    "              arrowprops=dict(facecolor='black', shrink=0.05))\n",
    "# iteracion n\n",
    "graf.annotate('$x_n$ = '+str(sucesion[-3]), xy=(sucesion[-3], 0), xytext=(1.0,-1.0),\n",
    "              arrowprops=dict(facecolor='black', shrink=0.05))\n",
    "\n",
    "graf.scatter([raiz],[0.], c='red',marker='o',s=75, zorder=5)\n",
    "graf.annotate('La raíz de f es en x = '+str(raiz), xy=(raiz, 0), xytext=(-0.5,3.0),\n",
    "              fontsize=15, arrowprops=dict(facecolor='yellow', shrink=0.05))\n",
    "\n",
    "plt.show()"
   ]
  },
  {
   "cell_type": "code",
   "execution_count": 3,
   "metadata": {
    "colab": {
     "base_uri": "https://localhost:8080/",
     "height": 1000,
     "referenced_widgets": [
      "aef54e41a6cf4239ac9953a386f5dfaa",
      "7b38247f4df1433e883ed6cb3366dd93",
      "c230d0cd78404c5da24cbb525586f71c",
      "943fe549526f4b0ea3d2d2da7a0e07cf",
      "aeb255dd527743ccba0c077ce4d32e8a",
      "8879efdc52da41d191305d3bd4ae9d72",
      "2093a87795694102b40fe4b6a50f32d9"
     ]
    },
    "id": "zeVhZLk5n3In",
    "outputId": "75ed6d4e-018e-42c4-f40b-8264f53ea353"
   },
   "outputs": [
    {
     "data": {
      "application/vnd.jupyter.widget-view+json": {
       "model_id": "2ffccd4ddca343a7b1601946451eac6e",
       "version_major": 2,
       "version_minor": 0
      },
      "text/plain": [
       "interactive(children=(IntSlider(value=1, description='iteraciones', max=10), Output()), _dom_classes=('widget-…"
      ]
     },
     "metadata": {},
     "output_type": "display_data"
    },
    {
     "data": {
      "text/plain": [
       "<function __main__.falsaGraf(iteraciones)>"
      ]
     },
     "execution_count": 3,
     "metadata": {},
     "output_type": "execute_result"
    }
   ],
   "source": [
    "import numpy as np\n",
    "import matplotlib.pyplot as plt\n",
    "from ipywidgets import interact\n",
    "import ipywidgets as widgets\n",
    "\n",
    "# funcion a graficar y de la cual se busca la raiz\n",
    "def f(x):\n",
    "  return (x**2)-1\n",
    "\n",
    "def falsaGraf(iteraciones):\n",
    "  # dominio en el cual se genera la grafica\n",
    "  x = np.arange(-0.25, 2, 0.1)\n",
    "  fx = [f(i) for i in x]\n",
    "  raiz,sucesion = biseccion(f,0.001,1000,0,2)\n",
    "  fig, graf = plt.subplots()\n",
    "  #funcion a grficar\n",
    "  plt.title('Bisección')\n",
    "  plt.plot(x,fx, label = \"$f(x)$\"+str(iteraciones))\n",
    "  #ejes\n",
    "  plt.plot([-0.25, 2], [0, 0])\n",
    "  plt.plot([0, 0], [-1, 2.5])\n",
    "  # constante para acotar\n",
    "  plt.scatter(sucesion[:iteraciones], [0]*iteraciones, c='red',marker='o',s=75, zorder=5,\n",
    "              label = \"Número de Iteraciones \"+str(iteraciones))\n",
    "  plt.grid()\n",
    "  plt.legend()\n",
    "\n",
    "interact(falsaGraf, iteraciones=widgets.IntSlider(min=0,max=10,step=1,value=1))"
   ]
  },
  {
   "cell_type": "markdown",
   "metadata": {
    "id": "tAwOJsrjmjL3"
   },
   "source": [
    "### Análisis de Convergencia\n",
    "\n",
    "**Teorema:**\n",
    "\n",
    "Si $f$ es una función continua definida en el intervalo $[a,b]$, y se satisface $f(a)*f(b)<0$. El método de bisección genera una sucesión $\\left\\{ x_{n}\\right\\} _{n=1}^{\\infty}$ que aproxima una raíz $x$ de $f$, tal que:  \n",
    "$$\\left|x-x_{n}\\right|\\leq\\frac{b-a}{2^{n}}\\leq Tol,\\quad para\\,n \\geq 1 $$\n",
    "\n",
    "*Demostración:*\n",
    "\n",
    " Para cada $n \\geq 1$, tenemos\n",
    "\n",
    " $$b_{n}-a_{n}=\\frac{1}{2^{n-1}}(b-a)\\quad y\\quad x\\in(a_{n},b_{n})$$.\n",
    "\n",
    " Y como $x_{n}=\\frac{1}{2}(a_{n}+b_{n})$ para toda $n \\geq 1$, se deduce que\n",
    "\n",
    " $$\\left|x-x_{n}\\right|\\leq\\frac{1}{2}(b_{n}-a_{n})=\\frac{1}{2}\\left(\\frac{1}{2^{n-1}}(b-a)\\right)=\\frac{b-a}{2^{n}}$$\n",
    "\n",
    "Por lo tanto\n",
    "\n",
    "$$\\left|x-x_{n}\\right|\\leq\\frac{b-a}{2^{n}} $$\n",
    "\n",
    "Por otro lado, queremos que la distancia entre $x$ y $x_n$ sea menor o igual que la Tolerancia. Pero ya vimos que esa distancia esta acotada por $\\frac{b-a}{2^{n}}$, de tal forma que\n",
    "\n",
    "$$ \\frac{b-a}{2^{n}} \\leq Tol$$\n",
    "\n",
    "$$\\therefore \\left|x-x_{n}\\right|\\leq\\frac{b-a}{2^{n}}\\leq Tol,\\quad para\\,n \\geq 1 $$\n",
    "\n",
    "**¿Cuantas iteraciones?**.\n",
    "\n",
    "Para conocer cuantas iteraciones son necesarias considerando que *Tol* ya fue preestablecido, basta con resolver la desigualdad para $n$ del teorema anterior. Lo que nos da como resultado.\n",
    "\n",
    "$$\\Longrightarrow \\frac{b-a}{2^{n}} \\leq Tol$$\n",
    "\n",
    "$$ b-a \\leq 2^{n}Tol $$\n",
    "\n",
    "$$ \\frac{b-a}{Tol} \\leq 2^{n} $$\n",
    "\n",
    "$$ log\\left(\\frac{b-a}{Tol}\\right) \\leq \\log2^{n}$$\n",
    "\n",
    "$$ log\\left(\\frac{b-a}{Tol}\\right) \\leq n\\log2 $$\n",
    "\n",
    "$$ \\frac{\\log\\left(\\frac{b-a}{Tol}\\right)}{\\log2} \\leq n $$\n",
    "\n",
    "$$ \\therefore N > \\frac{\\log\\left(\\frac{b-a}{Tol}\\right)}{\\log2}$$\n",
    "\n",
    "Es importante recalcar que a pesar de que este resultado nos da una idea de la cota para el número de iteraciones ($N$), en realidad se tienen que realizar más iteraciones, debido a que para que el algoritmo termine es necesario cumplir ambos criterios señalados previamente.\n"
   ]
  },
  {
   "cell_type": "markdown",
   "metadata": {
    "id": "007r1RIlXM-G"
   },
   "source": [
    "### Análisis de Complejidad\n",
    "\n",
    "Por otro lado podemos notar que $n$ es el número mínimo de iteraciones que requiere este algoritmo, en otras palabras, $n$ es el número de operaciones que requiere este algoritmo para lograr la convergencia a la raíz buscada.\n",
    "\n",
    "$$n \\geq \\frac{\\log\\left(\\frac{b-a}{Tol}\\right)}{\\log2}$$\n",
    "\n",
    "$$\\Longrightarrow \\frac{\\log\\left(\\frac{b-a}{Tol}\\right)}{\\log2} = \\log_{2}(\\frac{b-a}{Tol})$$\n",
    "\n",
    "$$ \\therefore n \\geq \\log_{2}(\\frac{b-a}{Tol})$$\n",
    "\n",
    "De tal manera que $\\log_{2}(\\frac{b-a}{Tol})$ es la cota inferior para el número de operaciones que requiere este algoritmo. Este valor nos da una idea cuál función podría acotar superiormente el número de operaciones de este algoritmo.\n",
    "\n",
    "Además se puede notar que este algoritmo funciona de manera similar al algoritmo conocido como **búsqueda binaria**, mismo que pertenece al orden logarítmico, es decir  $T(n) \\in O(log\\,n)$ donde $T(n)$ es el número de operaciones que le toma al algoritmo búsqueda binaria encontrar un valor en términos de $n$\n",
    "\n",
    "Así que todo indica que el método de la bisección también pertenece a $O(log\\,n)$, sin embargo, para ser formales hace falta demostrarlo."
   ]
  },
  {
   "cell_type": "markdown",
   "metadata": {
    "id": "kjULtyv8FOWM"
   },
   "source": [
    "### Ventajas y Desventajas\n",
    "\n",
    "**Ventajas**.\n",
    "\n",
    "* Encuentra una raíz aún cuando la función no sea analítica.\n",
    "\n",
    "* Si existe una raíz, este método siempre converge.\n",
    "\n",
    "* Es de los métodos mas sencillos de programar.\n",
    "\n",
    "**Desventajas**.\n",
    "\n",
    "* Su convergencia es muy lenta comparada con la convergencia de otros métodos, por lo que se sugiere escoger un intervalo inicial $[a,b]$, tan pequeño como sea posible.\n",
    "\n",
    "* Es mandatario, encontrar un intervalo donde exista al menos una raíz."
   ]
  },
  {
   "cell_type": "markdown",
   "metadata": {
    "id": "dQrq-VVomjL4"
   },
   "source": [
    "## Método de la falsa posición\n",
    "\n",
    "El método de la falsa posición debe su nombre a que búsca una raíz de la funcion $f(x)$ a partir de una falsa posición.\n",
    "\n",
    "Esta **falsa posición** viene de encontrar una recta secante de $f(x)$ y calcular la intersección de esta recta con el eje de las $x$ para así suponer que en esa intersección (falsa posición) se encuentra la raíz."
   ]
  },
  {
   "cell_type": "markdown",
   "metadata": {
    "id": "8mFQwD4uuSq9"
   },
   "source": [
    "### Descripción del método\n",
    "\n",
    "* Comienza con un intervalo $[a,b]$, que encierra a la raíz, es decir $f(a)$ y $f(b)$ son de signos opuestos, (teorema del valor medio).\n",
    "\n",
    "* Es similar al método de bisección ya que consiste en generar subintervalos que encierren a la raíz; pero la aproximación de la raíz $x_{n}$ no se obtiene con el punto medio, sino con la intersección de la recta secante a la curva que une a los puntos $(a,f(a))$ y $(b,f(b))$, con el eje $x$; proporcionando una mejor estimación de la raíz.\n",
    "\n",
    "* El reemplazamiento de la curva por una línea recta da una \"falsa posición\" de la raíz, de aquí el nombre del método.\n",
    "\n",
    "* Se repite este proceso substituyendo uno de los extremos del intervalo por el valor de la nueva iteración y de la función evaluada en ese punto, es decir $(x_{n},f(x_{n}))$."
   ]
  },
  {
   "cell_type": "markdown",
   "metadata": {
    "id": "-9htmsgNoaRQ"
   },
   "source": [
    "### Algoritmo\n",
    "\n",
    "El primer paso para aplicar el método de la falsa posición y garantizar que sea converjente a la solución, es comprobar que $f$ es continua en el intervalo $[a,b]$, y que en éste intervalo se encuentre una raíz $f(a)*f(b)<0$, si se cumplen estos dos requisitos se garantiza la convergencia del método.\n",
    "\n",
    "*Repaso de Kinder*\n",
    "\n",
    "Dado que ambos puntos $(a,f(a))$ y $(b,f(b))$ pertenecen a la misma recta, ambos deben tener la misma pendiente. Así, la ecuación de la recta que pasa por los puntos $(a,f(a))$ y $(b,f(b))$ esta dada por\n",
    "\n",
    "$$ m=\\frac{f(b)-f(a)}{b-a}\t\\quad y \\quad\tm=\\frac{f(x)-f(a)}{x-a}$$\n",
    "\n",
    "$$ \\frac{f(b)-f(a)}{b-a}\t=\t\\frac{f(x)-f(a)}{x-a}$$\n",
    "\n",
    "A continuación, se calcula la intersección con el eje $x$ (el valor $f(x)$ se iguala a cero) de la recta secante a la curva que pasa por los puntos $(a,f(a))$  y $(b,f(b))$ , que será la primera aproximación de la raíz. Este valor esta dado por:\n",
    "\n",
    "$$ (x-a)(f(b)-f(a)) = (b-a)(-f(a))$$\n",
    "\n",
    "$$xf(b)-xf(a)-af(b)+af(a) = -bf(a)+af(a)$$\n",
    "\n",
    "$$ xf(b)-xf(a)-af(b) = -bf(a)$$\n",
    "\n",
    "$$ x(f(b)-f(a)) = af(b)-bf(a) $$\n",
    "\n",
    "$$ x = \\frac{af(b)-bf(a)}{f(b)-f(a)} $$\n",
    "\n",
    "*Método iterativo de la falsa posición*\n",
    "\n",
    "$$ x_{n}=\\frac{a_{n-1}f(b_{n-1})-b_{n-1}f(a_{n-1})}{f(b_{n-1})-f(a_{n-1})} \\tag{5} $$\n",
    "\n",
    "* A continuación se verifican los signos de $f(a)*f(x_{n})$  y $f(x_{n})*f(b)$ , para saber en que subintervalo se encuentra la raíz (como en el método de bisección):\n",
    "\n",
    "    * Si $f(a)*f(x_{n})<0$, entonces en el subintervalo $[a,x_{n}]$, se encuentra la raíz, renombrando $b=x_{n}$.\n",
    "    \n",
    "    * Si $f(a)*f(x_{n})>0$, entonces en el subintervalo $[x_{n},b]$ se encuentra la raíz, renombrando $a=x_{n}$.\n",
    "\n",
    "    * Si $f(a)*f(x_{n})=0$, entonces $x_{n}$ es la raíz.\n",
    "\n",
    "* Si ocurre alguno de los dos primeros casos se calcúla la intersección con el eje $x$ de la recta secante a la curva con la ecuación (5), siendo ésta la aproximación más actualizada de la raíz.\n",
    "\n",
    "* Al igual que en el método de bisección se repite el proceso hasta que se cumplan los criterios de convergencia de las ecuaciones (2), (3) y (4)\n",
    "\n",
    "**Pseudocódigo**"
   ]
  },
  {
   "cell_type": "markdown",
   "metadata": {
    "id": "tN8BfuapmjL4"
   },
   "source": [
    "<img src=\"https://github.com/jugernaut/Numerico2021/blob/master/Figuras/raicesNumericas/algFalsa.PNG?raw=1\" width=\"700\">"
   ]
  },
  {
   "cell_type": "markdown",
   "metadata": {
    "id": "fRY1h4jQmjL5"
   },
   "source": [
    "<img src=\"https://github.com/jugernaut/Numerico2021/blob/master/Figuras/raicesNumericas/esqFalsa.PNG?raw=1\" width=\"700\">"
   ]
  },
  {
   "cell_type": "code",
   "execution_count": 4,
   "metadata": {
    "colab": {
     "base_uri": "https://localhost:8080/"
    },
    "id": "pmbYbkT4mjL6",
    "outputId": "bb52cd08-4df6-4ab2-e63b-9c2fae556693"
   },
   "outputs": [
    {
     "name": "stdout",
     "output_type": "stream",
     "text": [
      "La raíz con el método de la falsa posición es: 0.9996952148735141\n"
     ]
    }
   ],
   "source": [
    "'''Esta funcion implementa el metodo de la falsa posicion\n",
    "para encontrar la raiz de una funcion.\n",
    "f:   funcion de la cual se busca la raiz\n",
    "Tol: tolerancia del error numerico\n",
    "N:   numero maximo de iteraciones\n",
    "a:   limite inferior del rango inicial\n",
    "b:   limite superior del rango inicial\n",
    "'''\n",
    "def falsaPosicion(f,Tol,N,a,b):\n",
    "    fa=f(a)\n",
    "    fb=f(b)\n",
    "    #en caso de que no haya cambio de signo, no existe raiz\n",
    "    sucesion=[]\n",
    "    if fa*fb>0:\n",
    "        print(\"No existe raíz en [a,b]\")\n",
    "        return\n",
    "    #contador de iteraciones\n",
    "    n=1\n",
    "    #se toma una raiz inicial arbitraria\n",
    "    x0=0.0\n",
    "    #mientras no se exceda el numero de iteraciones\n",
    "    while n<=N:\n",
    "        #se actualiza el rango de busqueda\n",
    "        fa,fb =f(a),f(b)\n",
    "        #se calcula la nueva iteracion\n",
    "        x1= (a*fb-b*fa)/(fb-fa)\n",
    "        fx=f(x1)\n",
    "        sucesion.append(x1)\n",
    "        #en caso de que la diferencia entre la iteracion actual\n",
    "        #y la iteracion anterior no excedan Tol, y que la raiz\n",
    "        #evaluada no exceda la tolerancia, se devuelve la raiz\n",
    "        if abs(f(x1)) <= Tol and abs(x1-x0) <= Tol:\n",
    "            return x1, sucesion\n",
    "        #en caso de no cumplir el criterio de tolerancia\n",
    "        #se actualiza el rango de busqueda\n",
    "        if (fa*fx <0.0):\n",
    "            b=x1\n",
    "        if (fx*fa >0.0):\n",
    "            a=x1\n",
    "        #se actualiza x0\n",
    "        x0=x1\n",
    "        #se incrementa el contador de iteraciones\n",
    "        n=n+1\n",
    "\n",
    "raiz, sucesion = falsaPosicion(f,0.001,1000,-0.5,2)\n",
    "print(\"La raíz con el método de la falsa posición es:\", raiz)"
   ]
  },
  {
   "cell_type": "code",
   "execution_count": 5,
   "metadata": {
    "colab": {
     "base_uri": "https://localhost:8080/",
     "height": 466
    },
    "id": "OxN0_jvwL0ns",
    "outputId": "df699abb-a873-46ac-c6ee-701dcffdfe65"
   },
   "outputs": [
    {
     "data": {
      "image/png": "[encoded data removed]",
      "text/plain": [
       "<Figure size 640x480 with 1 Axes>"
      ]
     },
     "metadata": {},
     "output_type": "display_data"
    }
   ],
   "source": [
    "import numpy as np\n",
    "import matplotlib.pyplot as plt\n",
    "\n",
    "# funcion a graficar y de la cual se busca la raiz\n",
    "def f(x):\n",
    "  return (x**2)-1\n",
    "\n",
    "x = np.arange(-0.25, 2, 0.1)\n",
    "fx = [f(i) for i in x]\n",
    "raiz,sucesion = falsaPosicion(f,0.001,1000,-0.5,2)\n",
    "\n",
    "fig, graf = plt.subplots()\n",
    "#funcion a grficar\n",
    "graf.plot(x,fx)\n",
    "#ejes\n",
    "graf.plot([-0.25, 2], [0, 0])\n",
    "graf.plot([0, 0], [-1, 2.5])\n",
    "\n",
    "# iteracion 1\n",
    "graf.annotate('$x_1$ = '+str(sucesion[0]), xy=(sucesion[0], 0), xytext=(0.5,-0.5),\n",
    "              arrowprops=dict(facecolor='black', shrink=0.05))\n",
    "\n",
    "# iteracion 2\n",
    "graf.annotate('$x_2$ = '+str(sucesion[1]), xy=(sucesion[1], 0), xytext=(1.5,-0.5),\n",
    "              arrowprops=dict(facecolor='black', shrink=0.05))\n",
    "# iteracion n\n",
    "graf.annotate('$x_n$ = '+str(sucesion[-3]), xy=(sucesion[-3], 0), xytext=(1.0,-1.0),\n",
    "              arrowprops=dict(facecolor='black', shrink=0.05))\n",
    "\n",
    "graf.scatter([raiz],[0.], c='red',marker='o',s=75, zorder=5)\n",
    "graf.annotate('La raíz de f es en x = '+str(raiz), xy=(raiz, 0), xytext=(-0.5,3.0),\n",
    "              fontsize=15, arrowprops=dict(facecolor='yellow', shrink=0.05))\n",
    "\n",
    "plt.show()"
   ]
  },
  {
   "cell_type": "code",
   "execution_count": 6,
   "metadata": {
    "colab": {
     "base_uri": "https://localhost:8080/",
     "height": 1000,
     "referenced_widgets": [
      "df4c4022e9894cb58f4ce67c0d1345e1",
      "8a6cfef28beb434396b799ec000fe729",
      "8e30908ea0ac469692ed5e394f5fe53e",
      "00cb2c065b224a7b88834845b4b49e3b",
      "72db36b536dd405db207c810595ab08f",
      "cba86be4b5b540eba86c94ce4de979d5",
      "4a6ff6b82ba442779fb8814f87c743b3"
     ]
    },
    "id": "wfhTj-TNoSFI",
    "outputId": "93f2dfd3-a20f-4734-c98d-281d88a9de5a"
   },
   "outputs": [
    {
     "data": {
      "application/vnd.jupyter.widget-view+json": {
       "model_id": "5f1d7888444c4f87982730a84c002d02",
       "version_major": 2,
       "version_minor": 0
      },
      "text/plain": [
       "interactive(children=(IntSlider(value=1, description='iteraciones', max=10), Output()), _dom_classes=('widget-…"
      ]
     },
     "metadata": {},
     "output_type": "display_data"
    },
    {
     "data": {
      "text/plain": [
       "<function __main__.falsaGraf(iteraciones)>"
      ]
     },
     "execution_count": 6,
     "metadata": {},
     "output_type": "execute_result"
    }
   ],
   "source": [
    "import numpy as np\n",
    "import matplotlib.pyplot as plt\n",
    "from ipywidgets import interact\n",
    "import ipywidgets as widgets\n",
    "\n",
    "# funcion a graficar y de la cual se busca la raiz\n",
    "def f(x):\n",
    "  return (x**2)-1\n",
    "\n",
    "def falsaGraf(iteraciones):\n",
    "  # dominio en el cual se genera la grafica\n",
    "  x = np.arange(-0.25, 2, 0.1)\n",
    "  fx = [f(i) for i in x]\n",
    "  raiz,sucesion = falsaPosicion(f,0.001,1000,0,2)\n",
    "  fig, graf = plt.subplots()\n",
    "  #funcion a grficar\n",
    "  plt.title('Falsa Posción')\n",
    "  plt.plot(x,fx, label = \"$f(x)$\")\n",
    "  #ejes\n",
    "  plt.plot([-0.25, 2], [0, 0])\n",
    "  plt.plot([0, 0], [-1, 2.5])\n",
    "  # constante para acotar\n",
    "  plt.scatter(sucesion[:iteraciones], [0]*iteraciones, c='red',marker='o',s=75, zorder=5,\n",
    "              label = \"Número de Iteraciones \"+str(iteraciones))\n",
    "  plt.grid()\n",
    "  plt.legend()\n",
    "\n",
    "interact(falsaGraf, iteraciones=widgets.IntSlider(min=0,max=10,step=1,value=1))"
   ]
  },
  {
   "cell_type": "markdown",
   "metadata": {
    "id": "7jT7faJZJndt"
   },
   "source": [
    "### Ventajas y Desventajas\n",
    "\n",
    "**Ventajas**.\n",
    "\n",
    "* Si existe una raíz, este método siempre converge.\n",
    "\n",
    "* Se aproxima a la raiz más pronto que el método de la bisección.\n",
    "\n",
    "**Desventajas**.\n",
    "\n",
    "* Su convergencia es muy lenta comparada con la convergencia de otros métodos, por lo que se sugiere escoger un intervalo inicial $[a,b]$, tan pequeño como sea posible.\n",
    "\n",
    "* Es mandatario, encontrar un intervalo donde exista al menos una raíz."
   ]
  },
  {
   "cell_type": "markdown",
   "metadata": {
    "id": "pcAvkL7emjL-"
   },
   "source": [
    "## Método de la secante\n",
    "\n",
    "El método de la secante debe su nombre a que emplea una recta secante a $f(x)$ para dar una aproximación de la raíz."
   ]
  },
  {
   "cell_type": "markdown",
   "metadata": {
    "id": "ZBPOdYtXpBb_"
   },
   "source": [
    "### **Descripción del método**\n",
    "\n",
    "*  El método de la secante es un paso previo al método de Newton, este método aproxima la derivada $f'(x_{n})$ mediante la recta secante. Este método es parecido al método de la falsa posición, ya que ambos comienzan con un intervalo y se basan en la formula de la interpolación lineal.\n",
    "\n",
    "\n",
    "*  Al igual que el método de la falsa posición la aproximación a la raíz $x_{n}$, se obtiene con la intersección de la recta secante a la curva que une los puntos $(x_{0},f(x_{0}))$ y $(x_{1},f(x_{1}))$ con el eje $x$ y se denota $x_{2}$, siendo esta ultima una mejor aproximación de la raíz.\n",
    "\n",
    "\n",
    "*  Este proceso se repite de tal manera que para encontrar la aproximación de la raíz $x_{n}$, se emplean las aproximaciones $x_{n-1}$ y $x_{n-2}$.\n",
    "\n",
    "\n",
    "*  El algoritmo termina cuando se cumplen los criterios de convergencia (2), (3) y (4)."
   ]
  },
  {
   "cell_type": "markdown",
   "metadata": {
    "id": "bvd2dvz6pE1v"
   },
   "source": [
    "### Algoritmo\n",
    "\n",
    "Para poder encontrar la intersección de la recta secante con la curva que une los puntos $(x_{0},f(x_{0}))$ y $(x_{1},f(x_{1}))$, se emplea la siguiente igualdad trigonométrica, ya que la recta secante al intersectar el eje $x$ forma un ángulo $\\theta$ y por tanto un par de triángulos semejantes.\n",
    "\n",
    "$$\\cot\\theta=\\frac{cateto\\hspace{1mm} adyacente}{cateto \\hspace{1mm}opuesto}$$\n",
    "\n",
    "Posteriormente se substituyen los puntos antes mencionados en la identidad trigonométrica.\n",
    "\n",
    "$$\\cot\\theta=\\frac{x_{1}-x_{2}}{f(x_{1})} \\quad \\cot\\theta=\\frac{x_{1}-x_{0}}{f(x_{1})-f(x_{0})}$$\n",
    "\n",
    "El resto del desarrollo consiste en igualar ambas ecuaciones y despejar $x_{2}$, ya que es el valor buscado, $f(x_2)=0$ ya que esperamos que $x_2$ sea una raíz de $f(x)$.\n",
    "\n",
    "$$ \\Longrightarrow \\frac{x_{1}-x_{2}}{f(x_{1})}\t=\t\\frac{x_{1}-x_{0}}{f(x_{1})-f(x_{0})}$$\n",
    "\n",
    "$$x_{2}\t=\tx_{1}-f(x_{1})\\frac{x_{1}-x_{0}}{f(x_{1})-f(x_{0})}$$\n",
    "\n",
    "De manera que para obtener la n-esima intersección con el eje $x$ de la recta secante a la curva, la ecuación seria:\n",
    "\n",
    "$$ x_{n}=x_{n-1}-f(x_{n-1})\\frac{x_{n-1}-x_{n-2}}{f(x_{n-1})-f(x_{n-2})} \\tag{6}$$\n",
    "\n",
    "A la ecuación (6) se le conoce como el método iterativo del método de la secante.\n",
    "\n",
    "<img src=\"https://github.com/jugernaut/Numerico2021/blob/desarrollo/Figuras/raicesNumericas/Secan.png?raw=1\" width=\"500\">\n",
    "\n",
    "**Pseudocódigo**"
   ]
  },
  {
   "cell_type": "markdown",
   "metadata": {
    "id": "FbKqtqUomjL_"
   },
   "source": [
    "<img src=\"https://github.com/jugernaut/Numerico2021/blob/master/Figuras/raicesNumericas/algSec.PNG?raw=1\" width=\"700\">"
   ]
  },
  {
   "cell_type": "markdown",
   "metadata": {
    "id": "rcvDSN4emjMA"
   },
   "source": [
    "<img src=\"https://github.com/jugernaut/Numerico2021/blob/master/Figuras/raicesNumericas/esqSec.PNG?raw=1\" width=\"700\">"
   ]
  },
  {
   "cell_type": "code",
   "execution_count": 7,
   "metadata": {
    "colab": {
     "base_uri": "https://localhost:8080/"
    },
    "id": "sb1rODtKmjMB",
    "outputId": "e84de852-5b1d-47d8-8e51-ff267c8ca08e"
   },
   "outputs": [
    {
     "name": "stdout",
     "output_type": "stream",
     "text": [
      "La raíz con el método de la secante es: 0.9999999999999999\n"
     ]
    }
   ],
   "source": [
    "'''Esta funcion implementa el metodo de la secante\n",
    "para encontrar la raiz de una funcion.\n",
    "f:   funcion de la cual se busca la raiz\n",
    "Tol: tolerancia del error numerico\n",
    "N:   numero maximo de iteraciones\n",
    "x0:  aproximacion inicial\n",
    "x1: aproximacion siguiente\n",
    "'''\n",
    "def secante(f, Tol, N, x0, x1):\n",
    "    #contador de iteraciones\n",
    "    n = 1\n",
    "    #mientras no se haya superado el limite de iteraciones\n",
    "    while( N >= n ):\n",
    "        #calculo de los valores de fx\n",
    "        fx0,fx1=f(x0),f(x1)\n",
    "        #se calcula la siguiente aproximacion\n",
    "        xn = x1-fx1*((x1-x0)/float(fx1-fx0))\n",
    "        #en caso de que se cumplan los criteros de paro\n",
    "        #se devuelve la raiz\n",
    "        if (abs(f(xn)) <= Tol and abs(x0-x1) <= Tol):\n",
    "            return xn\n",
    "        #se actualizan los valores\n",
    "        x0 = x1\n",
    "        x1 = xn\n",
    "        #incremento en las iteraciones\n",
    "        n+=1\n",
    "    raise Exception(\"Se alcanzo el maximo numero de iteraciones y no se encontro raiz\")\n",
    "\n",
    "raiz = secante(f,0.0001,10,-0.5,2)\n",
    "print(\"La raíz con el método de la secante es:\", raiz)"
   ]
  },
  {
   "cell_type": "markdown",
   "metadata": {
    "id": "UeMPtgf_mjME"
   },
   "source": [
    "### Ventajas y Desventajas\n",
    "\n",
    "**Ventajas**\n",
    "\n",
    "* No hay que calcular la derivada de $f$.\n",
    "\n",
    "* La convergencia del método es superlineal, lo que significa que se aproxima a la raíz con un menor número de iteraciones, en comparación con los métodos previos.\n",
    "\n",
    "**Desventajas**\n",
    "\n",
    "* El método puede converger a una raíz no deseada o puede no converger del todo si la estimación inicial no es buena.\n",
    "\n",
    "* Si dos aproximaciones sucesivas están demasiado cercanas, entonces también $f(x_{n+1})$ y $f(x_{n})$ están muy cercanas, por lo que se presenta un error de redondeo significativo en la siguiente aproximación, debido al redondeo y a la cancelación numérica ya que se emplea la ecuación (6)."
   ]
  },
  {
   "cell_type": "markdown",
   "metadata": {
    "id": "2u2PPQpOmjMF"
   },
   "source": [
    "## Método de Newton\n",
    "\n",
    "El método de Newton hace uso de la definición de la derivada de $f(x)$ para encontrar la aproximación a la raíz de la función.\n"
   ]
  },
  {
   "cell_type": "markdown",
   "metadata": {
    "id": "u0E4479gQ64X"
   },
   "source": [
    "### Descripción del método\n",
    "\n",
    "* El método de Newton comienza con una aproximación inicial $x_{0}$ a la raíz, a continuación se traza una recta tangente a la curva en el punto $\\left(x_{0},\\,f\\left(x_{0}\\right)\\right)$. La intersección de la recta tangente con el eje x, se denota como $x_{1}$ y se considera una mejor aproximación de la raíz.\n",
    "\n",
    "\n",
    "* Después se traza otra recta tangente a la curva en el punto $\\left(x_{1},\\,f\\left(x_{1}\\right)\\right)$. La nueva intersección de la recta tangente con el eje $x$, se denota como $x_{2}$ y se considera una mejor aproximación de la raíz.\n",
    "\n",
    "\n",
    "* El proceso se repite hasta que se cumplan los criterios de convergencia de las ecuaciones.\n",
    "\n",
    "\n",
    "* El método de Newton, se puede aplicar para hallar raíces complejas, siempre y cuando el valor inicial $x_{0}$ sea un número complejo."
   ]
  },
  {
   "cell_type": "markdown",
   "metadata": {
    "id": "ol1Uc6ejQhes"
   },
   "source": [
    "### Algoritmo\n",
    "\n",
    "La intersección de la recta tangente con el eje $x$ se puede calcular de la siguiente manera:\n",
    "\n",
    "\n",
    "$$\\tan \\theta\t=\t\\frac{cateto \\hspace{1mm}opuesto}{cateto\\hspace{1mm}adyacente}$$\n",
    "\n",
    "$$\\tan \\theta=\\frac{f\\left(x_{0}\\right)}{x_{0}-x_{1}}=f^{'}(x_{0})$$\n",
    "\n",
    "Se iguala a la primera derivada de $x_{0}$, ya que ésta es equivalente a la pendiente :\n",
    "\n",
    "$$f^{'}\\left(x_{0}\\right) = \\frac{f\\left(x_{0}\\right)-0}{x_{0}-x_{1}}$$\n",
    "\n",
    "$$ \\Rightarrow \\frac{f\\left(x_{0}\\right)}{x_{0}-x_{1}} = f^{'}(x_{0})$$\n",
    "\n",
    "$$ \\left(x_{0}-x_{1}\\right)f^{'}\\left(x_{0}\\right) = f(x_{0})$$\n",
    "\n",
    "$$ f\\left(x_{0}\\right) = x_{0}f^{'}\\left(x_{0}\\right)-x_{1}f^{'}\\left(x_{0}\\right)$$\n",
    "\n",
    "$$ x_{1}f^{'}\\left(x_{0}\\right) = x_{0}f^{'}\\left(x_{0}\\right)-f\\left(x_{0}\\right)$$\n",
    "\n",
    "$$ x_{1} = x_{0}-\\frac{f\\left(x_{0}\\right)}{f^{'}\\left(x_{0}\\right)}$$\n",
    "\n",
    "**Método iterativo de Newton**\n",
    "\n",
    "Para obtener la n-esima intersección con el eje $x$ de la recta tangente a la curva, la ecuación sería:\n",
    "\n",
    "$$ x_{n}=x_{n-1}-\\frac{f\\left(x_{n-1}\\right)}{f^{'}\\left(x_{n-1}\\right)}$$\n",
    "\n",
    "**Pseudocódigo**"
   ]
  },
  {
   "cell_type": "markdown",
   "metadata": {
    "id": "tW9LMWrWmjMG"
   },
   "source": [
    "<img src=\"https://github.com/jugernaut/Numerico2021/blob/master/Figuras/raicesNumericas/algNew.PNG?raw=1\" width=\"700\">"
   ]
  },
  {
   "cell_type": "markdown",
   "metadata": {
    "id": "gEzzgezumjMH"
   },
   "source": [
    "<img src=\"https://github.com/jugernaut/Numerico2021/blob/master/Figuras/raicesNumericas/esqNew.PNG?raw=1\" width=\"700\">"
   ]
  },
  {
   "cell_type": "code",
   "execution_count": 8,
   "metadata": {
    "colab": {
     "base_uri": "https://localhost:8080/"
    },
    "id": "9OnGKC6tmjMH",
    "outputId": "03ab4c72-4543-494e-e42f-1befcfc37765"
   },
   "outputs": [
    {
     "name": "stdout",
     "output_type": "stream",
     "text": [
      "La raíz con el método de Newton es: 1.000000000000001\n"
     ]
    }
   ],
   "source": [
    "'''Esta funcion implementa el metodo de la falsa posicion\n",
    "para encontrar la raiz de una funcion.\n",
    "f:   funcion de la cual se busca la raiz\n",
    "df:  derivada de f\n",
    "Tol: tolerancia del error numerico\n",
    "N:   numero maximo de iteraciones\n",
    "x0:  aproximacion inicial\n",
    "'''\n",
    "def newton(f,df,Tol,N,x0):\n",
    "    #contador de iteraciones\n",
    "    n=1\n",
    "    #mientras no se haya superado el limite de iteraciones\n",
    "    while n<=N:\n",
    "        #se evalua la funcion y su derivada\n",
    "        fx=f(x0)\n",
    "        dfx=df(x0)\n",
    "        #se calcula la siguiente aproximacion\n",
    "        xn = x0-(fx/float(dfx))\n",
    "        #en caso de cumplir criterios se devuelve la raiz\n",
    "        if abs(f(xn)) <= Tol and abs(xn-x0) <= Tol:\n",
    "            return xn\n",
    "        #actualizamos las aproximaciones\n",
    "        x0 = xn\n",
    "        #se incrementa el contador de iteraciones\n",
    "        n=n+1\n",
    "    raise Exception(\"Se alcanzo el maximo numero de iteraciones y no se encontro raiz\")\n",
    "\n",
    "def df(x):\n",
    "    return 2*x\n",
    "\n",
    "raiz = newton(f,df,0.0001,100,2)\n",
    "print(\"La raíz con el método de Newton es:\", raiz)"
   ]
  },
  {
   "cell_type": "markdown",
   "metadata": {
    "id": "rFrFRaI9TJWf"
   },
   "source": [
    "### Ventajas y Desventajas\n",
    "\n",
    "**Ventajas**.\n",
    "\n",
    "* La rapidez de convergencia iterativa del método de Newton es mayor a cualquier método visto previamente.\n",
    "\n",
    "* Sirve para encontrar raíces complejas, para lo cual requiere que $x_0$ sea un número complejo $x_0 = a + bi$.\n",
    "\n",
    "**Desventajas**.\n",
    "\n",
    "* El método requiere una buena estimación inicial. De otro modo, la solución iterativa puede ser divergente o converger a una solución irrelevante.\n",
    "\n",
    "* La derivada $f′(x)$, no siempre es fácil de calcular."
   ]
  },
  {
   "cell_type": "markdown",
   "metadata": {
    "id": "CQyDCHd1Bxho"
   },
   "source": [
    "### Observaciones\n",
    "\n",
    "Ya que la naturaleza de las funciones puede ser muy variada, hay que tomer en cuenta las siguientes observaciones:\n",
    "\n",
    "\n",
    "*   Si se tiene una aproximación inicial $x_0$ en un punto de inflexión, es decir $f''(x)=0$, las aproximaciones pueden oscilar de manera indefinida.\n",
    "*   Si alguna de las aproximaxiones se encuentra cerca de un máximo o un mínimo local. Una pendiente nula provoca una división entre cero en el método (geométricamente esto significa una recta tangente que nunca se intersecta con el eje $x$).\n",
    "*   Si se tiene varias raíces en un intervalo cercano, puede darse el caso de que una aproximación pase de la aproximación de una raíz a otra continuamente, sin lograr la convergencia.\n",
    "\n",
    "<img src=\"https://github.com/jugernaut/Numerico2021/blob/desarrollo/Figuras/raicesNumericas/Newton1.png?raw=1\" width=\"500\">\n",
    "\n",
    "<img src=\"https://github.com/jugernaut/Numerico2021/blob/desarrollo/Figuras/raicesNumericas/Newton2.png?raw=1\" width=\"500\">\n",
    "\n",
    "<img src=\"https://github.com/jugernaut/Numerico2021/blob/desarrollo/Figuras/raicesNumericas/Newton3.png?raw=1\" width=\"500\">\n",
    "\n"
   ]
  },
  {
   "cell_type": "markdown",
   "metadata": {
    "id": "yW4lrjqMmjML"
   },
   "source": [
    "## Referencias\n",
    "\n",
    "1.Riswan Butt:Numerical Analysys Using Matlab, Jones and Bartlett.\n",
    "\n",
    "2.Ward Cheney, David Kincaid: Métodos Numéricos y Computación, Cenage Learning.\n",
    "\n",
    "3.Richard L. Burden, J. Douglas Faires: Análisis Numérico, Math Learning."
   ]
  }
 ],
 "metadata": {
  "colab": {
   "include_colab_link": true,
   "name": "01_SolucionEcuacionesNoLineales.ipynb",
   "provenance": [],
   "toc_visible": true
  },
  "kernelspec": {
   "display_name": "Python 3 (ipykernel)",
   "language": "python",
   "name": "python3"
  },
  "language_info": {
   "codemirror_mode": {
    "name": "ipython",
    "version": 3
   },
   "file_extension": ".py",
   "mimetype": "text/x-python",
   "name": "python",
   "nbconvert_exporter": "python",
   "pygments_lexer": "ipython3",
   "version": "3.11.6"
  },
  "widgets": {
   "application/vnd.jupyter.widget-state+json": {
    "00cb2c065b224a7b88834845b4b49e3b": {
     "model_module": "@jupyter-widgets/base",
     "model_module_version": "1.2.0",
     "model_name": "LayoutModel",
     "state": {
      "_model_module": "@jupyter-widgets/base",
      "_model_module_version": "1.2.0",
      "_model_name": "LayoutModel",
      "_view_count": null,
      "_view_module": "@jupyter-widgets/base",
      "_view_module_version": "1.2.0",
      "_view_name": "LayoutView",
      "align_content": null,
      "align_items": null,
      "align_self": null,
      "border": null,
      "bottom": null,
      "display": null,
      "flex": null,
      "flex_flow": null,
      "grid_area": null,
      "grid_auto_columns": null,
      "grid_auto_flow": null,
      "grid_auto_rows": null,
      "grid_column": null,
      "grid_gap": null,
      "grid_row": null,
      "grid_template_areas": null,
      "grid_template_columns": null,
      "grid_template_rows": null,
      "height": null,
      "justify_content": null,
      "justify_items": null,
      "left": null,
      "margin": null,
      "max_height": null,
      "max_width": null,
      "min_height": null,
      "min_width": null,
      "object_fit": null,
      "object_position": null,
      "order": null,
      "overflow": null,
      "overflow_x": null,
      "overflow_y": null,
      "padding": null,
      "right": null,
      "top": null,
      "visibility": null,
      "width": null
     }
    },
    "2093a87795694102b40fe4b6a50f32d9": {
     "model_module": "@jupyter-widgets/base",
     "model_module_version": "1.2.0",
     "model_name": "LayoutModel",
     "state": {
      "_model_module": "@jupyter-widgets/base",
      "_model_module_version": "1.2.0",
      "_model_name": "LayoutModel",
      "_view_count": null,
      "_view_module": "@jupyter-widgets/base",
      "_view_module_version": "1.2.0",
      "_view_name": "LayoutView",
      "align_content": null,
      "align_items": null,
      "align_self": null,
      "border": null,
      "bottom": null,
      "display": null,
      "flex": null,
      "flex_flow": null,
      "grid_area": null,
      "grid_auto_columns": null,
      "grid_auto_flow": null,
      "grid_auto_rows": null,
      "grid_column": null,
      "grid_gap": null,
      "grid_row": null,
      "grid_template_areas": null,
      "grid_template_columns": null,
      "grid_template_rows": null,
      "height": null,
      "justify_content": null,
      "justify_items": null,
      "left": null,
      "margin": null,
      "max_height": null,
      "max_width": null,
      "min_height": null,
      "min_width": null,
      "object_fit": null,
      "object_position": null,
      "order": null,
      "overflow": null,
      "overflow_x": null,
      "overflow_y": null,
      "padding": null,
      "right": null,
      "top": null,
      "visibility": null,
      "width": null
     }
    },
    "4a6ff6b82ba442779fb8814f87c743b3": {
     "model_module": "@jupyter-widgets/base",
     "model_module_version": "1.2.0",
     "model_name": "LayoutModel",
     "state": {
      "_model_module": "@jupyter-widgets/base",
      "_model_module_version": "1.2.0",
      "_model_name": "LayoutModel",
      "_view_count": null,
      "_view_module": "@jupyter-widgets/base",
      "_view_module_version": "1.2.0",
      "_view_name": "LayoutView",
      "align_content": null,
      "align_items": null,
      "align_self": null,
      "border": null,
      "bottom": null,
      "display": null,
      "flex": null,
      "flex_flow": null,
      "grid_area": null,
      "grid_auto_columns": null,
      "grid_auto_flow": null,
      "grid_auto_rows": null,
      "grid_column": null,
      "grid_gap": null,
      "grid_row": null,
      "grid_template_areas": null,
      "grid_template_columns": null,
      "grid_template_rows": null,
      "height": null,
      "justify_content": null,
      "justify_items": null,
      "left": null,
      "margin": null,
      "max_height": null,
      "max_width": null,
      "min_height": null,
      "min_width": null,
      "object_fit": null,
      "object_position": null,
      "order": null,
      "overflow": null,
      "overflow_x": null,
      "overflow_y": null,
      "padding": null,
      "right": null,
      "top": null,
      "visibility": null,
      "width": null
     }
    },
    "72db36b536dd405db207c810595ab08f": {
     "model_module": "@jupyter-widgets/base",
     "model_module_version": "1.2.0",
     "model_name": "LayoutModel",
     "state": {
      "_model_module": "@jupyter-widgets/base",
      "_model_module_version": "1.2.0",
      "_model_name": "LayoutModel",
      "_view_count": null,
      "_view_module": "@jupyter-widgets/base",
      "_view_module_version": "1.2.0",
      "_view_name": "LayoutView",
      "align_content": null,
      "align_items": null,
      "align_self": null,
      "border": null,
      "bottom": null,
      "display": null,
      "flex": null,
      "flex_flow": null,
      "grid_area": null,
      "grid_auto_columns": null,
      "grid_auto_flow": null,
      "grid_auto_rows": null,
      "grid_column": null,
      "grid_gap": null,
      "grid_row": null,
      "grid_template_areas": null,
      "grid_template_columns": null,
      "grid_template_rows": null,
      "height": null,
      "justify_content": null,
      "justify_items": null,
      "left": null,
      "margin": null,
      "max_height": null,
      "max_width": null,
      "min_height": null,
      "min_width": null,
      "object_fit": null,
      "object_position": null,
      "order": null,
      "overflow": null,
      "overflow_x": null,
      "overflow_y": null,
      "padding": null,
      "right": null,
      "top": null,
      "visibility": null,
      "width": null
     }
    },
    "7b38247f4df1433e883ed6cb3366dd93": {
     "model_module": "@jupyter-widgets/controls",
     "model_module_version": "1.5.0",
     "model_name": "IntSliderModel",
     "state": {
      "_dom_classes": [],
      "_model_module": "@jupyter-widgets/controls",
      "_model_module_version": "1.5.0",
      "_model_name": "IntSliderModel",
      "_view_count": null,
      "_view_module": "@jupyter-widgets/controls",
      "_view_module_version": "1.5.0",
      "_view_name": "IntSliderView",
      "continuous_update": true,
      "description": "iteraciones",
      "description_tooltip": null,
      "disabled": false,
      "layout": "IPY_MODEL_aeb255dd527743ccba0c077ce4d32e8a",
      "max": 10,
      "min": 0,
      "orientation": "horizontal",
      "readout": true,
      "readout_format": "d",
      "step": 1,
      "style": "IPY_MODEL_8879efdc52da41d191305d3bd4ae9d72",
      "value": 3
     }
    },
    "8879efdc52da41d191305d3bd4ae9d72": {
     "model_module": "@jupyter-widgets/controls",
     "model_module_version": "1.5.0",
     "model_name": "SliderStyleModel",
     "state": {
      "_model_module": "@jupyter-widgets/controls",
      "_model_module_version": "1.5.0",
      "_model_name": "SliderStyleModel",
      "_view_count": null,
      "_view_module": "@jupyter-widgets/base",
      "_view_module_version": "1.2.0",
      "_view_name": "StyleView",
      "description_width": "",
      "handle_color": null
     }
    },
    "8a6cfef28beb434396b799ec000fe729": {
     "model_module": "@jupyter-widgets/controls",
     "model_module_version": "1.5.0",
     "model_name": "IntSliderModel",
     "state": {
      "_dom_classes": [],
      "_model_module": "@jupyter-widgets/controls",
      "_model_module_version": "1.5.0",
      "_model_name": "IntSliderModel",
      "_view_count": null,
      "_view_module": "@jupyter-widgets/controls",
      "_view_module_version": "1.5.0",
      "_view_name": "IntSliderView",
      "continuous_update": true,
      "description": "iteraciones",
      "description_tooltip": null,
      "disabled": false,
      "layout": "IPY_MODEL_72db36b536dd405db207c810595ab08f",
      "max": 10,
      "min": 0,
      "orientation": "horizontal",
      "readout": true,
      "readout_format": "d",
      "step": 1,
      "style": "IPY_MODEL_cba86be4b5b540eba86c94ce4de979d5",
      "value": 4
     }
    },
    "8e30908ea0ac469692ed5e394f5fe53e": {
     "model_module": "@jupyter-widgets/output",
     "model_module_version": "1.0.0",
     "model_name": "OutputModel",
     "state": {
      "_dom_classes": [],
      "_model_module": "@jupyter-widgets/output",
      "_model_module_version": "1.0.0",
      "_model_name": "OutputModel",
      "_view_count": null,
      "_view_module": "@jupyter-widgets/output",
      "_view_module_version": "1.0.0",
      "_view_name": "OutputView",
      "layout": "IPY_MODEL_4a6ff6b82ba442779fb8814f87c743b3",
      "msg_id": "",
      "outputs": []
     }
    },
    "943fe549526f4b0ea3d2d2da7a0e07cf": {
     "model_module": "@jupyter-widgets/base",
     "model_module_version": "1.2.0",
     "model_name": "LayoutModel",
     "state": {
      "_model_module": "@jupyter-widgets/base",
      "_model_module_version": "1.2.0",
      "_model_name": "LayoutModel",
      "_view_count": null,
      "_view_module": "@jupyter-widgets/base",
      "_view_module_version": "1.2.0",
      "_view_name": "LayoutView",
      "align_content": null,
      "align_items": null,
      "align_self": null,
      "border": null,
      "bottom": null,
      "display": null,
      "flex": null,
      "flex_flow": null,
      "grid_area": null,
      "grid_auto_columns": null,
      "grid_auto_flow": null,
      "grid_auto_rows": null,
      "grid_column": null,
      "grid_gap": null,
      "grid_row": null,
      "grid_template_areas": null,
      "grid_template_columns": null,
      "grid_template_rows": null,
      "height": null,
      "justify_content": null,
      "justify_items": null,
      "left": null,
      "margin": null,
      "max_height": null,
      "max_width": null,
      "min_height": null,
      "min_width": null,
      "object_fit": null,
      "object_position": null,
      "order": null,
      "overflow": null,
      "overflow_x": null,
      "overflow_y": null,
      "padding": null,
      "right": null,
      "top": null,
      "visibility": null,
      "width": null
     }
    },
    "aeb255dd527743ccba0c077ce4d32e8a": {
     "model_module": "@jupyter-widgets/base",
     "model_module_version": "1.2.0",
     "model_name": "LayoutModel",
     "state": {
      "_model_module": "@jupyter-widgets/base",
      "_model_module_version": "1.2.0",
      "_model_name": "LayoutModel",
      "_view_count": null,
      "_view_module": "@jupyter-widgets/base",
      "_view_module_version": "1.2.0",
      "_view_name": "LayoutView",
      "align_content": null,
      "align_items": null,
      "align_self": null,
      "border": null,
      "bottom": null,
      "display": null,
      "flex": null,
      "flex_flow": null,
      "grid_area": null,
      "grid_auto_columns": null,
      "grid_auto_flow": null,
      "grid_auto_rows": null,
      "grid_column": null,
      "grid_gap": null,
      "grid_row": null,
      "grid_template_areas": null,
      "grid_template_columns": null,
      "grid_template_rows": null,
      "height": null,
      "justify_content": null,
      "justify_items": null,
      "left": null,
      "margin": null,
      "max_height": null,
      "max_width": null,
      "min_height": null,
      "min_width": null,
      "object_fit": null,
      "object_position": null,
      "order": null,
      "overflow": null,
      "overflow_x": null,
      "overflow_y": null,
      "padding": null,
      "right": null,
      "top": null,
      "visibility": null,
      "width": null
     }
    },
    "aef54e41a6cf4239ac9953a386f5dfaa": {
     "model_module": "@jupyter-widgets/controls",
     "model_module_version": "1.5.0",
     "model_name": "VBoxModel",
     "state": {
      "_dom_classes": [
       "widget-interact"
      ],
      "_model_module": "@jupyter-widgets/controls",
      "_model_module_version": "1.5.0",
      "_model_name": "VBoxModel",
      "_view_count": null,
      "_view_module": "@jupyter-widgets/controls",
      "_view_module_version": "1.5.0",
      "_view_name": "VBoxView",
      "box_style": "",
      "children": [
       "IPY_MODEL_7b38247f4df1433e883ed6cb3366dd93",
       "IPY_MODEL_c230d0cd78404c5da24cbb525586f71c"
      ],
      "layout": "IPY_MODEL_943fe549526f4b0ea3d2d2da7a0e07cf"
     }
    },
    "c230d0cd78404c5da24cbb525586f71c": {
     "model_module": "@jupyter-widgets/output",
     "model_module_version": "1.0.0",
     "model_name": "OutputModel",
     "state": {
      "_dom_classes": [],
      "_model_module": "@jupyter-widgets/output",
      "_model_module_version": "1.0.0",
      "_model_name": "OutputModel",
      "_view_count": null,
      "_view_module": "@jupyter-widgets/output",
      "_view_module_version": "1.0.0",
      "_view_name": "OutputView",
      "layout": "IPY_MODEL_2093a87795694102b40fe4b6a50f32d9",
      "msg_id": "",
      "outputs": [
       {
        "ename": "ValueError",
        "evalue": "x and y must be the same size",
        "output_type": "error",
        "traceback": [
         "\u001b[0;31m---------------------------------------------------------------------------\u001b[0m",
         "\u001b[0;31mValueError\u001b[0m                                Traceback (most recent call last)",
         "\u001b[0;32m/usr/local/lib/python3.10/dist-packages/ipywidgets/widgets/interaction.py\u001b[0m in \u001b[0;36mupdate\u001b[0;34m(self, *args)\u001b[0m\n\u001b[1;32m    255\u001b[0m                     \u001b[0mvalue\u001b[0m \u001b[0;34m=\u001b[0m \u001b[0mwidget\u001b[0m\u001b[0;34m.\u001b[0m\u001b[0mget_interact_value\u001b[0m\u001b[0;34m(\u001b[0m\u001b[0;34m)\u001b[0m\u001b[0;34m\u001b[0m\u001b[0;34m\u001b[0m\u001b[0m\n\u001b[1;32m    256\u001b[0m                     \u001b[0mself\u001b[0m\u001b[0;34m.\u001b[0m\u001b[0mkwargs\u001b[0m\u001b[0;34m[\u001b[0m\u001b[0mwidget\u001b[0m\u001b[0;34m.\u001b[0m\u001b[0m_kwarg\u001b[0m\u001b[0;34m]\u001b[0m \u001b[0;34m=\u001b[0m \u001b[0mvalue\u001b[0m\u001b[0;34m\u001b[0m\u001b[0;34m\u001b[0m\u001b[0m\n\u001b[0;32m--> 257\u001b[0;31m                 \u001b[0mself\u001b[0m\u001b[0;34m.\u001b[0m\u001b[0mresult\u001b[0m \u001b[0;34m=\u001b[0m \u001b[0mself\u001b[0m\u001b[0;34m.\u001b[0m\u001b[0mf\u001b[0m\u001b[0;34m(\u001b[0m\u001b[0;34m**\u001b[0m\u001b[0mself\u001b[0m\u001b[0;34m.\u001b[0m\u001b[0mkwargs\u001b[0m\u001b[0;34m)\u001b[0m\u001b[0;34m\u001b[0m\u001b[0;34m\u001b[0m\u001b[0m\n\u001b[0m\u001b[1;32m    258\u001b[0m                 \u001b[0mshow_inline_matplotlib_plots\u001b[0m\u001b[0;34m(\u001b[0m\u001b[0;34m)\u001b[0m\u001b[0;34m\u001b[0m\u001b[0;34m\u001b[0m\u001b[0m\n\u001b[1;32m    259\u001b[0m                 \u001b[0;32mif\u001b[0m \u001b[0mself\u001b[0m\u001b[0;34m.\u001b[0m\u001b[0mauto_display\u001b[0m \u001b[0;32mand\u001b[0m \u001b[0mself\u001b[0m\u001b[0;34m.\u001b[0m\u001b[0mresult\u001b[0m \u001b[0;32mis\u001b[0m \u001b[0;32mnot\u001b[0m \u001b[0;32mNone\u001b[0m\u001b[0;34m:\u001b[0m\u001b[0;34m\u001b[0m\u001b[0;34m\u001b[0m\u001b[0m\n",
         "\u001b[0;32m<ipython-input-4-839c01cfa13d>\u001b[0m in \u001b[0;36mfalsaGraf\u001b[0;34m(iteraciones)\u001b[0m\n\u001b[1;32m     21\u001b[0m   \u001b[0mplt\u001b[0m\u001b[0;34m.\u001b[0m\u001b[0mplot\u001b[0m\u001b[0;34m(\u001b[0m\u001b[0;34m[\u001b[0m\u001b[0;36m0\u001b[0m\u001b[0;34m,\u001b[0m \u001b[0;36m0\u001b[0m\u001b[0;34m]\u001b[0m\u001b[0;34m,\u001b[0m \u001b[0;34m[\u001b[0m\u001b[0;34m-\u001b[0m\u001b[0;36m1\u001b[0m\u001b[0;34m,\u001b[0m \u001b[0;36m2.5\u001b[0m\u001b[0;34m]\u001b[0m\u001b[0;34m)\u001b[0m\u001b[0;34m\u001b[0m\u001b[0;34m\u001b[0m\u001b[0m\n\u001b[1;32m     22\u001b[0m   \u001b[0;31m# constante para acotar\u001b[0m\u001b[0;34m\u001b[0m\u001b[0;34m\u001b[0m\u001b[0m\n\u001b[0;32m---> 23\u001b[0;31m   plt.scatter(sucesion[:iteraciones], [0]*iteraciones, c='red',marker='o',s=75, zorder=5, \n\u001b[0m\u001b[1;32m     24\u001b[0m               label = \"Número de Iteraciones \"+str(iteraciones))\n\u001b[1;32m     25\u001b[0m   \u001b[0mplt\u001b[0m\u001b[0;34m.\u001b[0m\u001b[0mgrid\u001b[0m\u001b[0;34m(\u001b[0m\u001b[0;34m)\u001b[0m\u001b[0;34m\u001b[0m\u001b[0;34m\u001b[0m\u001b[0m\n",
         "\u001b[0;32m/usr/local/lib/python3.10/dist-packages/matplotlib/pyplot.py\u001b[0m in \u001b[0;36mscatter\u001b[0;34m(x, y, s, c, marker, cmap, norm, vmin, vmax, alpha, linewidths, edgecolors, plotnonfinite, data, **kwargs)\u001b[0m\n\u001b[1;32m   2860\u001b[0m         \u001b[0mvmin\u001b[0m\u001b[0;34m=\u001b[0m\u001b[0;32mNone\u001b[0m\u001b[0;34m,\u001b[0m \u001b[0mvmax\u001b[0m\u001b[0;34m=\u001b[0m\u001b[0;32mNone\u001b[0m\u001b[0;34m,\u001b[0m \u001b[0malpha\u001b[0m\u001b[0;34m=\u001b[0m\u001b[0;32mNone\u001b[0m\u001b[0;34m,\u001b[0m \u001b[0mlinewidths\u001b[0m\u001b[0;34m=\u001b[0m\u001b[0;32mNone\u001b[0m\u001b[0;34m,\u001b[0m \u001b[0;34m*\u001b[0m\u001b[0;34m,\u001b[0m\u001b[0;34m\u001b[0m\u001b[0;34m\u001b[0m\u001b[0m\n\u001b[1;32m   2861\u001b[0m         edgecolors=None, plotnonfinite=False, data=None, **kwargs):\n\u001b[0;32m-> 2862\u001b[0;31m     __ret = gca().scatter(\n\u001b[0m\u001b[1;32m   2863\u001b[0m         \u001b[0mx\u001b[0m\u001b[0;34m,\u001b[0m \u001b[0my\u001b[0m\u001b[0;34m,\u001b[0m \u001b[0ms\u001b[0m\u001b[0;34m=\u001b[0m\u001b[0ms\u001b[0m\u001b[0;34m,\u001b[0m \u001b[0mc\u001b[0m\u001b[0;34m=\u001b[0m\u001b[0mc\u001b[0m\u001b[0;34m,\u001b[0m \u001b[0mmarker\u001b[0m\u001b[0;34m=\u001b[0m\u001b[0mmarker\u001b[0m\u001b[0;34m,\u001b[0m \u001b[0mcmap\u001b[0m\u001b[0;34m=\u001b[0m\u001b[0mcmap\u001b[0m\u001b[0;34m,\u001b[0m \u001b[0mnorm\u001b[0m\u001b[0;34m=\u001b[0m\u001b[0mnorm\u001b[0m\u001b[0;34m,\u001b[0m\u001b[0;34m\u001b[0m\u001b[0;34m\u001b[0m\u001b[0m\n\u001b[1;32m   2864\u001b[0m         \u001b[0mvmin\u001b[0m\u001b[0;34m=\u001b[0m\u001b[0mvmin\u001b[0m\u001b[0;34m,\u001b[0m \u001b[0mvmax\u001b[0m\u001b[0;34m=\u001b[0m\u001b[0mvmax\u001b[0m\u001b[0;34m,\u001b[0m \u001b[0malpha\u001b[0m\u001b[0;34m=\u001b[0m\u001b[0malpha\u001b[0m\u001b[0;34m,\u001b[0m \u001b[0mlinewidths\u001b[0m\u001b[0;34m=\u001b[0m\u001b[0mlinewidths\u001b[0m\u001b[0;34m,\u001b[0m\u001b[0;34m\u001b[0m\u001b[0;34m\u001b[0m\u001b[0m\n",
         "\u001b[0;32m/usr/local/lib/python3.10/dist-packages/matplotlib/__init__.py\u001b[0m in \u001b[0;36minner\u001b[0;34m(ax, data, *args, **kwargs)\u001b[0m\n\u001b[1;32m   1440\u001b[0m     \u001b[0;32mdef\u001b[0m \u001b[0minner\u001b[0m\u001b[0;34m(\u001b[0m\u001b[0max\u001b[0m\u001b[0;34m,\u001b[0m \u001b[0;34m*\u001b[0m\u001b[0margs\u001b[0m\u001b[0;34m,\u001b[0m \u001b[0mdata\u001b[0m\u001b[0;34m=\u001b[0m\u001b[0;32mNone\u001b[0m\u001b[0;34m,\u001b[0m \u001b[0;34m**\u001b[0m\u001b[0mkwargs\u001b[0m\u001b[0;34m)\u001b[0m\u001b[0;34m:\u001b[0m\u001b[0;34m\u001b[0m\u001b[0;34m\u001b[0m\u001b[0m\n\u001b[1;32m   1441\u001b[0m         \u001b[0;32mif\u001b[0m \u001b[0mdata\u001b[0m \u001b[0;32mis\u001b[0m \u001b[0;32mNone\u001b[0m\u001b[0;34m:\u001b[0m\u001b[0;34m\u001b[0m\u001b[0;34m\u001b[0m\u001b[0m\n\u001b[0;32m-> 1442\u001b[0;31m             \u001b[0;32mreturn\u001b[0m \u001b[0mfunc\u001b[0m\u001b[0;34m(\u001b[0m\u001b[0max\u001b[0m\u001b[0;34m,\u001b[0m \u001b[0;34m*\u001b[0m\u001b[0mmap\u001b[0m\u001b[0;34m(\u001b[0m\u001b[0msanitize_sequence\u001b[0m\u001b[0;34m,\u001b[0m \u001b[0margs\u001b[0m\u001b[0;34m)\u001b[0m\u001b[0;34m,\u001b[0m \u001b[0;34m**\u001b[0m\u001b[0mkwargs\u001b[0m\u001b[0;34m)\u001b[0m\u001b[0;34m\u001b[0m\u001b[0;34m\u001b[0m\u001b[0m\n\u001b[0m\u001b[1;32m   1443\u001b[0m \u001b[0;34m\u001b[0m\u001b[0m\n\u001b[1;32m   1444\u001b[0m         \u001b[0mbound\u001b[0m \u001b[0;34m=\u001b[0m \u001b[0mnew_sig\u001b[0m\u001b[0;34m.\u001b[0m\u001b[0mbind\u001b[0m\u001b[0;34m(\u001b[0m\u001b[0max\u001b[0m\u001b[0;34m,\u001b[0m \u001b[0;34m*\u001b[0m\u001b[0margs\u001b[0m\u001b[0;34m,\u001b[0m \u001b[0;34m**\u001b[0m\u001b[0mkwargs\u001b[0m\u001b[0;34m)\u001b[0m\u001b[0;34m\u001b[0m\u001b[0;34m\u001b[0m\u001b[0m\n",
         "\u001b[0;32m/usr/local/lib/python3.10/dist-packages/matplotlib/axes/_axes.py\u001b[0m in \u001b[0;36mscatter\u001b[0;34m(self, x, y, s, c, marker, cmap, norm, vmin, vmax, alpha, linewidths, edgecolors, plotnonfinite, **kwargs)\u001b[0m\n\u001b[1;32m   4582\u001b[0m         \u001b[0my\u001b[0m \u001b[0;34m=\u001b[0m \u001b[0mnp\u001b[0m\u001b[0;34m.\u001b[0m\u001b[0mma\u001b[0m\u001b[0;34m.\u001b[0m\u001b[0mravel\u001b[0m\u001b[0;34m(\u001b[0m\u001b[0my\u001b[0m\u001b[0;34m)\u001b[0m\u001b[0;34m\u001b[0m\u001b[0;34m\u001b[0m\u001b[0m\n\u001b[1;32m   4583\u001b[0m         \u001b[0;32mif\u001b[0m \u001b[0mx\u001b[0m\u001b[0;34m.\u001b[0m\u001b[0msize\u001b[0m \u001b[0;34m!=\u001b[0m \u001b[0my\u001b[0m\u001b[0;34m.\u001b[0m\u001b[0msize\u001b[0m\u001b[0;34m:\u001b[0m\u001b[0;34m\u001b[0m\u001b[0;34m\u001b[0m\u001b[0m\n\u001b[0;32m-> 4584\u001b[0;31m             \u001b[0;32mraise\u001b[0m \u001b[0mValueError\u001b[0m\u001b[0;34m(\u001b[0m\u001b[0;34m\"x and y must be the same size\"\u001b[0m\u001b[0;34m)\u001b[0m\u001b[0;34m\u001b[0m\u001b[0;34m\u001b[0m\u001b[0m\n\u001b[0m\u001b[1;32m   4585\u001b[0m \u001b[0;34m\u001b[0m\u001b[0m\n\u001b[1;32m   4586\u001b[0m         \u001b[0;32mif\u001b[0m \u001b[0ms\u001b[0m \u001b[0;32mis\u001b[0m \u001b[0;32mNone\u001b[0m\u001b[0;34m:\u001b[0m\u001b[0;34m\u001b[0m\u001b[0;34m\u001b[0m\u001b[0m\n",
         "\u001b[0;31mValueError\u001b[0m: x and y must be the same size"
        ]
       }
      ]
     }
    },
    "cba86be4b5b540eba86c94ce4de979d5": {
     "model_module": "@jupyter-widgets/controls",
     "model_module_version": "1.5.0",
     "model_name": "SliderStyleModel",
     "state": {
      "_model_module": "@jupyter-widgets/controls",
      "_model_module_version": "1.5.0",
      "_model_name": "SliderStyleModel",
      "_view_count": null,
      "_view_module": "@jupyter-widgets/base",
      "_view_module_version": "1.2.0",
      "_view_name": "StyleView",
      "description_width": "",
      "handle_color": null
     }
    },
    "df4c4022e9894cb58f4ce67c0d1345e1": {
     "model_module": "@jupyter-widgets/controls",
     "model_module_version": "1.5.0",
     "model_name": "VBoxModel",
     "state": {
      "_dom_classes": [
       "widget-interact"
      ],
      "_model_module": "@jupyter-widgets/controls",
      "_model_module_version": "1.5.0",
      "_model_name": "VBoxModel",
      "_view_count": null,
      "_view_module": "@jupyter-widgets/controls",
      "_view_module_version": "1.5.0",
      "_view_name": "VBoxView",
      "box_style": "",
      "children": [
       "IPY_MODEL_8a6cfef28beb434396b799ec000fe729",
       "IPY_MODEL_8e30908ea0ac469692ed5e394f5fe53e"
      ],
      "layout": "IPY_MODEL_00cb2c065b224a7b88834845b4b49e3b"
     }
    }
   }
  }
 },
 "nbformat": 4,
 "nbformat_minor": 4
}

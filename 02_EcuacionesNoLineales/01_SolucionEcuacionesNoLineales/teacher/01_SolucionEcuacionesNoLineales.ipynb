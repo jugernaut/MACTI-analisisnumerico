{
  "nbformat": 4,
  "nbformat_minor": 0,
  "metadata": {
    "kernelspec": {
      "display_name": "Python 3.7 (tensorflow)",
      "language": "python",
      "name": "tensorflow"
    },
    "language_info": {
      "codemirror_mode": {
        "name": "ipython",
        "version": 3
      },
      "file_extension": ".py",
      "mimetype": "text/x-python",
      "name": "python",
      "nbconvert_exporter": "python",
      "pygments_lexer": "ipython3",
      "version": "3.7.7"
    },
    "colab": {
      "name": "01_SolucionEcuacionesNoLineales.ipynb",
      "provenance": [],
      "include_colab_link": true
    }
  },
  "cells": [
    {
      "cell_type": "markdown",
      "metadata": {
        "id": "view-in-github",
        "colab_type": "text"
      },
      "source": [
        "<a href=\"https://colab.research.google.com/github/jugernaut/MACTI-analisisnumerico/blob/main/02_EcuacionesNoLineales/01_SolucionEcuacionesNoLineales/teacher/01_SolucionEcuacionesNoLineales.ipynb\" target=\"_parent\"><img src=\"https://colab.research.google.com/assets/colab-badge.svg\" alt=\"Open In Colab\"/></a>"
      ]
    },
    {
      "cell_type": "markdown",
      "metadata": {
        "id": "mUjCEqICmjLt"
      },
      "source": [
        "<font color=\"Teal\" face=\"Comic Sans MS,arial\">\n",
        "  <h1 align=\"center\"><i>Ecuaciones no lineales</i></h1>\n",
        "  </font>\n",
        "  <font color=\"Black\" face=\"Comic Sans MS,arial\">\n",
        "  <h5 align=\"center\"><i>Profesor: M. en C. Miguel Angel Pérez León.</i></h5>\n",
        "    <h5 align=\"center\"><i>Diana Laura Rojas Cristino.</i></h5>\n",
        "  <h5 align=\"center\"><i>Materia: Análisis Numérico.</i></h5>\n",
        "  </font>"
      ]
    },
    {
      "cell_type": "markdown",
      "metadata": {
        "id": "G_USq1PJmjLu"
      },
      "source": [
        "## Introducción\n",
        "\n",
        "Las ecuaciones no lineales se presentan en muchos fenómenos de la ciencia y la sociedad, como lo son:\n",
        "\n",
        "* Economía.\n",
        "* Demografía.\n",
        "* Clima.\n",
        "* Biología, entre otros.\n",
        "\n",
        "Una ecuación no lineal es toda aquella en la que cualquiera de las variables que forman parte de la ecuación no son de primer grado. Por tanto en este tipo de ecuaciones nos podemos encontrar polinomios de segundo grado, raíces, logaritmos, exponenciales, funciones trigonométricas, etc.\n",
        "\n",
        "Los métodos numéricos que se tratan en esta sección sirven para generar aproximaciones a las soluciones de este tipo de ecuaciones (no lineales), cuando no es posible obtener soluciones exactas o que es muy complicado encontrarlas con métodos algebraicos.\n",
        "\n",
        "El objetivo principal de este tema será aplicar algunos métodos numéricos para hallar raíces reales de ecuaciones no lineales de una variable, que satisfacen a una ecuación del tipo: $f(x)=0$\n",
        "\n",
        "• Los valores que hacen que una función $f(x)=0$ , se conocen con el nombre de raíces o ceros de $f$.\n",
        "\n",
        "• Se analizarán los siguientes métodos, por medio de los cuales se obtendrá un valor $x_{n}$ tal que:\n",
        "\n",
        "$$ x_{n} \\approx x \\hspace{2mm}\\left( x_{n} \\hspace{1mm} \\text{es la aproximación en la iteración n} \\right) $$\n",
        "\n",
        "$$ f(x_{n}) \\approx 0 \\hspace{2mm} \\left( f(x_{n}) \\hspace{1mm} \\text{es el valor de $f$ evaluado en} \\hspace{1mm} x_{n} \\right)$$"
      ]
    },
    {
      "cell_type": "markdown",
      "metadata": {
        "id": "tp69gyUWm7eU"
      },
      "source": [
        "## Categorías de métodos\n",
        "\n",
        "Los métodos para encontrar solución a ecuaciones no lineales los podemos clasificar en 2 categorías.\n",
        "\n",
        "\n",
        "*   **Métodos cerrados**: requieren dos valores iniciales $x_{0}$ y $x_{1}$, que deben encerrar a la raíz.\n",
        "\n",
        "    *   Método de la bisección.\n",
        "\n",
        "    *  Método de la falsa posición.\n",
        "\n",
        "\n",
        "* **Métodos abiertos**: requieren un sólo valor de inicio $x_{0}$ o dos de ellos $x_{0}$ y $x_{1}$ , pero que no necesariamente deben encerrar a la raíz.\n",
        "\n",
        "    * Método de la secante.\n",
        "\n",
        "    * Método de Newton.\n",
        "    \n",
        "    \n",
        "Los métodos numéricos se basan en **iteraciones que generan sucesiones**, lo que significa que dada una aproximación inicial $x_{0}$ se emplea esta para encontrar el siguiente valor de $x_{1}$ de tal manera que para encontrar el valor de la solución final $x_{n}$ es necesario emplear $x_{n-1}$ para calcular dicho valor.\n",
        "\n",
        "Cabe mencionar que no existe un método universal para encontrar solución a ecuaciones no lineales. Algunos de ellos funcionarán sobre ciertos critérios y no servirán para resolver todo tipo de ecuación. Los métodos que presenten un buen comportamiento sobre alguna ecuación pueden no ser los mejores para resolver otro tipo de ecuaciones.\n",
        "\n",
        "De cada uno de los métodos vistos en esta sección (y de todos los métodos numéricos en general), es importante conocer sus ventajas y desventajas, así como su **complejidad computacional, crecimiento del error y rapidez de convergencia**.\n",
        "\n",
        "Ya se que se tenga una idea de las cualidades específicas de cada método, es más sencillo determinar cual de ellos aplicar y bajo que circunstancias."
      ]
    },
    {
      "cell_type": "markdown",
      "metadata": {
        "id": "FfQIZfj1mjLv"
      },
      "source": [
        "## Método de la bisección\n",
        "\n",
        "El problema de encontrar una aproximación a la raíz de una ecuación data del año 1700 a.c. Una tabla cuneiforme encontrada en Babilonia muestra el número sexagesimal (base 60) equivalente a 1.414222 como aproximación de $\\sqrt{2}$, resultado con una precisión de $10^{-5}$. Esta aproximación se puede encontrar empleando el algoritmo visto al inicio del curso.\n",
        "\n",
        "El primer método numérico que analizaremos y que se basa en el teorema del valor medio, se conoce como el método de la bisección o búsqueda binaria."
      ]
    },
    {
      "cell_type": "markdown",
      "metadata": {
        "id": "pSF5TTj5oslA"
      },
      "source": [
        "### Teorema del valor Intermedio\n",
        "\n",
        "Sea $f$ una función continua en un intervalo $[a,b]$. Entonces para cada $u$ tal que $f(a) < u < f(b) $ , existe al menos un $c \\in ( a, b) $ tal que $f(c)=u$.\n",
        "\n",
        "El teorea de valor intermdio, origina un resultado que nos ayudará a entender el método de la bisección, el resultado es el siguiente."
      ]
    },
    {
      "cell_type": "markdown",
      "metadata": {
        "id": "AhmbKxf-o4Uo"
      },
      "source": [
        "### Teorema de Bolzano\n",
        "\n",
        "Sea $f$ una función continua en un intervalo $[a,b]$ con $f(a)$ y $ f(b) $  de signos contrarios, es decir, $f(a)*f(b)<0 $ . Entonces existe al menos un $c \\in ( a, b) $ tal que $f(c)=0$."
      ]
    },
    {
      "cell_type": "markdown",
      "metadata": {
        "id": "_bNiTtmDpBlK"
      },
      "source": [
        "### Descripción del método\n",
        "\n",
        "* Para simplificar, asumimos que $[a,b]$ contiene exactamente una raíz $x$, (aunque el método también se puede aplicar cuando hay mas de una raíz en $[a,b]$; pero cuando esto sucede no se garantiza que el método sea convergente a la solución buscada.\n",
        "\n",
        "* El método consiste en dividir sucesivamente el intervalo $[a,b]$ por la mitad y evaluar ese punto para saber si se tiene una raíz o en su defecto hasta que la longitud del intervalo tienda a cero.\n",
        "\n",
        "* Un prerequisito para garantizar la convergencia de este método es garantizar que $f$ es continua en $[a,b]$ y que en este intervalo se encuentra exactamente una raíz; si se cumplen ambos se garantiza convergencia, pero no significa que si uno de ellos no se cumple, el método sea divergente.\n"
      ]
    },
    {
      "cell_type": "markdown",
      "metadata": {
        "id": "dNcGXm5UojTZ"
      },
      "source": [
        "### Algoritmo\n",
        "\n",
        "1. Se calcula la primera iteración $(n=1)$ el punto medio del intervalo, que será la primera aproximación de la raíz, este valor esta dado por:\n",
        "\n",
        "$$x_{1}=a+\\frac{b-a}{2}=\\frac{2a+b-a}{2}=\\frac{a+b}{2}$$\n",
        "\n",
        "* Para obtener el n-esimo punto medio, la ecuación sería:\n",
        "\n",
        "$$x_{n}=\\frac{a_{n-1}+b_{n-1}}{2} \\tag{1}$$\n",
        "\n",
        "A la ecuación (1) se le denomina método iterativo del punto medio, actualizando iterativamente los valores de $a$ y $b$.\n",
        "\n",
        "2. Se verifican los signos de $f(a)*f(x_{n})$ y $f(x_{n})*f(b)$, para saber en que subintervalo se encuentra la raíz:\n",
        "\n",
        "    *  Si $f(a)*f(x_{n})<0$, entonces en el subintervalo $[a,x_{n}]$ se encuentra la raíz, renombrando $a=a$ y $b=x_{n}$.\n",
        "\n",
        "    * Si $f(a)*f(x_{n})>0$, entonces en el subintervalo $[x_{n},b]$ se encuentra la raíz, renombrando $a=x_{n}$ y $b=b$.\n",
        "    * Si $f(a)*f(x_{n})=0$, entonces $x_{n}$ es la raíz. Debido a los errores de redondeo, es poco probable que $f(x_{n})=0$ , por lo que se deben de utilizar otros criterios para saber cuando detener el algoritmo.\n",
        "    \n",
        "**Tolerancia**\n",
        "\n",
        "Si ocurre alguno de los dos primeros casos $(f(a)*f(x_{n})<0$,$ \\hspace{1mm} f(a)*f(x_{n})>0 )$ se calcula para la segunda iteración el punto medio del nuevo intervalo mediante la ecuación (1), siendo esta la aproximación mas actualizada de la raíz.\n",
        "\n",
        "Se repite el proceso hasta que se cumplan los siguientes criterios de convergencia.\n",
        "\n",
        "$$ \\left|x_{n}-x_{n-1}\\right|\\leq Tol \\tag{2} $$\n",
        "\n",
        "$$ \\left|f(x_{n})\\right|\\leq Tol \\tag{3} $$\n",
        "\n",
        "$$ N<n \\tag{4} $$\n",
        "\n",
        "Donde $Tol$ es alguna tolerancia definida $>0$ y $N$ es un número máximo de iteraciones.\n",
        "\n",
        "Se deben cumplir simultáneamente los criterios (2) y (3) para asegurar que se ha encontrado una aproximación de la raíz. En su defecto se debe cumplir el criterio (4) el cual indica que no se ha logrado la convergencia.\n",
        "\n",
        "**Pseudocódigo**"
      ]
    },
    {
      "cell_type": "markdown",
      "metadata": {
        "id": "L1OQNQObmjLw"
      },
      "source": [
        "<img src=\"https://github.com/jugernaut/Numerico2021/blob/master/Figuras/raicesNumericas/algbic.PNG?raw=1\" width=\"700\">"
      ]
    },
    {
      "cell_type": "markdown",
      "metadata": {
        "id": "FlJk5wW_mjLx"
      },
      "source": [
        "<img src=\"https://github.com/jugernaut/Numerico2021/blob/master/Figuras/raicesNumericas/esqbis.PNG?raw=1\" width=\"700\">"
      ]
    },
    {
      "cell_type": "code",
      "metadata": {
        "id": "8zuMKOkGmjLy",
        "colab": {
          "base_uri": "https://localhost:8080/"
        },
        "outputId": "71fd157f-e7e8-4994-c07e-290845d6823d"
      },
      "source": [
        "'''Esta funcion implementa el metodo de la biseccion\n",
        "para encontrar la raiz de una funcion.\n",
        "f:   funcion de la cual se busca la raiz\n",
        "Tol: tolerancia del error numerico\n",
        "N:   numero maximo de iteraciones\n",
        "a:   limite inferior del rango inicial\n",
        "b:   limite superior del rango inicial\n",
        "'''\n",
        "def biseccion(f,Tol,N,a,b):\n",
        "    sucesion=[]\n",
        "    fa, fb = f(a), f(b)\n",
        "    #no hay un cambio de signo (teorema del valor medio)\n",
        "    #no existe raiz en el intervalo [a,b]\n",
        "    if fa*fb>0:\n",
        "        print (\"no hay raiz en [a,b]\")\n",
        "        return\n",
        "    #contador de iteraciones\n",
        "    n=1\n",
        "    x0=0.0\n",
        "    #mientras no se exceda el numero de iteraciones\n",
        "    while n<=N:\n",
        "        #se busca la raiz en el punto medio\n",
        "        x1=(a+b)/2.0\n",
        "        fx=f(x1)\n",
        "        sucesion.append(x1)\n",
        "        #en caso de que la iteracion siguiente y la diferencia\n",
        "        #entre la iteracion anterior no excedan Tol, entonces\n",
        "        #la iteracion actual se aproxima a la solucion buscada\n",
        "        if abs(f(x1)) <= Tol and abs(x1-x0) <= Tol:\n",
        "            return x1, sucesion\n",
        "        #en caso de no cumplir el criterio de tolerancia\n",
        "        #se actualiza el rango de busqueda\n",
        "        if (fa*fx <0.0):\n",
        "            b=x1\n",
        "        if (fx*fa >0.0):\n",
        "            a=x1\n",
        "        x0=x1\n",
        "        #se incrementa el contador de iteraciones\n",
        "        n=n+1\n",
        "\n",
        "def f(x):\n",
        "  return (x**2)-1\n",
        "\n",
        "raiz, sus = biseccion(f,0.001,1000,-0.5,2)\n",
        "print(\"La raíz con el método de la bisección es:\", raiz)"
      ],
      "execution_count": 2,
      "outputs": [
        {
          "output_type": "stream",
          "name": "stdout",
          "text": [
            "La raíz con el método de la bisección es: 0.9996337890625\n"
          ]
        }
      ]
    },
    {
      "cell_type": "markdown",
      "metadata": {
        "id": "wj9BDjNR6ZU4"
      },
      "source": [
        "En el siguiente interactivo se muestra la gráfica correspondiente a $f(x)$, si quieres ver el codigo de esta gráfica da click [aquí](https://colab.research.google.com/github/jugernaut/Numerico2021/blob/master/02_EcuacionesNoLineales/Biseccion_interactive.ipynb)."
      ]
    },
    {
      "cell_type": "code",
      "source": [
        "import numpy as np\n",
        "import matplotlib.pyplot as plt\n",
        "\n",
        "# funcion a graficar y de la cual se busca la raiz\n",
        "def f(x):\n",
        "  return (x**2)-1\n",
        "\n",
        "x = np.arange(-0.25, 2, 0.1)\n",
        "fx = [f(i) for i in x]\n",
        "raiz,sucesion = biseccion(f,0.001,1000,-0.5,2)\n",
        "\n",
        "fig, graf = plt.subplots()\n",
        "#funcion a grficar\n",
        "graf.plot(x,fx)\n",
        "#ejes\n",
        "graf.plot([-0.25, 2], [0, 0])\n",
        "graf.plot([0, 0], [-1, 2.5])\n",
        "\n",
        "# iteracion 1\n",
        "graf.annotate('$x_1$ = '+str(sucesion[0]), xy=(sucesion[0], 0), xytext=(0.5,-0.5),\n",
        "              arrowprops=dict(facecolor='black', shrink=0.05))\n",
        "\n",
        "# iteracion 2\n",
        "graf.annotate('$x_2$ = '+str(sucesion[1]), xy=(sucesion[1], 0), xytext=(1.5,-0.5),\n",
        "              arrowprops=dict(facecolor='black', shrink=0.05))\n",
        "# iteracion n\n",
        "graf.annotate('$x_n$ = '+str(sucesion[-3]), xy=(sucesion[-3], 0), xytext=(1.0,-1.0),\n",
        "              arrowprops=dict(facecolor='black', shrink=0.05))\n",
        "\n",
        "graf.scatter([raiz],[0.], c='red',marker='o',s=75, zorder=5)\n",
        "graf.annotate('La raíz de f es en x = '+str(raiz), xy=(raiz, 0), xytext=(-0.5,3.0),\n",
        "              fontsize=15, arrowprops=dict(facecolor='yellow', shrink=0.05))\n",
        "\n",
        "plt.show()"
      ],
      "metadata": {
        "colab": {
          "base_uri": "https://localhost:8080/",
          "height": 466
        },
        "id": "_9zuO4nJ81YA",
        "outputId": "51120391-ef85-44e0-ec4b-151ef79f1df5"
      },
      "execution_count": 3,
      "outputs": [
        {
          "output_type": "display_data",
          "data": {
            "text/plain": [
              "<Figure size 640x480 with 1 Axes>"
            ],
            "image/png": "[encoded data removed]"
          },
          "metadata": {}
        }
      ]
    },
    {
      "cell_type": "markdown",
      "metadata": {
        "id": "tAwOJsrjmjL3"
      },
      "source": [
        "### Análisis de Convergencia\n",
        "\n",
        "**Teorema:**\n",
        "\n",
        "Si $f$ es una función continua definida en el intervalo $[a,b]$, y se satisface $f(a)*f(b)<0$. El método de bisección genera una sucesión $\\left\\{ x_{n}\\right\\} _{n=1}^{\\infty}$ que aproxima una raíz $x$ de $f$, tal que:  \n",
        "$$\\left|x-x_{n}\\right|\\leq\\frac{b-a}{2^{n}}\\leq Tol,\\quad para\\,n \\geq 1 $$\n",
        "\n",
        "*Demostración:*\n",
        "\n",
        " Para cada $n \\geq 1$, tenemos\n",
        "\n",
        " $$b_{n}-a_{n}=\\frac{1}{2^{n-1}}(b-a)\\quad y\\quad x\\in(a_{n},b_{n})$$.\n",
        "\n",
        " Y como $x_{n}=\\frac{1}{2}(a_{n}+b_{n})$ para toda $n \\geq 1$, se deduce que\n",
        "\n",
        " $$\\left|x-x_{n}\\right|\\leq\\frac{1}{2}(b_{n}-a_{n})=\\frac{1}{2}\\left(\\frac{1}{2^{n-1}}(b-a)\\right)=\\frac{b-a}{2^{n}}$$\n",
        "\n",
        "Por lo tanto\n",
        "\n",
        "$$\\left|x-x_{n}\\right|\\leq\\frac{b-a}{2^{n}} $$\n",
        "\n",
        "Por otro lado, queremos que la distancia entre $x$ y $x_n$ sea menor o igual que la Tolerancia. Pero ya vimos que esa distancia esta acotada por $\\frac{b-a}{2^{n}}$, de tal forma que\n",
        "\n",
        "$$ \\frac{b-a}{2^{n}} \\leq Tol$$\n",
        "\n",
        "$$\\therefore \\left|x-x_{n}\\right|\\leq\\frac{b-a}{2^{n}}\\leq Tol,\\quad para\\,n \\geq 1 $$\n",
        "\n",
        "**¿Cuantas iteraciones?**.\n",
        "\n",
        "Para conocer cuantas iteraciones son necesarias considerando que *Tol* ya fue preestablecido, basta con resolver la desigualdad para $n$ del teorema anterior. Lo que nos da como resultado.\n",
        "\n",
        "$$\\Longrightarrow \\frac{b-a}{2^{n}} \\leq Tol$$\n",
        "\n",
        "$$ b-a \\leq 2^{n}Tol $$\n",
        "\n",
        "$$ \\frac{b-a}{Tol} \\leq 2^{n} $$\n",
        "\n",
        "$$ log\\left(\\frac{b-a}{Tol}\\right) \\leq \\log2^{n}$$\n",
        "\n",
        "$$ log\\left(\\frac{b-a}{Tol}\\right) \\leq n\\log2 $$\n",
        "\n",
        "$$ \\frac{\\log\\left(\\frac{b-a}{Tol}\\right)}{\\log2} \\leq n $$\n",
        "\n",
        "$$ \\therefore N > \\frac{\\log\\left(\\frac{b-a}{Tol}\\right)}{\\log2}$$\n",
        "\n",
        "Es importante recalcar que a pesar de que este resultado nos da una idea de la cota para el número de iteraciones ($N$), en realidad se tienen que realizar más iteraciones, debido a que para que el algoritmo termine es necesario cumplir ambos criterios señalados previamente.\n"
      ]
    },
    {
      "cell_type": "markdown",
      "metadata": {
        "id": "007r1RIlXM-G"
      },
      "source": [
        "### Análisis de Complejidad\n",
        "\n",
        "Por otro lado podemos notar que $n$ es el número mínimo de iteraciones que requiere este algoritmo, en otras palabras, $n$ es el número de operaciones que requiere este algoritmo para lograr la convergencia a la raíz buscada.\n",
        "\n",
        "$$n \\geq \\frac{\\log\\left(\\frac{b-a}{Tol}\\right)}{\\log2}$$\n",
        "\n",
        "$$\\Longrightarrow \\frac{\\log\\left(\\frac{b-a}{Tol}\\right)}{\\log2} = \\log_{2}(\\frac{b-a}{Tol})$$\n",
        "\n",
        "$$ \\therefore n \\geq \\log_{2}(\\frac{b-a}{Tol})$$\n",
        "\n",
        "De tal manera que $\\log_{2}(\\frac{b-a}{Tol})$ es la cota inferior para el número de operaciones que requiere este algoritmo. Este valor nos da una idea cuál función podría acotar superiormente el número de operaciones de este algoritmo.\n",
        "\n",
        "Además se puede notar que este algoritmo funciona de manera similar al algoritmo conocido como **búsqueda binaria**, mismo que pertenece al orden logarítmico, es decir  $T(n) \\in O(log\\,n)$ donde $T(n)$ es el número de operaciones que le toma al algoritmo búsqueda binaria encontrar un valor en términos de $n$\n",
        "\n",
        "Así que todo indica que el método de la bisección también pertenece a $O(log\\,n)$, sin embargo, para ser formales hace falta demostrarlo."
      ]
    },
    {
      "cell_type": "markdown",
      "metadata": {
        "id": "kjULtyv8FOWM"
      },
      "source": [
        "### Ventajas y Desventajas\n",
        "\n",
        "**Ventajas**.\n",
        "\n",
        "* Encuentra una raíz aún cuando la función no sea analítica.\n",
        "\n",
        "* Si existe una raíz, este método siempre converge.\n",
        "\n",
        "* Es de los métodos mas sencillos de programar.\n",
        "\n",
        "**Desventajas**.\n",
        "\n",
        "* Su convergencia es muy lenta comparada con la convergencia de otros métodos, por lo que se sugiere escoger un intervalo inicial $[a,b]$, tan pequeño como sea posible.\n",
        "\n",
        "* Es mandatario, encontrar un intervalo donde exista al menos una raíz."
      ]
    },
    {
      "cell_type": "markdown",
      "metadata": {
        "id": "dQrq-VVomjL4"
      },
      "source": [
        "## Método de la falsa posición\n",
        "\n",
        "El método de la falsa posición debe su nombre a que búsca una raíz de la funcion $f(x)$ a partir de una falsa posición.\n",
        "\n",
        "Esta **falsa posición** viene de encontrar una recta secante de $f(x)$ y calcular la intersección de esta recta con el eje de las $x$ para así suponer que en esa intersección (falsa posición) se encuentra la raíz."
      ]
    },
    {
      "cell_type": "markdown",
      "metadata": {
        "id": "8mFQwD4uuSq9"
      },
      "source": [
        "### Descripción del método\n",
        "\n",
        "* Comienza con un intervalo $[a,b]$, que encierra a la raíz, es decir $f(a)$ y $f(b)$ son de signos opuestos, (teorema del valor medio).\n",
        "\n",
        "* Es similar al método de bisección ya que consiste en generar subintervalos que encierren a la raíz; pero la aproximación de la raíz $x_{n}$ no se obtiene con el punto medio, sino con la intersección de la recta secante a la curva que une a los puntos $(a,f(a))$ y $(b,f(b))$, con el eje $x$; proporcionando una mejor estimación de la raíz.\n",
        "\n",
        "* El reemplazamiento de la curva por una línea recta da una \"falsa posición\" de la raíz, de aquí el nombre del método.\n",
        "\n",
        "* Se repite este proceso substituyendo uno de los extremos del intervalo por el valor de la nueva iteración y de la función evaluada en ese punto, es decir $(x_{n},f(x_{n}))$."
      ]
    },
    {
      "cell_type": "markdown",
      "metadata": {
        "id": "-9htmsgNoaRQ"
      },
      "source": [
        "### Algoritmo\n",
        "\n",
        "El primer paso para aplicar el método de la falsa posición y garantizar que sea converjente a la solución, es comprobar que $f$ es continua en el intervalo $[a,b]$, y que en éste intervalo se encuentre una raíz $f(a)*f(b)<0$, si se cumplen estos dos requisitos se garantiza la convergencia del método.\n",
        "\n",
        "*Repaso de Kinder*\n",
        "\n",
        "Dado que ambos puntos $(a,f(a))$ y $(b,f(b))$ pertenecen a la misma recta, ambos deben tener la misma pendiente. Así, la ecuación de la recta que pasa por los puntos $(a,f(a))$ y $(b,f(b))$ esta dada por\n",
        "\n",
        "$$ m=\\frac{f(b)-f(a)}{b-a}\t\\quad y \\quad\tm=\\frac{f(x)-f(a)}{x-a}$$\n",
        "\n",
        "$$ \\frac{f(b)-f(a)}{b-a}\t=\t\\frac{f(x)-f(a)}{x-a}$$\n",
        "\n",
        "A continuación, se calcula la intersección con el eje $x$ (el valor $f(x)$ se iguala a cero) de la recta secante a la curva que pasa por los puntos $(a,f(a))$  y $(b,f(b))$ , que será la primera aproximación de la raíz. Este valor esta dado por:\n",
        "\n",
        "$$ (x-a)(f(b)-f(a)) = (b-a)(-f(a))$$\n",
        "\n",
        "$$xf(b)-xf(a)-af(b)+af(a) = -bf(a)+af(a)$$\n",
        "\n",
        "$$ xf(b)-xf(a)-af(b) = -bf(a)$$\n",
        "\n",
        "$$ x(f(b)-f(a)) = af(b)-bf(a) $$\n",
        "\n",
        "$$ x = \\frac{af(b)-bf(a)}{f(b)-f(a)} $$\n",
        "\n",
        "*Método iterativo de la falsa posición*\n",
        "\n",
        "$$ x_{n}=\\frac{a_{n-1}f(b_{n-1})-b_{n-1}f(a_{n-1})}{f(b_{n-1})-f(a_{n-1})} \\tag{5} $$\n",
        "\n",
        "* A continuación se verifican los signos de $f(a)*f(x_{n})$  y $f(x_{n})*f(b)$ , para saber en que subintervalo se encuentra la raíz (como en el método de bisección):\n",
        "\n",
        "    * Si $f(a)*f(x_{n})<0$, entonces en el subintervalo $[a,x_{n}]$, se encuentra la raíz, renombrando $b=x_{n}$.\n",
        "    \n",
        "    * Si $f(a)*f(x_{n})>0$, entonces en el subintervalo $[x_{n},b]$ se encuentra la raíz, renombrando $a=x_{n}$.\n",
        "\n",
        "    * Si $f(a)*f(x_{n})=0$, entonces $x_{n}$ es la raíz.\n",
        "\n",
        "* Si ocurre alguno de los dos primeros casos se calcúla la intersección con el eje $x$ de la recta secante a la curva con la ecuación (5), siendo ésta la aproximación más actualizada de la raíz.\n",
        "\n",
        "* Al igual que en el método de bisección se repite el proceso hasta que se cumplan los criterios de convergencia de las ecuaciones (2), (3) y (4)\n",
        "\n",
        "**Pseudocódigo**"
      ]
    },
    {
      "cell_type": "markdown",
      "metadata": {
        "id": "tN8BfuapmjL4"
      },
      "source": [
        "<img src=\"https://github.com/jugernaut/Numerico2021/blob/master/Figuras/raicesNumericas/algFalsa.PNG?raw=1\" width=\"700\">"
      ]
    },
    {
      "cell_type": "markdown",
      "metadata": {
        "id": "fRY1h4jQmjL5"
      },
      "source": [
        "<img src=\"https://github.com/jugernaut/Numerico2021/blob/master/Figuras/raicesNumericas/esqFalsa.PNG?raw=1\" width=\"700\">"
      ]
    },
    {
      "cell_type": "code",
      "metadata": {
        "id": "pmbYbkT4mjL6",
        "colab": {
          "base_uri": "https://localhost:8080/"
        },
        "outputId": "e77ccd43-741a-4666-c729-d3bbb711847f"
      },
      "source": [
        "'''Esta funcion implementa el metodo de la falsa posicion\n",
        "para encontrar la raiz de una funcion.\n",
        "f:   funcion de la cual se busca la raiz\n",
        "Tol: tolerancia del error numerico\n",
        "N:   numero maximo de iteraciones\n",
        "a:   limite inferior del rango inicial\n",
        "b:   limite superior del rango inicial\n",
        "'''\n",
        "def falsaPosicion(f,Tol,N,a,b):\n",
        "    fa=f(a)\n",
        "    fb=f(b)\n",
        "    #en caso de que no haya cambio de signo, no existe raiz\n",
        "    if fa*fb>0:\n",
        "        print(\"No existe raíz en [a,b]\")\n",
        "        return\n",
        "    #contador de iteraciones\n",
        "    n=1\n",
        "    #se toma una raiz inicial arbitraria\n",
        "    x0=0.0\n",
        "    #mientras no se exceda el numero de iteraciones\n",
        "    while n<=N:\n",
        "        #se actualiza el rango de busqueda\n",
        "        fa,fb =f(a),f(b)\n",
        "        #se calcula la nueva iteracion\n",
        "        x1= (a*fb-b*fa)/(fb-fa)\n",
        "        fx=f(x1)\n",
        "        #en caso de que la diferencia entre la iteracion actual\n",
        "        #y la iteracion anterior no excedan Tol, y que la raiz\n",
        "        #evaluada no exceda la tolerancia, se devuelve la raiz\n",
        "        if abs(f(x1)) <= Tol and abs(x1-x0) <= Tol:\n",
        "            return x1\n",
        "        #en caso de no cumplir el criterio de tolerancia\n",
        "        #se actualiza el rango de busqueda\n",
        "        if (fa*fx <0.0):\n",
        "            b=x1\n",
        "        if (fx*fa >0.0):\n",
        "            a=x1\n",
        "        #se actualiza x0\n",
        "        x0=x1\n",
        "        #se incrementa el contador de iteraciones\n",
        "        n=n+1\n",
        "\n",
        "raiz = falsaPosicion(f,0.001,1000,-0.5,2)\n",
        "print(\"La raíz con el método de la falsa posición es:\", raiz)"
      ],
      "execution_count": null,
      "outputs": [
        {
          "output_type": "stream",
          "text": [
            "La raíz con el método de la falsa posición es: 0.9996952148735141\n"
          ],
          "name": "stdout"
        }
      ]
    },
    {
      "cell_type": "code",
      "metadata": {
        "id": "OxN0_jvwL0ns",
        "colab": {
          "resources": {
            "http://localhost:8080/nbextensions/google.colab/files.js": {
              "data": "Ly8gQ29weXJpZ2h0IDIwMTcgR29vZ2xlIExMQwovLwovLyBMaWNlbnNlZCB1bmRlciB0aGUgQXBhY2hlIExpY2Vuc2UsIFZlcnNpb24gMi4wICh0aGUgIkxpY2Vuc2UiKTsKLy8geW91IG1heSBub3QgdXNlIHRoaXMgZmlsZSBleGNlcHQgaW4gY29tcGxpYW5jZSB3aXRoIHRoZSBMaWNlbnNlLgovLyBZb3UgbWF5IG9idGFpbiBhIGNvcHkgb2YgdGhlIExpY2Vuc2UgYXQKLy8KLy8gICAgICBodHRwOi8vd3d3LmFwYWNoZS5vcmcvbGljZW5zZXMvTElDRU5TRS0yLjAKLy8KLy8gVW5sZXNzIHJlcXVpcmVkIGJ5IGFwcGxpY2FibGUgbGF3IG9yIGFncmVlZCB0byBpbiB3cml0aW5nLCBzb2Z0d2FyZQovLyBkaXN0cmlidXRlZCB1bmRlciB0aGUgTGljZW5zZSBpcyBkaXN0cmlidXRlZCBvbiBhbiAiQVMgSVMiIEJBU0lTLAovLyBXSVRIT1VUIFdBUlJBTlRJRVMgT1IgQ09ORElUSU9OUyBPRiBBTlkgS0lORCwgZWl0aGVyIGV4cHJlc3Mgb3IgaW1wbGllZC4KLy8gU2VlIHRoZSBMaWNlbnNlIGZvciB0aGUgc3BlY2lmaWMgbGFuZ3VhZ2UgZ292ZXJuaW5nIHBlcm1pc3Npb25zIGFuZAovLyBsaW1pdGF0aW9ucyB1bmRlciB0aGUgTGljZW5zZS4KCi8qKgogKiBAZmlsZW92ZXJ2aWV3IEhlbHBlcnMgZm9yIGdvb2dsZS5jb2xhYiBQeXRob24gbW9kdWxlLgogKi8KKGZ1bmN0aW9uKHNjb3BlKSB7CmZ1bmN0aW9uIHNwYW4odGV4dCwgc3R5bGVBdHRyaWJ1dGVzID0ge30pIHsKICBjb25zdCBlbGVtZW50ID0gZG9jdW1lbnQuY3JlYXRlRWxlbWVudCgnc3BhbicpOwogIGVsZW1lbnQudGV4dENvbnRlbnQgPSB0ZXh0OwogIGZvciAoY29uc3Qga2V5IG9mIE9iamVjdC5rZXlzKHN0eWxlQXR0cmlidXRlcykpIHsKICAgIGVsZW1lbnQuc3R5bGVba2V5XSA9IHN0eWxlQXR0cmlidXRlc1trZXldOwogIH0KICByZXR1cm4gZWxlbWVudDsKfQoKLy8gTWF4IG51bWJlciBvZiBieXRlcyB3aGljaCB3aWxsIGJlIHVwbG9hZGVkIGF0IGEgdGltZS4KY29uc3QgTUFYX1BBWUxPQURfU0laRSA9IDEwMCAqIDEwMjQ7CgpmdW5jdGlvbiBfdXBsb2FkRmlsZXMoaW5wdXRJZCwgb3V0cHV0SWQpIHsKICBjb25zdCBzdGVwcyA9IHVwbG9hZEZpbGVzU3RlcChpbnB1dElkLCBvdXRwdXRJZCk7CiAgY29uc3Qgb3V0cHV0RWxlbWVudCA9IGRvY3VtZW50LmdldEVsZW1lbnRCeUlkKG91dHB1dElkKTsKICAvLyBDYWNoZSBzdGVwcyBvbiB0aGUgb3V0cHV0RWxlbWVudCB0byBtYWtlIGl0IGF2YWlsYWJsZSBmb3IgdGhlIG5leHQgY2FsbAogIC8vIHRvIHVwbG9hZEZpbGVzQ29udGludWUgZnJvbSBQeXRob24uCiAgb3V0cHV0RWxlbWVudC5zdGVwcyA9IHN0ZXBzOwoKICByZXR1cm4gX3VwbG9hZEZpbGVzQ29udGludWUob3V0cHV0SWQpOwp9CgovLyBUaGlzIGlzIHJvdWdobHkgYW4gYXN5bmMgZ2VuZXJhdG9yIChub3Qgc3VwcG9ydGVkIGluIHRoZSBicm93c2VyIHlldCksCi8vIHdoZXJlIHRoZXJlIGFyZSBtdWx0aXBsZSBhc3luY2hyb25vdXMgc3RlcHMgYW5kIHRoZSBQeXRob24gc2lkZSBpcyBnb2luZwovLyB0byBwb2xsIGZvciBjb21wbGV0aW9uIG9mIGVhY2ggc3RlcC4KLy8gVGhpcyB1c2VzIGEgUHJvbWlzZSB0byBibG9jayB0aGUgcHl0aG9uIHNpZGUgb24gY29tcGxldGlvbiBvZiBlYWNoIHN0ZXAsCi8vIHRoZW4gcGFzc2VzIHRoZSByZXN1bHQgb2YgdGhlIHByZXZpb3VzIHN0ZXAgYXMgdGhlIGlucHV0IHRvIHRoZSBuZXh0IHN0ZXAuCmZ1bmN0aW9uIF91cGxvYWRGaWxlc0NvbnRpbnVlKG91dHB1dElkKSB7CiAgY29uc3Qgb3V0cHV0RWxlbWVudCA9IGRvY3VtZW50LmdldEVsZW1lbnRCeUlkKG91dHB1dElkKTsKICBjb25zdCBzdGVwcyA9IG91dHB1dEVsZW1lbnQuc3RlcHM7CgogIGNvbnN0IG5leHQgPSBzdGVwcy5uZXh0KG91dHB1dEVsZW1lbnQubGFzdFByb21pc2VWYWx1ZSk7CiAgcmV0dXJuIFByb21pc2UucmVzb2x2ZShuZXh0LnZhbHVlLnByb21pc2UpLnRoZW4oKHZhbHVlKSA9PiB7CiAgICAvLyBDYWNoZSB0aGUgbGFzdCBwcm9taXNlIHZhbHVlIHRvIG1ha2UgaXQgYXZhaWxhYmxlIHRvIHRoZSBuZXh0CiAgICAvLyBzdGVwIG9mIHRoZSBnZW5lcmF0b3IuCiAgICBvdXRwdXRFbGVtZW50Lmxhc3RQcm9taXNlVmFsdWUgPSB2YWx1ZTsKICAgIHJldHVybiBuZXh0LnZhbHVlLnJlc3BvbnNlOwogIH0pOwp9CgovKioKICogR2VuZXJhdG9yIGZ1bmN0aW9uIHdoaWNoIGlzIGNhbGxlZCBiZXR3ZWVuIGVhY2ggYXN5bmMgc3RlcCBvZiB0aGUgdXBsb2FkCiAqIHByb2Nlc3MuCiAqIEBwYXJhbSB7c3RyaW5nfSBpbnB1dElkIEVsZW1lbnQgSUQgb2YgdGhlIGlucHV0IGZpbGUgcGlja2VyIGVsZW1lbnQuCiAqIEBwYXJhbSB7c3RyaW5nfSBvdXRwdXRJZCBFbGVtZW50IElEIG9mIHRoZSBvdXRwdXQgZGlzcGxheS4KICogQHJldHVybiB7IUl0ZXJhYmxlPCFPYmplY3Q+fSBJdGVyYWJsZSBvZiBuZXh0IHN0ZXBzLgogKi8KZnVuY3Rpb24qIHVwbG9hZEZpbGVzU3RlcChpbnB1dElkLCBvdXRwdXRJZCkgewogIGNvbnN0IGlucHV0RWxlbWVudCA9IGRvY3VtZW50LmdldEVsZW1lbnRCeUlkKGlucHV0SWQpOwogIGlucHV0RWxlbWVudC5kaXNhYmxlZCA9IGZhbHNlOwoKICBjb25zdCBvdXRwdXRFbGVtZW50ID0gZG9jdW1lbnQuZ2V0RWxlbWVudEJ5SWQob3V0cHV0SWQpOwogIG91dHB1dEVsZW1lbnQuaW5uZXJIVE1MID0gJyc7CgogIGNvbnN0IHBpY2tlZFByb21pc2UgPSBuZXcgUHJvbWlzZSgocmVzb2x2ZSkgPT4gewogICAgaW5wdXRFbGVtZW50LmFkZEV2ZW50TGlzdGVuZXIoJ2NoYW5nZScsIChlKSA9PiB7CiAgICAgIHJlc29sdmUoZS50YXJnZXQuZmlsZXMpOwogICAgfSk7CiAgfSk7CgogIGNvbnN0IGNhbmNlbCA9IGRvY3VtZW50LmNyZWF0ZUVsZW1lbnQoJ2J1dHRvbicpOwogIGlucHV0RWxlbWVudC5wYXJlbnRFbGVtZW50LmFwcGVuZENoaWxkKGNhbmNlbCk7CiAgY2FuY2VsLnRleHRDb250ZW50ID0gJ0NhbmNlbCB1cGxvYWQnOwogIGNvbnN0IGNhbmNlbFByb21pc2UgPSBuZXcgUHJvbWlzZSgocmVzb2x2ZSkgPT4gewogICAgY2FuY2VsLm9uY2xpY2sgPSAoKSA9PiB7CiAgICAgIHJlc29sdmUobnVsbCk7CiAgICB9OwogIH0pOwoKICAvLyBXYWl0IGZvciB0aGUgdXNlciB0byBwaWNrIHRoZSBmaWxlcy4KICBjb25zdCBmaWxlcyA9IHlpZWxkIHsKICAgIHByb21pc2U6IFByb21pc2UucmFjZShbcGlja2VkUHJvbWlzZSwgY2FuY2VsUHJvbWlzZV0pLAogICAgcmVzcG9uc2U6IHsKICAgICAgYWN0aW9uOiAnc3RhcnRpbmcnLAogICAgfQogIH07CgogIGNhbmNlbC5yZW1vdmUoKTsKCiAgLy8gRGlzYWJsZSB0aGUgaW5wdXQgZWxlbWVudCBzaW5jZSBmdXJ0aGVyIHBpY2tzIGFyZSBub3QgYWxsb3dlZC4KICBpbnB1dEVsZW1lbnQuZGlzYWJsZWQgPSB0cnVlOwoKICBpZiAoIWZpbGVzKSB7CiAgICByZXR1cm4gewogICAgICByZXNwb25zZTogewogICAgICAgIGFjdGlvbjogJ2NvbXBsZXRlJywKICAgICAgfQogICAgfTsKICB9CgogIGZvciAoY29uc3QgZmlsZSBvZiBmaWxlcykgewogICAgY29uc3QgbGkgPSBkb2N1bWVudC5jcmVhdGVFbGVtZW50KCdsaScpOwogICAgbGkuYXBwZW5kKHNwYW4oZmlsZS5uYW1lLCB7Zm9udFdlaWdodDogJ2JvbGQnfSkpOwogICAgbGkuYXBwZW5kKHNwYW4oCiAgICAgICAgYCgke2ZpbGUudHlwZSB8fCAnbi9hJ30pIC0gJHtmaWxlLnNpemV9IGJ5dGVzLCBgICsKICAgICAgICBgbGFzdCBtb2RpZmllZDogJHsKICAgICAgICAgICAgZmlsZS5sYXN0TW9kaWZpZWREYXRlID8gZmlsZS5sYXN0TW9kaWZpZWREYXRlLnRvTG9jYWxlRGF0ZVN0cmluZygpIDoKICAgICAgICAgICAgICAgICAgICAgICAgICAgICAgICAgICAgJ24vYSd9IC0gYCkpOwogICAgY29uc3QgcGVyY2VudCA9IHNwYW4oJzAlIGRvbmUnKTsKICAgIGxpLmFwcGVuZENoaWxkKHBlcmNlbnQpOwoKICAgIG91dHB1dEVsZW1lbnQuYXBwZW5kQ2hpbGQobGkpOwoKICAgIGNvbnN0IGZpbGVEYXRhUHJvbWlzZSA9IG5ldyBQcm9taXNlKChyZXNvbHZlKSA9PiB7CiAgICAgIGNvbnN0IHJlYWRlciA9IG5ldyBGaWxlUmVhZGVyKCk7CiAgICAgIHJlYWRlci5vbmxvYWQgPSAoZSkgPT4gewogICAgICAgIHJlc29sdmUoZS50YXJnZXQucmVzdWx0KTsKICAgICAgfTsKICAgICAgcmVhZGVyLnJlYWRBc0FycmF5QnVmZmVyKGZpbGUpOwogICAgfSk7CiAgICAvLyBXYWl0IGZvciB0aGUgZGF0YSB0byBiZSByZWFkeS4KICAgIGxldCBmaWxlRGF0YSA9IHlpZWxkIHsKICAgICAgcHJvbWlzZTogZmlsZURhdGFQcm9taXNlLAogICAgICByZXNwb25zZTogewogICAgICAgIGFjdGlvbjogJ2NvbnRpbnVlJywKICAgICAgfQogICAgfTsKCiAgICAvLyBVc2UgYSBjaHVua2VkIHNlbmRpbmcgdG8gYXZvaWQgbWVzc2FnZSBzaXplIGxpbWl0cy4gU2VlIGIvNjIxMTU2NjAuCiAgICBsZXQgcG9zaXRpb24gPSAwOwogICAgd2hpbGUgKHBvc2l0aW9uIDwgZmlsZURhdGEuYnl0ZUxlbmd0aCkgewogICAgICBjb25zdCBsZW5ndGggPSBNYXRoLm1pbihmaWxlRGF0YS5ieXRlTGVuZ3RoIC0gcG9zaXRpb24sIE1BWF9QQVlMT0FEX1NJWkUpOwogICAgICBjb25zdCBjaHVuayA9IG5ldyBVaW50OEFycmF5KGZpbGVEYXRhLCBwb3NpdGlvbiwgbGVuZ3RoKTsKICAgICAgcG9zaXRpb24gKz0gbGVuZ3RoOwoKICAgICAgY29uc3QgYmFzZTY0ID0gYnRvYShTdHJpbmcuZnJvbUNoYXJDb2RlLmFwcGx5KG51bGwsIGNodW5rKSk7CiAgICAgIHlpZWxkIHsKICAgICAgICByZXNwb25zZTogewogICAgICAgICAgYWN0aW9uOiAnYXBwZW5kJywKICAgICAgICAgIGZpbGU6IGZpbGUubmFtZSwKICAgICAgICAgIGRhdGE6IGJhc2U2NCwKICAgICAgICB9LAogICAgICB9OwogICAgICBwZXJjZW50LnRleHRDb250ZW50ID0KICAgICAgICAgIGAke01hdGgucm91bmQoKHBvc2l0aW9uIC8gZmlsZURhdGEuYnl0ZUxlbmd0aCkgKiAxMDApfSUgZG9uZWA7CiAgICB9CiAgfQoKICAvLyBBbGwgZG9uZS4KICB5aWVsZCB7CiAgICByZXNwb25zZTogewogICAgICBhY3Rpb246ICdjb21wbGV0ZScsCiAgICB9CiAgfTsKfQoKc2NvcGUuZ29vZ2xlID0gc2NvcGUuZ29vZ2xlIHx8IHt9OwpzY29wZS5nb29nbGUuY29sYWIgPSBzY29wZS5nb29nbGUuY29sYWIgfHwge307CnNjb3BlLmdvb2dsZS5jb2xhYi5fZmlsZXMgPSB7CiAgX3VwbG9hZEZpbGVzLAogIF91cGxvYWRGaWxlc0NvbnRpbnVlLAp9Owp9KShzZWxmKTsK",
              "ok": true,
              "headers": [
                [
                  "content-type",
                  "application/javascript"
                ]
              ],
              "status": 200,
              "status_text": ""
            }
          },
          "base_uri": "https://localhost:8080/",
          "height": 408
        },
        "outputId": "2406905d-d2e3-4871-f17f-c9e5aa81ab7c"
      },
      "source": [
        "# LINUX y MACOS\n",
        "#%run \"./Biseccion_interactive.ipynb\"\n",
        "\n",
        "# WINDOWS\n",
        "#%run \"/content/Numerico2021/02_EcuacionesNoLineales/Biseccion_interactive.ipynb\"\n",
        "\n",
        "# Google Coolab\n",
        "%run \"/content/Numerico2021/02_EcuacionesNoLineales/FalsaPosicion_interactive.ipynb\""
      ],
      "execution_count": null,
      "outputs": [
        {
          "output_type": "stream",
          "text": [
            "fatal: destination path 'Numerico2021' already exists and is not an empty directory.\n"
          ],
          "name": "stdout"
        },
        {
          "output_type": "display_data",
          "data": {
            "image/png": "[encoded data removed]",
            "text/plain": [
              "<Figure size 720x360 with 1 Axes>"
            ]
          },
          "metadata": {
            "tags": [],
            "needs_background": "light"
          }
        },
        {
          "output_type": "display_data",
          "data": {
            "text/html": [
              "\n",
              "     <input type=\"file\" id=\"files-2b687d9a-27f1-4b9c-8669-56e654dd168a\" name=\"files[]\" multiple disabled\n",
              "        style=\"border:none\" />\n",
              "     <output id=\"result-2b687d9a-27f1-4b9c-8669-56e654dd168a\">\n",
              "      Upload widget is only available when the cell has been executed in the\n",
              "      current browser session. Please rerun this cell to enable.\n",
              "      </output>\n",
              "      <script src=\"/nbextensions/google.colab/files.js\"></script> "
            ],
            "text/plain": [
              "<IPython.core.display.HTML object>"
            ]
          },
          "metadata": {
            "tags": []
          }
        }
      ]
    },
    {
      "cell_type": "markdown",
      "metadata": {
        "id": "7jT7faJZJndt"
      },
      "source": [
        "### Ventajas y Desventajas\n",
        "\n",
        "**Ventajas**.\n",
        "\n",
        "* Si existe una raíz, este método siempre converge.\n",
        "\n",
        "* Se aproxima a la raiz más pronto que el método de la bisección.\n",
        "\n",
        "**Desventajas**.\n",
        "\n",
        "* Su convergencia es muy lenta comparada con la convergencia de otros métodos, por lo que se sugiere escoger un intervalo inicial $[a,b]$, tan pequeño como sea posible.\n",
        "\n",
        "* Es mandatario, encontrar un intervalo donde exista al menos una raíz."
      ]
    },
    {
      "cell_type": "markdown",
      "metadata": {
        "id": "pcAvkL7emjL-"
      },
      "source": [
        "## Método de la secante\n",
        "\n",
        "El método de la secante debe su nombre a que emplea una recta secante a $f(x)$ para dar una aproximación de la raíz."
      ]
    },
    {
      "cell_type": "markdown",
      "metadata": {
        "id": "ZBPOdYtXpBb_"
      },
      "source": [
        "### **Descripción del método**\n",
        "\n",
        "*  El método de la secante es un paso previo al método de Newton, este método aproxima la derivada $f'(x_{n})$ mediante la recta secante. Este método es parecido al método de la falsa posición, ya que ambos comienzan con un intervalo y se basan en la formula de la interpolación lineal.\n",
        "\n",
        "\n",
        "*  Al igual que el método de la falsa posición la aproximación a la raíz $x_{n}$, se obtiene con la intersección de la recta secante a la curva que une los puntos $(x_{0},f(x_{0}))$ y $(x_{1},f(x_{1}))$ con el eje $x$ y se denota $x_{2}$, siendo esta ultima una mejor aproximación de la raíz.\n",
        "\n",
        "\n",
        "*  Este proceso se repite de tal manera que para encontrar la aproximación de la raíz $x_{n}$, se emplean las aproximaciones $x_{n-1}$ y $x_{n-2}$.\n",
        "\n",
        "\n",
        "*  El algoritmo termina cuando se cumplen los criterios de convergencia (2), (3) y (4)."
      ]
    },
    {
      "cell_type": "markdown",
      "metadata": {
        "id": "bvd2dvz6pE1v"
      },
      "source": [
        "### Algoritmo\n",
        "\n",
        "Para poder encontrar la intersección de la recta secante con la curva que une los puntos $(x_{0},f(x_{0}))$ y $(x_{1},f(x_{1}))$, se emplea la siguiente igualdad trigonométrica, ya que la recta secante al intersectar el eje $x$ forma un ángulo $\\theta$ y por tanto un par de triángulos semejantes.\n",
        "\n",
        "$$\\cot\\theta=\\frac{cateto\\hspace{1mm} adyacente}{cateto \\hspace{1mm}opuesto}$$\n",
        "\n",
        "Posteriormente se substituyen los puntos antes mencionados en la identidad trigonométrica.\n",
        "\n",
        "$$\\cot\\theta=\\frac{x_{1}-x_{2}}{f(x_{1})} \\quad \\cot\\theta=\\frac{x_{1}-x_{0}}{f(x_{1})-f(x_{0})}$$\n",
        "\n",
        "El resto del desarrollo consiste en igualar ambas ecuaciones y despejar $x_{2}$, ya que es el valor buscado, $f(x_2)=0$ ya que esperamos que $x_2$ sea una raíz de $f(x)$.\n",
        "\n",
        "$$ \\Longrightarrow \\frac{x_{1}-x_{2}}{f(x_{1})}\t=\t\\frac{x_{1}-x_{0}}{f(x_{1})-f(x_{0})}$$\n",
        "\n",
        "$$x_{2}\t=\tx_{1}-f(x_{1})\\frac{x_{1}-x_{0}}{f(x_{1})-f(x_{0})}$$\n",
        "\n",
        "De manera que para obtener la n-esima intersección con el eje $x$ de la recta secante a la curva, la ecuación seria:\n",
        "\n",
        "$$ x_{n}=x_{n-1}-f(x_{n-1})\\frac{x_{n-1}-x_{n-2}}{f(x_{n-1})-f(x_{n-2})} \\tag{6}$$\n",
        "\n",
        "A la ecuación (6) se le conoce como el método iterativo del método de la secante.\n",
        "\n",
        "<img src=\"https://github.com/jugernaut/Numerico2021/blob/desarrollo/Figuras/raicesNumericas/Secan.png?raw=1\" width=\"500\">\n",
        "\n",
        "**Pseudocódigo**"
      ]
    },
    {
      "cell_type": "markdown",
      "metadata": {
        "id": "FbKqtqUomjL_"
      },
      "source": [
        "<img src=\"https://github.com/jugernaut/Numerico2021/blob/master/Figuras/raicesNumericas/algSec.PNG?raw=1\" width=\"700\">"
      ]
    },
    {
      "cell_type": "markdown",
      "metadata": {
        "id": "rcvDSN4emjMA"
      },
      "source": [
        "<img src=\"https://github.com/jugernaut/Numerico2021/blob/master/Figuras/raicesNumericas/esqSec.PNG?raw=1\" width=\"700\">"
      ]
    },
    {
      "cell_type": "code",
      "metadata": {
        "id": "sb1rODtKmjMB",
        "colab": {
          "base_uri": "https://localhost:8080/"
        },
        "outputId": "e84de852-5b1d-47d8-8e51-ff267c8ca08e"
      },
      "source": [
        "'''Esta funcion implementa el metodo de la secante\n",
        "para encontrar la raiz de una funcion.\n",
        "f:   funcion de la cual se busca la raiz\n",
        "Tol: tolerancia del error numerico\n",
        "N:   numero maximo de iteraciones\n",
        "x0:  aproximacion inicial\n",
        "x1: aproximacion siguiente\n",
        "'''\n",
        "def secante(f, Tol, N, x0, x1):\n",
        "    #contador de iteraciones\n",
        "    n = 1\n",
        "    #mientras no se haya superado el limite de iteraciones\n",
        "    while( N >= n ):\n",
        "        #calculo de los valores de fx\n",
        "        fx0,fx1=f(x0),f(x1)\n",
        "        #se calcula la siguiente aproximacion\n",
        "        xn = x1-fx1*((x1-x0)/float(fx1-fx0))\n",
        "        #en caso de que se cumplan los criteros de paro\n",
        "        #se devuelve la raiz\n",
        "        if (abs(f(xn)) <= Tol and abs(x0-x1) <= Tol):\n",
        "            return xn\n",
        "        #se actualizan los valores\n",
        "        x0 = x1\n",
        "        x1 = xn\n",
        "        #incremento en las iteraciones\n",
        "        n+=1\n",
        "    raise Exception(\"Se alcanzo el maximo numero de iteraciones y no se encontro raiz\")\n",
        "\n",
        "raiz = secante(f,0.0001,10,-0.5,2)\n",
        "print(\"La raíz con el método de la secante es:\", raiz)"
      ],
      "execution_count": null,
      "outputs": [
        {
          "output_type": "stream",
          "text": [
            "La raíz con el método de la secante es: 0.9999999999999999\n"
          ],
          "name": "stdout"
        }
      ]
    },
    {
      "cell_type": "markdown",
      "metadata": {
        "id": "UeMPtgf_mjME"
      },
      "source": [
        "### Ventajas y Desventajas\n",
        "\n",
        "**Ventajas**\n",
        "\n",
        "* No hay que calcular la derivada de $f$.\n",
        "\n",
        "* La convergencia del método es superlineal, lo que significa que se aproxima a la raíz con un menor número de iteraciones, en comparación con los métodos previos.\n",
        "\n",
        "**Desventajas**\n",
        "\n",
        "* El método puede converger a una raíz no deseada o puede no converger del todo si la estimación inicial no es buena.\n",
        "\n",
        "* Si dos aproximaciones sucesivas están demasiado cercanas, entonces también $f(x_{n+1})$ y $f(x_{n})$ están muy cercanas, por lo que se presenta un error de redondeo significativo en la siguiente aproximación, debido al redondeo y a la cancelación numérica ya que se emplea la ecuación (6)."
      ]
    },
    {
      "cell_type": "markdown",
      "metadata": {
        "id": "2u2PPQpOmjMF"
      },
      "source": [
        "## Método de Newton\n",
        "\n",
        "El método de Newton hace uso de la definición de la derivada de $f(x)$ para encontrar la aproximación a la raíz de la función.\n"
      ]
    },
    {
      "cell_type": "markdown",
      "metadata": {
        "id": "u0E4479gQ64X"
      },
      "source": [
        "### Descripción del método\n",
        "\n",
        "* El método de Newton comienza con una aproximación inicial $x_{0}$ a la raíz, a continuación se traza una recta tangente a la curva en el punto $\\left(x_{0},\\,f\\left(x_{0}\\right)\\right)$. La intersección de la recta tangente con el eje x, se denota como $x_{1}$ y se considera una mejor aproximación de la raíz.\n",
        "\n",
        "\n",
        "* Después se traza otra recta tangente a la curva en el punto $\\left(x_{1},\\,f\\left(x_{1}\\right)\\right)$. La nueva intersección de la recta tangente con el eje $x$, se denota como $x_{2}$ y se considera una mejor aproximación de la raíz.\n",
        "\n",
        "\n",
        "* El proceso se repite hasta que se cumplan los criterios de convergencia de las ecuaciones.\n",
        "\n",
        "\n",
        "* El método de Newton, se puede aplicar para hallar raíces complejas, siempre y cuando el valor inicial $x_{0}$ sea un número complejo."
      ]
    },
    {
      "cell_type": "markdown",
      "metadata": {
        "id": "ol1Uc6ejQhes"
      },
      "source": [
        "### Algoritmo\n",
        "\n",
        "La intersección de la recta tangente con el eje $x$ se puede calcular de la siguiente manera:\n",
        "\n",
        "\n",
        "$$\\tan \\theta\t=\t\\frac{cateto \\hspace{1mm}opuesto}{cateto\\hspace{1mm}adyacente}$$\n",
        "\n",
        "$$\\tan \\theta=\\frac{f\\left(x_{0}\\right)}{x_{0}-x_{1}}=f^{'}(x_{0})$$\n",
        "\n",
        "Se iguala a la primera derivada de $x_{0}$, ya que ésta es equivalente a la pendiente :\n",
        "\n",
        "$$f^{'}\\left(x_{0}\\right) = \\frac{f\\left(x_{0}\\right)-0}{x_{0}-x_{1}}$$\n",
        "\n",
        "$$ \\Rightarrow \\frac{f\\left(x_{0}\\right)}{x_{0}-x_{1}} = f^{'}(x_{0})$$\n",
        "\n",
        "$$ \\left(x_{0}-x_{1}\\right)f^{'}\\left(x_{0}\\right) = f(x_{0})$$\n",
        "\n",
        "$$ f\\left(x_{0}\\right) = x_{0}f^{'}\\left(x_{0}\\right)-x_{1}f^{'}\\left(x_{0}\\right)$$\n",
        "\n",
        "$$ x_{1}f^{'}\\left(x_{0}\\right) = x_{0}f^{'}\\left(x_{0}\\right)-f\\left(x_{0}\\right)$$\n",
        "\n",
        "$$ x_{1} = x_{0}-\\frac{f\\left(x_{0}\\right)}{f^{'}\\left(x_{0}\\right)}$$\n",
        "\n",
        "**Método iterativo de Newton**\n",
        "\n",
        "Para obtener la n-esima intersección con el eje $x$ de la recta tangente a la curva, la ecuación sería:\n",
        "\n",
        "$$ x_{n}=x_{n-1}-\\frac{f\\left(x_{n-1}\\right)}{f^{'}\\left(x_{n-1}\\right)}$$\n",
        "\n",
        "**Pseudocódigo**"
      ]
    },
    {
      "cell_type": "markdown",
      "metadata": {
        "id": "tW9LMWrWmjMG"
      },
      "source": [
        "<img src=\"https://github.com/jugernaut/Numerico2021/blob/master/Figuras/raicesNumericas/algNew.PNG?raw=1\" width=\"700\">"
      ]
    },
    {
      "cell_type": "markdown",
      "metadata": {
        "id": "gEzzgezumjMH"
      },
      "source": [
        "<img src=\"https://github.com/jugernaut/Numerico2021/blob/master/Figuras/raicesNumericas/esqNew.PNG?raw=1\" width=\"700\">"
      ]
    },
    {
      "cell_type": "code",
      "metadata": {
        "id": "9OnGKC6tmjMH",
        "colab": {
          "base_uri": "https://localhost:8080/"
        },
        "outputId": "03ab4c72-4543-494e-e42f-1befcfc37765"
      },
      "source": [
        "'''Esta funcion implementa el metodo de la falsa posicion\n",
        "para encontrar la raiz de una funcion.\n",
        "f:   funcion de la cual se busca la raiz\n",
        "df:  derivada de f\n",
        "Tol: tolerancia del error numerico\n",
        "N:   numero maximo de iteraciones\n",
        "x0:  aproximacion inicial\n",
        "'''\n",
        "def newton(f,df,Tol,N,x0):\n",
        "    #contador de iteraciones\n",
        "    n=1\n",
        "    #mientras no se haya superado el limite de iteraciones\n",
        "    while n<=N:\n",
        "        #se evalua la funcion y su derivada\n",
        "        fx=f(x0)\n",
        "        dfx=df(x0)\n",
        "        #se calcula la siguiente aproximacion\n",
        "        xn = x0-(fx/float(dfx))\n",
        "        #en caso de cumplir criterios se devuelve la raiz\n",
        "        if abs(f(xn)) <= Tol and abs(xn-x0) <= Tol:\n",
        "            return xn\n",
        "        #actualizamos las aproximaciones\n",
        "        x0 = xn\n",
        "        #se incrementa el contador de iteraciones\n",
        "        n=n+1\n",
        "    raise Exception(\"Se alcanzo el maximo numero de iteraciones y no se encontro raiz\")\n",
        "\n",
        "def df(x):\n",
        "    return 2*x\n",
        "\n",
        "raiz = newton(f,df,0.0001,100,2)\n",
        "print(\"La raíz con el método de Newton es:\", raiz)"
      ],
      "execution_count": null,
      "outputs": [
        {
          "output_type": "stream",
          "text": [
            "La raíz con el método de Newton es: 1.000000000000001\n"
          ],
          "name": "stdout"
        }
      ]
    },
    {
      "cell_type": "markdown",
      "metadata": {
        "id": "rFrFRaI9TJWf"
      },
      "source": [
        "### Ventajas y Desventajas\n",
        "\n",
        "**Ventajas**.\n",
        "\n",
        "* La rapidez de convergencia iterativa del método de Newton es mayor a cualquier método visto previamente.\n",
        "\n",
        "* Sirve para encontrar raíces complejas, para lo cual requiere que $x_0$ sea un número complejo $x_0 = a + bi$.\n",
        "\n",
        "**Desventajas**.\n",
        "\n",
        "* El método requiere una buena estimación inicial. De otro modo, la solución iterativa puede ser divergente o converger a una solución irrelevante.\n",
        "\n",
        "* La derivada $f′(x)$, no siempre es fácil de calcular."
      ]
    },
    {
      "cell_type": "markdown",
      "metadata": {
        "id": "CQyDCHd1Bxho"
      },
      "source": [
        "### Observaciones\n",
        "\n",
        "Ya que la naturaleza de las funciones puede ser muy variada, hay que tomer en cuenta las siguientes observaciones:\n",
        "\n",
        "\n",
        "*   Si se tiene una aproximación inicial $x_0$ en un punto de inflexión, es decir $f''(x)=0$, las aproximaciones pueden oscilar de manera indefinida.\n",
        "*   Si alguna de las aproximaxiones se encuentra cerca de un máximo o un mínimo local. Una pendiente nula provoca una división entre cero en el método (geométricamente esto significa una recta tangente que nunca se intersecta con el eje $x$).\n",
        "*   Si se tiene varias raíces en un intervalo cercano, puede darse el caso de que una aproximación pase de la aproximación de una raíz a otra continuamente, sin lograr la convergencia.\n",
        "\n",
        "<img src=\"https://github.com/jugernaut/Numerico2021/blob/desarrollo/Figuras/raicesNumericas/Newton1.png?raw=1\" width=\"500\">\n",
        "\n",
        "<img src=\"https://github.com/jugernaut/Numerico2021/blob/desarrollo/Figuras/raicesNumericas/Newton2.png?raw=1\" width=\"500\">\n",
        "\n",
        "<img src=\"https://github.com/jugernaut/Numerico2021/blob/desarrollo/Figuras/raicesNumericas/Newton3.png?raw=1\" width=\"500\">\n",
        "\n"
      ]
    },
    {
      "cell_type": "markdown",
      "metadata": {
        "id": "yW4lrjqMmjML"
      },
      "source": [
        "## Referencias\n",
        "\n",
        "1.Riswan Butt:Numerical Analysys Using Matlab, Jones and Bartlett.\n",
        "\n",
        "2.Ward Cheney, David Kincaid: Métodos Numéricos y Computación, Cenage Learning.\n",
        "\n",
        "3.Richard L. Burden, J. Douglas Faires: Análisis Numérico, Math Learning."
      ]
    }
  ]
}
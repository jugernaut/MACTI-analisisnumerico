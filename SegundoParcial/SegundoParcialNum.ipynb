{
  "cells": [
    {
      "cell_type": "markdown",
      "metadata": {
        "id": "view-in-github",
        "colab_type": "text"
      },
      "source": [
        "<a href=\"https://colab.research.google.com/github/jugernaut/MACTI-analisisnumerico/blob/desarrollo/SegundoParcial/SegundoParcialNum.ipynb\" target=\"_parent\"><img src=\"https://colab.research.google.com/assets/colab-badge.svg\" alt=\"Open In Colab\"/></a>"
      ]
    },
    {
      "cell_type": "markdown",
      "id": "e5f8a177",
      "metadata": {
        "deletable": false,
        "editable": false,
        "nbgrader": {
          "cell_type": "markdown",
          "checksum": "b30438029a1020676df294a45e0169b4",
          "grade": false,
          "grade_id": "cell-581dc56d936a0834",
          "locked": true,
          "schema_version": 3,
          "solution": false,
          "task": false
        },
        "id": "e5f8a177"
      },
      "source": [
        "<font color=\"Teal\" face=\"Comic Sans MS,arial\">\n",
        "  <h1 align=\"center\"><i>Segundo Parcial</i></h1>\n",
        "  </font>\n",
        "  <font color=\"Black\" face=\"Comic Sans MS,arial\">\n",
        "  <h5 align=\"center\"><i>Profesor: M.en.C. Miguel Angel Pérez León</i></h5>\n",
        "  <h5 align=\"center\"><i>Ayudante: Iván Calderón Coss</i></h5>\n",
        "  <h5 align=\"center\"><i>Materia: Análisis Numérico</i></h5>\n",
        "</font>"
      ]
    },
    {
      "cell_type": "markdown",
      "id": "baf02417",
      "metadata": {
        "deletable": false,
        "editable": false,
        "nbgrader": {
          "cell_type": "markdown",
          "checksum": "1eca100c6b7af61c5472d100d570c0f3",
          "grade": false,
          "grade_id": "cell-dcdb6e10f425839d",
          "locked": true,
          "schema_version": 3,
          "solution": false,
          "task": false
        },
        "id": "baf02417"
      },
      "source": [
        "## Las siguientes lineas son de apoyo para que ustedes sólo procesen los ejercicios\n",
        "\n",
        "**Es necesario ejecutar las siguientes celdas, de otra forma no podrás realizar los ejercicios.**"
      ]
    },
    {
      "cell_type": "code",
      "execution_count": null,
      "id": "11fa1347",
      "metadata": {
        "deletable": false,
        "editable": false,
        "nbgrader": {
          "cell_type": "code",
          "checksum": "f85ea0ab8e400df7d4ac22559609a366",
          "grade": true,
          "grade_id": "cell-91309f4c06d4a912",
          "locked": true,
          "points": 0,
          "schema_version": 3,
          "solution": false,
          "task": false
        },
        "id": "11fa1347"
      },
      "outputs": [],
      "source": [
        "# bibliotecas de evaluacion automatizada\n",
        "import numpy as np   \n",
        "from macti.evaluacion import Evalua\n",
        "evaluacion = Evalua('../../MACTI-analisisnumerico/SegundoParcial/utils/data/Parcial2', local=True)"
      ]
    },
    {
      "cell_type": "markdown",
      "id": "01b94d23",
      "metadata": {
        "deletable": false,
        "editable": false,
        "nbgrader": {
          "cell_type": "markdown",
          "checksum": "99aeca91df2b5633f432ec8bae76d532",
          "grade": false,
          "grade_id": "cell-fe919c4831bb40dc",
          "locked": true,
          "schema_version": 3,
          "solution": false,
          "task": false
        },
        "id": "01b94d23"
      },
      "source": [
        "# (5.25 Puntos) Segundo Parcial Parte Teórica\n",
        "\n",
        "El examen consiste en elegir las preguntas que deseas responder para aprobar (en el mejor de los casos el examen completo).\n",
        "\n",
        "En cada pregunta debes ser tan explícito como la calificación que desees obtener. En caso que tu justificación o desarrollo esté incompleto, también lo será la calificación asignada.\n",
        "\n",
        "\"Yo soy Thor, hijo de Odín y mientras haya vida en mi pecho… No se me ocurre más nada que decir. ¿Estás listo para morir?\"\n",
        "\n",
        "–Thor, la era de Ultrón."
      ]
    },
    {
      "cell_type": "markdown",
      "id": "861c4a09",
      "metadata": {
        "deletable": false,
        "editable": false,
        "nbgrader": {
          "cell_type": "markdown",
          "checksum": "617f8fb7fd079a7ff154eaef7787cd43",
          "grade": false,
          "grade_id": "cell-20a222f34b77eafa",
          "locked": true,
          "schema_version": 3,
          "solution": false,
          "task": false
        },
        "id": "861c4a09"
      },
      "source": [
        "# Normas Vectoriales\n"
      ]
    },
    {
      "cell_type": "markdown",
      "id": "c8a1b6ea",
      "metadata": {
        "deletable": false,
        "editable": false,
        "nbgrader": {
          "cell_type": "markdown",
          "checksum": "1ce9c8d3adb440d834219536972b03d8",
          "grade": false,
          "grade_id": "cell-8b4ad8765096cf96",
          "locked": true,
          "schema_version": 3,
          "solution": false,
          "task": false
        },
        "id": "c8a1b6ea"
      },
      "source": [
        " ## (0.75 Puntos)\n",
        " \n",
        " Demuestra que la $\\left\\Vert \\cdot\\right\\Vert _{\\infty}$ es norma vectorial"
      ]
    },
    {
      "cell_type": "markdown",
      "id": "e1d6d165",
      "metadata": {
        "deletable": false,
        "editable": false,
        "nbgrader": {
          "cell_type": "markdown",
          "checksum": "57b125103583fab1ff03fbab7c4b5e57",
          "grade": false,
          "grade_id": "cell-e19a59e0bf1a14d4",
          "locked": true,
          "schema_version": 3,
          "solution": false,
          "task": false
        },
        "id": "e1d6d165"
      },
      "source": [
        "## (0.75 Puntos)\n",
        "\n",
        "Sean $x\\in\\mathbb{R}^{n}$ y $\\left\\Vert \\cdot\\right\\Vert$ Demostrar que la $\\left\\Vert \\vec{x}\\right\\Vert _{\\infty}$ y la $\\left\\Vert \\vec{x}\\right\\Vert _{1}$ son equivalentes, es decir $\\left\\Vert \\vec{x}\\right\\Vert _{\\infty} \\leq \\left\\Vert \\vec{x}\\right\\Vert _{1}\\leq n\\left\\Vert \\vec{x}\\right\\Vert _{\\infty}$. Se sugiere dividir la demostración en 2 partes.\n",
        "\n",
        "*   $\\left\\Vert \\vec{x}\\right\\Vert _{\\infty} \\leq \\left\\Vert \\vec{x}\\right\\Vert _{1}$\n",
        "*   $\\left\\Vert \\vec{x}\\right\\Vert _{1}\\leq n\\left\\Vert \\vec{x}\\right\\Vert _{\\infty}$\n"
      ]
    },
    {
      "cell_type": "markdown",
      "id": "5d40136f",
      "metadata": {
        "deletable": false,
        "editable": false,
        "nbgrader": {
          "cell_type": "markdown",
          "checksum": "a9a901522069a53913c306b2a74c3d61",
          "grade": false,
          "grade_id": "cell-f16f77f860674fcf",
          "locked": true,
          "schema_version": 3,
          "solution": false,
          "task": false
        },
        "id": "5d40136f"
      },
      "source": [
        "# Normas Inducidas\n"
      ]
    },
    {
      "cell_type": "markdown",
      "id": "f6cf8efb",
      "metadata": {
        "deletable": false,
        "editable": false,
        "nbgrader": {
          "cell_type": "markdown",
          "checksum": "b1f1bb54615d5c2702cc197c8a835d6a",
          "grade": false,
          "grade_id": "cell-a596e189dda909cb",
          "locked": true,
          "schema_version": 3,
          "solution": false,
          "task": false
        },
        "id": "f6cf8efb"
      },
      "source": [
        "## (0.75 Puntos) \n",
        "\n",
        "Derivar la formula para calcular $\\left\\Vert A\\right\\Vert _{\\infty}$ (Teo. 2) explícitamente (seguir la derivación para $\\left\\Vert A\\right\\Vert _{1}$ vista en clase)."
      ]
    },
    {
      "cell_type": "markdown",
      "id": "62650c69",
      "metadata": {
        "deletable": false,
        "editable": false,
        "nbgrader": {
          "cell_type": "markdown",
          "checksum": "d66450a387954439c93a893fef9b1926",
          "grade": false,
          "grade_id": "cell-511daecae7910cd6",
          "locked": true,
          "schema_version": 3,
          "solution": false,
          "task": false
        },
        "id": "62650c69"
      },
      "source": [
        "## (0.75 Puntos) \n",
        "\n",
        "Sea $A\\in M_{n\\times n}$ sobre $\\mathbb{R}$ , demostrar las siguientes desigualdades de normas matriciales (inducidas).\n",
        "\n",
        "*     $\\left\\Vert A\\right\\Vert _{1}\\leq\\sqrt{n}\\left\\Vert A\\right\\Vert _{2}$\n",
        "*     $\\sqrt{n}\\left\\Vert A\\right\\Vert _{2}\\leq n\\left\\Vert A\\right\\Vert _{\\infty}$"
      ]
    },
    {
      "cell_type": "markdown",
      "id": "2c1ec110",
      "metadata": {
        "deletable": false,
        "editable": false,
        "nbgrader": {
          "cell_type": "markdown",
          "checksum": "2b534215d389a5993597e88c08fa6767",
          "grade": false,
          "grade_id": "cell-b78de73251761e3b",
          "locked": true,
          "schema_version": 3,
          "solution": false,
          "task": false
        },
        "id": "2c1ec110"
      },
      "source": [
        "## (0.75 Puntos) \n",
        "Sea $A=\\left(\\begin{array}{ccc}\n",
        "1 & 5 & 8\\\\\n",
        "4 & -5 & 10\\\\\n",
        "9 & 15 & -2\n",
        "\\end{array}\\right)$ calcular las siguientes normas (mostrar desarrollo):\n",
        "\n",
        "*   $\\left\\Vert A\\right\\Vert _{1}$\n",
        "*   $\\left\\Vert A\\right\\Vert _{\\infty}$\n",
        "*   $\\left\\Vert A\\right\\Vert _{2}$\n",
        "*   $\\left\\Vert A\\right\\Vert _{F}$"
      ]
    },
    {
      "cell_type": "markdown",
      "id": "dc18dcfb",
      "metadata": {
        "deletable": false,
        "editable": false,
        "nbgrader": {
          "cell_type": "markdown",
          "checksum": "f843d413837ac58ed1d015d8310b106e",
          "grade": false,
          "grade_id": "cell-f0e10fffc7415b85",
          "locked": true,
          "schema_version": 3,
          "solution": false,
          "task": false
        },
        "id": "dc18dcfb"
      },
      "source": [
        "# Solución de Sistemas"
      ]
    },
    {
      "cell_type": "markdown",
      "id": "7f6a46c9",
      "metadata": {
        "deletable": false,
        "editable": false,
        "nbgrader": {
          "cell_type": "markdown",
          "checksum": "e7648f7969ed8c100af7ce14f63b9ffa",
          "grade": false,
          "grade_id": "cell-4dad046190b9c37a",
          "locked": true,
          "schema_version": 3,
          "solution": false,
          "task": false
        },
        "id": "7f6a46c9"
      },
      "source": [
        "## (0.5 Puntos)\n",
        "\n",
        "Emplea algún tipo de factorización $\\left(A=LU,\\;PA=LU\\right)$ para encontrar la solución del siguiente sistema de ecuaciones. Muestra el desarrollo, no solo el resultado.\n",
        "\n",
        "$$\\left(\\begin{array}{ccc}\n",
        "1 & 2 & 4\\\\\n",
        "3 & 8 & 14\\\\\n",
        "2 & 6 & 13\n",
        "\\end{array}\\right)\\left(\\begin{array}{c}\n",
        "x_{0}\\\\\n",
        "x_{1}\\\\\n",
        "x_{2}\n",
        "\\end{array}\\right)=\\left(\\begin{array}{c}\n",
        "3\\\\\n",
        "13\\\\\n",
        "4\n",
        "\\end{array}\\right)$$"
      ]
    },
    {
      "cell_type": "markdown",
      "id": "ac12b8f0",
      "metadata": {
        "deletable": false,
        "editable": false,
        "nbgrader": {
          "cell_type": "markdown",
          "checksum": "8dbacb6700dd7529f765db248fcae726",
          "grade": false,
          "grade_id": "cell-95ebb45e1c2ff320",
          "locked": true,
          "schema_version": 3,
          "solution": false,
          "task": false
        },
        "id": "ac12b8f0"
      },
      "source": [
        "## (1 Punto) \n",
        "\n",
        "Calcula el número total de operaciones (en términos de $n$) para el algoritmo de sustitución hacia adelante. Muestra el desarrollo y concluye a que orden de complejidad pertenece este algoritmo, ¡Justifica tu respuesta!."
      ]
    },
    {
      "cell_type": "markdown",
      "id": "8087f43f",
      "metadata": {
        "deletable": false,
        "editable": false,
        "nbgrader": {
          "cell_type": "markdown",
          "checksum": "5c181e3eafe5ee9c1cd38381e51f162b",
          "grade": false,
          "grade_id": "cell-b5b79f51c4c6ca59",
          "locked": true,
          "schema_version": 3,
          "solution": false,
          "task": false
        },
        "id": "8087f43f"
      },
      "source": [
        "# (21 puntos) Segundo Parcial Parte Práctica\n",
        "\n",
        "Ejecuta las celdas necesarias y valida tus resultados.\n",
        "\n",
        "Observación: Las subsecciones se deben responder de manera consecutiva, ejemplo no se permite responder la subsección 1.2, sin antes haber respondido la subsección 1.1 y de igual manera con el resto de las subsecciones."
      ]
    },
    {
      "cell_type": "markdown",
      "id": "99054145",
      "metadata": {
        "deletable": false,
        "editable": false,
        "nbgrader": {
          "cell_type": "markdown",
          "checksum": "558f9b01ae6e84ccd7ce7332801bbcfc",
          "grade": false,
          "grade_id": "cell-64406be21f4e21d5",
          "locked": true,
          "schema_version": 3,
          "solution": false,
          "task": false
        },
        "id": "99054145"
      },
      "source": [
        "Newton multivariable: Considera el código del jupyter 'Sistemas no lineales', tal cómo se menciona en el mismo documento, el código que se muestra es obsoleto dado que no considera muchas características importantes, tales como: criterios de paro, evitar el cálculo de la inversa y aproximar las derivadas parciales. En cada subsección puedes hacer uso de las funciones de numpy para validar tus resultados.\n",
        "\n",
        "La única subsección que otorga puntos parciales es la subsección 1.1, para cualquier otra subsección debe cumplirse con la totalidad con los puntos que se pide respectivamente y con la validación de resultados.\n",
        "\n",
        "ESTRICTAMENTE PROHIBIDO HACER USO DE FUNCIONES QUE NO ESTEN PERMITIDAS."
      ]
    },
    {
      "cell_type": "code",
      "execution_count": null,
      "id": "edc84ad9",
      "metadata": {
        "deletable": false,
        "editable": false,
        "nbgrader": {
          "cell_type": "code",
          "checksum": "bc53709d3b3c884472ae4d0b285e3003",
          "grade": true,
          "grade_id": "cell-10c479fa697f5fb6",
          "locked": true,
          "points": 0,
          "schema_version": 3,
          "solution": false,
          "task": false
        },
        "id": "edc84ad9"
      },
      "outputs": [],
      "source": [
        "# Seccion 1\n",
        "import numpy as np\n",
        "import math\n",
        "\n",
        "# funcion f1\n",
        "def f1(x1, x2):\n",
        "    return 2*x1-x2-math.e**(-x1)\n",
        "\n",
        "# funcion f2\n",
        "def f2(x1, x2):\n",
        "    return -x1+2*x2-math.e**(-x2)\n",
        "\n",
        "# denominador de la matriz jacobiana\n",
        "def denominador(x1,x2):\n",
        "    return 3+2*math.e**(-x2)+2*math.e**(-x1)+math.e**(-x1-x2)\n",
        "\n",
        "# parcial (en este caso la parcial de f1 y f2 es la misma)\n",
        "def par(x):\n",
        "    return 2+math.e**(-x)\n",
        "\n",
        "'''Metodo de Newton para sistemas\n",
        "   de ecuaciones no lineales\n",
        "   aprox: es la primera aproximacion\n",
        "   en forma de vector'''\n",
        "def JimyNewtron(aprox):\n",
        "    # contador de iteraciones\n",
        "    n = 0 \n",
        "    while n < 100: # maximo numero de iteraciones 100\n",
        "        '''es necesario calcular la matriz jacobiana\n",
        "        y para ello se necesita una matriz vacia de 2x2'''\n",
        "        jacobinv = np.zeros([2,2])\n",
        "        \n",
        "        # valores de la matriz jacobiana en todas sus entradas\n",
        "        jacobinv[0][0] = par(aprox[1])/denominador(aprox[0], aprox[1])\n",
        "        jacobinv[0][1] = 1/denominador(aprox[0], aprox[1])\n",
        "        jacobinv[1][0] = 1/denominador(aprox[0], aprox[1])\n",
        "        jacobinv[1][1] = par(aprox[0])/denominador(aprox[0], aprox[1])\n",
        "    \n",
        "        # guarda la evalucion de f1 y f2 en forma de vector\n",
        "        fx = np.array(aprox)\n",
        "        fx[0] = f1(aprox[0], aprox[1])\n",
        "        fx[1] = f2(aprox[0], aprox[1])\n",
        "        \n",
        "        # FORMA ITERATIVA DEL METODO DE NEWTON PARA SISTEMAS NO LIENALES\n",
        "        aprox = aprox - np.matmul(jacobinv, fx)\n",
        "        \n",
        "        # se incrementa el contador\n",
        "        n+=1\n",
        "    \n",
        "    # El valor devuelto es la aproximacion\n",
        "    return aprox    \n",
        "        \n",
        "def main():\n",
        "    #Aproximacion inicial (X=(0.0,0.0))\n",
        "    ap = np.zeros([2])\n",
        "    sol = JimyNewtron(ap)\n",
        "    print('Aproximacion de la solucion')\n",
        "    print(sol)\n",
        "    print('Aproximacion evaluada en f1')\n",
        "    print(f1(sol[0], sol[1]))\n",
        "    print('Aproximacion evaluada en f2')\n",
        "    print(f2(sol[0], sol[1]))\n",
        "\n",
        "main()"
      ]
    },
    {
      "cell_type": "markdown",
      "id": "480ae94a",
      "metadata": {
        "deletable": false,
        "editable": false,
        "nbgrader": {
          "cell_type": "markdown",
          "checksum": "4e9cc017f3ee73bf8c9e7f20be70fafd",
          "grade": false,
          "grade_id": "cell-7dfafa20252b92e6",
          "locked": true,
          "schema_version": 3,
          "solution": false,
          "task": false
        },
        "id": "480ae94a"
      },
      "source": [
        "## Sección 1.1 (2 puntos)\n",
        "\n",
        "Modifica el código de forma tal que se contemplen los criterios de paro (Ecuaciones no lineales) vistos para métodos numéricos previos. **Unicamente se permite usar las funciones definidas en las subsección Tarea 4**.\n",
        "\n",
        "*   Número máximo de iteraciones N.\n",
        "\n",
        "*   Distancia de la evaluación de la solución menor o igual que la tolerancia $\\left\\Vert F\\left(X^{k}\\right)\\right\\Vert \\leq Tol$.\n",
        "\n",
        "*   Distancia entre la iteración actual $X^{k}$ y la iteración siguiente $X^{k+1}$ menor o igual que la tolerancia ($\\left\\Vert X^{k}-X^{k+1}\\right\\Vert \\leq Tol$).\n",
        "\n",
        "*   Utiliza las 3 normas definidas en la subsección Tarea 4 para los criterios de paro y fijate que sucede con la solución y con el número de iteraciones. Responde en en esta celda ¿Por qué los resultados y el número de iteraciones cambia al usar una norma diferente?."
      ]
    },
    {
      "cell_type": "code",
      "execution_count": null,
      "id": "c4b6e295",
      "metadata": {
        "deletable": false,
        "nbgrader": {
          "cell_type": "code",
          "checksum": "c56eb61b307d81876163c1c36f24bfd4",
          "grade": false,
          "grade_id": "cell-9bc1dd8679c1fa00",
          "locked": false,
          "schema_version": 3,
          "solution": true,
          "task": false
        },
        "id": "c4b6e295"
      },
      "outputs": [],
      "source": [
        "'''Metodo de Newton para sistemas\n",
        "   de ecuaciones no lineales\n",
        "   aprox: es la primera aproximacion\n",
        "   en forma de vector'''\n",
        "def JimyNewtron1(aprox):\n",
        "    # YOUR CODE HERE\n",
        "    raise NotImplementedError()\n",
        "    # El valor devuelto es la aproximacion\n",
        "    return aprox "
      ]
    },
    {
      "cell_type": "code",
      "execution_count": null,
      "id": "2638777e",
      "metadata": {
        "deletable": false,
        "editable": false,
        "nbgrader": {
          "cell_type": "code",
          "checksum": "60aaeb9e0d33a61165be12949ce764ba",
          "grade": true,
          "grade_id": "cell-1577b01002c3779a",
          "locked": true,
          "points": 0,
          "schema_version": 3,
          "solution": false,
          "task": false
        },
        "id": "2638777e"
      },
      "outputs": [],
      "source": [
        "#Aproximacion inicial (X=(0.0,0.0))\n",
        "ap = np.zeros([2])\n",
        "sol = JimyNewtron1(ap)\n",
        "print('Aproximacion de la solucion')\n",
        "print(sol)\n",
        "print('Aproximacion evaluada en f1')\n",
        "print(f1(sol[0], sol[1]))\n",
        "print('Aproximacion evaluada en f2')\n",
        "print(f2(sol[0], sol[1]))\n",
        "\n",
        "evaluacion.verifica(np.array(round(sol[0],2),round(sol[1],2)),1)"
      ]
    },
    {
      "cell_type": "markdown",
      "id": "8da9c24c",
      "metadata": {
        "deletable": false,
        "editable": false,
        "nbgrader": {
          "cell_type": "markdown",
          "checksum": "0f0f7c9579f384a6abc473a1ae9f978b",
          "grade": false,
          "grade_id": "cell-82a11d5d1228434c",
          "locked": true,
          "schema_version": 3,
          "solution": false,
          "task": false
        },
        "id": "8da9c24c"
      },
      "source": [
        "## Sección 1.2 (+2 puntos)\n",
        "\n",
        "En el código mostrado en la sección 1, se calcula la inversa del Jacobiano (lo cuál es un desperdicio de recursos). Modifica el código actual de la subsección 1.2, de tal manera que en lugar de calcular la inversa del Jacobiano, se resuelva el sistema lineal $\\left[F'\\left(\\vec{X}\\right)\\right]H=-F\\left(\\vec{X}\\right)$ (sistema lineal Jacobiano) para encontrar $H$ y modificar la solución actual, tal como se muestra en la sección del desarrollo en series de Taylor del jupyter [Sistemas no Lineales](../../MACTI-analisisnumerico/02_EcuacionesNoLineales/02_SistemasNoLineales.ipynb).\n",
        "\n",
        "*    Para este inciso puedes usar el método $np.linalg.solve(\\left[F'\\left(\\vec{X}\\right)\\right], -F\\left(\\vec{X}\\right))$.\n",
        "\n"
      ]
    },
    {
      "cell_type": "code",
      "execution_count": null,
      "id": "e0b17381",
      "metadata": {
        "deletable": false,
        "nbgrader": {
          "cell_type": "code",
          "checksum": "ebd1c15e6a08aea8b5e0022fd4daf822",
          "grade": false,
          "grade_id": "cell-435e5893f6124d78",
          "locked": false,
          "schema_version": 3,
          "solution": true,
          "task": false
        },
        "id": "e0b17381"
      },
      "outputs": [],
      "source": [
        "'''Metodo de Newton para sistemas\n",
        "   de ecuaciones no lineales\n",
        "   aprox: es la primera aproximacion\n",
        "   en forma de vector'''\n",
        "def JimyNewtron2(aprox):\n",
        "    # YOUR CODE HERE\n",
        "    raise NotImplementedError()\n",
        "    # El valor devuelto es la aproximacion\n",
        "    return aprox "
      ]
    },
    {
      "cell_type": "code",
      "execution_count": null,
      "id": "1595a6fc",
      "metadata": {
        "deletable": false,
        "editable": false,
        "nbgrader": {
          "cell_type": "code",
          "checksum": "9be703d67309e2786e237f31399c523a",
          "grade": true,
          "grade_id": "cell-bc311eca50760859",
          "locked": true,
          "points": 0,
          "schema_version": 3,
          "solution": false,
          "task": false
        },
        "id": "1595a6fc"
      },
      "outputs": [],
      "source": [
        "#Aproximacion inicial (X=(0.0,0.0))\n",
        "ap = np.zeros([2])\n",
        "sol = JimyNewtron2(ap)\n",
        "print('Aproximacion de la solucion')\n",
        "print(sol)\n",
        "print('Aproximacion evaluada en f1')\n",
        "print(f1(sol[0], sol[1]))\n",
        "print('Aproximacion evaluada en f2')\n",
        "print(f2(sol[0], sol[1]))\n",
        "\n",
        "evaluacion.verifica(np.array(round(sol[0],2),round(sol[1],2)),2)"
      ]
    },
    {
      "cell_type": "markdown",
      "id": "25289090",
      "metadata": {
        "deletable": false,
        "editable": false,
        "nbgrader": {
          "cell_type": "markdown",
          "checksum": "3555b9285d356d43ff985c0467858597",
          "grade": false,
          "grade_id": "cell-1fdb6b7b56b1eb79",
          "locked": true,
          "schema_version": 3,
          "solution": false,
          "task": false
        },
        "id": "25289090"
      },
      "source": [
        "## Sección 1.3 (+3 puntos) \n",
        "\n",
        "Modifica el código de la subsección 1.2 y substituye el solver de numpy (`np.linalg.solve()`) por nuestros respectivos métodos. Utiliza los métodos vistos en clase:\n",
        "\n",
        "*   `descomposicionLU`: factoriza una matriz en dos matrices L (lower) y U (upper).\n",
        "\n",
        "*   `sustDelante`: algoritmo para la substitución hacia adelante.\n",
        "\n",
        "*   `sustAtras`: algoritmo para la sustitución hacia atrás.\n",
        "\n",
        "*   En suma, estos 3 métodos pueden substituir el método `np.linal.solve()` de *numpy*. De tal manera que ahora la forma de calcular $H$ se vea de la siguiente manera.\n",
        "   \n",
        "   `#H = np.linalg.solve(jacob, -fx) `         \n",
        "   `H = solver(jacob, -fx)`\n",
        "*   Donde `solver()` es la unión de los métodos antes descritos (`descomposicionLU`, `sustDelante`, `sustAtras`)."
      ]
    },
    {
      "cell_type": "code",
      "execution_count": null,
      "id": "fffdd28b",
      "metadata": {
        "deletable": false,
        "nbgrader": {
          "cell_type": "code",
          "checksum": "9cc1d6521b0fe52ea45e0d63408d13e0",
          "grade": false,
          "grade_id": "cell-c6f0cb7e9149b94b",
          "locked": false,
          "schema_version": 3,
          "solution": true,
          "task": false
        },
        "id": "fffdd28b"
      },
      "outputs": [],
      "source": [
        "'''Metodo de Newton para sistemas\n",
        "   de ecuaciones no lineales\n",
        "   aprox: es la primera aproximacion\n",
        "   en forma de vector'''\n",
        "def JimyNewtron3(aprox):\n",
        "    # YOUR CODE HERE\n",
        "    raise NotImplementedError()\n",
        "    # El valor devuelto es la aproximacion\n",
        "    return aprox "
      ]
    },
    {
      "cell_type": "code",
      "execution_count": null,
      "id": "967d6d13",
      "metadata": {
        "deletable": false,
        "editable": false,
        "nbgrader": {
          "cell_type": "code",
          "checksum": "d3716813fa5626fe7752480b34b52217",
          "grade": true,
          "grade_id": "cell-de96dfb8cc375a33",
          "locked": true,
          "points": 0,
          "schema_version": 3,
          "solution": false,
          "task": false
        },
        "id": "967d6d13"
      },
      "outputs": [],
      "source": [
        "#Aproximacion inicial (X=(0.0,0.0))\n",
        "ap = np.zeros([2])\n",
        "sol = JimyNewtron3(ap)\n",
        "print('Aproximacion de la solucion')\n",
        "print(sol)\n",
        "print('Aproximacion evaluada en f1')\n",
        "print(f1(sol[0], sol[1]))\n",
        "print('Aproximacion evaluada en f2')\n",
        "print(f2(sol[0], sol[1]))\n",
        "\n",
        "evaluacion.verifica(np.array(round(sol[0],2),round(sol[1],2)),3)"
      ]
    },
    {
      "cell_type": "markdown",
      "id": "84be81f1",
      "metadata": {
        "deletable": false,
        "editable": false,
        "nbgrader": {
          "cell_type": "markdown",
          "checksum": "1bb54cc46fc55eba027657968e562219",
          "grade": false,
          "grade_id": "cell-b9ddaca0ff90f142",
          "locked": true,
          "schema_version": 3,
          "solution": false,
          "task": false
        },
        "id": "84be81f1"
      },
      "source": [
        "## Sección 1.4 (+3 Puntos) \n",
        "\n",
        "Hasta este punto en el código de la subsección 1.3, las derivadas parciales empleadas para el cálculo del Jacobiano se definen en código duro (hard code).\n",
        "\n",
        "*   Mediante el método:\n",
        "\n",
        "`#parcial (en este caso la parcial de f1 y f2 es la misma) \n",
        "def par(x):     \n",
        "\treturn 2+math.e**(-x)`\n",
        "\n",
        "*   Modifica el código de la subsección 1.3 y encuentra alguna forma de aproximar las derivadas parciales, de tal manera que podamos aproximar las parciales de cualquier función $F\\left(\\vec{X}\\right)$ con $\\vec{X}\\in\\mathbb{R}^{n}$ y no tengamos que estar restringidos a emplear las parciales definidas de $f_{1}$ y $f_{2}$.\n",
        "\n",
        "*   Sugerencia, el código debería verse similar a este.\n",
        "\n",
        "`# F es una función vectorial\n",
        "def parcial(F, X, var, delta):\n",
        "devuelve la parcial de F en el punto X con respecto a la variable var usando delta`\n",
        "\n",
        "*   Para la función parcial, basta con hacer uso de operaciones sobre listas de python y operaciones aritméticas elementales $\\left(+,-,\\times,\\div\\right)$. Para esta función solo se permite hacer uso de estas operadores aritméticos y funciones sobre listas (NO TE COMPLIQUES MAS DE LO NECESARIO)."
      ]
    },
    {
      "cell_type": "code",
      "execution_count": null,
      "id": "e0d37579",
      "metadata": {
        "deletable": false,
        "nbgrader": {
          "cell_type": "code",
          "checksum": "f70a92b4611fb72dd13d496bcaf0854b",
          "grade": false,
          "grade_id": "cell-5871aac0d96ea8fb",
          "locked": false,
          "schema_version": 3,
          "solution": true,
          "task": false
        },
        "id": "e0d37579"
      },
      "outputs": [],
      "source": [
        "'''Metodo de Newton para sistemas\n",
        "   de ecuaciones no lineales\n",
        "   aprox: es la primera aproximacion\n",
        "   en forma de vector'''\n",
        "def JimyNewtron4(aprox):\n",
        "    # YOUR CODE HERE\n",
        "    raise NotImplementedError()\n",
        "    # El valor devuelto es la aproximacion\n",
        "    return aprox "
      ]
    },
    {
      "cell_type": "code",
      "execution_count": null,
      "id": "eb3b04ad",
      "metadata": {
        "deletable": false,
        "editable": false,
        "nbgrader": {
          "cell_type": "code",
          "checksum": "dcbc82ebeb655d6970b71d443f8420bf",
          "grade": true,
          "grade_id": "cell-5a739aeffe9704f7",
          "locked": true,
          "points": 0,
          "schema_version": 3,
          "solution": false,
          "task": false
        },
        "id": "eb3b04ad"
      },
      "outputs": [],
      "source": [
        "#Aproximacion inicial (X=(0.0,0.0))\n",
        "ap = np.zeros([2])\n",
        "sol = JimyNewtron4(ap)\n",
        "print('Aproximacion de la solucion')\n",
        "print(sol)\n",
        "print('Aproximacion evaluada en f1')\n",
        "print(f1(sol[0], sol[1]))\n",
        "print('Aproximacion evaluada en f2')\n",
        "print(f2(sol[0], sol[1]))\n",
        "\n",
        "evaluacion.verifica(np.array(round(sol[0],2),round(sol[1],2)),4)"
      ]
    },
    {
      "cell_type": "markdown",
      "id": "6d9e6423",
      "metadata": {
        "deletable": false,
        "editable": false,
        "nbgrader": {
          "cell_type": "markdown",
          "checksum": "9f4b3aac22886235581f34ee417917a2",
          "grade": false,
          "grade_id": "cell-aca12ff88b7245c4",
          "locked": true,
          "schema_version": 3,
          "solution": false,
          "task": false
        },
        "id": "6d9e6423"
      },
      "source": [
        "## Sección 1.5 (+10 Puntos)\n",
        "\n",
        "Modifica el código de la subsección 1.4 de tal manera que la función `JimyNewtron` sea capaz de resolver cualquier sistema de n ecuaciones no lineales con n incognitas, no solamente uno de $2x2$ como lo hace actualmente. En otras palabras, actualmente `JimyNewtron` resuelve el siguiente sistema.\n",
        "\n",
        "$$F\\left(\\vec{X}\\right)=\\begin{cases}\n",
        "f_{1}\\left(x_{1},x_{2}\\right)\\\\\n",
        "f_{2}\\left(x_{1},x_{2}\\right)\n",
        "\\end{cases}$$\n",
        "\n",
        "Para obtener los 10 puntos de esta subsección debes modificar el código de la subsección 1.4, de tal manera que ahora sea capaz de resolver sistemas de n ecuaciones no lineales con n incognitas.\n",
        "\n",
        "$$F\\left(\\vec{X}\\right)=\\begin{cases}\n",
        "f_{1}\\left(x_{1},x_{2},\\ldots x_{n}\\right)\\\\\n",
        "f_{2}\\left(x_{1},x_{2},\\ldots x_{n}\\right)\\\\\n",
        "\\cdots\\\\\n",
        "f_{n}\\left(x_{1},x_{2},\\ldots x_{n}\\right)\n",
        "\\end{cases}$$\n",
        "\n",
        "Realiza tus pruebas y valida tus resultados."
      ]
    },
    {
      "cell_type": "markdown",
      "id": "cad198d0",
      "metadata": {
        "deletable": false,
        "editable": false,
        "nbgrader": {
          "cell_type": "markdown",
          "checksum": "5fa40df778481ee75ec99d172dbd82a2",
          "grade": false,
          "grade_id": "cell-4ace6c28b93a7ed8",
          "locked": true,
          "schema_version": 3,
          "solution": false,
          "task": false
        },
        "id": "cad198d0"
      },
      "source": [
        "## Validación\n",
        "\n",
        "Antes de enviar tu examen valida tus resultados, **NO ENVIES CODIGO QUE NO HAYA SIDO VALIDADO**. En una celda de códio prueba tu algoritmo, es decir."
      ]
    },
    {
      "cell_type": "code",
      "execution_count": null,
      "id": "6a246918",
      "metadata": {
        "deletable": false,
        "editable": false,
        "nbgrader": {
          "cell_type": "code",
          "checksum": "3e364ea51086a98ed0e32a60fde40d5a",
          "grade": true,
          "grade_id": "cell-7ca67c3cfb297d4a",
          "locked": true,
          "points": 0,
          "schema_version": 3,
          "solution": false,
          "task": false
        },
        "id": "6a246918"
      },
      "outputs": [],
      "source": [
        "#Aproximacion inicial (X)     \n",
        "ap = np.zeros([2])     \n",
        "sol = JimyNewtron(ap, 0.001, 10000)     \n",
        "print('Aproximacion de la solucion')     \n",
        "print(sol)     \n",
        "print('\\nAproximacion evaluada en f1')     \n",
        "print(F1(sol)) "
      ]
    },
    {
      "cell_type": "markdown",
      "id": "fb3f3a27",
      "metadata": {
        "deletable": false,
        "editable": false,
        "nbgrader": {
          "cell_type": "markdown",
          "checksum": "9342ac69d4697593936fa9317118e594",
          "grade": false,
          "grade_id": "cell-cd711cdedf1ef310",
          "locked": true,
          "schema_version": 3,
          "solution": false,
          "task": false
        },
        "id": "fb3f3a27"
      },
      "source": [
        "Sea cuál sea la subsección hasta la que hayas decidido responder (excepto la subseccion 1.5) la solución debe seguir siendo.\n",
        "\n",
        "`Aproximacion de la solucion [0.56714332 0.56714332]`\n",
        "\n",
        "`Aproximacion evaluada en F1 4.2460598703719654e-08`\n",
        "\n",
        "`Aproximacion evaluada en F2 4.2460598703719654e-08`"
      ]
    },
    {
      "cell_type": "markdown",
      "id": "2f4bd81a",
      "metadata": {
        "deletable": false,
        "editable": false,
        "nbgrader": {
          "cell_type": "markdown",
          "checksum": "c9b996ea1e998dea2ccc7a24c4e647aa",
          "grade": false,
          "grade_id": "cell-3e8033ec6581d93e",
          "locked": true,
          "schema_version": 3,
          "solution": false,
          "task": false
        },
        "id": "2f4bd81a"
      },
      "source": [
        "# (¿? Puntos) Sección Especial\n",
        "\n",
        "Esta sección es solo para amenizar al momento de calificar y probablemente subir unas cuantas décimas. Pero por ningún motivo esta sección hará que apruebes el examen si es que no muestras conocimientos.\n",
        "\n",
        "“Tus antepasados lo llamaban magia, tú lo llamas ciencia. En mi mundo ambos son lo mismo.”\n",
        "\n",
        "\"La magia es sólo la ciencia que todavía no comprendemos.\"\n",
        "\n",
        " –Fráses de Thor, hijo de Odín.\n",
        "\n",
        "<center>\n",
        "<img src=\"https://github.com/jugernaut/ManejoDatos/blob/desarrollo/Imagenes/AlgoritmosBusqueda/traemethanos.gif?raw=1\" width=\"600\">   \n",
        "</center> \n",
        "\n",
        "Thor Love and Thunder:\n",
        "*   ¿Cómo se llama el martillo de Thor (escribe bien su nombre)?\n",
        "*   ¿Cuántos hermanos tiene Thor?\n",
        "*   ¿Con quien hace equipo Thor después de dejar de ser parte de los Vengadores\n",
        "*   ¿Como se llama el antagonista de \"Thor Love and Thunder\" y por que desea matar dioses?\n",
        "*   ¿Cuál es la última bendicion que recibe Thor y cómo se llama?"
      ]
    }
  ],
  "metadata": {
    "kernelspec": {
      "display_name": "Python 3 (ipykernel)",
      "language": "python",
      "name": "python3"
    },
    "language_info": {
      "codemirror_mode": {
        "name": "ipython",
        "version": 3
      },
      "file_extension": ".py",
      "mimetype": "text/x-python",
      "name": "python",
      "nbconvert_exporter": "python",
      "pygments_lexer": "ipython3",
      "version": "3.9.7"
    },
    "colab": {
      "provenance": [],
      "toc_visible": true,
      "include_colab_link": true
    }
  },
  "nbformat": 4,
  "nbformat_minor": 5
}
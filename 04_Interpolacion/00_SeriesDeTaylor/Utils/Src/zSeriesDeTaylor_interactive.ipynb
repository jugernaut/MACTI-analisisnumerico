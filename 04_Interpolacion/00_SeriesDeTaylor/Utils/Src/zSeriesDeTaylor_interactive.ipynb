{
  "nbformat": 4,
  "nbformat_minor": 0,
  "metadata": {
    "colab": {
      "name": "03_SeriesDeTaylor_interactive.ipynb",
      "provenance": [],
      "include_colab_link": true
    },
    "kernelspec": {
      "display_name": "Python 3",
      "language": "python",
      "name": "python3"
    },
    "language_info": {
      "codemirror_mode": {
        "name": "ipython",
        "version": 3
      },
      "file_extension": ".py",
      "mimetype": "text/x-python",
      "name": "python",
      "nbconvert_exporter": "python",
      "pygments_lexer": "ipython3",
      "version": "3.7.6"
    }
  },
  "cells": [
    {
      "cell_type": "markdown",
      "metadata": {
        "id": "view-in-github",
        "colab_type": "text"
      },
      "source": [
        "<a href=\"https://colab.research.google.com/github/jugernaut/MACTI-analisisnumerico/blob/arturo/04_Interpolacion/00_SeriesDeTaylor/Utils/Src/zSeriesDeTaylor_interactive.ipynb\" target=\"_parent\"><img src=\"https://colab.research.google.com/assets/colab-badge.svg\" alt=\"Open In Colab\"/></a>"
      ]
    },
    {
      "cell_type": "code",
      "metadata": {
        "id": "vfIWHcMJaMzT"
      },
      "source": [
        "from sympy import Symbol, cos, sin, tan, exp, log, series\n",
        "from sympy.utilities.lambdify import lambdify\n",
        "from ipywidgets import interact, interactive, fixed\n",
        "import ipywidgets as widgets"
      ],
      "execution_count": 1,
      "outputs": []
    },
    {
      "cell_type": "code",
      "metadata": {
        "id": "0ysupVQdG4U3"
      },
      "source": [
        "#\n",
        "# Este notebook solo puede ser ejecutado desde 01_SeriesDeTaylor.ipynb\n",
        "# No funciona de otra manera.\n",
        "#\n",
        "def calcTaylor(función, grado, xo = 0):\n",
        "    func = función\n",
        "    evalfunc = lambdify(t, func, modules=['numpy'])\n",
        "    taylor = series(func, x0 = xo, n=grado+1).removeO()\n",
        "\n",
        "    if grado == 0:\n",
        "        evaltaylor = lambda x: np.ones(len(x)) * evalfunc(xo)\n",
        "    elif grado == 1 and func == cos(t):\n",
        "        evaltaylor = lambda x: np.ones(len(x)) * evalfunc(xo)\n",
        "    else:\n",
        "        evaltaylor = lambdify(t, taylor, modules=['numpy'])\n",
        "\n",
        "    if func == log(t):\n",
        "        x = np.linspace(0.001,2*np.pi,200) # Intervalo en x\n",
        "    else:\n",
        "        x = np.linspace(-2*np.pi,2*np.pi,200) # Intervalo en x\n",
        "\n",
        "    xa = np.linspace(xo-np.pi*0.5+0.1,xo+np.pi*0.5-0.1,100)\n",
        "    error = np.linalg.norm(evaltaylor(xa) - evalfunc(xa),2)\n",
        "    \n",
        "    par = [{'title':'Error = {:15.14}'.format(error), \n",
        "            'xlabel':'x [m]',\n",
        "            'ylabel':'T [$^oC$]'}]\n",
        "        \n",
        "    graf = vis.planoCartesiano(par=par)\n",
        "    graf.plot(x = x, y = evalfunc(x), par={'label':'f(x) = ' + str(func)})\n",
        "    graf.plot(x = x, y = evaltaylor(x), par={'label':'$P_{}(x)$'.format(grado), 'lw':1.0})\n",
        "    graf.scatter(x = xo, y=evalfunc(xo), \n",
        "                 par = {'marker':'o', 'color':'black', 'zorder':10,\n",
        "                        'label':'Punto de aproximación'})\n",
        "    ymax = np.max(evalfunc(x))\n",
        "    ymin = np.min(evalfunc(x))\n",
        "    graf.limits(y=(ymin,ymax))\n",
        "    graf.ticks(trig=True)\n",
        "    graf.legend()\n",
        "    graf.show()\n",
        "    return taylor"
      ],
      "execution_count": 2,
      "outputs": []
    },
    {
      "cell_type": "code",
      "metadata": {
        "colab": {
          "base_uri": "https://localhost:8080/",
          "height": 235
        },
        "id": "CRGu4Y7IG4U8",
        "outputId": "ccc03adc-60ad-4e9e-9f6a-17742d02291d"
      },
      "source": [
        "t = Symbol('x')\n",
        "lista_funciones = [cos(t), sin(t), tan(t),\n",
        "                   exp(t), exp(-t**2), exp(t)*cos(3*t),\n",
        "                   log(t), np.pi**t,\n",
        "                   t + t**2 + t**3]\n",
        "\n",
        "w = interact(calcTaylor,\n",
        "             función = lista_funciones,\n",
        "             grado = widgets.IntSlider(min=0, max=16, step=1, value=2),\n",
        "             xo = widgets.FloatSlider(min=-3.0, max=3.0, step=0.2, value=1.0, \n",
        "                                      description='x0'))\n",
        "\n",
        "display(w)"
      ],
      "execution_count": 3,
      "outputs": [
        {
          "output_type": "error",
          "ename": "NameError",
          "evalue": "ignored",
          "traceback": [
            "\u001b[0;31m---------------------------------------------------------------------------\u001b[0m",
            "\u001b[0;31mNameError\u001b[0m                                 Traceback (most recent call last)",
            "\u001b[0;32m<ipython-input-3-53f6bc44fca3>\u001b[0m in \u001b[0;36m<module>\u001b[0;34m\u001b[0m\n\u001b[1;32m      2\u001b[0m lista_funciones = [cos(t), sin(t), tan(t),\n\u001b[1;32m      3\u001b[0m                    \u001b[0mexp\u001b[0m\u001b[0;34m(\u001b[0m\u001b[0mt\u001b[0m\u001b[0;34m)\u001b[0m\u001b[0;34m,\u001b[0m \u001b[0mexp\u001b[0m\u001b[0;34m(\u001b[0m\u001b[0;34m-\u001b[0m\u001b[0mt\u001b[0m\u001b[0;34m**\u001b[0m\u001b[0;36m2\u001b[0m\u001b[0;34m)\u001b[0m\u001b[0;34m,\u001b[0m \u001b[0mexp\u001b[0m\u001b[0;34m(\u001b[0m\u001b[0mt\u001b[0m\u001b[0;34m)\u001b[0m\u001b[0;34m*\u001b[0m\u001b[0mcos\u001b[0m\u001b[0;34m(\u001b[0m\u001b[0;36m3\u001b[0m\u001b[0;34m*\u001b[0m\u001b[0mt\u001b[0m\u001b[0;34m)\u001b[0m\u001b[0;34m,\u001b[0m\u001b[0;34m\u001b[0m\u001b[0;34m\u001b[0m\u001b[0m\n\u001b[0;32m----> 4\u001b[0;31m                    \u001b[0mlog\u001b[0m\u001b[0;34m(\u001b[0m\u001b[0mt\u001b[0m\u001b[0;34m)\u001b[0m\u001b[0;34m,\u001b[0m \u001b[0mnp\u001b[0m\u001b[0;34m.\u001b[0m\u001b[0mpi\u001b[0m\u001b[0;34m**\u001b[0m\u001b[0mt\u001b[0m\u001b[0;34m,\u001b[0m\u001b[0;34m\u001b[0m\u001b[0;34m\u001b[0m\u001b[0m\n\u001b[0m\u001b[1;32m      5\u001b[0m                    t + t**2 + t**3]\n\u001b[1;32m      6\u001b[0m \u001b[0;34m\u001b[0m\u001b[0m\n",
            "\u001b[0;31mNameError\u001b[0m: name 'np' is not defined"
          ]
        }
      ]
    },
    {
      "cell_type": "code",
      "metadata": {
        "id": "vurxEzm1HTZl"
      },
      "source": [],
      "execution_count": null,
      "outputs": []
    }
  ]
}
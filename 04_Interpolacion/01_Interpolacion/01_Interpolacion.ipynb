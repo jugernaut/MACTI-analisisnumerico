{
 "cells": [
  {
   "cell_type": "markdown",
   "metadata": {
    "colab_type": "text",
    "id": "view-in-github"
   },
   "source": [
    "<a href=\"https://colab.research.google.com/github/jugernaut/MACTI-analisisnumerico/blob/main/04_Interpolacion/01_Interpolacion/teacher/01_Interpolacion.ipynb\" target=\"_parent\"><img src=\"https://colab.research.google.com/assets/colab-badge.svg\" alt=\"Open In Colab\"/></a>"
   ]
  },
  {
   "cell_type": "markdown",
   "metadata": {
    "id": "1PROF-KoN-1e"
   },
   "source": [
    "<font color=\"Teal\" face=\"Comic Sans MS,arial\">\n",
    "  <h1 align=\"center\"><i>Interpolación</i></h1>\n",
    "  </font>\n",
    "  <font color=\"Black\" face=\"Comic Sans MS,arial\">\n",
    "  <h5 align=\"center\"><i>Profesor: M.en.C. Miguel Ángel Pérez León.</i></h5>\n",
    "    <h5 align=\"center\"><i>Ayudante: Jesús Iván Coss Calderón.</i></h5>\n",
    "  <h5 align=\"center\"><i>Materia: Análisis Numérico.</i></h5>\n",
    "  </font>"
   ]
  },
  {
   "cell_type": "markdown",
   "metadata": {
    "id": "pX1XlohEN-1e"
   },
   "source": [
    "##  Introducción\n",
    "\n",
    "La interpolación es una de las técnicas más comunes para que, a partir de un conjunto de datos conocidos, se pueda identificar uno o más valores desconocidos dentro de este rango de datos. Y para esta labor se emplea una de las clases de funciones más útiles y mejor conocidas que mapea el conjunto de los números reales sobre si mismo, los **polinomios algebraicos**.\n",
    "\n",
    "Supongamos que se tiene un punto $\\left(x_{0},f(x_{0})\\right)$ en el plano, y se quiere encontrar una función $f(x)$ que al ser evaluada en $x_{0}$ pase por el punto $\\left(x_{0},f(x_{0})\\right)$, llamaremos a esa aproximación\n",
    "\n",
    "$$P_{0}(x)$$\n",
    "\n",
    "Entonces se tiene que $P_{0}(x)=f(x)=f(x_{0})$\n",
    "\n",
    "Es decir que $P_{0}(x)$, el polinomio de grado cero, es una constante $f(x_{0})$ que pasa por el punto $\\left(x_{0},f(x_{0})\\right)$.\n",
    "\n",
    "Recordemos un poco como es que las series de Taylor, nos ayudaban a generar una aproximación de una función dada."
   ]
  },
  {
   "cell_type": "code",
   "execution_count": null,
   "metadata": {
    "colab": {
     "base_uri": "https://localhost:8080/",
     "height": 609,
     "referenced_widgets": [
      "a1451e125ca0473ab0f965d67bcd00b2",
      "c12c935cdbd24a40aff72758056566dc",
      "af130a3e58ff4277b5af0baeebfd5a4e",
      "4222a1a4c33644f19c84e881e9cd7c2b",
      "64208c2ab7394c4ca2ad73c7ee5f9d81",
      "1c9e66eeffad4f4db8e4b95997ba21e8",
      "dc2a8cabcc324eaf8ab689312a0ef2a2",
      "91936129880b48e787eb479bbebff455",
      "911651f210e24d0cb8d67c31f34cbb7b",
      "412e41085fe44de38c739430a9fe68aa",
      "b4b3994e13394834b11d8ac39169bcca",
      "f210444658fb4a1688a23238cdba68bb",
      "6911c4c98de947829b2e1f5ef03e5072"
     ]
    },
    "id": "NZ-3N4M_a0qJ",
    "outputId": "d2fe5a25-e160-4fee-c41f-5a3f0805d7b9"
   },
   "outputs": [
    {
     "name": "stdout",
     "output_type": "stream",
     "text": [
      "Cloning into 'Numerico2021'...\n",
      "remote: Enumerating objects: 247, done.\u001b[K\n",
      "remote: Counting objects: 100% (247/247), done.\u001b[K\n",
      "remote: Compressing objects: 100% (247/247), done.\u001b[K\n",
      "remote: Total 2661 (delta 152), reused 0 (delta 0), pack-reused 2414\u001b[K\n",
      "Receiving objects: 100% (2661/2661), 11.78 MiB | 27.35 MiB/s, done.\n",
      "Resolving deltas: 100% (1694/1694), done.\n"
     ]
    },
    {
     "data": {
      "application/vnd.jupyter.widget-view+json": {
       "model_id": "a1451e125ca0473ab0f965d67bcd00b2",
       "version_major": 2,
       "version_minor": 0
      },
      "text/plain": [
       "interactive(children=(Dropdown(description='función', options=(cos(x), sin(x), tan(x), exp(x), exp(-x**2), exp…"
      ]
     },
     "metadata": {
      "tags": []
     },
     "output_type": "display_data"
    },
    {
     "data": {
      "text/plain": [
       "<function __main__.calcTaylor>"
      ]
     },
     "metadata": {
      "tags": []
     },
     "output_type": "display_data"
    }
   ],
   "source": [
    "# COLAB\n",
    "!git clone https://github.com/jugernaut/Numerico2021.git\n",
    "import Numerico2021.Utils.gutils as vis\n",
    "import numpy as np\n",
    "\n",
    "%run \"Numerico2021/04_Interpolacion/zSeriesDeTaylor_interactive.ipynb\""
   ]
  },
  {
   "cell_type": "markdown",
   "metadata": {
    "id": "9Z9-SJ7fN-1e"
   },
   "source": [
    "##  Polinomio de Lagrange\n",
    "\n",
    "Ahora supongamos que se conocen 2 puntos $\\left(x_{0},f(x_{0})\\right)\\,y\\,\\left(x_{1},f(x_{1})\\right)$ y se busca encontrar la interpolación lineal que conecta a ambos puntos.\n",
    "\n",
    "Una linea recta es usada para conectar estos 2 valores (datos) $f(x_{0})$ y $f(x_{1})$ en $x_{0}$ y $x_{1}$ respectivamente. La linea recta es representada por una función lineal de la forma $f(x)=ax+b$, donde $a,b$ son constantes y pueden ser determinadas usando el valor en los puntos $x_{0}$ y $x_{1}$ así.\n",
    "\n",
    "$$ x=x_{0}:f(x_{0})=ax_{0}+b \\tag{1}$$\n",
    "\n",
    "$$ x=x_{1}:f(x_{1})=ax_{1}+b \\tag{2}$$\n",
    "\n",
    "\n",
    "Para encontrar la pendiente de la recta que conecta a estos puntos, es necesario restar $f(x_{1})-f(x_{0})$, es decir\n",
    "\n",
    "$$f(x_{1})-f(x_{0})=ax_{1}+b-ax_{0}-b=ax_{1}-ax_{0}\\Longrightarrow{a=\\frac{f(x_{1})-f(x_{0})}{x_{1}-x_{0}}}$$\n",
    "\n",
    "Substituyendo $a$ en (1) se tiene que\n",
    "\n",
    "$$f(x_{0})=\\frac{f(x_{1})-f(x_{0})}{x_{1}-x_{0}}x_{0}+b\\Longrightarrow{b=f(x_{0})-\\frac{f(x_{1})-f(x_{0})}{x_{1}-x_{0}}x_{0}}$$\n",
    "\n",
    "De tal manera que si substituimos $a$ y $b$ en la ecuación paramétrica de la recta $f(x)=ax+b$, obtenemos\n",
    "\n",
    "\n",
    "$$f(x)=\\frac{f(x_{1})-f(x_{0})}{x_{1}-x_{0}}x+f(x_{0})-\\frac{f(x_{1})-f(x_{0})}{x_{1}-x_{0}}x_{0} \\tag{3}$$\n",
    "\n",
    "\n",
    "Y ahora (3) se puede reescribir como\n",
    "\n",
    "$$f(x)\t=\t\\frac{xf(x_{1})-xf(x_{0})-x_{0}f(x_{1})+x_{0}f(x_{0})}{x_{1}-x_{0}}+\\frac{x_{1}-x_{0}}{x_{1}-x_{0}}f(x_{0})\n",
    "\t=\t\\frac{xf(x_{1})-xf(x_{0})-x_{0}f(x_{1})+x_{0}f(x_{0})+x_{1}f(x_{0})-x_{0}f(x_{0})}{x_{1}-x_{0}}\n",
    "\t=\t\\frac{\\left(x_{1}-x\\right)f(x_{0})+\\left(x-x_{0}\\right)f(x_{1})}{x_{1}-x_{0}}$$\n",
    "    \n",
    "\n",
    "$$f(x)=\\left(\\frac{x-x_{1}}{x_{0}-x_{1}}\\right)f(x_{0})+\\left(\\frac{x_{0}-x}{x_{0}-x_{1}}\\right)f(x_{1})$$\n",
    "\n",
    "Que en forma de polinomio se define así\n",
    "\n",
    "$$P_{1}(x) := L_{0}(x)f(x_{0})+L_{1}(x)f(x_{1})\\ldots Polinomio\\,de\\,Lagrange\\,de\\,grado\\,1$$\n",
    "\n",
    "Si se evalúa $x_{0}$ en el Polinomio de Lagrange de grado 1 se obtiene\n",
    "\n",
    "$${\\color{blue}{P(x_{0})}}=\\left(\\frac{x_{0}-x_{1}}{x_{0}-x_{1}}\\right)f(x_{0})+\\left(\\frac{x_{0}-x_{0}}{x_{0}-x_{1}}\\right)f(x_{1})={\\color{blue}{f(x_{0})}} $$\n",
    "\n",
    "De igual manera, al evaluar $x_{1}$ \n",
    "\n",
    "$${\\color{blue}{P(x_{1})}}=\\left(\\frac{x_{1}-x_{1}}{x_{0}-x_{1}}\\right)f(x_{0})+\\left(\\frac{x_{0}-x_{1}}{x_{0}-x_{1}}\\right)f(x_{1})={\\color{blue}{f(x_{1})}} $$\n",
    "\n",
    "Para calcular el polinomio de Lagrange de grado 2 es necesario conocer 3 puntos (datos) y se tendría\n",
    "\n",
    "$$f(x)=ax^{2}+bx+c\\\\\n",
    "f(x) \\thickapprox L_{0}(x)f(x_{0})+L_{1}(x)f(x_{1})+L_{2}(x)f(x_{2})$$\n",
    "\n",
    "Donde\n",
    "\n",
    "$$L_{0}(x)\t=\t\\frac{\\left(x-x_{1}\\right)\\left(x-x_{2}\\right)}{\\left(x_{0}-x_{1}\\right)\\left(x_{0}-x_{2}\\right)},\\quad L_{1}(x)=\\frac{\\left(x-x_{0}\\right)\\left(x-x_{2}\\right)}{\\left(x_{1}-x_{0}\\right)\\left(x_{1}-x_{2}\\right)}, \\quad L_{2}=\\frac{\\left(x-x_{0}\\right)\\left(x-x_{1}\\right)}{\\left(x_{2}-x_{0}\\right)\\left(x_{2}-x_{1}\\right)} $$"
   ]
  },
  {
   "cell_type": "markdown",
   "metadata": {
    "id": "uAZ2hQY1TAJ8"
   },
   "source": [
    "### Teorema\n",
    "\n",
    "Si $x_{0},x_{1},\\ldots x_{n}$ son $n+1$ números distintos y si $f$ es una función cuyos valores están dados en estos números, entonces existe un polinomio $P(x)$ de grado máximo $n$. Dicho polinomio se define así\n",
    "\n",
    "$$P(x):= L_{0}(x)f(x_{0})+\\cdots+L_{n}(x)f(x_{n})=\\sum_{i=0}^{n}L_{i}(x)f(x_{i})$$\n",
    "\n",
    "Donde para cada $i=0,1,\\ldots,n,$\n",
    "\n",
    "$$L_{i}(x) := \\frac{\\left(x-x_{0}\\right)\\left(x-x_{1}\\right)\\cdots\\left(x-x_{i-1}\\right)\\left(x-x_{i+1}\\right)\\cdots\\left(x-x_{n}\\right)}{\\left(x_{i}-x_{0}\\right)\\left(x_{i}-x_{1}\\right)\\cdots\\left(x_{i}-x_{i-1}\\right)\\left(x_{i}-x_{i+1}\\right)\\cdots\\left(x_{i}-x_{n}\\right)}=\\prod_{\\begin{array}{c}\n",
    "i=0\\\\\n",
    "i\\neq k\n",
    "\\end{array}}^{n}\\frac{\\left(x-x_{i}\\right)}{\\left(x_{k}-x_{i}\\right)}$$"
   ]
  },
  {
   "cell_type": "markdown",
   "metadata": {
    "id": "gPbbX1TZTeSD"
   },
   "source": [
    "#### Ejemplo\n",
    "\n",
    "Sea el siguiente conjunto de datos\n",
    "\n",
    "| X | 1 |  4 | 7|\n",
    "| :-:  | :-: | :-: |  :-: |\n",
    "| Y  | 52 |-5 |10|\n",
    "\n",
    "\n",
    "1. Determine el polinomio de Lagrange de segundo orden que pasa por cada uno de los puntos.\n",
    "\n",
    "2. Use el polinomio calculado en (1) para encontrar el valor interpolado en $x=3$.\n",
    "\n",
    "Solución: $f\\left(x\\right)=4x^{2}-39x+87\\qquad f(3)=6$\n",
    "\n",
    "<center>\n",
    "<img src=\"https://github.com/jugernaut/Numerico2021/blob/master/Figuras/interpolacion/algLagrange.PNG?raw=1\" width=\"500\">\n",
    "</center>"
   ]
  },
  {
   "cell_type": "code",
   "execution_count": 2,
   "metadata": {
    "colab": {
     "base_uri": "https://localhost:8080/"
    },
    "id": "j2g9UXbPtYr1",
    "outputId": "2dd1ed04-ee7e-4175-bf70-8c9cdc50a9b7"
   },
   "outputs": [
    {
     "name": "stdout",
     "output_type": "stream",
     "text": [
      "5.999999999999999\n",
      "52.0\n",
      "-5.0\n",
      "10.0\n"
     ]
    }
   ],
   "source": [
    "''' Interpolador de Lagrange\n",
    "f: lista de datos (x0,y0),...,(xn,yn)\n",
    "xi: punto en el que se evalua el polinomio\n",
    "'''\n",
    "def interpoladorLagrange(f, xi):\n",
    "    # variable para almacenar el resultado\n",
    "    result = 0.0\n",
    "    # longitud de los datos\n",
    "    n = len(f)\n",
    "    # ciclos para realizar la suma de multiplicaciones\n",
    "    for i in range (n):\n",
    "        # f(xi)=yi\n",
    "        term = f[i][1]\n",
    "        # for para calcular el coeficiente de Lagrange (Li)\n",
    "        for j in range(n):\n",
    "            # combinaciones en las que j!=i (revisar definicion de Li)\n",
    "            if (j!=i):\n",
    "                # Li*f(xi)\n",
    "                term = (xi - f[j][0])/(f[i][0] - f[j][0])*term\n",
    "        # se suma el Li*f(xi) con el resto de los valores evaluados\n",
    "        result += term\n",
    "    # se devuelve el resultado\n",
    "    return result \n",
    "\n",
    "# lista de valores\n",
    "f = ((1.0,52.0), (4.0,-5.0), (7.0,10.0))\n",
    "# datos extendidos\n",
    "# f = ((1.0,52.0), (2.0,5.0),(4.0,-5.0), (5.0,-40.0), (7.0,10.0))\n",
    "# resultado de la interpolacion en 3.0\n",
    "print(interpoladorLagrange(f, 3.0))\n",
    "\n",
    "# validacion del interpolador\n",
    "# valor esperado 52\n",
    "print(interpoladorLagrange(f, 1.0))\n",
    "# valor esperado -5\n",
    "print(interpoladorLagrange(f, 4.0))\n",
    "# valor esperado 10\n",
    "print(interpoladorLagrange(f, 7.0))"
   ]
  },
  {
   "cell_type": "markdown",
   "metadata": {
    "id": "kuoFQm7sT37H"
   },
   "source": [
    "### Estimación del error\n",
    "\n",
    "Es importante notar que si se conoce la función $\\left(f(x)\\right)$ que se quiere aproximar, basta con evaluarla en los puntos necesarios para poder construir el polinomio interpolador.\n",
    "\n",
    "Incluso, si se conoce la solución analítica $\\left(f(x)\\right)$ podemos dar una estimación del error y una cota para el error de la solución numérica."
   ]
  },
  {
   "cell_type": "markdown",
   "metadata": {
    "id": "o-Zrg8ZdUKXV"
   },
   "source": [
    "### Teorema\n",
    "\n",
    "Formula del error de la interpolación polinomial:\n",
    "\n",
    "Sean $x_{0},\\ldots,x_{n}\\in\\left[a,b\\right]$, $n+1$ nodos de interpolación y sea $f\\in C^{n+1}\\left[a,b\\right]$. Si $x\\in\\left[a,b\\right]$, entonces \n",
    "\n",
    "$$f(x)=P_{n}(x)+E_{n}(x)$$\n",
    "\n",
    "donde $P_{n}(x)$ es el polinomio que interpola $f(x)$ en los $n+1$ nodos y que podemos usar para aproximar \n",
    "\n",
    "$$f(x)\\approx P_{n}(x)=\\sum_{i=0}^{n}L_{i}(x)f(x_{i})$$\n",
    "\n",
    "Podemos afirmar que el termino de error $E_{n}(x)$ se puede calcular así\n",
    "\n",
    "$$E_{n}(x)=\\left|f(x)-P_{n}(x)\\right|=\\frac{\\left(x-x_{0}\\right)\\left(x-x_{1}\\right)\\cdots\\left(x-x_{n}\\right)f^{(n+1)}(\\xi)}{\\left(n+1\\right)!}$$\n",
    "\n",
    "\n",
    "Este teorema afirma la existencia de un numero $\\xi=\\xi(x)\\in\\left[a,b\\right]$, sin embargo no se proporciona ningún procedimiento cómodo para calcularlo.\n",
    "\n",
    "En la práctica se calcula de la siguiente manera\n",
    "\n",
    "$$\\xi=\\sup_{x\\in\\left[a,b\\right]}\\left|f^{n+1}(x)\\right|$$\n",
    "\n",
    " \n",
    "Dado que ya conocemos una forma de calcular el polinomio interpolador dada una función y ademas podemos dar una estimación del error, procedamos a aplicar lo conocido a la función \n",
    "\n",
    "$$f(x)=2xe^{-\\left(4x+2\\right)}$$"
   ]
  },
  {
   "cell_type": "markdown",
   "metadata": {
    "id": "Vv5kF4jcUYES"
   },
   "source": [
    "#### Ejemplo\n",
    "\n",
    "Sea la función $f(x)=2xe^{-\\left(4x+2\\right)} $definida en el intervalo $[0.2,1]$\n",
    "\n",
    "1. Determine el polinomio de Lagrange que interpola $f(x)$ en los punto de interpolación $\\{0.2,1.0\\}.$\n",
    "\n",
    "2. Obtener la expresión del error de interpolación"
   ]
  },
  {
   "cell_type": "markdown",
   "metadata": {
    "id": "T-ePHlCAUiYQ"
   },
   "source": [
    "#### Solución\n",
    "\n",
    "$$L_{0}(x)=\\frac{x-x_{1}}{x_{0}-x_{1}}=\\frac{1-x}{0.8},\\quad L_{1}(x)=\\frac{x-x_{0}}{x_{1}-x_{0}}=\\frac{x-0.2}{0.8}$$\n",
    "\n",
    "Por lo tanto \n",
    "\n",
    "$$P_{1}(x)=L_{0}(x)f(x_{0})+L_{1}(x)f(x_{1})=\\frac{1-x}{0.8}\\left(0.4\\right)e^{-2.8}+\\frac{x-0.2}{0.8}2e^{-6}$$\n",
    "\n",
    "\n",
    "Por otra parte aplicando el teorema para la estimación del error se tiene\n",
    "\n",
    "$$E_{n}(x)=\\left|f(x)-P_{n}(x)\\right|=\\frac{\\left(x-x_{0}\\right)\\left(x-x_{1}\\right)\\cdots\\left(x-x_{n}\\right)f^{(n+1)}(\\xi)}{\\left(n+1\\right)!}$$\n",
    "\n",
    "Como se tienen 2 puntos de interpolación, es necesario calcular la segunda derivada de f \n",
    "\n",
    "$$f'(x)=\\left(2-8x\\right)e^{-(4x+2)}\\quad f''(x)=\\left(-16+32x\\right)e^{-(4x+2)}$$\n",
    "\n",
    "Por lo tanto podemos concluir que\n",
    "\n",
    "$$E_{n}(x)=\\left|f(x)-P_{n}(x)\\right|=\\frac{\\left(x^{2}-1.2x+0.2\\right)\\left(-16+32\\xi\\right)e^{-(4\\xi+2)}}{2}$$"
   ]
  },
  {
   "cell_type": "markdown",
   "metadata": {
    "id": "kfW0qGMxN-1e"
   },
   "source": [
    "##  Polinomio de Newton\n",
    "\n",
    "Supongamos que $P_{n}\\left(x\\right)$ es el $n-esimo$ polinomio de Lagrange que concuerda con la función $f$ en los números distintos $x_{0},x_{1},\\ldots,x_{n}$. \n",
    "\n",
    "\n",
    "Las **diferencias divididas** de $f$ respecto a $x_{0},x_{1},\\ldots,x_{n}$ se usan para expresar $P_{n}\\left(x\\right)$ en la forma \n",
    "\n",
    "$$P_{n}\\left(x\\right)=a_{0}+a_{1}\\left(x-x_{0}\\right)+a_{2}\\left(x-x_{0}\\right)\\left(x-x_{1}\\right)+\\cdots+a_{n}\\left(x-x_{0}\\right)\\cdots\\left(x-x_{n-1}\\right) \\tag{4}$$\n",
    "\n",
    "para las constantes apropiadas $a_{0},a_{1},\\ldots,a_{n}$. Para determinar la primera de las constantes $a_{0}$ note que si $P_{n}\\left(x\\right)$ esta escrito en la forma de la ecuación (4), entonces al evaluar en $x_{0}$ obtenemos \n",
    "\n",
    "$$P_{n}\\left(x_{0}\\right)=a_{0}=f\\left(x_{0}\\right)$$\n",
    "\n",
    "De manera similar , cuando $P_{n}\\left(x\\right)$ en $x=x_{1}$ \n",
    "\n",
    "$$P_{n}\\left(x_{1}\\right)=f\\left(x_{0}\\right)+a_{1}\\left(x_{1}-x_{0}\\right)=f\\left(x_{1}\\right);\\quad as\\acute{\\imath}\\,que \\quad a_{1}=\\frac{f\\left(x_{1}\\right)-f\\left(x_{0}\\right)}{x_{1}-x_{0}} $$\n",
    "\n",
    "La diferencia dividida cero de la función $f$ respecto a $x_{i}$ , que se denota como $f\\left[x_{i}\\right]$, es simplemente el valor de $f$ en $x_{i}$ , es decir, $f\\left[x_{i}\\right]=f\\left(x_{i}\\right)$.\n",
    "\n",
    "El resto de las diferencias divididas se definen en forma recursiva. La primera diferencia dividida de $f$ respecto a $x_{i}$ y $x_{i+1}$ se denota $f\\left[x_{i},x_{i+1}\\right]$ se define así.\n",
    "\n",
    "$$f\\left[x_{i},x_{i+1}\\right]=\\frac{f\\left[x_{i+1}\\right]-f\\left[x_{i}\\right]}{x_{i+1}-x_{i}}$$\n",
    "\n",
    "La segunda diferencia dividida, $f\\left[x_{i},x_{i+1},x_{i+2}\\right]$, se define como \n",
    "\n",
    "$$f\\left[x_{i},x_{i+1},x_{i+2}\\right]=\\frac{f\\left[x_{i+1},x_{i+2}\\right]-f\\left[x_{i},x_{i+1}\\right]}{x_{i+2}-x_{i}}$$\n",
    "\n",
    "La $k-esima$ diferencia dividida respecto a $x_{i},x_{i+1},\\ldots,x_{i+k}$ es \n",
    "\n",
    "$$f\\left[x_{i},x_{i+1},\\cdots,x_{i+k}\\right]=\\frac{f\\left[x_{i+1},x_{i+2},\\cdots x_{i+k}\\right]-f\\left[x_{i},x_{i+1},\\cdots,x_{i+k-1}\\right]}{x_{i+k}-x_{i}}$$\n",
    "\n",
    "El proceso termina con la única $n-\\acute{e}sima$ diferencia dividida, $$f\\left[x_{0},x_{1},\\cdots,x_{n}\\right]=\\frac{f\\left[x_{1},x_{2},\\cdots x_{n}\\right]-f\\left[x_{0},x_{1},\\cdots,x_{n-1}\\right]}{x_{n}-x_{0}}$$\n",
    "\n",
    "En su forma extendida podémos pensar en el polinomio de Newton así.\n",
    "\n",
    "$$P_{n}\\left(x\\right)=f\\left[x_{0}\\right]+f\\left[x_{0},x_{1}\\right]\\left(x-x_{0}\\right)+f\\left[x_{0},x_{1},x_{2}\\right]\\left(x-x_{0}\\right)+\\left(x-x_{1}\\right)+\\cdots+f\\left[x_{0},x_{1},\\ldots,x_{n}\\right]\\left(x-x_{0}\\right)+\\left(x-x_{1}\\right),\\ldots,\\left(x-x_{n-1}\\right)$$\n",
    "\n",
    "Por lo tanto, podemos reescribir $P_{n}\\left(x\\right)$ en su forma compacta como. \n",
    "\n",
    "$$P_{n}\\left(x\\right)=f\\left[x_{0}\\right]+\\sum_{k=1}^{n}f\\left[x_{0},x_{1},\\cdots x_{k}\\right]\\left(x-x_{0}\\right)\\left(x-x_{1}\\right)\\cdots\\left(x-x_{k-1}\\right)$$"
   ]
  },
  {
   "cell_type": "markdown",
   "metadata": {
    "id": "J0g4e-kZYQ9A"
   },
   "source": [
    "###  Ejemplo\n",
    "\n",
    "Sea el siguiente conjunto de datos\n",
    "\n",
    "| X | 1 |2|  4 |5| 7|\n",
    "| :-:  | :-: | :-: |  :-: | :-: | :-: |\n",
    "| Y  | 52 |5|-5|-40 |10|\n",
    "\n",
    "1. Determine el polinomio de Newton de cuarto orden que pasa por cada uno de los puntos. Calcule los coeficientes usando una tabla de diferencias divididas.\n",
    "\n",
    "2. Use el polinomio calculado en (1) para encontrar el valor interpolado en $x=3$."
   ]
  },
  {
   "cell_type": "markdown",
   "metadata": {
    "id": "NKWai2UoYaIY"
   },
   "source": [
    "###  Solución \n",
    "\n",
    "Creando la tabla de diferencias divididas, de acuerdo al algoritmo descrito previamente se tiene.\n",
    "\n",
    "| i        | $x$            | $f(x)$ | $D_0$| $D_1$| $D_2$| $D_3$\n",
    "| :-:           |    :-:        | :-:        | :-:        | :-:        | :-:        | :-:        | \n",
    "| $0$   | $1$ | ${\\color{red}{52}}$ | $\\frac{5-52}{x_{1}-x_{0}}={\\color{red}{-47}}$   | $\\frac{-5+47}{x_{2}-x_{0}}={\\color{red}{14}}$ | $\\frac{-10-14}{x_{3}-x_{0}}={\\color{red}{-6}}$  | $\\frac{6+6}{x_{4}-x_{0}}={\\color{red}{2}}$   | \n",
    "| $1$   | $2$ | $5$ | $\\frac{-5-5}{x_{2}-x_{1}}=-5$ |$\\frac{-35+5}{x_{3}-x_{1}}=-10$   | $\\frac{20+10}{x_{4}-x_{1}}=6$ |\n",
    "| $2$   | $4$ | $-5$ | $\\frac{-40+5}{x_{3}-x_{2}}=-35$ |$\\frac{25+35}{x_{4}-x_{2}}=20$   | \n",
    "| $3$   | $5$ | $-40$ | $\\frac{10+40}{x_{4}-x_{3}}=25$ |\n",
    "| $4$   | $7$ | $10$ |\n",
    "\n",
    "$$P_{4}\\left(x\\right)={\\color{blue}{\\color{red}{52}}}-{\\color{red}{47}}\\left(x-1\\right)+{\\color{blue}{\\color{red}{14}}}\\left(x-1\\right)\\left(x-2\\right)-{\\color{blue}{\\color{red}{6}}}\\left(x-1\\right)\\left(x-2\\right)\\left(x-4\\right)+{\\color{red}{2}}\\left(x-1\\right)\\left(x-2\\right)\\left(x-4\\right)\\left(x-5\\right).$$\n",
    "\n",
    "<center>\n",
    "<img src=\"https://github.com/jugernaut/Numerico2021/blob/master/Figuras/interpolacion/coefNew.PNG?raw=1\" width=\"500\">\n",
    "</center>\n",
    "\n",
    "<center>\n",
    "<img src=\"https://github.com/jugernaut/Numerico2021/blob/master/Figuras/interpolacion/Algnew.PNG?raw=1\" width=\"500\">\n",
    "</center>"
   ]
  },
  {
   "cell_type": "code",
   "execution_count": 3,
   "metadata": {
    "colab": {
     "base_uri": "https://localhost:8080/"
    },
    "id": "fB80YhR-N-1f",
    "outputId": "46e55380-d186-47b7-eb0b-22685c4a69a5"
   },
   "outputs": [
    {
     "name": "stdout",
     "output_type": "stream",
     "text": [
      "[ 52. -47.  14.  -6.   2.]\n",
      "Interpolacion en 3.0:  6.0\n",
      "52.0\n",
      "5.0\n",
      "-5.0\n",
      "-40.0\n",
      "10.0\n"
     ]
    }
   ],
   "source": [
    "import numpy as np\n",
    "\n",
    "''' Algoritmo que implementa el polinomio de Newton\n",
    "    x: conjunto de valores en el eje x\n",
    "    f: conjunto de valores en el eje y\n",
    "    F[0]: coeficientes del polinomio de Newton\n",
    "'''\n",
    "def diferenciasDiv(x,f):\n",
    "    #generamos la matriz de diferencias divididas\n",
    "    F = np.zeros((len(x),len(x)))\n",
    "    #la primer columna siempre son los valores de y\n",
    "    for i in range(len(x)):\n",
    "        F[i][0] = f[i]\n",
    "    #se calcula la columna j, tomado como base la columna previa\n",
    "    for j in range(1,len(x)):\n",
    "        for i in range(len(x)-j):\n",
    "            #se deja fija la columna y se desplaza sobre los renglones\n",
    "            F[i][j] = (F[i+1][j-1]-F[i][j-1])/(x[i+j]-x[i])\n",
    "    return F[0]    \n",
    "\n",
    "''' Funcion que vevuelve la evaluacion de un valor\n",
    "    x: conjunto de valores en el eje x\n",
    "    coef: coeficientes del polinomio de Newton\n",
    "    punto: valor en el cual se busca interpolar\n",
    "    resultado: valor de la interpolacion en el valor xi\n",
    "'''\n",
    "def interpoladorNewton(x, coef, punto):\n",
    "    # primer valor igual al termino independiente (revisar ejemplo)\n",
    "    resultado = coef[0]\n",
    "    # par de ciclos para evaluar el resto de los coeficientes\n",
    "    for i in range(1, len(coef)):\n",
    "        # siguiente coeficiente\n",
    "        evaluacion = coef[i]\n",
    "        # ciclo que evalua (x-xj)\n",
    "        for j in range(i):\n",
    "            evaluacion *= (punto-x[j])\n",
    "        # se suma el resultado a lo ya calculado\n",
    "        resultado += evaluacion\n",
    "    # se devuelve el resultado\n",
    "    return resultado\n",
    "\n",
    "# datos en la forma (x,y)\n",
    "# x = (1.0,4.0,7.0)\n",
    "# y = (52.0,-5.0,10.0)\n",
    "# datos extendidos\n",
    "x = (1.0,2.0,4.0,5.0,7.0)\n",
    "y = (52.0,5.0,-5.0,-40.0,10.0)\n",
    "# coeficientes (ai's) del polinomio de Newton\n",
    "coef = diferenciasDiv(x,y)\n",
    "# se muestran los coeficientes ai (diferencias divididas)\n",
    "print(coef)\n",
    "# resultado de la interpolacion en 3\n",
    "print('Interpolacion en 3.0: ',interpoladorNewton(x, coef, 3.0))\n",
    "# validacion de resultados\n",
    "# resultado esperado 52\n",
    "print(interpoladorNewton(x, coef, 1.0))\n",
    "# resultado esperado 5\n",
    "print(interpoladorNewton(x, coef, 2.0))\n",
    "# resultado esperado -5\n",
    "print(interpoladorNewton(x, coef, 4.0))\n",
    "# resultado esperado -40\n",
    "print(interpoladorNewton(x, coef, 5.0))\n",
    "# resultado esperado 10\n",
    "print(interpoladorNewton(x, coef, 7.0))"
   ]
  },
  {
   "cell_type": "markdown",
   "metadata": {
    "id": "cDDc5yqvLn1S"
   },
   "source": [
    "## Comparativa Lagrange v.s. Newton\n",
    "\n",
    "Sea $f(x) = -x^{3}+e^{x}-seno(3x)$, veamos como funcionan estos interpoladores en $ x = 0,2,4,5$"
   ]
  },
  {
   "cell_type": "code",
   "execution_count": 6,
   "metadata": {
    "colab": {
     "base_uri": "https://localhost:8080/",
     "height": 528
    },
    "id": "lbS9jPT0MwL3",
    "outputId": "34aa5d7c-9be9-429b-e66b-325498245a2f"
   },
   "outputs": [
    {
     "name": "stdout",
     "output_type": "stream",
     "text": [
      "Error cuadratico medio Lagrange: 9.86916309047777\n",
      "Error cuadratico medio Newton: 9.86916309047777\n"
     ]
    },
    {
     "data": {
      "image/png": "[encoded data removed]",
      "text/plain": [
       "<Figure size 1000x500 with 1 Axes>"
      ]
     },
     "metadata": {},
     "output_type": "display_data"
    }
   ],
   "source": [
    "'''\n",
    "Funcion que genera la grafica del interpolador\n",
    "de Lagrange\n",
    "f: funcion a interpolar f(x)\n",
    "x: valores a interpolar\n",
    "x_plot: valores para graficar\n",
    "'''\n",
    "def grafLagrange(f, x, x_plot):\n",
    "    # se generan los datos (x, f(x))\n",
    "    datos = [[i, f(i)] for i in x]\n",
    "    # evaluacion del interpolador de Lagrange\n",
    "    yl = interpoladorLagrange(datos, x_plot)\n",
    "    # se devuelven los valores de la interpolacion\n",
    "    return yl    \n",
    "\n",
    "'''\n",
    "Funcion que genera la grafica del interpolador\n",
    "de Newton\n",
    "f: funcion a interpolar f(x)\n",
    "x: valores a interpolar\n",
    "x_plot: valores para graficar\n",
    "''' \n",
    "def grafNewton(f, x, x_plot):\n",
    "    # se generan los datos para interpolar (x,f(x))\n",
    "    fx = [f(i) for i in x]\n",
    "    # coeficientes del polinomio interpolador de Newton\n",
    "    coef = diferenciasDiv(x, fx)\n",
    "    # evaluacion del interpolador de Lagrange\n",
    "    yn = interpoladorNewton(x, coef, x_plot)\n",
    "    # valores de la funcion real\n",
    "    return yn\n",
    "\n",
    "# funcion que grafica ambos interpoladores\n",
    "def grafInterpoladores():\n",
    "    # funcion a interpolar\n",
    "    funcion = lambda x: ((-x)**(3))+(np.e**(x))-np.sin((x)*3)\n",
    "    # dominio a graficar\n",
    "    x_plot = np.linspace(-1., 5., 100)\n",
    "    # imagen de la funcion\n",
    "    y_plot = funcion(x_plot)\n",
    "    # datos para interolar\n",
    "    x_inter = [0., 2., 4., 5.] \n",
    "    # puntos de interpolacion\n",
    "    y_inter = [funcion(i) for i in x_inter]\n",
    "    # valores del interpolador de Lagrange\n",
    "    lagrange = grafLagrange(funcion, x_inter, x_plot)\n",
    "    # valores del interpolador de Newton\n",
    "    newton = grafNewton(funcion, x_inter, x_plot)\n",
    "    # error del interpolador de Lagrange\n",
    "    eLagrange = vis.RMS(y_plot, lagrange)\n",
    "    # error del interpolador de Newton\n",
    "    eNewton = vis.RMS(y_plot, newton)\n",
    "    # parametros de la grafica\n",
    "    par = [{'title':'Interpoladores', \n",
    "            'xlabel':'$x$',\n",
    "            'ylabel':'$y$'}]\n",
    "    graf = vis.planoCartesiano(par=par)\n",
    "    # funcion a interpolar\n",
    "    graf.plot(x=x_plot, y=y_plot, par={'ls':'-', 'lw':1, 'color':'red', 'label':'Funcion'})\n",
    "    # interpolador Lagrange\n",
    "    graf.plot(x=x_plot, y=lagrange, par={'ls':'-', 'lw':1, 'color':'orange', 'label':'Lagrange'})\n",
    "    # interpolador Newton\n",
    "    graf.plot(x=x_plot, y=newton, par={'ls':'-', 'lw':1, 'color':'blue', 'label':'Newton'})\n",
    "    # puntos a interpolar\n",
    "    graf.scatter(x=x_inter, y=y_inter, par={'ls':'-', 'lw':1, 'color':'black'})\n",
    "    # leyendas de la grafica\n",
    "    graf.legend()\n",
    "    # errores\n",
    "    print('Error cuadratico medio Lagrange: '+str(eLagrange))\n",
    "    print('Error cuadratico medio Newton: '+str(eNewton))\n",
    "    # se muestra la grafica\n",
    "    graf.show()\n",
    "\n",
    "# se llama a la funcion principal\n",
    "grafInterpoladores()"
   ]
  },
  {
   "cell_type": "markdown",
   "metadata": {
    "id": "P876OYnlN-1f"
   },
   "source": [
    "##  Fenómeno de Runge\n",
    "\n",
    "En la mayor parte del tema de interpolación se asume que\n",
    "\n",
    "$$\\lim_{n\\rightarrow\\infty}\\left\\Vert f\\left(x\\right)-P_{n}\\left(x\\right)\\right\\Vert =0$$\n",
    "\n",
    "Es decir que si el grado del polinomio interpolador tiende a infinito, entonces el error entre la solución real y la aproximación será igual a cero.\n",
    "\n",
    "Sin embargo, esto no es siempre cierto, ya que la cota del error depende de que las derivadas de $f\\left(x\\right)$ no crezcan demasiado rápido.\n",
    "\n",
    "Este hecho se expresa en la existencia de funciones para las cuales, la sucesión $\\left\\{ P_{n}\\left(x\\right)\\right\\}$  diverge conforme $n$ crece. Carl David Runge, demostró en 1901 que para la función de Runge\n",
    "\n",
    "$$f\\left(x\\right)=\\frac{1}{1+x^{2}}$$\n",
    "\n",
    "La sucesión $\\left\\{ P_{n}\\left(x\\right)\\right\\}$ , de polinomios que la interpola con $n+1$ puntos distribuidos uniformemente en el intervalo $\\left[-5,5\\right]$, diverge conforme $n$ crece indefinidamente. \n",
    "\n",
    "Es debido a este fenómeno, que técnicas como los splines surgen para contraponerse a estas dificultades.\n",
    "\n",
    "<center>\n",
    "<img src=\"https://github.com/jugernaut/Numerico2021/blob/desarrollo/Figuras/interpolacion/Runge.png?raw=1\" width=\"650\">\n",
    "</center>\n",
    "\n",
    "Ilustración del fenómeno de Runge. La línea discontinua muestra la función de Runge, la continua el polinomio interpolador de Lagrange y los asteriscos la función en los nodos de interpolación.\n",
    "\n",
    "Las figura superior izquierda y derecha utilizan 11 y 22 nodos\n",
    "de interpolación en el intervalo $[−5, 5]$, respectivamente, y las figuras inferior izquierda y derecha, 11 y 41 nodos en $[−1, 1]$, respectivamente.\n"
   ]
  },
  {
   "cell_type": "markdown",
   "metadata": {
    "id": "UPf8PGikN-1f"
   },
   "source": [
    "#  Referencias\n",
    "\n",
    "*   http://www.ugr.es/~mibanez/ejemplos/interpolacion.pdf\n",
    "*   http://www.lcc.uma.es/~villa/tn/tema06.pdf\n",
    "*   Riswan Butt, Numerical Analysys Using Matlab, Jones and Bartlett.\n",
    "*   Ward Cheney, David Kincaid, Métodos Numéricos y Computación, Cenage Learning.\n",
    "*   Richard L. Burden, J. Douglas Faires, Análisis Numérico, Math Learning.\n",
    "*   Yuri N. Skiba, Introducción a los Métodos Numéricos.\n",
    "*   https://www.unioviedo.es/compnum/labs/PYTHON/Interpolation.html"
   ]
  }
 ],
 "metadata": {
  "colab": {
   "include_colab_link": true,
   "name": "01_Interpolacion.ipynb",
   "provenance": [],
   "toc_visible": true
  },
  "kernelspec": {
   "display_name": "Python 3.7 (tensorflow)",
   "language": "python",
   "name": "tensorflow"
  },
  "language_info": {
   "codemirror_mode": {
    "name": "ipython",
    "version": 3
   },
   "file_extension": ".py",
   "mimetype": "text/x-python",
   "name": "python",
   "nbconvert_exporter": "python",
   "pygments_lexer": "ipython3",
   "version": "3.7.7"
  },
  "widgets": {
   "application/vnd.jupyter.widget-state+json": {
    "1c9e66eeffad4f4db8e4b95997ba21e8": {
     "model_module": "@jupyter-widgets/output",
     "model_module_version": "1.0.0",
     "model_name": "OutputModel",
     "state": {
      "_dom_classes": [],
      "_model_module": "@jupyter-widgets/output",
      "_model_module_version": "1.0.0",
      "_model_name": "OutputModel",
      "_view_count": null,
      "_view_module": "@jupyter-widgets/output",
      "_view_module_version": "1.0.0",
      "_view_name": "OutputView",
      "layout": "IPY_MODEL_6911c4c98de947829b2e1f5ef03e5072",
      "msg_id": "",
      "outputs": [
       {
        "image/png": "iVBORw0KGgoAAAANSUhEUgAAAsAAAAFZCAYAAACWrpn5AAAABHNCSVQICAgIfAhkiAAAAAlwSFlzAAALEgAACxIB0t1+/AAAADh0RVh0U29mdHdhcmUAbWF0cGxvdGxpYiB2ZXJzaW9uMy4yLjIsIGh0dHA6Ly9tYXRwbG90bGliLm9yZy+WH4yJAAAgAElEQVR4nOzdd3xTdffA8U9G0z0oXcwWSimj7CWyNwiKIKgIgvoT4QEEWYITWaKCLBkqPGwEEdk4EERBNsieZZVNoaW7zf79wUNpuilt0zTn/XrxR2/uTU5uQnJy7vd7voqYmBgzQgghhBBC2AmltQMQQgghhBCiMEkCLIQQQggh7IokwEIIIYQQwq5IAiyEEEIIIeyKJMBCCCGEEMKuSAIshBBCCCHsiiTAQgghhBDCrkgCLIQd8fLyyvHf7t27rR1mkbRx40ZGjx5Np06dKFeuHF5eXrz11ltPdZ+XL19m6NCh1KxZE39/fypWrEjbtm355ptvMuw7btw4XnjhBapXr05AQABBQUE0a9aML774gujo6Az76/V65s+fz6BBg2jatCm+vr54eXmxaNGiLOPp3Llzju+PIUOGZPucUlJSaNy4MV5eXlSuXDnL/ZKTk5kyZQr169fH39+fSpUq8cYbb3D+/Pls7/+R8PBwSpcuneXrsHLlyhyfi7e3t8Uxly5dYtasWXTt2pWwsDB8fX0JDg7mpZde4pdffsk2nt9//50uXbpQvnx5ypQpQ5s2bfjhhx+yPSY2NpbJkyfz7LPPUqZMGcqVK0fjxo1577330Ov1qftFRETk6v/u3r17U4+Jjo5m2bJlvP7669SrV49SpUpRrlw52rRpw/z58y3uXwh7pJCFMISwH15eXgCMGTMmy31ee+01AgMDCyskm9G0aVNOnTqFm5sbpUuX5sKFC3Tv3j3bhDI7mzZton///jg4ONChQwcCAwOJi4sjPDyclJQUfv/9d4v9fX19qVWrFqGhofj6+pKYmMjhw4c5evQopUqV4vfff6d8+fKp+8fExBAUFASAn58fGo2GGzduMH369CwT95UrV3Lt2rVMb/v+++958OABS5cupWvXrlk+r7Fjx7JixQoSEhLw8/PjwoULGfbRarW8+OKL7Nu3jzp16tC8eXNu3rzJhg0b0Gg0bNq0ifr162f5GAaDgXbt2hEeHk5CQkKmr8OJEyfYunVrpsfv27ePXbt20aFDB3788cfU7W+99Rbr1q0jJCSEZ555Bh8fHyIiItiyZQs6nY53332XiRMnZri/BQsWMHr0aLy9venevTsODg5s2rSJmzdvMmTIECZNmpThmEfvn1u3btGyZUtq1KiBXq/n2rVr7N69m9OnT+Pm5gY8fC3nz5+f6XO5efMmK1aswNvbm7Nnz+Lo6AjAokWLGDFiBL6+vjRr1ozAwECioqL49ddfuXfvHo0bN2bDhg2p+wthbyQBFsKOPEqAY2JirByJ7dm1axdlypShYsWK/PPPPzz//PN5ToDPnDlDq1atCA0N5aeffsLf39/idr1ej4ODg8W2lJQUnJycMtzXxIkT+frrr+nXrx+zZs1K3a7T6fj777+pUaMGAQEBTJkyhS+//DLbBDgr4eHhNGjQAD8/P06fPp0htkf++usvunXrxvTp0xk+fHiWCfD06dOZMGECXbt2ZfHixSiVDy9Gbt26ld69e1OlShX27t2buj29SZMmMXv2bCZOnMiYMWOe+HVo164dhw4d4ocffuC5555L3b5ixQqqV69OnTp1LPY/c+YMHTt2JC4ujr/++ovatWun3hYREUHDhg1xcXHhr7/+Sv3xGBMTQ6tWrbhy5Qrbtm2jYcOGqcckJSXRrFkz7t+/z9q1a2nQoIHF4xkMBlQqFQqFIsfnMn78eGbMmMGgQYP4/PPPU7f//fffJCQk0LFjR1QqVer2uLg4OnfuzMmTJ5k0aVKOFX0hiisZAiGEyNKjy8hTpkzh0KFD9OjRg8DAQLy8vIiJicnxdoD4+HgmTZpEgwYN8Pf3p3z58jz//POZVuceXert3Lkzt2/fZvDgwYSGhuLt7c2WLVsK++lbaN68OcHBwblKSnIyYcIEdDodCxYsyJD8ApkmmJklvwAvvvgi8PDyfVoajYZ27doREBDw1PEuWbIEgN69e2eZ/MbExDBo0CBat27Nm2++meV9mc3m1GR1/PjxFklu586dady4MefOneOff/7J9PiDBw8yY8YMxo4dS7Vq1Z74uZw+fZpDhw5RunRpOnToYHFbnz59MiS/ANWqVaNbt24AGYYIrVixAq1WS//+/S2unHh5eTFixAiADMn5okWLuHTpEuPGjcuQ/AKo1epcvc/0en3qMIs33njD4rYWLVrQuXNni+QXwMPDg6FDh2b6XISwJ2prByCEKPoOHjzI9OnTadKkCX379uXu3bsWX6xZ3R4bG0unTp04c+YMNWvWZODAgcTGxrJhwwZ69+7NBx98kOlwjAcPHtCuXTs8PDzo2rUrZrOZEiVKFOZTLjBxcXFs27aNsLAwQkNDOXz4MPv378dkMlG5cmVat26NRqPJ9f399ttvAISFhRVIvFqtltWrV6NQKOjXr1+W+40YMYLExMRMxy+ndeXKFW7cuEGlSpVSh2ik1a5du9QhCs2bN7e4LSEhgQEDBlC3bl2GDRtmMeY1tx4l83369MmQHGbnUeKvVlt+bT5KItu2bZvhmHbt2lns88jatWtRKBR0796dq1evsmPHDmJjYylbtixt27bNMDY5K7/88gt3797l2WefzXa8dW6fixD2RN79QtihKVOmZHnbBx98kGHbzp07mTlzZoYqU063jxgxgjNnztC7d2/mzJmTWtUaPXo0rVu35osvvqBdu3bUrVvX4rgzZ87wyiuvMHfu3Fx/SWc3TjIrTZs2pVmzZk90zNM6duwYJpOJcuXK0bdvXzZt2mRxe9myZVm2bFmGc/LIN998Q0JCAnFxcRw7dox9+/YRFhbGqFGjCiTezZs3ExUVRatWrTJNWAHWrFnDunXr+PbbbyldunS29xceHg5AcHBwprc/2p6+og3w4YcfcufOHX766acnSl4fSU5OZs2aNahUKvr27Zvr42JjY9m0aRNKpZLWrVtb3Pbo+VSqVCnDcQEBAbi6unLz5k2SkpJwcXFBr9dz6tQpfHx8WLp0KRMmTMBoNKYe4+rqyhdffMHrr7+eY1xLly4FyLbinpnly5cDmSftQtgLSYCFsENffvlllrdllgDXqFEjy+Q3q9v1ej2rV6/GxcWFCRMmWFzSLVOmDCNGjGDMmDGZJnsajYZJkyY9UYUqNjY22+eVlcJOgO/fvw887Brg4eHBwoULadu2LXFxcSxcuJDZs2fTs2dPDh48SMmSJTMc/8033xAZGZn6d7t27Zg7dy4+Pj4FEu+jimlWr//169cZNWoUXbp04dVXX83x/uLi4gDw9PTM9HYPDw/g4euZ1i+//MKyZcuYMmVKpslmbqxfv57Y2Fg6dOhA2bJlc3WMyWRi8ODBREZG0r9/f0JDQy1uf/R8HsWdnoeHB4mJicTFxeHi4sKDBw8wGAxER0czYcIE3n//ffr06YOzszNbtmzhww8/ZOjQoZQvX54WLVpkGVdERAQ7d+7E29ubF154IZdnAObNm8eOHTuoWbMmffr0yfVxQhQ3kgALYYeedBJcvXr1nvj2CxcukJSURP369TNN5Fq2bAnA8ePHM9xWvnx5fH19nyjGwMBAm5jcZzKZADAajUybNo2XXnoJeDhmdMKECVy5coXNmzezdOnS1DGkaT2aVHbv3j0OHDjAhAkTaNasGatWrcqyapxXly5d4p9//sHPz89istgjZrOZQYMGodFomDFjRr4+dlr37t1j6NChNG3alIEDB+b5fh5VTLP7MZeW2Wxm5MiRbNmyhaZNmzJ58uQ8P/YjaV//N99802IIUN++fUlOTmbMmDHMmjUr2wR42bJlmM1mevXqletODmvWrOHjjz+mVKlSLF++PMvx3ELYA5kEJ4TIkZ+f3xPf/qgyltWxjyZ/pa/05ebxbNmjyqdCocg0qezSpQsAR44cyfZ+fH196dKlCz///DMxMTEMGDAg32PNafLb999/z+7du/n6669z/YMlqwrvI5lViEeMGIFWq2Xu3Ll5noR49uxZDhw4QJkyZWjfvn2O+5vNZoYPH87ixYtp0aIFa9asyXRs9qPn8yju9NJXiNNWih+91mnl5vU3GAysXLkSyH0yv2rVKgYOHEjp0qXZunWrtDoUdk8qwEKIHOWUdGR2+6Mv+rSX69O6e/euxX5P8niZsZUxwCEhIcDDrg7Ozs4Zbn/Uqi4lJSVX91euXDkqV67MyZMnuXv3bqZdJfJCp9OxatWqbCe/HTt2DCDL2yMjI1Ofz9WrV/Hy8kp9/pmN8U27Pe0Y4WPHjhEfH0+tWrUyPWbdunWsW7eOsLCwLLtHPMnkN6PRyODBg1m9ejVt27ZlxYoVWXbhCAkJISoqiosXL1q0OgO4c+cOiYmJlClTBhcXFwBcXFwoW7YsN27cyHQYSG5e/19//ZU7d+7QpEmT1POZnSVLljB8+HDKly/Ppk2bJPkVAkmAhRAFpHLlyri4uHDmzBmioqIyDIP4+++/ASx6qj4NWxkDHBQURFBQEFevXuXKlStUqFDB4vazZ88CPFGScufOHSB/Z/Vv2bKF+/fvZzv5rUmTJlk+5vLly3F2dqZHjx4AqZfpK1SoQNmyZbl48SJXr17NcN9//PEHgEUHiJdeeomoqKgMj3H37l22bduWuipeVuN6U1JS+PHHH1GpVDlOLtPr9bzzzjusX7+e5557jiVLlmTblaNZs2bs37+f7du3Z0iAHz2X9O+xFi1asHLlSs6cOZNhwY/cvP5PMpRj/vz5fPDBBwQHB7Np0ybKlCmT4zFC2ANJgIUQBcLBwYFXXnmFxYsXM378eGbNmpVa2b19+zYzZsxAoVDk20ScojgG+NF43QoVKlgMIejfvz8fffQR48aNY9GiRalJ5M2bN5k3bx4A3bt3T93/4sWL+Pr6ZqgYmkwmJk+ezL1796hXr16mY63zKqfJb/CwmprV67d8+XLc3d0ztEVTKBS89dZbTJgwgXHjxmVYCGPfvn1UqVKFpk2bph7z2WefZfoYu3fvZtu2bdStWzfb9msbNmwgJiYmx8lvWq2Wfv368dtvv9GtWzcWLFiQ44+K3r17M3v2bBYsWEDv3r0tFsKYPn06QIaFR/r378+qVauYOXMmzz33XOoExpSUlNSV5h6NDU/v2rVr/Pnnn7ma/PZowZEqVaqwcePGfLs6IERxIAmwEHYouzZobdu2zbQ5f16MGzeOffv2sWzZMk6cOEHLli1T+wA/ePCA999/P9slb4uSLVu2pC7e8WhYx+HDh/nPf/6Tuk/6IRiPKoLHjx+3qOgNGDCAHTt2sGnTJpo1a0bz5s1JSEhg69atxMTEMHjwYIsEcNu2bUyYMIFnnnmGwMBAvL29iYyMZM+ePVy9ehVfX99ME8AZM2akJuEnT54EHo4FPXToEPCwSj98+PAMx12+fJndu3dnOfntaQ0ePJht27axceNG2rRpQ4sWLbhx4wYbNmzAxcWFOXPmZLkKXF7ktmI6fPhwfvvtNzw8PAgODmbq1KkZ9qlRo4bF2N2goCAmTpzI+++/T6tWrTJdCjl9Zbh27dqMGTOGKVOm0LhxYzp16oSjoyN//vknly5dolGjRgwbNizTGJctW4bJZMpx8tsPP/yQ2n2lWbNmma6U5+npyaBBg7I9J0IUV5IAC2GHshsq4OnpmW8JsJeXF7///juzZs1i06ZNzJs3D0dHR2rWrMmAAQOeqH2TtZ08eZJVq1ZZbLt27RrXrl1L/Tu3Y5DVajWrV6/m22+/ZfXq1SxduhS1Wk1YWBhvv/126rCBR1q2bMmVK1fYt28fJ06cIDY2FldXV4KDg3n55ZcZOHBgposnbN++nT179lhsO3ToUGoC3KRJk0wT4KVLl2I2m7Nd+e1pODo6sn79embMmMHPP//MvHnzcHd3p3PnznzwwQdUqVIl3x7r/Pnz7Nu3L1eT3yIiIoCHE9emTZuW6T69evXKMHntnXfeITAwkFmzZrF69WpMJhOhoaF89NFHvPbaa5nez5gxY6hatSrz589n/fr16HQ6KlSowMcff8y7776baXJrNBpzPfnt0XMxm80sWLAg033KlSsnCbCwW4qYmBiztYMQQgghhBCisEgbNCGEEEIIYVckARZCCCGEEHZFEmAhhBBCCGFXJAEWQgghhBB2RRJgIYQQQghhVyQBFkIIIYQQdkUSYCGEEEIIYVckAS4CwsPDrR1CkSXnJntyfrIm5yZ7cn6yJucme3J+sibnJntF6fxIAiyEEEIIIeyKJMBCCCGEEMKuSAIshBBCCCHsiiTAQgghhBDCrkgCLIQQQggh7IokwEIIIYQQwq5IAiyEEEIIIeyKJMBCCCGEEMKuSAIshBBCCCHsiiTAQgghhBDCrkgCLIQQQggh7IokwEIIIYQQwq5IAiyEEEIIIeyKJMBCCCGEEMKuSAIshBBCCCHsiiTAQgghhBDCrqitHYAQQtgVvQ7lnRsob0WguHMdZUwUivgYiI9FYTCA2QiA2ckFnF0xu3li8g3A7FsaU0BZTGUqgFo+uoUQ4mnIp6gQQhQkbQqqs/+iOnsMVfgplNcvY/IJwFy6PKaAcpjKBGF298Ls5oHZwQGUKgAUyUmQnIgiPgbl/Tuorux8mDTfv4upXAWMITUwhtXHGFoLNI5WfpJCCGFbJAEWQoj8lpKE+vAu1If+RnXuOMagyhjD6qN9+R1MFULB0Tnv952chDIiHNX542g2LUd5bRzGKrUxPNMWQ91nn+6+hRDCTkgCLIQQ+UR56QwOf25E/e8ejJVrYHimDSnvfAiu7vn3IM4umKrUwlSlFvqufSEpAfXRvaj3bsNx2XQM9Zqjb9sNU1Dl/HtMIYQoZiQBFkKIp2EyojqyG81vP6GIjUbfuitJLw/A7OldOI/v4oahSXsMTdqjiHuAetcvOM3+BLNXSXSde2Gs0wSUMt9ZCCHSkgRYCCHywmR6mPiuWwzOLuieexVj3SapY3itwexRAn2X3uifexXVv3vQbFwO6xaj69oXY/3mkggLIcT/SAIshBBPSHnuGI4/zANA9+p/MNZsCAqFlaNKQ6nCWL85yfWaoTq+/2GS/uuPaF8bjCkkzNrRCSGE1UkCLIQQuaSIjkSz+ltUF0+je2UghoYti1bim55CgbF2Y5JrNkK9bztO88ZjDAlD12uwtSMTQgirkuthQgiRE5MJh+3rcfnkbcwBZUmashRDo1ZFO/lNS6nE0KQ9SV8sx+xXBpdP/o+SR/4Gk8nakQkhhFVIBVgIIbKhuHsDp0VTwWAg6aNvMJcOtHZIeefohK7H2xgatabk/Ik4XT5JSv+xmH1LWTsyIYQoVFIBFkKIzJjNqHf/isvEwRjqNCX5o9m2nfymYSpXkQv9xmKo3Rjn8f9BvfcPa4ckhBCFSirAQgiRXnISjkuno4y4SPLYGZjKVrR2RPlPqUT/3KsYq9fD6dtJqE4eRPvGCFlIQwhhF6QCLIQQaShuReDy2QDQOJL82bfFM/lNwxQYQtJn34FSifOEQSjuXLd2SEIIUeAkARZCiP9R/bsHl8+HouvcC+1bo8HRydohFQ5HJ7Rvj0Xfthsuk4ag+nePtSMSQogCJUMghBDCbMZh8woc/txI8vApmIKrWTuiwqdQYGj1AqbylXCa/Sn6yJvoO/S0nU4XQgjxBGyuArxnzx5effVVqlatipeXFytXrszxmNOnT/Pcc88REBBA1apV+fLLLzGbzYUQrRCiyDMYcFw8DfXhXSSP+9Y+k980TMHVSP50Lurdv+G4dDoYDNYOSQgh8p3NJcCJiYlUq1aNL774AmfnnCdrxMXF0a1bN/z8/Pjzzz/54osv+Oabb5gzZ04hRCuEKNKSk3Ca+SGKB/dJ/nAW5hI+1o6oSDCX9Cf5429Q3L+L0+yPQZti7ZCEECJf2dwQiPbt29O+fXsABg0alOP+P/30E8nJycyfPx9nZ2eqVavGhQsXmDdvHkOGDEFh5ct791OMrLihppI5kRKOSoI91FT2VKNSymVHIQpUQhzO097HVK7iw+4HKpv7OMy16BQjV+ONXIk3cCfZhNls5v59NaX0CZR1VRHkribIXYWrQ5qaiLMrKe99juN/v8R52miS3/scXN2t9ySEEDYl2WDm9AM9NxKMxOhM6IxmWjlYO6rHiu8n/v8cPHiQxo0bW1SL27Rpw+TJk4mIiCAoKMh6wQFX443MuqqBqzGp21zUCmp6O9CytCMvVnCmilcRescIUQwoYqJwmjoKY42G6F4ZWOzGuSbqTey4qeXv21r+upXCpThjJntp4Eps6l9KBdQp+fBzp1UZJ57116BUq9H2/wDNqrk4T3mPlNFTMXt6F94TEULYDKPJzN67OjZFJLP3jpZzMQaMaUabOqlgd2PrxZdesU+AIyMjKV26tMU2X1/f1NusnQDHaDMuRZpkMLM/Usf+SB1fHIsn1FNNn8ouvBHqiruDzY1aEaJIUURF4vzlCPRN2qN/4fVilfyejNaz9Hwiay4lEad/snkOJjMcua/nyH09X59IoJybir4hLvSp7Eqp14ag2bAE5ynvkTx2BmavkgX0DIQQtuZagoFvzySw9nIykclZL6+eYoRMUh6rKfYJcF6Fh4cXyuOcu6cCHLPd53ysgU8OxfHlv7H0KGXgtTJ6SthRUbiwXgtbJecna+nPjUPcA0KWT+V23RZEVmsMFy9aKbL8dSZeybwIBw7EqPLtPq8nGJl8NJ4vjsXR1d/A/4U0o8aDGLwnDCa8z0gM7l759lhFkfy/yp6cn6zZy7m5lKhg6Q0Htt1TYSR3hYR4Q+Gen5CQkCxvK/YJsJ+fH/fu3bPY9uhvPz+/LI/L7qTlp4QSOl6NvwXOHkQmmzgRred+SuY/kRKMCpbccGB9pIaP6njwVhVX1MV8rHB4eHihvRa2SM5P1tKfG0VMFM4LJ6Bv1w3Pzq/hacXY8svVeAOfHoplU0T2k9TUCgjxVBPorqacqwoHFcQ8iMHBzZNrCUYuxxmISMhsmAQYzQrW3XHgl3sOvFPjLcaX8Kb6mtkkj51ZbCvB8v8qe3J+smYP5yZGa+Lzo3EsPJeIKYcLTYFuKqqVcMDHSYmXoxK1IqnInJ9inwA3bNiQzz77jJSUFJycHja137lzJ6VKlSIwMNDK0UEdHw0jK+oJCXk4rs5sNnMj0cjOW1o2Xk3mr1taizE0ALE6M+8fiGXJhURmNylBfV+NFSIXwobExeD05Uj0z7ZD3/k1a0fz1IwmM9+fTWTiv3EkGTL/BvJ1UvJSRWdal3bi2QANbumGT4WH3yMkpETq33eTjPx9W8sfN1LYHJFMSrp8OMUIs08lsM61A79V0xMy7X2SP5gpE+OEsBNms5nVl5L55FBsloU6DwcFHcs70TXQmWcDHCnhmP5zJ7IwQs0Vm0uAExISuHz5MgAmk4kbN25w4sQJSpQoQbly5Rg/fjxHjhxh06ZNAPTo0YMvv/ySQYMGMWrUKC5evMjMmTN5//33rd4BIjMKhYJybmr6VlbTt7Ir91OMLDibyIKziUSnGzxz5oGBDlvv8UEdD4bXcJPOEUJkJjkJ5+ljMNZtgr5rX2tH89SuxBkYuPsBByJ1md7eJEDDO1Xd6FTOCY0q958J/i4qXg524eVgF2K0JtZcSuLbMwlcjrfMhG8kGgkzd2SLZyytvx6D7v1p4OTyVM9JCFG0xWhNDN8bw/qryZneXtlTzbthbvSs6IKT2jZyEZubUXX06FGaN29O8+bNSU5OZsqUKTRv3pzPP/8cgDt37nDlypXU/T09PVm/fj23b9+mVatWjB49msGDBzNkyBBrPYUn4uOk4oM6Hpzs6c+E+h64pXtjGc0w6d84nv/tPjcTM7+EKYTd0utwmv0xpsDK6Hq8be1ontqv15JpsTky0+S3jo8D69uXZEtHH7oGOT9R8puel6OSd6q5caC7PzOf9aKUS7qvCoWCLiVfYbPeH9PXH4M+82RcCGH79t/V0nRjZKbJb6CbiqWtvNnfzY/XK7vaTPILoIiJiZEl0azsScYM3Uky8unhWNZcyvhGDHBWsqptSer4FJ8hEfYwnuppyPnJWvj584RtX43CZCRl8DhQ5t8EscJmNJmZcjSeaSfiM9zmoVEwuYEnfUJcnuiq1pO8d5IMJqYcjWfu6QSLMX9Ks4l1Z2ZRvZQ7viM+LTYdNeT/Vfbk/GStuJ2bFeGJDN8bgz7diAcnFYyo6c7QMPcnSnqL0vmxuQqwvQtwUfF9c29Wt/WmZLqxNXeSTTz3y302ZnGJQgh7UvrPn1HGRZMy4CObTn5TDGbe+Cs60+S3QzknDnTz5/XKrgU6pMtFrWRiA0+2dfYl1PPxyDmTQkmvKoO4e/U6x+fPkyXmhSgmTGYznx2OZcg/GZPfGt4O7HrBj/dre9hUxTc9SYBtVMdyzux50Y9WpS1bqCUbzfTbGc3c0wlWikwI61P/uRHP8BMkvzsRNNm3GSzKYrQmum+7z+Z0XR5UCpjc0JPVbbwp5VJ4yX19Xw07X/Dl5eDHCwslqxx5MWwkfid2sWXxGkySBAth03RGM2/99YCZJzPmEYOru7G9iy+Vi8ECXZIA27AAFxVr25VkaJhbhts+OhjLtOMZK0ZCFHeqEwfQbFjKpVfeBTcPa4eTZ3eTjDz36z323rUcX+vnrGRTRx8GV3ezykReF7WS75qVYOoznjxqLHFf40GXGu/Tau8PzF79N/qceiMJIYqkFIOZ13dGsyHdlWQnFSxuWYLJDT1xfIr5BUWJJMA2TqVUMKGBJ9808SL9lYhJ/8Yx6UicXJYUdkNxKwLH76eQMmQ8Ou+s+3wXdfeSjXT9/T5nHhgstod6qtnRxZcmAdataisUCvpXdePn9j64Ozz84LnkEkDvakPov2M6n20+jUGSYCFsSpLBRK8dUfx+3fKKk7+zkq2dfOlWoXh1e5EEuJh4vbIrP7cviUu6LHjaiXgmH5VKsLADifE4z/wI3SsDMFWuYe1o8iwq5UAMEmsAACAASURBVGHyey7GMvlt6Kvht86+lHMrOt0rm5dyZGsnH/ydH36V/F2iGp9V6MHA3z5n5J83MEoSLIRN0BrN9Noezc5bWovtwR4qtnfxpV4xXG9AEuBipEVpJ9a1L5lakXlk2vF45smYYFGcmYw4zZ+IoWYjDM06WTuaPIvRmnjx96gMld92ZRzZ0LFkhqbyRUHNkhp+7+xLoNvDscgLSrdhR4kwXtr6NcP2RMsVKCGKOIPJzNt/R/P3bcvkt6qXml86Fa0f3fmp6H2aiqfyjL8jGzv44KWxTII/PBjLqotJVopKiIKlWftfMOjRvfofa4eSZ1qjmT5/RnEyWm+xvXVpR5a3LomLuuh+XAe5q9nU0Yeyrg+T4JHBfXAzplDxj5VM+jfOytEJIbJiNpsZvjcmw0TbGt4ObOnkg38hTrItbEX3E1XkWV1fDT+398E13XCIIf884I8bKVkcJYRtUh3ZjXr/joe9ftW2Wakwmc0M/ucB/9yxnPDWopQjK9uUtIlWQ4HuarZ08qGMiwqjUkWvau/y1u2dnN75D4vPJVo7PCFEJib9G8fycMviWKinmg0dSlLSqfgmvyAJcLFVz1fDyjbeaNK8wkYzvPVXNGce6LM+UAgbooi8hePir0kZ9Cm4e1k7nDybcCSOtZctZ1038tPwQxtvnG0g+X3kUSXYx0nJXUcveld7l/+e+45vdl7gt+vSn1yIomTVxSS+PmE5PLKsq4p1HXyKffILkgAXay1LO7GwhTfKNN+f8Xozr26P4n6KLJssbJxOi9OccehfeB1TperWjibPVoYnZui3WclDzao23rg62N5HdLCnmh/blsRZpWCPVyhfBHblh1Oz+c+fkfLjW4giYv9dLcP2PLDY5uOkZEOHkpRxLf7JL0gCXOy9EOTM5AaeFtuuJRjpsyMarVEmpwjb5fjDHEx+ZdC3627tUPLs33s6RuyLsdjm66RkbfuSeNtwBaaer4b/tiyBUgHflOnADaeSfHxhFb13RBGjNeV8B0KIAhMRb6DPn9Ho0vxXdFTBqjYlqeRp+wtc5JYkwHZgYDVX3gy17N+3P1LHRwdjrRSREE9HdegvVKeOoP2/0WCFxSDyQ2SykT5/RqFNczHGSQU/ti1JkLttjmVO67nyznzZyBMUCvqH9ufFe4eofuUQ//d3tLRHE8JKUgxm+u6M5n6K5Q/RuU1L0MCv+LU6y44kwHZAoVDw1TNeNC9l2Tx/4blEfroknSGEbVFE3cVx6UxS/vMJOLtaO5w80ZseLll+K8nyS+ibJiWoW4z6bfav6ka/yi48cHCjT7UhfHd+Aecv3ZLOEEJYyZgDMRyPshyKNLqWOz0qFq9FLnJDEmA74aBUsLSVd2qvzkeG7Y3hrIzLE7bCZMTp28noO72MKbiqtaPJs8n/xrEv3RLHg6u70TO4+H0JffWMFw19NezzrMzssh1ZenY+s07ESUcaIQrZD+GJLL1gWfTqXN6JD+q4Wyki65IE2I6UcFSytJU3jmly4KT/XQ5J0Mu4PFH0OWxeiVmtRt/pVWuHkmc7bqZkmPTWopQj4+t7WCmiguWoUrC0tTcBzkqmln8eJSaGX/+FgbsecCtRJuMKURhOR+sZuc9y2GNFdxXzmpVAaaPDyJ6WJMB2praPhq8aWbaLCo818MEBGQ8sijbllXM4bF+Ptv8HoLTNj67bSUYG7LKceV3KRcl/W5ZArSy+X0KlXFQsbuWNQqnkjSr/YdT1LZSJukL/XTIeWIiClmx4uNJbcpqJ704qWNq6JJ4a2/wszQ/2+8ztWN/KLrxWyfJS6/LwJDZelT6doojSaXH67nN0vYdg9va1djR5YjKbGbDrgcXkE6UCFrbwxseGOz7kVmN/Rz6s40GEsy+jg3uz7Mw8Dt9MYOrxeGuHJkSxNu5wLGdjLJdX/7qxFzW87afjQ2YkAbZDCoWCqc94EuJpOdN82J4H3JRLkqII0vy0AGP5YAzPtLF2KHk2/0wiu25rLbaNre1OkwDHLI4ofobXdKNlaUdW+DflnGtpJl75ianH4zlyT5fzwUKIJ7btegrfn7VcifGVYGd6h9jmBOL8JAmwnXJ1ULKgeQnS9tmP0ZkZuCsak1kuSYqiQ3X2KOpDf6Ht+561Q8mzsw/0TDhiOcyoeSlHRta0r8knSoWC75qVwM9FxZCQN+kVuZeGMRcYsOsBSQaZhyBEfrqXbGTwP5ZDrgLdVEx9xnZXzcxPkgDbsdo+Gj6paznxZvcdHQvT/VoUwmq0yTj+9yu0b4wEN8+c9y+CdMaHQx/S9vv11Cj4tlkJVMV43G9W/F1UzGlSgvsaD4aG9GPhue+58SCJzw5LazQh8ovZbGbEvhjupRlypVLAghYl8LDjcb9pyVmwc0PC3GiRrj/wZ0fiuBJnyOIIIQqPZu1CjCE1MNZubO1Q8mzq8XhORFu2Gvy6sRel7WS50cy0L+fEG5VdWO/bkONu5Zlw5Se+P5vIX7ekNZoQ+WH9lWQ2R1j+fxpdy52GfvYz5ConkgDbOaVCwdymXng4PK5EJRnMDP7ngQyFEFalvHAS9cG/0PYeYu1Q8uxElI7pJywneXULcualCs5WiqjomNTQkyB3FUND3qBX5F6eiQ3n3T0x0pJRiKcUmWxk1H7LIVd1fRwYVcu+hlzlRBJgQVk3NZMaWl5e3ntXxwIZCiGsRafF6b9foX19GLjZZn9cg8nMkH9iSNN5iABnJV839kRhp30303JzUPJtsxJEaTwYUakP355fyJ04LROPyFAIIfLKbDYzcl8M0drHPyQ1yodLHRfnVot5IQmwAOD1EBfalLG8NDL+SBwR8TIUQhQ+zablmMpWwFi/ubVDybM5pxIyDH2Y8awX3nbQ8iy3nvF3ZFB1N37yfYYIJx/ev7aZ788mcuCuNueDhRAZbIpIyTD0YWwdD6qWsO+WZ5mRBFgAD1ujzXo241CI0ftjMMtQCFGIFLev4bBzE9o+Q60dSp5djNUz5ZhlJbN7BWc6lZehD+l9WMedQHc1Qyq/ybs3fiMk6RZD98SgNcrnjhBPIlZnYsz+GIttdX0cGBrmZqWIijZJgEWqsm5qJjSwHAqx7YaWDbJAhigsZjOOy2aie+F1zCV8rB1NnpjNZobtjbHo+lDCUcGXjWyzi0VBc3VQMruJF9edfJgU1I1vz/+XCzE6vj4hC2QI8SQmHInjTvLjoQ9qBcyRoQ9ZkgRYWOhb2YVn/DQW28YeiCVGKxNTRMFT79+BIiEOfdtu1g4lz1ZfSmbPHcuFHb5o5IWvswx9yEqL0k68HuLCvDLtcTLp6XtnNzNPxHMxVp/zwUIIDkZqWXTOct7OsBpuVJOhD1mSBFhYUCoUzGziZbFAxt1kE+PTNfEXIt8lxqNZPR9tv+GgUue8fxEUozXxySHL/yttyjjyckUZ+pCTiQ088XFR827IG0y6sgZnbSKj9sfKECwhcqA3mXlvTwxp/6dUdFcxqpZtTiAuLJIAiwyqeDnwXg3LdilLzidx9L4sVyoKjmbdIoy1GmOqVN3aoeTZhCNx3E/TeN5RBVOf8ZKuD7ng5ahkUgNPjnhUZHPJuoy7+jN/3dKy7ooMwRIiO9+dSeBMjOWE9RnPeuGsls+d7EgCLDI1sqY7wR6PL9magVH7YqQ3sCgQyivnHy53/PI71g4lz47c07H4vOUlyBE13anoYZvVbGvoWdGZ5qUc+aTCy7wauY8aCdf48GAssToZgiVEZu4kGfnymOV4+VeCnWlR2slKEdkOSYBFppzUigzrhR+5r2dFeJKVIhLFlsmI49Lp6Hq+Y7M9f03/672Z9udhsIcqw5UUkT2FQsG0ZzyJc3JnfNBLzApfyt0kI18dkwlxQmTm00OxxOsff/J4aBRMaiATbnNDEmCRpdZlnHg+0PJX5GeH43ggE+JEPlLv3AwOGgxNOlg7lDxbEZ7EsaiMyx07quQS5JOq7OXAsDB3FpRujZsxhVcj9/LdmQSZECdEOnvuaFlz2XKI0Ed1PGTCbS5JAiyyNbmhJ85pvsSjtSYm/ysrNYl8EheD4/rFDye+KW3z4yhGa2JCutXLXgxypqVcgsyzEbXcKO3mwLCQfnx5aRVO+mQ+OSSfO0I8YjSZeT9dz9/qJdT8XxVXK0Vke2zzG0cUmvJuakbUtGyivfh8IudjpBojnp7j+sXon2mLqWxFa4eSZ18dt5z45qxSMLGBbQ7lKCpc1Eo+q+/BPs/KbC8RxscR6/n1egp/3UrJ+WAh7MCK8CROP7Cc+Db1GS/p+fsEJAEWOXo3zJ0g98eXVIzmh+OOhHgayhtXUB/6C92L/awdSp6dj9Hz/ZmMvTfLucnEt6f1UgVnGvpq+CC4F/3u7KJK4k0+PBCLwSQTcYV9i9ebmHzU8orIyxWdeTbA0UoR2SZJgEWOnNQKxte3HFT/+w0tf0s1RjwFzY/fonu+j81OfAP45FAshjT5WDk3FcNk4lu+UCgUTGnkSaTGkzFezSi16B3OTO5D+15vERERYe3whLCaWScTiEyz4puTCj6tZ7ufo9YiCbDIlRcCnWjsb7lC3EeH4jBKNUbkgerkQZR3b6Bv86K1Q8mzv29p2XZDa7FtUgNP6b2Zj+r5aujsep9l65ex8/JVuHiIf39fz/NdX5QkWNilm4lG5p5KsNg2pLo7ZeWq0xOzyQR44cKF1KxZE39/f1q0aMHevXuz3Hf37t14eXll+HfhwoVCjNj2KRQZW6ucitaz6pK0RRNPyGhAs2oe2lcGgto2l+k0mc18ethyGFBjfw0vBMrEt3z36zcQdcNi07WrV5g0aZKVAhLCeiYeiSXZ+Ljw5OesZFi6eToid2wuAV63bh1jx45l5MiR7Nq1i4YNG9KzZ0+uX7+e7XH79+/n/Pnzqf+Cg4MLKeLio56vhh7plnSddCSOBL20RRO5p971K7h7Yqzb1Nqh5NnPl5M5nq7t2cQGnrLiWwGIvXcn0+1Xbtwu5EiEsK5j93WsvmTZ9uzDOh64O9hcKlck2NxZmzt3Lq+99hr9+vUjNDSUqVOn4u/vz6JFi7I9ztfXF39//9R/KpX0ycuLT+t54Jjm1N1JNvFNussxQmQpORHN+sVoew0GG00WUwxmJvybse1ZfV9NFkeIp1GqVKlMt99SexdyJEJYj9ls5qN0k8+reqnpE+JipYhsn00lwDqdjmPHjtG6dWuL7a1bt+bAgQPZHtuyZUtCQ0N54YUX2LVrV0GGWayVd1MzqJrl5ZZvTiVwO8lopYiELdFs+QFjjQaYgipbO5Q8W3AugesJj9/vDkoYJxNQCszHH39MhQoVLLZ5eXpzq/lgdt/WZnGUEMXLL9dS2HNHZ7FtUkNPaXv2FGwqAY6KisJoNOLr62ux3dfXl8jIyEyPCQgIYPr06Sxfvpzly5cTEhJC165dsx03LLI3vKY7Pk6P3zpJBjOTZHEMkQPF/Ts47NyM7qW3rR1Knj3Qmph23HJZ3rdCXangIRNQCkpgYCAbNmygR48euFdrhFutNmxrXAFfD3cmHInFbJaJuKJ405vMjDts+R3bpowjbcrInIOnoYiJibGZT4/bt29TtWpVtm7dSpMmTVK3f/nll/z0008cPnw4V/fTs2dPVCoVq1evznKf8PDwp463OFt7W82Xlx5f8lVgZnntFELdbObtJApZ4PoFaL39udPiBWuHkmczrziw8ubjiXuuKjMb6ifjZZtz+WzOiTgl/3fCia/Dl6M2GxlW+Q2mVdXSoqRcgRLF14+31Ey7/Pj7VomZlXVSqOQq37c5CQkJyfI2mypblCxZEpVKxb179yy237t3Dz8/v1zfT7169Vi3bl22+2R30vJbeHh4oT5efhgdbGbD/UjOxz5cicaMgqX3vPipjk++Po4tnpvCZCvnRxkRjtONiyQN/Qx3p8IZs5bf5+ZqvIGf9t612DaqticNqpXNt8coTLby3kkrBFj7IIrPdS9y+uAo5pTtwH9vl+PNhn6o8vFSsC2em8Ik5ydr+X1u4vUmlhy+CzyebP56ZVc61ZbPnadlU0MgNBoNtWvXZufOnRbbd+7cSaNGjXJ9PydPnsTf3z+/w7MraqWCCenaov1xU8u+uzImT2SkWbcIfZfeUEjJb0GY/G8cujQNT8q4qBhYTdoPFbZP6nkQrXFnernOTL78I2djDKy5nJzzgULYoG9PJ1gste6qVvBhHZlzkB9sKgEGGDx4MD/88APLli3j/PnzjBkzhjt37vDmm28CMGDAAAYMGJC6/7x589iyZQuXLl3i7NmzjB8/nq1bt9K/f39rPYVio31ZxwyLY0w4Eidj8oQF5cXTKK9fRt/qeWuHkmfH7uv4KV2S9VFdd1n0wgqqlXDglWBnZpftSP34yzSOvcDnR+PQGuVzRxQvD7Qmvjlt2WVpUHU3/F2ki1V+sKkhEADdu3cnOjqaqVOncvfuXapWrcqaNWsoX748ADduWDZM1+v1fPrpp9y6dQsnJ6fU/du3b2+N8IsVhULBJ3U9eO7X+6nb9t3V8ectrQzOF6k0axeie+F1cLDdNmGT003yDPN24JVg261m27oP6njw85VkxlXowZTLq2np8QmLzydKRV4UK7NPxhOne/zDzkujYEiYvMfzi80lwABvv/02b7+d+UzyrVu3Wvw9bNgwhg0bVhhh2aVnAxxpW8aR7TcfD32YeCSO1qUdZVEAger0EZTR9zA07WjtUPLswF0tf9y0HNrzWT2PfB1zKp5MoLuaN0NdWWhsypiITbR9cIppx2vRO8RFFgUQxcLdJCPfnkm02PZeDXc8NfL+zi9yJsVT+7iu5XikY1F6NkekWCkaUWSYzWh+Xoiu25ugtsnf2gBMPmrZ9qyxv4Y2ZRytFI14ZFQtd5wdVEwIeonPrq7lfrKR+adlUR5RPEw7EW+x5LG/s5L+VV2tGFHxIwmweGq1fTR0DbIc8jD53ziMJhmTZ89Ux/aBVouhUStrh5Jnf9/SsivdYgsf1fWQqxtFgJ+ziv9Ud2OtXyPcDCl0jD7ON6cSiEqRlmjCtkXEG1hy3rL6O6qWO65ydSNfydkU+eLDOh6kvSJ8PlZmZts1kwnNz/9F99JboLTNjxmz2cznRy3H/rYs7UjTAKn+FhXvhrnh6aRiQlB3xl39mXidieknpAosbNtXx+PRp+k4U85NRb/KUv3Nb7b5zSSKnFCvjJOCvjgah05mZtsl9cGd4KDBWKdJzjsXUdtvajkQabn06EfSfqhI8dQoGVHTnfW+DdCYDHSJOsrCcwncSpQqsLBNF2L0rLqYZLFtbG13NCq56pTfJAEW+WZMbXfSXqGJSDCyPDwx6wNE8WQ0oFm/BF2P/wMbHSpgNpszdH7oUM6JBn6228miuHq7ihulXR0YH/QS466uRWswM/NkfM4HClEEfX40nrSjByt7qqXjTAGRBFjkmyB3NW+ku0wz9Vg8SQZTFkeI4ki9Zxsmr5IYq9Wzdih5tvVaCsei9BbbPqzjbqVoRHac1QpG1nJnk089zCjoev8wSy8kShVY2JzjUTo2XE3fb9wDtXScKRCSAIt8NbKWO85pLtXcSTax+HxSNkeIYsVoQLNpObrub9ls9ddkNvN5uurvC4FO1Cop1d+iqk+IC2Xd1P+rAv+MzmBixgmpAgvbMiVdx5ma3g48Hyg99QuKJMAiXwW4qHgnXauW2SfjSTbIWGB7oN7/J+aSfphCa1o7lDxbfyWZMzGG1L8VPFx4QRRdGpWCkTXd2VqyDlqlA93vHWLphURuShVY2Ihj93X8dt2yfejHdT1Q2mghwRZIAizy3bs13HBNs0Ts3WQTi8/LWOBiz2REs3nFw1XfbJTBZM5QhelZ0ZmqJRysFJHIrd4hLpRzV/NZUA8+vfozBqNUgYXt+Oq45Xu1vq8D7cpKx5mCJAmwyHc+TirermJZBZ4lVeBiT3V4N2YXV5se+7vuSjIX4x5Xf1UKGFNbqr+2QKNSMKqmO7971yRO7ULPyP0su5DIjQRDzgcLYUXHo3T8cs2y+jumtvQbL2iSAIsC8W4NN1zSVYGXXpAqcLFlNqPZvPxh9ddGP7SNJjPT0lVhXq3kQrCn7a5iZ296VXpYBZ4U2I2x1zaiN0pfYFH0fXXM8nOnro8DbWW1yQInCbAoEJlVgWeeiCdFqsDFkur4PgCMtRpbOZK823g1mQuxltXfUTWl84Mt0agUjK71sAqsV6jpHHWM5eGJXJcqsCiiTkTp2Jqu+jtWqr+FQhJgUWDeDbOsAt+RKnDxZDY/7Pxgw9Vfk9nM1HTV35eDXajgIdVfW9Orkgvl3dV8Vf55xlzbhN5oZrqMBRZFVPrqbx0fGftbWCQBFgXG11nFW6HpqsAnpQpc3KjOHEGRnISxXnNrh5JnmyNSOJum84NSqr82y0GpYFQtd9b5NqSkPp7msedYEZ7ENakCiyLmVLSeLRnG/rpL9beQSAIsCtTQGm4WfYFvJ5lYJlXgYkWzaTm6Lr1BaZsfJyazma+OWfb97VHRWcb+2rBelVwo7+HAtHJdGBuxEb0Jph+XKrAoWtJ/7tQu6UCHstL3t7DY5jeWsBl+zireSj8W+GQ8WqNUgYsD5fkTKKLuYXimtbVDybNfrqVw+oFl31+p/tq2R1XgFQFNqZZ4g7rxV1h5MUn6Aosi43S0nk0RUv21JkmARYEbGuaGk+rx37eSTCyXKnCxoNm8HF2X10Blm9VSs9mcYQxe9wrOVPaSvr+27pVgF0p5ODGz3HO8f20TehN8c0qqwKJo+Oq4ZfW3VkkHOpaT6m9hkgRYFDh/l4xV4OknpAps65RXzqG8GYGhaQdrh5Jnv99I4US03mLbqFpS/S0OHJQKhtd0Z0Gp1jSPOUflpFssPZ/EvWSpAgvrOvtAz8arUv21NkmARaEYFuaeoQq8+mKS9QIST83hlx/Rd+wJatuslmZW/e0a5CSrvhUjvSq54OnhwvwybRl1bQvJRjPzTktfYGFd6VcorOntQCep/ha6HK9bHjly5KkeIDQ0FDc3t6e6D2H7/F1U9KvsyndnHw99mHkynt4hLqiV8qvX1iju3UZ95giJb422dih5tuOmln/vp6/+yqpvxYmjSsG7Ye58FduB8wdGMCHlJRaeUzCshjtejlL/EYXvaryBtVeSLbaNluqvVeSYALdt2/apXpj169fTokWLPB8vio+hNdxZdD4Rvenh31fijay/kkzPYBfrBiaemMPva9G36AzOtvnaZVb97VzeiRreUv0tbvqFuvD1CQ+WBjRn+PVfGBnyOt+dTZAlroVVzDoZjynN6L8qXmo6l5fqrzXkaubKG2+8Qf369Z/ojhMSEhg7dmyeghLFUxlXFb0qubDswuOhD9NPxPNSRWeU8uvXdiTE4bB3G0mTFlk7kjz7546Og/d0FttGy9jfYslFrWRwdTdmxD7HsUNj+TzwReafVjCouhvuDlIFFoXndpKRleGWQ/+G13SX7z8ryVUC3LhxY3r27PlEdxwdHc2YMWPyFJQovt6r4c6K8KTUX8BnYwz8ci2FLoHO1g1M5JrDzs0Y6jyL2dvX2qHkWfqVwdqXdaS2j8ZK0YiC9n9VXJl5siQbfOoz4NZ2Pg/qxuJziQytIT96ROGZcyoBnenx3+XdVLxUQb77rCXHn79Llizh2WeffeI7dnd3Z8mSJYSFheUpMFE8VfRQZ/gPP/1EPGazdISwCXodDtvXo+/4irUjybN/7+nYeUtrsW2k9P0t1jw0SgZUc2NW2U7859Z2NCY9c04nkCyrUopCEp1iZPF5y/af79VwlzkwVpRjAty1a1fKlCnzxHfs4OBA165dKVmyZJ4CE8XX8HTJxr/39fyVLiERRZN6/w5MZStgKlfR2qHkWfrqb5MADY38Ha0UjSgsA6u6ctWrPKdcy/JK5D4ik6UfuSg8355NJCnND64AZyWvVbLNORTFRa4GQGm1Wj799FM2btxY0PEIO1CthAPPpRv0P+2ENKgv8sxmHH79EX0n263+novRs+WaZf9Nqf7aB2+nh/3IZ5XtxLDrv4LZzOxTCeikH7koYPF6E9+dsWy/NzjMDSe1VH+tKVcJ8MKFC5kzZw4uLvJrReSP9EvN7rmjY/9dqQIXZaqTB0Gpwli9nrVDybP01d/aJR1oVVqqv/ZiSHU3/vKticZsoFXMGW4kGll9SfqRi4K1+FwisbrHP7S8NAreDHXN5ghRGHKVAK9bt47WrVvTrl27bPebPXs2HTt25MKFC/kSnCi+6vpqMiQe6ZMTUbSkVn9tdMby1XgDP1+27L85oqb037Qn/i4qXq/szuyynRh241cAZp6Ix2CSKrAoGMkGM3PSLb4ysJobbtKBxOpy9QqcP3+eNm3a5Ljf22+/TXh4OGvXrn3qwETxNyJdFXjbDS3Ho3RZ7C2sSRkRjvL2NQyNWlk7lDybfTKBtFe7K3uq6RIo/TftzdAabqwOaErDuEtUTrrF5XgjG64m53ygEHmwMjyRyOTHrR9c1QoGVJPFwYqCXCXAZrMZV9ecy/UuLi48//zz7Ny586kDE8Vf0wANjfwsW09JFbhocvhtDfr2PWx22eM7SUZWhFtOeJL+m/apnJuaF0O9WFC6Ne/e+B2Ar4/HY5JONCKf6U1mZp2yrP6+VcWVErIKYZGQq1ehVKlSuR7WUKNGDa5du/ZUQQn7oFAoMkxA2nQ1hfMx+iyOENagiI5EfXz/w5XfbNTc0xn7b/aoKP037dXwGu58V6Ytr0buxVsfn9qPXIj8tPZyMtcTjKl/O6pgcHWp/hYVuUqAW7VqxerVq0lMzLlljEKhICYm5qkDE/ahXVlHaqZZftYMzDyZkPUBotA5/LkJfeO24Gqb3RIeaE0sOmf52TWshhsO0n/TbgV7qnm2Smk2laxH/1t/AjDtuPQjF/nHZDYzI90VzT4hrgS4qKwUkUgvVwnwwIEDSUxMpF+/fqSkZP8r+dSpU/j5+eVLOyHX+wAAIABJREFUcKL4UygUjEy3BO2aS0lExBusFJGwoNOi/nsr+rbdrB1Jnn13JoHENP03/ZyV9K4kM7Dt3Yia7swq14lBN//AwWTgWJSeP6UfucgnmyNSuBD7+HtMpYB3w6T6W5TkKgEODg5m6tSp7Ny5k+bNm/Prr79iMpky7Hf48GFWrlxJq1a2O1FGFL4u5Z0I8Xy8KrfRDLNPSRW4KFAf+htT+UqYS5W3dih5Eq838W26/ptDqkv/TfGwH3m5aqGcdylNz8j9wMOxwEI8LbPZnGE+S4+KzgS5q7M4QlhDrl+NPn364O7uzvDhw+nduzd+fn60bduWoKAg9Ho9Z8+e5ddff8XV1ZWRI0cWZMyimFEpFQyv4cagfx4PnVkRnsjoWrZ5yb04cfhjHbqufa0dRp4tOZ9ITJr+m54aBW9WkeqveGhULXem/duRT6/+zA/+Tdh7V8e+u1p8rB2YsGl/3tJyPMpyLkv6FVCF9T3RVMSuXbty4MABhg0bhlKpZOXKlUyePJmvvvqKzZs3U7NmTbZs2UJgYGBBxSuKqZ7BLpR3ezw2SmuEOVIFtirlpTMoEmIx1mpk7VDyRGuCueneQwOqueEu/TfF/9Tx0ZBcoxEexmQax4UDZBi3KcSTSn8loUt5J6p42WYHneLsib8JfH19GTduHGfOnOHo0aNs3ryZDRs2cPz4cXbs2EFYWFhBxCmKOQelgmE1LMdHLT6fSKw0hLAahz/WoW/zIihtc9LG1rtq7qTrvzmwqlR/haXhtTz5rnRbBt7cDjzsR34+QYbIiLw5Fqtk713Lfvbp57mIoiHHBNhkMrF48WKGDh3K5MmT2b59e+ptQUFBNG3alBYtWlC+fOGNEVy4cCE1a9bE39+fFi1asHfv3mz3/+eff2jRogX+/v7UqlWLRYsWFVKk4kn0ruSKv/Pjt2Siwcya2zJmyhoUsdEPW58162TtUPLEYDKz9Ible+eNUFe8nWwzmRcFp2mAhpNhbXgu+ii+ulgAltyQap3Im8Xp3jutSztSx0eTxd7CmnJMgEePHs2qVauoUKECKSkpfPTRR3Tp0oW4uLjCiC+DdevWMXbsWEaOHMmuXbto2LAhPXv25Pr165nuf/XqVV5++WUaNmzIrl27GDFiBO+//z4bN24s5MhFTpzUCoak65G4+pYD8fqMEy5FwVL/tQVDg5bg5mHtUPJk3ZVkbmkff7xplNJ/U2ROoVDQv0Ep1vs04K3bfwGw476Ki3L5STyh41E69j6w/JE9Qqq/RVaOCfCGDRtYt24dw4cPZ+LEiezfv5+qVavy4YcfFkZ8GcydO5fXXnuNfv36ERoaytSpU/H398+yqrt48WICAgKYOnUqoaGh9OvXj169ejFnzpxCjlzkxhtVXPHSPL78GGdQsOR8zv2nRT4yGB72/m3X3dqR5Elm/Tdfq+RCaVep/orMdSjrxO9VO/LOrR0ozSbMKKQfuXhiM05Yvmca+Wlo4i/V36IqxwTYyckJg+FxLzuFQsHHH3/ML7/8UqCBZUan03Hs2DFat25tsb1169YcOHAg02MOHjyYYf82bdpw9OhR9Hr5hV/UuDsoeSfdOulzTyWgNUqD+sKiPrILc0AZTOUqWjuUPPn1WgpnYx5/ZikVMKyGVGFE1hQKBZ2b1+KOxovOUf8CsPpiEtcTpB+5yJ3wWD0bryZbbBtR0x2FLLdeZOWYAPft25cBAwZYrO6WkJCAWl34YzOjoqIwGo34+vpabPf19SUyMjLTYyIjIzPd32AwEBUVVWCxirwbWNUV1zR9Wu8km1h1McmKEdkXh+3r0dnowheZ9d98qYIzFTxkLLnIXtcgZ9YGd+A//5sMZzBLJxqRezNOJJC2TFO9hJr2ZR2tFo/IWY7fCqNHj+bTTz+lVq1a1K1bF09PT/bv38+QIUMKIz6rCQ8PL9aPV9R19XPgh1uPJxNM/TeaRopbyPoFGeXne8f5zjUq3r7BOY8AsMH35MEYJUfuO1ls6+4ZTXi4/NjNjHzuWPKsXYvap1cQknSbcJdSLDmfQPf/Z+/Ow6Iq2z+Af2cf9mFHEEQUUUBARcEF9yUztX5uZa+vWlbilmmltmiWpaamvZZlpfZaLpmaS+XrFq4goCYoKKKgiIqgMCwzzDDL+f1BDhx2dFbm/lyX1xVnzpm5z+nMOc/c53nux6EALvQUuxY6d6rcV3Dwy00xgKob1EQPGW7cuGG6oMyYMc+dwMDAel9rtAHM5XKxbNkyzJ49GwkJCSgsLMSbb76JLl266DXIpnB1dQWPx0NBQQFreUFBQb3TL3t4eNS5Pp/Ph6ura72f1dBB07fMzEyjfp4l+MBbg92781Dxz/i3uwourvB8MK6drWkDMzP6PndEp36DdtgYBAZ11Nt7GtP8/z0EUDWd7XBfMYZH+JguIDNG153aZgQw2HmqP964dxxvt/8XlFoOjig88GGIk6lDMyt07rB9d04KDVM1VqWdIw/To9uCx6WMTU3mdO40uQ6wp6cnnn/+ebzyyismafwCgFAoREREBOLi4ljL4+LiEBVVd7H+Hj161Ll+ly5dIBBQqRtz5W3Hw0vt2Y3dtaml0DLUF9hgZKXgnz8Jdb8Rpo7kiSTnV+DUfSVr2TyafYk0g5DHAW/IaPwr7zRsNJXn0vdXZSiuoEo0pG755Rr8dJ09UHtuZwdq/FoAi5sSaebMmdi+fTu2bt2KjIwMLFiwAHl5eZg6dSoA4I033sAbb7yhW3/q1Km4f/8+Fi5ciIyMDGzduhXbt29v8V04WoI3OzuAW61XVbpUjf/dUZgwopZNEH8U6s49wDg6mzqUJ7KmRt/fSCcNunvQs2vSPM93b4vzkkC8mJ8AAChRMdh0jSrRkLp9k1YGhabqbw+hFhPoSaVFaLQB3KpVK+zdu7fZb1xUVIRWrVrhzJkzTxRYff7v//4Py5cvx6pVqxATE4Nz585h165duok4cnNzkZubq1vf398fu3btQnx8PGJiYrB69WqsXLkSo0eP1mtcRP8CHPkY4q5hLVuTUgqGssD6xzDgnzgI9YBRpo7kiVwpVNX6cTTFl6q8kOazE3CRFTEAsXePAv9cazaklUGupiwwYZMqtfihxo+jSa3VEPIo+2sJGu0DrFAooNU2/4vPMAwUCgU0Gk3jKzfTtGnTMG3atDpf++OPP2ot69OnD06dOqX3OIjhTW6twuGCqtP0wkMVTt2vQD9vGl2rT9wbaeCoVNB0jDB1KE+kZt3fbm4C9HCiyiHkyYR2C4LT2XJEl9zAOadAPFRosfW6HNODaTIVUuX7q2UoVVUlZFxFXDzvSaXzLEWTukC8/vrrcHFxada/9u3bU/078tQC7Rg848se1b/2cmk9a5MnJThxEKr+zwEW+J29WazGbzXqb84Pd7DEXSFmwkHARXq3EZh+76hu2frLZaigeuTkH2UqLb5JZ2d/Z4TYg2ZbtxyNZoAXLFjwVB/g7+//VNsTMj/MgfV4+8Q9JS4UVKCbO/Xv1AtZKfgXz0A2IdbUkTyRdZdLoa3WLgmW8PGMrxg3qQIReQqdn38OkoU7IVHJIBXY4a5cg19uyjGpg52pQyNm4McMGQqVVU/HHQUcTOtkh/zbJgyKNEujDeCFCxcaIw5C6tXdQ4g+XkKcyavQLfsitRTbBtVfxo40XeXgtyjAUWLqUJott0yNnTfZXR3mhTuAS+lf8pTc3F1w1b8bXn5wBl+3Hgag8sfWxPa2NMLfyinUTK1JUl7vZA8nIRd1T8lFzJHFVYEg1ml+jXJWf+QocLWIBjk9Nd3gt5GmjuSJrL9SBlW1IQptHXh43t/GdAGRFsX92VGYdj9ONxjuZokGB26XN7IVaem235Ajr7zqwmPL5yA2hJ4MWBpqABOL0N9bhC5u7LrN1Bf46Vny4LeCcg22Xmdnf98KcwCfsnNET9y6dIMHT4XupVm6ZWtSy6gSjRVTaRmsq3HvmRJkC1fq/GtxqAFMLAKHw6k1qcGerHLcKqURt0/Dkge/fZNehvJqg5K8bblUf5PoF5cLTd9nMe3+X7pFVwpVOJqrbGAj0pL9elOOnLKq6lZCLjA7lCbcsUTUACYWY4SfGEFOVd3WNQzwn8tlDWxBGvTP4DdVzDOmjqTZpEotfrjKHoE9O9QBIqq/SfTMacgITHiUDHt1VdeHNalUj9waabQM1ta457wcaItWtpT9tURNagDv2LEDt2/T0EZiWlwOB3NrZIF/zpQhT67/WtPWQDf4zcHyBr/9cE2Gkhr1N//dgbK/RP8YiSuUHcIwPv+cbllifgXiH1Q0sBVpiQ7eViCzuOqpI49TOWMpsUxNagDPnDkTSUlJho6FkEaNDbCBr33Vr+0KbeUsTaSZGAb8uAMWOfhNptLimxr/z2eE2MNOQA+0iGHYDhmFeY9OsJZ9kUpjEKwJwzBYXeP/+dgAG/g7NFpMi5ipJt0x6FEPMRcCLgdvhrJnY9p8TYYiJU1T2hzcG2ngaDQWOfjtv9fleFSj/uarHWkENjEcTefu8FdL0bksR7fs+F0lLj2kLLC1OJKrxJXCqspDHKDWuBRiWShlQizOy4F28LCpOnXL1Ay+u0pZ4OYQnPgdqn4jLG7wm1LD4Ksr7CzMa53sIBHRpYwYEI8Pbv9n8X7xKdZiygJbB4ZhsCaF/f96lL8YQRJBPVsQS9DkuwZNa0zMhQ2fg5kh7Czwt+llKFNRFrhJyuXgXzwDdZ9hpo6k2XbekOOevOr/sw2Pg9ga5wIhhqCKGY6Rd89CrKnK+h68rUCGlOqRt3Sn8yqQVMDO9lP21/I1uQE8c+ZMtGrVqkn/vL29DRkzIZgaZAcnYdWPsiIlg83XZA1sQR7jJ5+ApmM4GEdnU4fSLOo66m9ODrKFG9XfJEbAuLcCL6AD3iy/WLUMwDqqRNPi1cz+Dm0tQrir0ETREH1pcu/tbt26wd/f34ChENJ0jkIuXu9kj1XVLkzrr5RhWic72PLpcXhDBKcPoeKZ8aYOo9l+yy5HdmlVxQ8B1d8kRqbq/xzm/L4HK+2jdct23ZRjYYQD2tBgqBbpfEEFTt5n132uOTMpsUxN/sZOnToV48aNM2QshDTLjBB7fJNWhjJ15SDNAoUWP2bIMYMeideLk5cLTl4uNOE9TR1Ks2gZBmtr9Ld8qb0tfOwo+0uMR9OlN9y3fokh7fJxVONRuYyp/PG9uqfllRMkjVtdI/vbx0uIKE+RiaIh+kSpMmKxnEVcvNaJPfr/y8ulKFdT1ZL6CM78D+qegwG+ZWWrDt5WIF1aVX+TywHmUv1NYmx8AdS9huCz8rOsxVuvy3BPRvXIW5orhSr8746CteztcLrutBTUACYWbWaoPWz5VX2BH5Rr8dN16gtcJ60G/DP/gzpmuKkjaRYtw+DzSyWsZf/X1gYBjpbViCctgzrmGYRfPYE2dlXXnQpt5Y9v0rLUrPLRzU2Afq0o+9tSUAOYWDQ3MQ+vBNXMApdBqaEscE28tItgnFyg9Q0wdSjN8meOAmlFVdlfDigLQ0xH2zoAjJML1tjfZC3/73WalbIluVGswm/Z5axl88MdqCJWC9KkBnBRURH1/yVma3aoPaoXArgr12B7ptx0AZkp/ulDFpf9ZRgGn19iZ2Ge97dBR6q/SUxI3ecZDL99Aq2r9UFXaID/XKEscEuxKqUU1dMoIc58POMrNlk8RP8oA0wsnqctD5M7sLPAX1wuhUpLWWAdWSn4lxOhih5k6kia5dAdBVIL2XVW34mg7C8xLVX0QAhTzuHdQHY2cMs1OfLLKQts6W4Uq/BrFjv7+3a4A7iU/W1RqAFMWoQ3OztAWO1svlOmwc4blAV+jH/uL6hDugP2jqYOpcnqyv6O9hcj2Jmyv8TEHCTQdOqCf0uT4W1bdeEp1zD4D9UFtnirUkpRPX/SUcLHaH8b0wVEDIIawKRF8LbjYVKNLPCa1FKoKQsMoLL2r6V1fziSq8SlRzWyv+GW04AnLZuqzzDYxB+uVY1kc4YMBZQFtlh1ZX8XRFD2tyWiBjBpMeZ2toeg2hl9q1SD3TUuZNaIm5sNTtFDaDpHmjqUJmMYBitrVH54zk+MUBfK/hLzoAmPBuf+HUyRSOFlU3XhkasZfHWFssCWirK/1oMawKTF8LXn46X2tqxlq1MoC8w/fQjq3kMBruVMGnH8rhIXH7Kzv+9S319iTvgCqKMHwf7cUbxZIwv8wzUZHikoC2xpKPtrXagBTFqUeWEO4FW7Vt0oUWPXTSvuC6xWg59wFKq+ltP9oa7s73BfMcJchSaKiJC6qfsMA//sYUwJtIFHtSywTM3g6zTKAlsayv5aF2oAkxbF34GPF2tkgT9Psd6KELzLSWDcfcB4+Zo6lCaLu6dEcgE7+7uAsr/EDGnbBIIR28D+ZirmhLKnYP8uXYZCygJbDMr+Wh9qAJMW551wB1SbHA63Sq23LjD/7BGo+gw1dRhNxjAMVvzNrvwwzFeMCDfK/hIzxOFA3XsY+GcO45WOdnAXV91Sy9QMvqIssMWg7K/1oQYwaXH8HfiY1IGdBV6VUmp9s8PJy8C/kgx19/6mjqTJjuQqkVRQwVq2gGZ9I2ZM3WsI+BfPwFajxOwaWeCN6VQRwhJQ9tc6UQOYtEjzw9h1gXNlGmy9LjNdQCbAP38amk5dLKb2r5ZhsOwiu+/vMF8xurpT9peYL0biCk1gKPjnT+PVjna1+gJ/kUqzw5k7yv5aJ2oAkxaptT0fU4Jq1AVOKUW52nqywPyEo1D1GmLqMJrs4G0FLteY9e39LpT9JeavshvE/2An4GJeWO26wHdllAU2VxlSyv5aK2oAkxZrXpgDxNUqf+WVa7ElwzqywJzCfPBuZ0ITHm3qUJpEo2XwWY3s7/P+NlT5gVgEdZde4N2+Ac6jB5jSwQ4+tlUXHqUGWJ1S0sDWxJSWXSyh7K+VogYwabG8bHmY1pHdJ29tailkKq2JIjIe/rm/oO4WAwhFpg6lSXZllSOjWK37m8sB3qPsL7EUQhHU3fuBf+44xHxOrZrVP12X41apup6NialcLKjAwdsK1rL3ujhS9tdKUAOYtGhzw+xhV60kRIFCix+utfwsMD/+KNQW0v2hQsNgxd/sDNmEdrboIKFZ34jlUPUcBH7CcQDAxEBbtHWoygKrGWD535QFNjef1Hjq1MVNgJFtxCaKhhgbNYBJi+Ym5mF6MLsv8JeXy1DagrPA3Jyb4MhKoAkKN3UoTbItU47bZVV9JPkcqvtLLI+2Qxg4shJwc7Mg4HKwqAt78Omum+W4JlXVszUxtlP3lYi7p2QtW9zVERzK/loNagCTFm9WqAMcBVUXtUKlFt+04Pqc/IRjUPccDHDN/+utUDNYVaN/5L872MHfgW+iiAh5Qlwu1NFVWeAxbW3QUVJ1HjOgLLC5YBgGn1woZi2L8RKiv7dldBkj+mH+d0hCnpKziIsZIey+wOuvlOFhS5ylSasFP8Fyuj9sypDhnrwqGy/mAW9T3V9iodTRg8A/dwxgGPC4HLxXIwu8/5YCKY8q6tmaGMuhO4pas00u7uZE2V8rQw1gYhViQ+zhLKq6uJWqGHx+qeXV5+RlpIBxcIK2dYCpQ2lUmUqLtTVqpL7a0R7edrx6tiDEvGn92gNCMbg30gAAI9uIEeHK7sv+6UXKApuSRstg2QX2/4PhvmJ096CKM9bGohrASqUS77zzDgICAuDt7Y0XX3wRd+/ebXCb5cuXQyKRsP516NDBSBETc+Ek5OLtcHY2ZvM1GbJKWtbIbH78Uah7Wkb2d0NaGR4qqrK/dnwO3gqzb2ALQswchwNVz8HgJxz7508OPujKvu4cyVUiPk9Z19bECPZklyNdWnXd5wC1/h8R62BRDeBFixbh4MGD2LRpE/7880+UlpZiwoQJ0GgafpQdGBiIjIwM3b/4+HgjRUzMybSOdvCzZ4/M/uRCC8rGVCjBv3Aa6uhBpo6kUQ/kGnx5md0POzbYHm5iyv4Sy6aOHgR+0glAXdnIGuQjQnSN7OKHycVgGOuZlMdcVGgYfFajH/a4ABuEuFDFGWtkMQ3g4uJi/PTTT/j4448xYMAAREREYOPGjUhLS8OJEyca3JbP58PT01P3z83NzThBE7Mi4nHwYY1f+r/dKsfFgpbRJ4+XkgBNm0AwLu6mDqVRKy6VQFZtVj4XERezQin7Sywf4+ENxsMbvLQLACqzwEsi2dedCw9V+C27vK7NiQH9lCnDrVJ2xZma1TqI9bCYBvClS5egUqkwcOBA3bLWrVsjKCgIiYmJDW5769YtdOzYEWFhYXjllVdw69YtA0dLzNWYABuE1+iT9+H5lpGNEVhI94drUhX+e13OWvZuhAMkIou5HBHSIHXPweAnHNX93dNThOf82PVlP7pQAqXG8q87lqJUpcXKGuM+JgfZoa0jVZyxVhZzx8nPzwePx4Orqytrubu7O/Lz8+vdLjIyEhs2bMDu3bvxn//8Bw8ePMDQoUNRWFho6JCJGeJyOFhaIxtzNq8CR3ItvE9eWQl4Vy9BHRlj6kgateQ8e+rRAAceXgmyq38DQiyMOmoA+CkJgLIqy/tRpCOqzcmDnDINvrvacssxmpu1qaXIL68ac2DD41DFGStn8p8+y5Ytw+rVqxtc5+DBg0/8/kOGsDNikZGRiIiIwPbt2zFr1qx6t8vMzHziz3wSxv48S6LvY+MDIFoiwjlpVX/T9+IL0KaLAjwLrIKTmZkJ179PQ9UmCLfu3jd1OA1KlnJx+A47E/aGjxy3s24Y5PPoe9UwOj71e9pj065VWzw6tBfSkB66ZWO8BPjlftUTqM8vFiOamwdLnPTQks6d+woOvrosRuWQt0oTvStQdjcLhtgLSzo2pmDM4xMYGFjvayZvAMfGxmL8+PENrtO6dWskJydDo9Hg0aNHrD68BQUF6NmzZ5M/z97eHh07dkRWVlaD6zV00PQtMzPTqJ9nSQx1bD53qUC/AwV4nIi8KefiPMcb/wq0rEzk4+Mj/u1bqAaPMuvzSMswePVAAYCq+pvRHkK8Hu1tkPqb9L1qGB2f+unj2PAHjYJvUhzcn39Zt+wzXw0O7X6AElXlladUw8HeUncsj5I81WcZm6WdOytOFKKCqcrGe9lwsbSfH+wF+n8IbmnHxtjM6fiYvAuEq6srOnTo0OA/W1tbREREQCAQIC4uTrft3bt3kZGRgaioqCZ/nkKhQGZmJjw9PQ2xO8RChLkKMb6dDWvZZxdLIFdb3hTJnOJC8LKvQRMWbepQGrTrZjlSC9nF55f1oOLzpGVSd+0DXkYqUFY145irmIf5NR67/3BNhuwWVo7RnCTlK7GnxoDDD7o5GqTxSyyLxZwBTk5OmDRpEpYsWYITJ04gJSUFb7zxBkJCQtC/f3/det27d8d3332n+/uDDz7AmTNncOvWLZw/fx6TJ0+GXC7HSy+9ZIK9IObk/a6OEFb7BtyTa/H1Fcvrk8c7fwrqsGhAJG58ZRMpVzNYVmMCgBf8bRDpTsXnSQtlYwt1WA/wk0+yFr/RyR6tq032otICS1tSOUYzwjAM3ktiT3kc5iLAxPa2JoqImBOLaQADlZNajBgxAlOnTsUzzzwDOzs77Ny5Ezxe1cUkMzMTjx490v197949TJs2Dd27d8ekSZMgFApx9OhR+Pn5mWIXiBnxs+fj9U7s0ltrL5fhnsyypkgWJMZBHTWw8RVN6Nv0MuRWO64CLmqVhiKkpVFHD4Yg/hhrmZjPweJu7HN/361yJOVb+EBcM7Qnuxzna0x5/GkPJ3DpqROBGfQBbg6RSIRVq1Zh1apV9a4jlUpZf2/evNnQYREL9na4A7bfkKNQWdn1Qa5msPRCMTb2dTFxZE0jKCkCNzcLms7dTR1KvQrKNfiixpTHr3eyh7+DRV1+CGk2TVgPcH9YCU5hPhgXD93ysQE22JBWhkuPqhpn7ycV48gId+oSpCflagYfnWdn1kf4iRHTSmSiiIi5sagMMCH6JhFx8X5Xdp+8X26WIznfMibHkFy9AHWX3oDAfLsSLL1QglJVVd0ziZDKDxErwRdA3bV3rW4QXA4Hn3R3Yi1LLlDhl5s0OYa+bEir/dTp40inBrYg1oYawMTqTe5gh2BndjZyYaIUWguYHMM5PRnqqAGmDqNeFwoq8HMme9KLdyIc4UyTXhAroe7Rv3Jq5BpiWokw3Jfdb3/J+WKUVFjeQFxz80CuwdoaT51e62SHdk701IlUobOBWD0+l4PlPSQYffihbtmFhypsvyE367JonIL7EBblQxnczdSh1KJWq1FWVoasB0p8Hl7V2HUUcDHMR4Pi4uIGttYPsVhslM+xVHR86qfXY+PbAfzooVDnP6g1UHV1BBeDXbmoPiHcpdxHCHetfKJjZ2cHPp9u08310YUSlNWYav3dcBpzQNjom0UIgH7elVOV/p6j0C1bklyC5/xszHaKXn7SCRQHdYXYzG6QarUapaWl0Igd0N6LPdq6vSMfDkLjHE+RSASx2HwrY5gaHZ/66fvYcCKiAKEAjBP7EbwTgOE2Gjwor3pUzwEgsuNDxONAKpXCwcGBGsHNkPBAiR032E+dFtJU66QOdEYQ8o9lPZwgrioogkdKLT65aL7lifiJcSgKjjR1GLXIZDLYOzrhvpz9KNdJyDVa45cQc8LYOQCy0jpf87ThQsitGvjGALq+qxKJBDKZzBghtghqLYP5CeyB8MESPqZ2NN8necR06G5EyD/8HfiYF8YenLX5mgx/PzS/AXGcvFxwpAUoaxNk6lDqdL9ci2pPIMEF4FOt9ikhVsXGFhy1ClDVvpbwuBx427FvxaUqBkUVWqoI0Uwbr8qQXsSeVGRVTwkEXDqOpDZqABNSzZxQBwQ4VDXUGADzE6TQaM1rQBw/8S+ou/cHuOb3FX6o0OCRgp399bDlQcSjmxCxUhwOGFt7cOR1T7QjEXJhL2B/P+7KNFCb2XXHnN2Xa7Dib/ZtC3r/AAAgAElEQVQTuwntbNDbi8qekbqZ392TEBMS8zlY1VPCWnbxoQqbrpnXY0h+4l9mWf1BpWVwoUbheRGPA08butQQ69ZQNwgOhwNfOx6qN4HV2spGHWmaBeekrHKLjsLapeYIqY7uSoTUMMhHjFFt2ANgPr5QgtwydT1bGBc3Nxucchm07UNNHUotG9LKIK1RxsnXjmcRMy9ptVrMnTsXbdu2hUQiwenTpwFUTq4TGBiI7OzsJr2PUqlEaGgo/v77b0OGazQzZszAypUrm7z+hx9+iHfeeceAEVkocf3dIABAzOfC05bdTeihQlvraQqp7ffb5ThwW8Fa9kEXR3jYULcrUj9qABNShxVREjhWeyRZpmYw/1wxGDOoDcxPioO6xwCz6/6QVaLGir/ZGS4XkeUMfDty5Ai2bduGnTt3IiMjA1FRUQCANWvWYMiQIWjbtm2T3kckEmH27NlYsmSJIcM1irS0NPzxxx+IjY1t8jZvvvkmdu7ciVu3bhkuMEv0uBtEPVlgoHJAXM2uQskFFVBqTH/dMVfFFVq8c4498K2bmwCv0sA30gjLuDMRYmTedjx8VGPWoMN3FPgt28QzNTEM+In/NIDNiJZhMPtsEcqr3ah5nMrjaCmysrLg6emJqKgoeHp6QigUQi6XY+vWrZg0aVKz3mv8+PE4d+4crl69aqBojeO7777DqFGj4OjY9Bqqbm5uGDBgADZt2mTAyCxTQ90ggMoZ4nxrfGeKK7RYk1r/NtZu6fkSVsUZPgf4srczeDTwjTSCGsCE1GNKkC16erKnGH43sRgPFabrl8fNzQZUFdAGdDRZDHXZkiHD2Tz2o10fO57FjL6OjY3Fe++9h9zcXEgkEnTu3BkAcPToUXA4HERHR+vW/fzzz9GhQwcUFBTolr366qvo27cvKioqj4GzszOioqKwZ88eg8ZdUVGBjz/+GKGhofDw8EB4eDi+/fZb3etnz57FoEGD4OnpicDAQCxatEgX4+PXBw8eDB8fH/j5+WHgwIFIT08HAGg0Gvz222945plndOtnZmbC29sb27dv1y07duwY3N3dkZSUpFs2fPhwg++7RRLbgqNR19sNAgAchFy41KhZ+0VKKS4XqurZwnqdyVNicwZ7fMabne0R6iIwUUTEklB1bULqweVwsK6XBDH78/G4W+tDhRbzE6T4sb+LSUoU8c+fhDqyL2BGfWpzytRYkswefe0g4NS6iUu23DVmWMh7ybXJ665YsQK+vr7Ytm0b/vrrL/B4lVm4+Ph4REREsP5fz58/H3FxcZg1axZ++eUX7NixA3/++SdOnjwJobDqB1O3bt1w9uzZBj83Ojoad+7cqfd1X19fnDt3rt7XY2NjkZCQgOXLlyM8PBw5OTm4e7fyON+7dw/jxo3DhAkTsGHDBmRnZ2POnDngcrn49NNPoVarMXHiREyaNAnff/89VCoVUlJSdPt+5coVlJSUoEuXLrrPCwwMxGeffYYFCxagV69esLe3x4wZMzB//nz06NGDte/37t1DdnZ2k7uOWAUOB4ytAziyUjCS+s9PHzseSlVaqP657qgZYObpIhwf6W4xPyoNrVSlxczTRaxl7R35eIdmfCNNRA1gQhoQJBHgnXAHfFqtb+v+WwrszS7HmADbBrY0DN75U1BOnmf0z62PlmHw5lkpa9pRAYcDP3u+RdUwdXJygoODA7hcLjw9PXXL79y5Ay8vL9a6PB4PGzduRJ8+fbB48WJs2bIFy5YtQ4cOHVjreXl5IScnp8HP3bVrF9Tq+gdXNjQD2M2bN7Fnzx7s3r0bgwcPBgD4+/vrXt+0aRO8vLywZs0acLlcBAUFYcmSJXjrrbfw/vvvo7S0FMXFxXjmmWd0jdTq+3Dnzh1wOJxa+z9lyhQcPXoU06ZNg4uLC9q2bVtr0NvjbXJycqgBXANj5wBOYT7QQAOYz+WgtR0f2aVV50ZqoQrrUkvxTgQ18ABgcXIxbpexn8Z92VsCMd9yrjvEtKgBTEgj5oY54I8cBS49qnoE+fY5KXp7ieBla7w+rpz7OeCUlUDbPsRon9mY767KEHdPyVoW7iqAsIXU/FUoFPDw8Ki13M/PDytWrMCMGTMwbNgwvPrqq7XWsbGxQXl5w33G/fz8nji21NRUcLlcxMTE1Pl6RkYGIiMjwa02WLJnz56oqKhAVlYW2rdvj4kTJ2LMmDHo168f+vbti9GjR8PX1xdA5b4LBALW9o+tX78ekZGRuHbtGs6cOaPLGj9mY2MDAI3uv1US24CjUYNRVQACYb2rSURcOFewj/3KS6UY3FqMLm71b2cNjt9VYEsGe7rj6cF2VPOXNAv1ASakEQIuB9/EOENU7R5fpGQw52yRUatC8M+fgrpbjNlUf7hapMKS88WsZTFeQgQ4tZzf1a6urpBKpXW+Fh8fDx6Ph9zcXCiVylqvFxUVwc3NrcH3j46Oho+PT73/qvc91qfH2fkNGzbg2LFj6NWrFw4dOoTu3bvj+PHjACr3vaKiAnK5vNb26enpKCkpgUKhwP3792u9XlRU+Wi6sf23StW6QTTGx449gYyaAV4/VQS52npLoxUptZh9pnbXh8XdKDNOmqfl3KkIMaBOzgK838URi89X9XU9kqvExqsyTA+2N0oM/ORTqHip6eWoDEmpYfD6qSIoqz2BdBRysCHGGRxN3ZOGSKf6GCm6SgqFovGVGhEWFsYa8PXYgQMH8Ouvv+LAgQOYPn06li5dis8++4y1Tnp6OsLDwxt8/6fpAtG5c2dotVqcPn1a1wWiuqCgIPz222/QarW6LG5CQgKEQiGrW0Lnzp3RuXNnzJ07F2PHjsWOHTswaNAg3UDAjIwMVj9gqVSK6dOnY/bs2SgvL8cbb7yBM2fOsCpFXL16FQKBAMHBwQ3uv7VqSjcIoPLHd3d3IYCqTHpmsRqLk0uwusaEPdaAYRjMPlOEe9WqPnA5wDcxzrDlm0digFgOOmMIaaKZIfaI9mA/elycXIzUR/WP6NYXTsF9cArzoenQ2eCf1RTLLpbUGpW+JloCX/uW9Zt64MCByMjIQGFhoW7ZvXv38Oabb+LDDz9E7969sXHjRnz33Xc4ceIEa9uEhAQMGjSowff38/NDQEBAvf8a6iLRvn17vPDCC5gzZw7279+PW7duIT4+Hjt37gRQWZkiLy8P8+fPR0ZGBg4fPoylS5fitddeg62tLW7fvo2PPvoIiYmJyMnJwalTp5CWloagoCAAldnb8PBwJCQksD533rx5cHV1xXvvvYelS5fC3t4eb7/9Nmud+Ph49OzZE7a2xu8nbxH+6QbRUDWIx3zseJjcgX0cf7gmw//uWF/3ki0Zcvyew/5h+2aoPbp7WHeXEPJkqAFMSBPxuBxs7OvMmiCjQgu8erIIMpVhH0nyk09C07UPwDN9A/N/d8qx/koZa9mYtjYY167lNXZCQkLQrVs3XUkvhmEwY8YMhIWFYebMmQCAXr16Ye7cuYiNjdU1lJOSklBSUoLRo0cbNL5vv/0WY8eOxcKFC9GjRw/MmDEDJSWVTym8vb3x66+/IjU1FTExMZg1axbGjBmDxYsXAwBsbW1x48YNTJkyBZGRkZgxYwbGjRuHuXPn6t5/ypQp+PXXX3V/79y5E4cOHcL3338PgUAAkUiEH374AQcOHGCVPduzZw8mT55s0H23aI8nxZCXNb4ugE97OCHAgd3POvZ0Ee6YyeyUxpBepMJ7SezuSF3dBFjUhbo+kCfDkUqlNMWMiWVmZiIwMNDUYZglczw2e7PkeOUkuw/aS+1tsaGPxGCVD2w+noGKF6ZA07kHa7mxj09OmRp99+dDWlF12fCx5eHs8x6Q/FP2rLi4GE5OTvW9hdEoFAqIxeLGV2zEsWPHsHDhQiQmJtYa7FWfyZMnIywsDPPnz3/qzzeUphwfhUKB7t27Y+PGjejVq1eT3vfw4cNYvHgxzp4922AXDnOmr3OnQfIycKSFYLwbHgj5+Pt0vqACw/4oQPVJ4bq7C/DHcHejDzo19nWnTKXF4N8LcE1a1eB3EHBwapQH2jqa1zlmjvcsc2JOx4cywIQ00/8F2GJSIDvbueOGvNaoZH3hFOaDm5cLTacuja9sQBUaBq+cKGQ1fnkcYFN/Z13jtyUaPHgwpk2bpquv2xilUomQkBDMmDHDwJEZnlgsxrfffqsb1NYUcrkcX3/9tcU2fo1GbAuOSgk00Ae8ukh3Ya2BXskFKiy9UFLPFi0DwzCYc1bKavwCwJqeErNr/BLLQmcPIU9gRZQTEvMrcL246qK8IFGKzi4CvfdH4184A3VET4Bv2tmN3k8qxvkCdr/fJd0cEe3Z8ksPTZ8+vcnrikQivPvuuwaMxrh69+7drPVfeOEFA0XSwnC5YGzsAHkZ4Ni0AW2zQ+0Rn6fE4dyqqiNfp5Uh0l2AF9q2vC5IALAhXYa9Naagf7GdDca3wC5XxLhabtqGEAOyE3CxdaAL7KoVXVdpgclxj5Bfrt+pkvnJJ6Hu3k+v79lcP2bI8P01dnWHYb5izAo1TgUMQloixs4BHHnj5dAe43IqSzK2tmN3xZlxWooUIwzGNbYzeUosTmaXWgx25mONFVbAIPpHDWBCnlBHiQBf93FmLbsn1+JfxwuhUOunaz2nuBDcOzegCemml/d7EmfzlHg7gT34xNeeh29jnMG1oNneCDE7NnbgKBWApuk/ml3EPGzp7wJBtbt3uYbBy8cL9f7j25SyS9SY/Fchq8+zo5CDnwe6wk5ATRfy9OgsIuQpPN/WBnNqZEGTCiow40wRtHqYJIN38QzUnaMAoWm6GdwqVePffxWienvels/B9kGucG7B/X4JMQouF4zYtrIbRDN09xDWyoLmyjT491/6+/FtSkVKLcYfe4RHSnZ1ne/6OiOA+v0SPaE7GCFPaXE3R/T3ZjdQ92aX49OLTz84hZ98ymTdHx4qNBhz5GGtm9A3Mc7o7GLa/siEtBSMXdPLoVX37w52eKOTHWvZufwKvHaqEBqt5TaCKzQM/vXXI2QWswe9LYxwwDO+NiaKirRE1AAm5CnxuRz82N8FHSXszMSa1DL8cLX5NzadsmLwsq5CE9aj8XX1rEylxfijj3CzhP1IdWGEA0b7002IEL2xsQdHIQe0ze++8GkPp1o/vg/eVuDdxGKjTtOuLxotgxlninA2j92feXw7GyyIcDBRVKSlogYwIXogEXHxy2BXuIvZX6m3zxVjx40nK4/Gvxhf2fdXZNwGp1LDYHJcIS4+ZFd8GBtgg3fpJkSIfvF4YERioLz51wk+l4Mtdfz43nRNhpWXmj64zhwwDIO3EqTYncWu+NDTU4j1vZ0NVmOdWC9qABOiJ20c+Ngx2BXiGnMlzDxThP23mj9tKf/CKai7xegpuqZRahj8O64Qx+8qWcsHeIuwoQ8NeiPEEBhbB3BkT9ZgdRZxsXuIK3xs2ReeFZdKsSbFMhrBDMNgUVIxtl5n/wgIcOBh20AXiIw80QexDtQAJkSPIt2F+GmgK2uEtpYBXj1RiH3ZzWgEK+TgXUuBOjxa/0HW95FqBpP+eoTDdxSs5RGuAmwd6GL02aYIsRq29uCUywDtk02p3tqej91DXeEkZH9HP7lYglWXzHuiDIZh8H5yMb5NZ5dZ9LHl4bdhbnCpmVEgRE+oAUyIng1pLcYP/VzArXYvUjPAKycLsfW6rP4Nq+FdOQ9Nu06AnXG6HJSptPjXX49wJJed+Q104mPXEFc4UNmhJpFKpQgMDER2dnaT1p88eTLWr19v4KiI2ePzwQhFgOLJZ5Ps5CzArsGurNrkAPDp36VYdrHELPsEq7UMZp2VYkMa+7roLuZi3zOuaONAFR+I4dBdjRADGO1vgw01agRrGWDOWSm+vFza6M2If/EsNF37GDJEnQdyDZ479BDHanR76ODEx+/PuMHDxroyMKNGjYJEIoFEIoGrqysiIiKwZcuWJm27Zs0aDBkyBG3btm3S+u+++y7WrFmD4uLixlcmLZutPTiypxg0CyDKU4TdQ11hX6MRvDqlFDPPSKEyo+oQ5WoGU08UYlsmu9EvEXLw2zA3BDpRpRliWNQAJsRAXmxvi419nVGz58CS8yWYeUZaf71OjRr8lASouzRvCtonkSFVYfAfBbj0iD3graOEj9+Hu8HT1roavwCQkpKChQsXIiMjAxcuXMCQIUMwb948pKSkNLidXC7H1q1bMWnSpCZ/VkhICPz9/bFr166nDZtYOMbWAZzyMuApM7U9PUXYM9QVDgL2hWf7DTnGHX2E4oon62ahT3dlGjx7qAAHb7O7W7mLuTg43B2hVGaRGAE1gAkxoAntbPHTQBeIarQjt9+Q47n/FeC+vHbpI971y9C6eYFx9TBobLuz5Bh0sAB3ytgxhLkIcMAKM78AkJ2djeLiYkRHR8PT0xP+/v545513wDBMow3go0ePgsPhIDq6qt/2/v374eHhgZycHN2yBQsWICIiAvn5+QCA4cOHY8+ePYbZIWI5BAIwPD6gaP6A2ZqiPEXYO9QNziJ2I/jEPSUGHMg36bTJiQ+UGHAwH3/XqDLT2o6H/z3rTjXGidFQA5gQA3vWzwa7h7jBsUZG5nyBCjH783HwNvuGx7t4BmoDdn8oVzN4K74I004WoaxGFnqIjwh/PmudjV8AuHTpEgAgNDRUt+zevXsAAA+Phn+QxMfHIyIiglWuadSoUQgODsbq1asBAOvXr8eePXuwZ88e3ft169YNFy5cQHn50zd8iIWzcwBHrp/KDd09hDg6wh3+DuzvclapBkP/KMCma2VG7Res1jJYdakEIw49RH45Owsd5MTH4RHuaOdEfX6J8VADmBAjiGklwtHn3NHOkX0zeqjQYtJfhZh+qhBSpRZgGPAvnjFY/9+T95Tos/8BtmTUHmwzpYMtdgx2hb0VD3i7dOkSWrVqBTc3NwCVGeGFCxeibdu2CA0NxYgRIxAVFYVevXph3759rG3v3LkDLy8v1jIOh4PFixdj+/btWLt2LT7//HPs2rUL7dq1063j5eUFlUqFvLw8w+8gMWuM7T+zwumpYdreSYCjI9wR6c7Oqio1wPyEYow58gjZJep6ttaf61IVhv1RgE//LkXNnl/DWotw5Dl3+NhZ549uYjrWe6cjxMiCJAIcf84Dg31EtV7bebMcXfc8wN6Tl8FweNC2btogqqa6J9Ng+qlCjD78sNbsbiIesLanBGt7ScDnWneps5SUFDx48AA+Pj7w8vJCdHQ0fHx8cPDgQfD5fCxfvhyJiYn47bffsGjRIshkVaPXFQoFxGJxrfccOHAgunbtimXLlmHz5s3o2rUr63Ubm8qJTigDTCAQAuAAFcpGV20qdxseDj7jjqlBtrVe++ueEj33PcDqlFLIVPrvG1yk1GJRohS99+fjQo0uDwAwP8we2we5wklITRFifPS8gRAjejxj3NrLZVjxdwkrG1Ko1CI77gR+cuwCxQ05xra1hZj/dA3S3DI11l0uw9brMtQ19iXAgYcfB7ggzFX4VJ/TFMLftkC4778G/5zHuM+9DO2415q1TUpKCmbOnImpU6dCLBbDy8sLXG7VzflxhtfT0xMuLi4oKiqCnZ0dAMDV1RVSqbTWe548eRJXrlwBwzBwd3ev9XpRUREA6LLOxIpxOJVZ4PKyytnh9MSGz8HaXs7o7SXC3LNSVtcnhQZYdrEE36aXYU6oPV7paPfUT4EKyjXYkiHDhrQySCtqZ7PdxFx82UuCEW1oWnViOhbVAP7xxx+xe/dupKamoqSkBCkpKWjTpk2j2+3fvx+fffYZsrOz0bZtW3zwwQcYOXKkESImpDYel4O3wx0wpLUIsaeKkC6tegQ58uFFzG//L5w+I8WS5BJM6mCLkW1s0MVN0ORZ2MrVDA7llOOXm3Icu6uEpp6nqa8E2eGjSEc4Gin7UvHCVFS8MNUonwX8k5Ftxvq3bt1CUVER+vfvj4CAgAbXvXTpErRaLVq3bq1bFhYWhu3bt7PWu3z5MiZNmoSVK1fiyJEj+Pjjj7F3717WOunp6fD29m60jzGxDoytPThFBYBE/z+IxgbYoourEG/GF+FMHnsg3EOFFovPl2B1SilG+dtgQjtb9PYSNvm6o1AzOJ2nxJ4sOfZml9f5gxsAnvMTY20vCdytdJwBMR8W1QCWy+UYOHAgnn32Wbz33ntN2iYpKQmvvPIKFi1ahJEjR+LgwYOYMmUKDh8+jMjISANHTEj9wl2FiBvlgS8vl+LLy2VwLcuHr/IR4h07AAAeKbVYd7kM6y6XwdOGi5hWInSUCNDBiQ83MRc2fA7ulnGQc1eBPLkG16VqJOZX4OLDinpvPgAQ7MzHul4S9PCo3RXDmj2u8tClS5cG1ysqKsL06dPx5ZdfspYPHDgQS5YsQWFhIVxcXJCTk4Nx48Zh5syZmDRpErp164bevXvj9OnTiImpmuI6ISEBAwcO1P8OEcsktgFHVQFGrQL4+q+I0M6Jj4PPuGHHDTk+SC5BoZJ9sShRMfg5U46fM+VwEnIQ5SFEDw8R2tjz4GXLg0TExc1SLh7kKXFPpsE1qQpphSqcyauArL7Sjqis8vBxpCNeaGvDGihKiKlwpFKp+VTGbqK///4bAwYMaFIGeOrUqSgqKmINWBk9ejTc3NywadMmQ4faJJmZmQgMDDR1GGbJWo5NnlyDxJ92QJ11Ha92fMMgn+Frz8P8MAe8HGgLgQH7+hYXF8PJyclg799U9fXJrc/SpUuxd+/eBsudKZVKPP/885g8eTJefPHFWq8PGTIE48ePx9ixYzFs2DD06tUL69at070+depU5Obm4ujRo7oYO3TogD179qB79+7N2Lun19zjY01MfWw4+ffAiG0BR4lBv09FSi2+ulKKjemyWhVh9MVBwMG8MAdMD7aHzVN26bIE1nLPelLmdHxafM/z5OTkWtmVQYMGITEx0UQREVKbly0PE6QX0X/kIMwKsYejUH83ik4SPv7TW4IL/+eJKUF2Bm38WrIlS5Y02PhlGAYzZsxA375962z8ApU1fjdu3AhHR0ckJSWxGr8AsGXLFl3jFwB++ukndOvWzeiNX2LedNUgDMxZxMWH3ZxwebwX3g53gIeN/poE/g48fNrDCZfHeeGtMAeraPwSy2JRXSCexIMHD2oNPHF3d9cVoa9PZmamIcMy+edZEms4NrxyGUJupKNo5CuYLMjHuG5A3EMeThfycE7Kg0zTvJtHK5EW/V01GOGhRgc7BhxOCW5nGSj4GsRiMUQi8+heoVAoGl+piRITE7F3714EBwfj999/BwB89dVX6NSpk26dPn36YMqUKcjKyoKvr2+T3veTTz7Ra5zNYarPtQQmPTY8PmwUcijK5SgpKWn0fqUPExyAMV2BJCkXf+bzkVDEQ4m6edcdD6EWfVw06OuiQbSzFjxOKQpygAIDxWyurOGe9TSMeXwayjabvAG8bNkyXZH4+hw8eJDVZ84YjJmiN6dHAubGWo4N/+wRMCHd0D64agKGcABzAVRoGJwvqMBVqQrXpGrcLFZDrmZQrmFQVq5EK0cxWtny0MqWh3BXAaI8hGhtb7qvdnFxsVk8Wtf3Y+x+/frpKjY0ZNasWU1+z9dea16VCn0y9WN+c2YWx0ZsA7FWA0dHxyb/mNKHTgAmA9AyDDKkapx7UHnteVCuQZ5ci9IKLRi1EhI7GzgJuQhy4qOjswChLgKEOvOtvn+vtdyznpQ5HR+TN4BjY2Mxfvz4BtepPtK6uTw9PVFQwP79WVBQQCOuiVnhNzD7m5DHQS8vEXp51c6qVl5MjHdzJIQYyeNuEMLa9XuNgcvhoJOzAJ2caw/Eq7zu+JkgKkL0x+QNYFdXV7i6uhrs/bt37464uDjMmTNHtywuLg5RUVEG+0xCmqVCCV7aBSgmzzN1JIQQM8HY2oNb9BAQUJaeEEOwqEFwDx48QGpqKm7cuAEAyMjIQGpqKuux5KhRo7B06VLd39OnT8epU6ewdu1aXL9+HV988QVOnz6N2NhYo8dPSF146Reh9Q0AHCWmDoUQYi74AjB8ATglxaaOhJAWyaIawJs3b0bfvn11/ebGjx+Pvn374s8//9Stk52djby8PN3fUVFR2Lx5M7Zv347evXtj586d2Lx5M9UAJmaDfykB6i69TR0GIcTcPJ4UgxCidybvAtEcixYtwqJFixpc5/Lly7WWjR49GqNHjzZUWIQ8OYYBLyUBFe80PBCUEGJ9GFt7cAvzAYYBrHxwGSH6ZlEZYEJaGu6dm5WPOlvRgBJCSA1CEaDVgnM/x9SRENLiUAOYEBPi/R0PdURPyu4QQmrjcKB1cQf/77OmjoSQFocawISYED8lAZqInqYOgxBiphhnD/AvUgOYEH2jBjAhJsIpLgT3fg40QeGmDoUQYqYYJ2dw790Cp7jQ1KEQ0qJQA5gQE+GlJkITEgnwaxeaJ4RYruLiYqxcuZJVkeiJcbnQhESCl5L49O9FCNGhBjAhJsK/lFDZ/5cQPXn06BEkEglOnz5t6lAMJjY2FhMmTDB1GBgxYgTeeeedOl+bOXMmZDIZvLy89PJZ6oie4Kck6OW9CCGVLKoMGiEthloFXvoFKCe/ZepIyD9iY2OxY8cOAACfz4ePjw9GjhyJRYsWwc7OTq+fU1hYiF9++UVv72lNVqxYAYZhTB0Gfv75Z/D5tW+hX331FUQiEWtCpqelCYuCaNt6QK2iJ0aE6Ak1gAkxAV5GCrSt2oBxdDZ1KKSa/v37Y+PGjVCpVEhISMCcOXMgl8vxxRdfmDo0i1dRUQGhUPjU7+Pk5KSHaJ6es3Pd391Zs2bp/bMYR2dovfzAu34ZmuCuen9/QqwRdYEgxAR4f1P3B3MkEong6emJ1q1bY9y4cRg3bhz++OMPAMDy5cvRsyf7/9m2bdvg4+Oj+/vxOnv27EFERARat26NiRMn4tGjR7rXd+zYgcOHD0MikbC6K6SlpTsj4rsAABarSURBVGH06NHw8vKCv78/YmNjUVzc8DS4Fy9eRL9+/eDp6YmYmBicP3++1jrXrl3D+PHj0bp1a7Rv3x6vvvoqHjx40OD7fvTRR4iMjISXlxc6d+6MxYsXQ6FQ1NrPrVu3IjQ0FF5eXqz9BKq6Kqxbtw7BwcEIDg5udD/PnDkDNzc3VheOLVu2wNfXF7du3WK972MjRozAvHnz8P7778Pf3x/t2rXDN998A6VSibfffht+fn4IDQ3Fzp07m7WPAHDkyBEMGjQIXl5eaNu2LSZMmKBbp2YXCKlUiunTp6NNmzbw8vLC6NGjcfXqVd3rj8+VkydPomfPnvD29sZzzz2n26/GqMOjwUs516R1CSGNowYwIcbGMOBfiqfyZ424ffs2XnvtNTz33HN47bXXcPv2baPHIBaLoVKpmrVNTk4O9u7di59//hl79+5FamoqPvnkEwDA7Nmz8cILL6B///7IyMhARkYGoqKiIJPJMGbMGNjZ2eH48eP4+eefkZSU1GA2saysDOPHj4e/vz/i4uLw0Ucf4cMPP2Stk5eXh2effRadOnXC8ePHsW/fPpSVlWHixInQarX1vretrS2++uorJCYmYs2aNdi7dy9Wr2bPVpiTk4NffvkF27Ztw759+5CVlYWZM2ey1jl79izS0tKwe/du7N+/v9H97NOnD+bMmYPp06dDKpXi+vXreP/997Fy5Ur4+/vXG++vv/4Ke3t7HD9+HHPnzsWiRYvw8ssvo127djhx4gRefPFFzJkzhzUorbF9PHbsGF566SUMGDAAJ06cwMGDB9GnT596j1tsbCwuXLiA7du34/jx47CxscHYsWNRXl6uW0epVOKLL77AV199hSNHjqC4uBjz5s2rd7+q04RHUz9gQvSIukAQYmSc+zmARg2tbztTh2K2bt++jeeffx7Z2dm6ZefPn8e+ffvQpk0bo8Rw4cIF7N69G/369WvWdmq1Ghs2bNA9qp8yZQq2bdsGALC3t4dYLNZlmh/bsWMH5HI5Nm7cCAcHBwDAunXrMHLkSGRlZSEgIKDW5+zevRsVFRX4+uuvYW9vj+DgYMyfPx9vvPGGbp1NmzYhNDSU1R9148aN8Pf3x6VLl9CrV6869+Hdd9/V/XebNm0wb948rF+/Hh988IFueXl5Ob799lv4+voCANauXYvhw4fj5s2baNeu8twWiUS6PrEA8N///rfR/Vy0aBHi4uIwa9Ys5OTkYNiwYZg4cWKDx7xjx45YtGgRgMouCOvWrQOfz0dsbCwAYMGCBfjyyy+RmJiI0aNHN2kfV61ahdGjR7P2OTQ0tM7Pv3nzJg4dOoQ//vgDvXv31h3nzp0749dff8W///1vAJXnxurVqxEYGAig8gfRrFmzwDAMOI1MhqNtEwjIZeA8uAvG06fBdQkhjaMGMCFGxr+UAE04zf7WkGXLlrEavwCQnZ2NZcuW4fvvvzfY5x47dgw+Pj5Qq9VQqVR49tln8fnnnzfrPXx9fVn9VL28vPDw4cMGt8nIyEBISIiuUQgAUVFR4HK5uHbtWp0N4Mfb2Nvb65b16NGDtU5KSgri4+NZ3TQeu337dr0N4P379+Obb75BVlYWZDIZNBoNNBoNax1vb29d4xcAIiMjweVykZGRoWsAd+rUSdf4bep+CgQC/PDDD4iOjoa7uzsOHDhQZ4zVhYSE6P6bw+HA3d2dtUwgEEAikaCgoKDJ+5iamtpow7v6fnG5XNbxd3JyQnBwMK5du6ZbJhKJdI1foPLcqKiogFQqrbdPsQ6X+08W+BxUQ8c0KS5CSP2oAUyIkfEvJaBixEumDsOs3b9/v87leqmr2oBevXrhyy+/BJ/PR6tWrSAQVI2453K5taoPqNXqWu9RfRugskHWUHeDxjSWGWyIVqvF0KFDsWzZslqvOTo61rlNcnIyXnnlFSxYsACfffYZnJyc8Oeff9bqXtEUzameUX0/k5OTodVqUVxcrCvt1pC6jnnNCg3V/z/ocx8bU32/6ooJQJPPD3V4NAR/HaAGMCF6QH2ACTGmshJwb2dC06mLqSMxa61atapzub7qqtbH1tYWAQEB8PPzq9WocnNzQ35+PqsRfPny5WZ/hlAorJVNDQoKQlpaGkpLS3XLEhMTodVqERQUVOf7BAUFIT09HTKZTLcsOTmZtU54eDiuXbsGX19fBAQEsP5VzxxXd+7cObRq1Qrvvvsuunbtinbt2uHOnTu11rt37x5yc3N1f1+4cKHBeJu6n7du3cK7776L1atXo3///nj99dfr/KHxNJqyj2FhYTh58mST3i8oKAharRZJSUm6ZSUlJUhPT2/weDSXJiQSvJtpgEKut/ckxFpRA5gQI+JfToamYwQgFDW+shX74IMP0LZtW9aytm3bsvpjGlufPn1QVFSENWvWIDs7G1u3bsX+/fub/T5+fn64evUqMjMz8ejRI6hUKowbNw62traYPn060tLScPbsWbz11lsYOXJknd0fAGDs2LHg8/mYNWsWrl69iri4OKxZs4a1zrRp01BSUoKpU6fi/PnzuHXrFk6cOIE333wTZWVldb5v+/btcf/+fezatQu3bt3Cpk2bsGfPnlrr2djYIDY2FqmpqUhKSsK8efMwbNgwXfeHujS2nxqNBtOnT0evXr0wdepUrF+/Hnfv3sWKFSuacYQb15R9nD9/Pvbt24dly5bh2rVruHr1Kr7++mvI5bUbn+3atcOzzz6Lt956C/Hx8UhLS8Prr78OBwcHjBs3Tn+B29hCE9AJvLQL+ntPQqwUNYAJMSJeCpU/a4o2bdpg3759GDduHGJiYjBu3DijDoCrS1BQEL744gv8+OOP6N27N06cONHkEfzVTZ48GR06dMCAAQPQrl07nDt3Dra2ttizZw9KS0sxaNAgTJw4Ed27d8dXX31V7/vY29vjl19+wc2bN9GvXz988MEH+Oijj1jrtGrVCocPHwaXy8WYMWMQHR2Nt99+G0KhsN6avMOHD8ecOXOwaNEi9O7dG3FxcXjvvfdqrefn54cxY8bgpZdewqhRo9CmTRt8/fXXDe57Y/u5Zs0aZGVl6f52cXHBN998g3Xr1iEhQX8VEJqyj0OHDsXPP/+Mo0ePom/fvhgxYgROnz4NLrfu2+aGDRvQtWtXvPTSSxg0aBDKy8uxe/du2NjY6C1uANCE9wSfyqER8tQ4UqnU9FPqWLnMzEzWwAhSpUUdG40adrP/D/Jlm8C4uOvlLc3x+BQXF5vFZAUKhQJisdjUYZitpzk+y5cvx4EDB/TaKDUn5nTu1Pw+cfLuwGb5W5Cv+9VkA2nN8bpjLujYNMycjg9lgAkxEu6NdGhdPfTW+CWEWB/GyxcQicDNuWHqUAixaNQAJsRI+KmJ0IRFmToMQoiFU4dHg3epZWbfCTEWagATYiS81ESoqQFMWoBFixa12O4PloD6ARPy9KgBTIgRcKSPwH2YB237YFOHQgixcJqgMHDv3wZKpKYOhRCLRQ1gQoyAl5oETUg3gEdzzxBCnpJACE2nruBfTmp8XUJInagBTIgRUPcHQog+qcOjwUuhbiiEPClqABNiaBo1+OkXoOncw9SRGAWfz4dMJqs1bTAhpOkYhoFMJqs1ffJjmvBo8K+cBzT6nSWPEGtBz2MJMTDuzX/Knzm7mToUo7Czs4NSqURJSYlJ4ygpKYGjo6NJYzBndHzqZy7HRiwWQySqe9ZIRuIKrasnuDevQtuhs5EjI8TyUQOYEAPjpyZB09m6uj+IRKJ6b9zGkp+fD19fX5PGYM7o+NTPUo6NpnMP8C8noYIawIQ0G3WBIMTAqP8vIcQQ1GE9wKOBcIQ8EWoAE2JAHOkjcAvuQ9s+xNShEEJaGG37EHAf5IJTUmTqUAixONQAJsSAeJeToAnuCtQzkIUQQp4YXwBNxy7gXTlv6kgIsTjUACbEgHipSdT9gRBiMNQNgpAnw5FKpVSriBBCCCGEWA3KABNCCCGEEKtCDWBCCCGEEGJVqAFMCCGEEEKsCjWACSGEEEKIVaEGMCGEEEIIsSrUADaRL774AgMGDICvry/atWuHCRMmID093dRhEQtw9uxZvPjii+jUqRMkEgm2bdtm6pCIBfnhhx8QFhYGT09P9OvXD/Hx8aYOiRDSQlhS24YawCZy5swZvPrqqzh8+DAOHDgAPp+P559/HkVF1jWjz/fff49evXrB19cXvr6+GDJkCA4fPvzE7/fWW29h4cKFFvUlbC6ZTIbg4GCsWLECNjY2pg7HZPT9Q8Aazp29e/di4cKFmD9/Pk6dOoUePXpg3LhxuHPnjqlDMzvWcD6Qhunz/mQt55MltW2oAWwie/fuxb/+9S8EBwcjJCQEGzduxMOHD3Hu3DndOtHR0ZBIJHX+W758uQmj1x9vb28sXboUJ0+eRFxcHPr27YuXX34ZV65cafZ7MQyDQ4cOYcSIERb1JWyuoUOHYvHixRg9ejS43Lq/wtZw7ujzh4C1nDtff/01Jk6ciMmTJyMoKAirVq2Cp6cnNm/ebOrQzIq1nA/NYQ3XlJr0dX+ypvOpsbaNOZ1HND+rmSgrK4NWq4VEItEt+/nnnxEZGYlff/0VYWFhYBgGXbt2xcqVKzF27FgTRqs/I0aMYP394YcfYtOmTUhOTkZoaCiAyi/MtWvX6tx+wYIFWLRoEQDg4sWLUCqV6NmzJ2JiYljrbdy4EX5+fjh37hyGDx9ugD0xL9Zw7gwdOhRDhw4FAMyYMaPOdejcqVJRUYFLly5h9uzZrOUDBw5EYmKiiaIyvqacE9ZwPjSXNVxTamrs/kTXl8bVbNuY03lEGWAzsXDhQnTu3Bk9evTQLcvPzweHw0HPnj3h6ekJ+f+3d68hTf1/HMDfZUqoeWFomRlL0lILRVtZoSlZ9ES7WBMJujyyJZWi2E3QQhJKn2Q5rehBinRBJZYSCkksQpBSXEO7qV0gLxnLaRdT+z/o3/m1pnPmclvn/YKB57vj93yPvM/3fM52Nj99wqdPn7B27dp/8q3v0dFRVFZWYmhoyODvUF5eDgC4desWnj59ivb2djg7O6OoqAhpaWnCejU1Ndi8eTPmzDG+rhvvAuNfJrbsTITZ+U9/fz9GR0fh5eVl0O7l5YXe3l4rjWrmmZMJMeRhqsQ+p4x3fuL8MrnfaxtbyhELYAvKy8ub8KX9nw+1Wm30eydOnEBjYyPKysrg4OAgtD958gRSqRSurq4AAI1GA2dnZ/j7+8/YPs0ErVYLX19feHt7Iz09HeXl5QgJCRGeN/eAqa2tNbpi/2m8Cwxb8qfZmYhYsjMZMWSHpsacTDAPxsQ6p5g6P3F+MW282saWcsRbICxIoVBALpebXGfRokUGy8ePH0dVVRVUKhWkUqnBc1qt1qAQ1Gg0CAoKmvC+T1uRl5eHgoICk+uoVCrhraCAgACo1WoMDAzg9u3bUCgUuHPnDoKDgwGYd8B0dHSgq6sLGzduNNrWz4Pw7t27BhcYtuRPsmOKWLIzGTFkx1wSiQQODg7o6+szaO/r64O3t7eVRjXzJsuEWPIwVfY6p0yXqfMT55eJTVTb2FKOWABbkEQigUQiMXv9o0ePorq6GiqVCoGBgUbPa7VaxMXFCcsajUa4L9aWTbWYc3JyEiaMsLAwPH78GMXFxbhw4QIA8w6YmpoabNiwAS4uLgbbMXWBYUummp3JiCU7kxFDdszl5OSEsLAwNDQ0YNu2bUJ7Q0MDEhISrDiymTVZJsSSh6my1zllukydnzi/jM9UbWNLOWIBbCWZmZm4ceMGysvL4eHhgZ6eHgCAi4sLXF1dMTY2hra2Nhw5ckT4nc7OTshkMmsN2WzTLebGxsYwPDwsLJtzwNTW1iI5OdmgbbILDHs1ODiIjo4OAD/+Vm/fvkVrays8PT3h5+cn6uz8jtkxlJqaipSUFERERGDNmjW4evUquru7sX//fmsPbcZMlgkx5cFc9jynWNqv5yfOL8ZM1TbOzs42laN/+70LG3blyhXo9Xps3boVy5YtEx5FRUUAfoRiaGjI4GAKDg7GxYsXUV9fb61hW1xubi4ePnyIV69eQavV4tSpU3jw4AF27doF4L+J99er7M7OTvj5+QnL79+/R1NTE7Zs2SK0ZWZmoqKiApcvXxYOwp6eHgwODs7czv0lzc3NiI6ORnR0ND5//oz8/HxER0fjzJkzAMSTncHBQbS2tqK1tdXgQuDnd9oyO8Z27NiB/Px8nDt3DlFRUWhsbMTNmzexePFiaw9tRkyWCbHlwVximVN+Z+r8xPllfKZqG1vL0SydTvd9xrdK9H8KhQJqtRq9vb1wc3NDSEgIDh8+LNwv9fLlS0RERKC5uRlLliwBAOzbtw/379/HpUuXsGnTJpSVlaGsrAx1dXVCvxN9ovbXr6Yh+6ZWqxEfH2/UnpycDKVSyeyQkcky0d3dzTyQwNT5ifOL/WMBTHYvOTkZkZGRBm+rEJmD2aFfMQ9kScyTbeMtEGT3IiMjkZiYaO1hkB1iduhXzANZEvNk2/gKMBERERGJCl8BJiIiIiJRYQFMRERERKLCApiIiIiIRIUFMBERERGJCgtgIqJ/mFqthoeHh/BoamqyWN/Nzc0GfVdWVlqsbyKiv4n/CpmISAQyMjIQGBgIf39/i/UplUpRWlqKZ8+eobCw0GL9EhH9bXwFmIhIBGJiYpCUlASJRGKxPj09PZGUlISYmBiL9UlENBNYABMRERGRqLAAJiKyYV++fMHq1asRHh6OoaEhoV2v1yM0NBTr1q3D8PDwH/WtUCgwf/58vHnzBklJSfD19cXy5ctRUlICAGhra0NCQgIWLlyIFStW4Pr16xbZJyIia2MBTERkw+bOnYuSkhK8fv0aOTk5QvvJkyfx7t07lJaWwsnJ6Y/7Hxsbg1wuh4+PD06fPg2pVIpjx46hvLwciYmJCA0NRW5uLubNm4eDBw+io6PDErtFRGRV/BAcEZGNCw8PR3p6OgoKChAfH4+vX7/i2rVryM7OxsqVK6fV97dv37B9+3ZkZWUBABITExEUFIRDhw6htLQUcrkcABAbGwuZTIaKigpkZ2dPe5+IiKyJBTARkR3IyspCXV0dUlNTMTIyglWrViE9Pd0ife/Zs0f42cPDA0uXLsWLFy+wc+dOoT0gIADu7u7o6uqyyDaJiKyJBTARkR1wdHREcXEx1q9fD0dHR6hUKjg4OFik3wULFhi0ubm5wcfHB7NnzzZq1+l0094mEZG18R5gIiI7ce/ePQA/blt4/vy5Rfr8vcj9aaLi+vv37xbZLhGRNbEAJiKyA+3t7cjLy4NcLodMJkNaWho+fPhg7WEREdklFsBERDZuZGQEBw4cgEQiwdmzZ6FUKqHX65GRkWHtoRER2SUWwERENq6goAAtLS04f/688CG1nJwcVFdXo6qqytrDIyKyOyyAiYhsWEtLCwoLC7F3717ExcUJ7SkpKYiKikJmZiZ6enqsOEIiIvvDb4EgIrJhYWFh6OvrM2qfNWsWVCqV2f0MDAygv78f7u7umDPnx9SvVCqhVCqN1q2pqRm3D41GY7A8MjKCjx8/YmBgwOxxEBHZAhbAREQisHv3bgBAfX09ZDKZRfrUaDSIjY21SF9ERDNplk6n43faEBH9o3Q6HVpaWoTl8PBwuLm5WaRvvV6PR48eCcvBwcHw9va2SN9ERH8TC2AiIiIiEhV+CI6IiIiIRIUFMBERERGJCgtgIiIiIhIVFsBEREREJCosgImIiIhIVFgAExEREZGosAAmIiIiIlH5H+PedV+wwFoNAAAAAElFTkSuQmCC\n",
        "metadata": {
         "tags": []
        },
        "output_type": "display_data",
        "text/plain": "<Figure size 720x360 with 1 Axes>"
       },
       {
        "metadata": {
         "tags": []
        },
        "output_type": "display_data",
        "text/plain": "-0.841470984807897*x - 0.27015115293407*(x - 1.0)**2 + 1.38177329067604"
       }
      ]
     }
    },
    "412e41085fe44de38c739430a9fe68aa": {
     "model_module": "@jupyter-widgets/base",
     "model_module_version": "1.2.0",
     "model_name": "LayoutModel",
     "state": {
      "_model_module": "@jupyter-widgets/base",
      "_model_module_version": "1.2.0",
      "_model_name": "LayoutModel",
      "_view_count": null,
      "_view_module": "@jupyter-widgets/base",
      "_view_module_version": "1.2.0",
      "_view_name": "LayoutView",
      "align_content": null,
      "align_items": null,
      "align_self": null,
      "border": null,
      "bottom": null,
      "display": null,
      "flex": null,
      "flex_flow": null,
      "grid_area": null,
      "grid_auto_columns": null,
      "grid_auto_flow": null,
      "grid_auto_rows": null,
      "grid_column": null,
      "grid_gap": null,
      "grid_row": null,
      "grid_template_areas": null,
      "grid_template_columns": null,
      "grid_template_rows": null,
      "height": null,
      "justify_content": null,
      "justify_items": null,
      "left": null,
      "margin": null,
      "max_height": null,
      "max_width": null,
      "min_height": null,
      "min_width": null,
      "object_fit": null,
      "object_position": null,
      "order": null,
      "overflow": null,
      "overflow_x": null,
      "overflow_y": null,
      "padding": null,
      "right": null,
      "top": null,
      "visibility": null,
      "width": null
     }
    },
    "4222a1a4c33644f19c84e881e9cd7c2b": {
     "model_module": "@jupyter-widgets/controls",
     "model_module_version": "1.5.0",
     "model_name": "IntSliderModel",
     "state": {
      "_dom_classes": [],
      "_model_module": "@jupyter-widgets/controls",
      "_model_module_version": "1.5.0",
      "_model_name": "IntSliderModel",
      "_view_count": null,
      "_view_module": "@jupyter-widgets/controls",
      "_view_module_version": "1.5.0",
      "_view_name": "IntSliderView",
      "continuous_update": true,
      "description": "grado",
      "description_tooltip": null,
      "disabled": false,
      "layout": "IPY_MODEL_412e41085fe44de38c739430a9fe68aa",
      "max": 16,
      "min": 0,
      "orientation": "horizontal",
      "readout": true,
      "readout_format": "d",
      "step": 1,
      "style": "IPY_MODEL_911651f210e24d0cb8d67c31f34cbb7b",
      "value": 2
     }
    },
    "64208c2ab7394c4ca2ad73c7ee5f9d81": {
     "model_module": "@jupyter-widgets/controls",
     "model_module_version": "1.5.0",
     "model_name": "FloatSliderModel",
     "state": {
      "_dom_classes": [],
      "_model_module": "@jupyter-widgets/controls",
      "_model_module_version": "1.5.0",
      "_model_name": "FloatSliderModel",
      "_view_count": null,
      "_view_module": "@jupyter-widgets/controls",
      "_view_module_version": "1.5.0",
      "_view_name": "FloatSliderView",
      "continuous_update": true,
      "description": "x0",
      "description_tooltip": null,
      "disabled": false,
      "layout": "IPY_MODEL_f210444658fb4a1688a23238cdba68bb",
      "max": 3,
      "min": -3,
      "orientation": "horizontal",
      "readout": true,
      "readout_format": ".2f",
      "step": 0.2,
      "style": "IPY_MODEL_b4b3994e13394834b11d8ac39169bcca",
      "value": 1
     }
    },
    "6911c4c98de947829b2e1f5ef03e5072": {
     "model_module": "@jupyter-widgets/base",
     "model_module_version": "1.2.0",
     "model_name": "LayoutModel",
     "state": {
      "_model_module": "@jupyter-widgets/base",
      "_model_module_version": "1.2.0",
      "_model_name": "LayoutModel",
      "_view_count": null,
      "_view_module": "@jupyter-widgets/base",
      "_view_module_version": "1.2.0",
      "_view_name": "LayoutView",
      "align_content": null,
      "align_items": null,
      "align_self": null,
      "border": null,
      "bottom": null,
      "display": null,
      "flex": null,
      "flex_flow": null,
      "grid_area": null,
      "grid_auto_columns": null,
      "grid_auto_flow": null,
      "grid_auto_rows": null,
      "grid_column": null,
      "grid_gap": null,
      "grid_row": null,
      "grid_template_areas": null,
      "grid_template_columns": null,
      "grid_template_rows": null,
      "height": null,
      "justify_content": null,
      "justify_items": null,
      "left": null,
      "margin": null,
      "max_height": null,
      "max_width": null,
      "min_height": null,
      "min_width": null,
      "object_fit": null,
      "object_position": null,
      "order": null,
      "overflow": null,
      "overflow_x": null,
      "overflow_y": null,
      "padding": null,
      "right": null,
      "top": null,
      "visibility": null,
      "width": null
     }
    },
    "911651f210e24d0cb8d67c31f34cbb7b": {
     "model_module": "@jupyter-widgets/controls",
     "model_module_version": "1.5.0",
     "model_name": "SliderStyleModel",
     "state": {
      "_model_module": "@jupyter-widgets/controls",
      "_model_module_version": "1.5.0",
      "_model_name": "SliderStyleModel",
      "_view_count": null,
      "_view_module": "@jupyter-widgets/base",
      "_view_module_version": "1.2.0",
      "_view_name": "StyleView",
      "description_width": "",
      "handle_color": null
     }
    },
    "91936129880b48e787eb479bbebff455": {
     "model_module": "@jupyter-widgets/base",
     "model_module_version": "1.2.0",
     "model_name": "LayoutModel",
     "state": {
      "_model_module": "@jupyter-widgets/base",
      "_model_module_version": "1.2.0",
      "_model_name": "LayoutModel",
      "_view_count": null,
      "_view_module": "@jupyter-widgets/base",
      "_view_module_version": "1.2.0",
      "_view_name": "LayoutView",
      "align_content": null,
      "align_items": null,
      "align_self": null,
      "border": null,
      "bottom": null,
      "display": null,
      "flex": null,
      "flex_flow": null,
      "grid_area": null,
      "grid_auto_columns": null,
      "grid_auto_flow": null,
      "grid_auto_rows": null,
      "grid_column": null,
      "grid_gap": null,
      "grid_row": null,
      "grid_template_areas": null,
      "grid_template_columns": null,
      "grid_template_rows": null,
      "height": null,
      "justify_content": null,
      "justify_items": null,
      "left": null,
      "margin": null,
      "max_height": null,
      "max_width": null,
      "min_height": null,
      "min_width": null,
      "object_fit": null,
      "object_position": null,
      "order": null,
      "overflow": null,
      "overflow_x": null,
      "overflow_y": null,
      "padding": null,
      "right": null,
      "top": null,
      "visibility": null,
      "width": null
     }
    },
    "a1451e125ca0473ab0f965d67bcd00b2": {
     "model_module": "@jupyter-widgets/controls",
     "model_module_version": "1.5.0",
     "model_name": "VBoxModel",
     "state": {
      "_dom_classes": [
       "widget-interact"
      ],
      "_model_module": "@jupyter-widgets/controls",
      "_model_module_version": "1.5.0",
      "_model_name": "VBoxModel",
      "_view_count": null,
      "_view_module": "@jupyter-widgets/controls",
      "_view_module_version": "1.5.0",
      "_view_name": "VBoxView",
      "box_style": "",
      "children": [
       "IPY_MODEL_af130a3e58ff4277b5af0baeebfd5a4e",
       "IPY_MODEL_4222a1a4c33644f19c84e881e9cd7c2b",
       "IPY_MODEL_64208c2ab7394c4ca2ad73c7ee5f9d81",
       "IPY_MODEL_1c9e66eeffad4f4db8e4b95997ba21e8"
      ],
      "layout": "IPY_MODEL_c12c935cdbd24a40aff72758056566dc"
     }
    },
    "af130a3e58ff4277b5af0baeebfd5a4e": {
     "model_module": "@jupyter-widgets/controls",
     "model_module_version": "1.5.0",
     "model_name": "DropdownModel",
     "state": {
      "_dom_classes": [],
      "_model_module": "@jupyter-widgets/controls",
      "_model_module_version": "1.5.0",
      "_model_name": "DropdownModel",
      "_options_labels": [
       "cos(x)",
       "sin(x)",
       "tan(x)",
       "exp(x)",
       "exp(-x**2)",
       "exp(x)*cos(3*x)",
       "log(x)",
       "3.14159265358979**x",
       "x**3 + x**2 + x"
      ],
      "_view_count": null,
      "_view_module": "@jupyter-widgets/controls",
      "_view_module_version": "1.5.0",
      "_view_name": "DropdownView",
      "description": "función",
      "description_tooltip": null,
      "disabled": false,
      "index": 0,
      "layout": "IPY_MODEL_91936129880b48e787eb479bbebff455",
      "style": "IPY_MODEL_dc2a8cabcc324eaf8ab689312a0ef2a2"
     }
    },
    "b4b3994e13394834b11d8ac39169bcca": {
     "model_module": "@jupyter-widgets/controls",
     "model_module_version": "1.5.0",
     "model_name": "SliderStyleModel",
     "state": {
      "_model_module": "@jupyter-widgets/controls",
      "_model_module_version": "1.5.0",
      "_model_name": "SliderStyleModel",
      "_view_count": null,
      "_view_module": "@jupyter-widgets/base",
      "_view_module_version": "1.2.0",
      "_view_name": "StyleView",
      "description_width": "",
      "handle_color": null
     }
    },
    "c12c935cdbd24a40aff72758056566dc": {
     "model_module": "@jupyter-widgets/base",
     "model_module_version": "1.2.0",
     "model_name": "LayoutModel",
     "state": {
      "_model_module": "@jupyter-widgets/base",
      "_model_module_version": "1.2.0",
      "_model_name": "LayoutModel",
      "_view_count": null,
      "_view_module": "@jupyter-widgets/base",
      "_view_module_version": "1.2.0",
      "_view_name": "LayoutView",
      "align_content": null,
      "align_items": null,
      "align_self": null,
      "border": null,
      "bottom": null,
      "display": null,
      "flex": null,
      "flex_flow": null,
      "grid_area": null,
      "grid_auto_columns": null,
      "grid_auto_flow": null,
      "grid_auto_rows": null,
      "grid_column": null,
      "grid_gap": null,
      "grid_row": null,
      "grid_template_areas": null,
      "grid_template_columns": null,
      "grid_template_rows": null,
      "height": null,
      "justify_content": null,
      "justify_items": null,
      "left": null,
      "margin": null,
      "max_height": null,
      "max_width": null,
      "min_height": null,
      "min_width": null,
      "object_fit": null,
      "object_position": null,
      "order": null,
      "overflow": null,
      "overflow_x": null,
      "overflow_y": null,
      "padding": null,
      "right": null,
      "top": null,
      "visibility": null,
      "width": null
     }
    },
    "dc2a8cabcc324eaf8ab689312a0ef2a2": {
     "model_module": "@jupyter-widgets/controls",
     "model_module_version": "1.5.0",
     "model_name": "DescriptionStyleModel",
     "state": {
      "_model_module": "@jupyter-widgets/controls",
      "_model_module_version": "1.5.0",
      "_model_name": "DescriptionStyleModel",
      "_view_count": null,
      "_view_module": "@jupyter-widgets/base",
      "_view_module_version": "1.2.0",
      "_view_name": "StyleView",
      "description_width": ""
     }
    },
    "f210444658fb4a1688a23238cdba68bb": {
     "model_module": "@jupyter-widgets/base",
     "model_module_version": "1.2.0",
     "model_name": "LayoutModel",
     "state": {
      "_model_module": "@jupyter-widgets/base",
      "_model_module_version": "1.2.0",
      "_model_name": "LayoutModel",
      "_view_count": null,
      "_view_module": "@jupyter-widgets/base",
      "_view_module_version": "1.2.0",
      "_view_name": "LayoutView",
      "align_content": null,
      "align_items": null,
      "align_self": null,
      "border": null,
      "bottom": null,
      "display": null,
      "flex": null,
      "flex_flow": null,
      "grid_area": null,
      "grid_auto_columns": null,
      "grid_auto_flow": null,
      "grid_auto_rows": null,
      "grid_column": null,
      "grid_gap": null,
      "grid_row": null,
      "grid_template_areas": null,
      "grid_template_columns": null,
      "grid_template_rows": null,
      "height": null,
      "justify_content": null,
      "justify_items": null,
      "left": null,
      "margin": null,
      "max_height": null,
      "max_width": null,
      "min_height": null,
      "min_width": null,
      "object_fit": null,
      "object_position": null,
      "order": null,
      "overflow": null,
      "overflow_x": null,
      "overflow_y": null,
      "padding": null,
      "right": null,
      "top": null,
      "visibility": null,
      "width": null
     }
    }
   }
  }
 },
 "nbformat": 4,
 "nbformat_minor": 0
}
